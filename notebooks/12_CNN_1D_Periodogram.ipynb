{
 "cells": [
  {
   "cell_type": "code",
   "id": "initial_id",
   "metadata": {
    "collapsed": true,
    "ExecuteTime": {
     "end_time": "2025-11-01T15:10:52.444466Z",
     "start_time": "2025-11-01T15:10:52.432706Z"
    }
   },
   "source": [
    "import numpy as np\n",
    "import pandas as pd\n",
    "import matplotlib.pyplot as plt\n",
    "import tensorflow as tf\n",
    "from sklearn.model_selection import train_test_split\n",
    "from sklearn.utils import shuffle, class_weight\n",
    "from sklearn.metrics import (\n",
    "    classification_report, confusion_matrix,\n",
    "    average_precision_score, precision_recall_curve, f1_score\n",
    ")\n",
    "\n",
    "# Imports pour le multiprocessing\n",
    "import multiprocessing\n",
    "from tqdm import tqdm\n",
    "\n",
    "# --- NOTRE NOUVEL IMPORT ---\n",
    "from src.periodogram import generate_periodogram\n",
    "\n",
    "# Métrique Keras\n",
    "pr_auc = tf.keras.metrics.AUC(curve='PR', name='pr_auc')\n",
    "\n",
    "print(\"Bibliothèques importées.\")"
   ],
   "outputs": [
    {
     "name": "stdout",
     "output_type": "stream",
     "text": [
      "Bibliothèques importées.\n"
     ]
    }
   ],
   "execution_count": 57
  },
  {
   "metadata": {
    "ExecuteTime": {
     "end_time": "2025-11-01T12:57:51.596483Z",
     "start_time": "2025-11-01T12:57:47.680027Z"
    }
   },
   "cell_type": "code",
   "source": [
    "print(\"Chargement et mélange des données brutes...\")\n",
    "train_df = pd.read_csv('../data/raw/train.csv')\n",
    "\n",
    "X_raw = train_df.drop('LABEL', axis=1).values\n",
    "y = train_df['LABEL'].values - 1  # (0, 1)\n",
    "\n",
    "X_raw_shuffled, y_shuffled = shuffle(X_raw, y, random_state=42)\n",
    "\n",
    "print(f\"Forme de X_raw_shuffled : {X_raw_shuffled.shape}\")\n",
    "print(f\"Forme de y_shuffled : {y_shuffled.shape}\")"
   ],
   "id": "748f2fde940f3e19",
   "outputs": [
    {
     "name": "stdout",
     "output_type": "stream",
     "text": [
      "Chargement et mélange des données brutes...\n",
      "Forme de X_raw_shuffled : (5087, 3197)\n",
      "Forme de y_shuffled : (5087,)\n"
     ]
    }
   ],
   "execution_count": 2
  },
  {
   "metadata": {
    "ExecuteTime": {
     "end_time": "2025-11-01T12:58:13.505915Z",
     "start_time": "2025-11-01T12:58:08.904427Z"
    }
   },
   "cell_type": "code",
   "source": [
    "# Cellule 3 : Pré-traitement (Génération des Périodogrammes)\n",
    "# -----------------------------------------------------------------\n",
    "\n",
    "N_BINS = 1000 # C'est notre nouvelle dimension : 1000 points de fréquence\n",
    "\n",
    "X_data_to_process = X_raw_shuffled\n",
    "y_data_to_process = y_shuffled\n",
    "\n",
    "print(f\"Démarrage de la génération des périodogrammes (vers {N_BINS} bins)...\")\n",
    "\n",
    "N_CORES = multiprocessing.cpu_count() - 1\n",
    "if N_CORES < 1: N_CORES = 1\n",
    "print(f\"Utilisation de {N_CORES} cœurs CPU...\")\n",
    "\n",
    "# Préparer les arguments (row, n_bins)\n",
    "func_args = [(row, N_BINS) for row in X_data_to_process]\n",
    "\n",
    "with multiprocessing.Pool(processes=N_CORES) as pool:\n",
    "    # On utilise starmap car notre fonction a 2 arguments\n",
    "    X_periodogram = list(tqdm(pool.starmap(generate_periodogram, func_args), total=len(X_data_to_process)))\n",
    "\n",
    "# Convertir en array numpy\n",
    "X_periodogram = np.array(X_periodogram)\n",
    "y = y_data_to_process\n",
    "\n",
    "print(\"Génération des périodogrammes terminée !\")\n",
    "print(f\"Forme de X_periodogram (nos nouvelles features) : {X_periodogram.shape}\")"
   ],
   "id": "9e18c88c1bc89692",
   "outputs": [
    {
     "name": "stdout",
     "output_type": "stream",
     "text": [
      "Démarrage de la génération des périodogrammes (vers 1000 bins)...\n",
      "Utilisation de 7 cœurs CPU...\n"
     ]
    },
    {
     "name": "stderr",
     "output_type": "stream",
     "text": [
      "100%|██████████| 5087/5087 [00:00<00:00, 2445715.78it/s]"
     ]
    },
    {
     "name": "stdout",
     "output_type": "stream",
     "text": [
      "Génération des périodogrammes terminée !\n",
      "Forme de X_periodogram (nos nouvelles features) : (5087, 1000)\n"
     ]
    },
    {
     "name": "stderr",
     "output_type": "stream",
     "text": [
      "\n"
     ]
    }
   ],
   "execution_count": 3
  },
  {
   "metadata": {
    "ExecuteTime": {
     "end_time": "2025-11-01T12:59:06.488131Z",
     "start_time": "2025-11-01T12:59:06.468136Z"
    }
   },
   "cell_type": "code",
   "source": [
    "print(\"Division des données (Train/Test)...\")\n",
    "X_train, X_test, y_train, y_test = train_test_split(\n",
    "    X_periodogram, # <-- Nos nouvelles données\n",
    "    y,             # <-- Nos labels\n",
    "    test_size=0.2,\n",
    "    random_state=42,\n",
    "    stratify=y\n",
    ")\n",
    "\n",
    "# Redimensionner pour le CNN\n",
    "X_train_cnn = np.expand_dims(X_train, axis=-1)\n",
    "X_test_cnn = np.expand_dims(X_test, axis=-1)\n",
    "\n",
    "# Notre nouvelle forme d'entrée\n",
    "INPUT_SHAPE = (N_BINS, 1) # (1000, 1)\n",
    "\n",
    "print(f\"Forme X_train_cnn : {X_train_cnn.shape}\")\n",
    "print(f\"Forme X_test_cnn : {X_test_cnn.shape}\")"
   ],
   "id": "cf09ec7ad45e8cb6",
   "outputs": [
    {
     "name": "stdout",
     "output_type": "stream",
     "text": [
      "Division des données (Train/Test)...\n",
      "Forme X_train_cnn : (4069, 1000, 1)\n",
      "Forme X_test_cnn : (1018, 1000, 1)\n"
     ]
    }
   ],
   "execution_count": 4
  },
  {
   "metadata": {
    "ExecuteTime": {
     "end_time": "2025-11-01T15:11:03.381081Z",
     "start_time": "2025-11-01T15:11:03.252926Z"
    }
   },
   "cell_type": "code",
   "source": [
    "# Cellule 5 : Construction du Modèle (v17)\n",
    "\n",
    "def build_periodogram_model(input_shape):\n",
    "    model = tf.keras.models.Sequential(name=\"CNN_v17_Periodogram\")\n",
    "\n",
    "    model.add(tf.keras.layers.Input(shape=input_shape))\n",
    "\n",
    "    model.add(tf.keras.layers.Conv1D(filters=32, kernel_size=7, activation='relu', padding='same'))\n",
    "    model.add(tf.keras.layers.MaxPooling1D(pool_size=3))\n",
    "    model.add(tf.keras.layers.Dropout(0.3))\n",
    "\n",
    "    model.add(tf.keras.layers.Conv1D(filters=64, kernel_size=5, activation='relu', padding='same'))\n",
    "    model.add(tf.keras.layers.MaxPooling1D(pool_size=3))\n",
    "    model.add(tf.keras.layers.Dropout(0.3))\n",
    "\n",
    "    model.add(tf.keras.layers.Conv1D(filters=128, kernel_size=3, activation='relu', padding='same'))\n",
    "    model.add(tf.keras.layers.MaxPooling1D(pool_size=3))\n",
    "    model.add(tf.keras.layers.Dropout(0.3))\n",
    "\n",
    "    model.add(tf.keras.layers.Flatten())\n",
    "    model.add(tf.keras.layers.Dense(64, activation='relu'))\n",
    "    model.add(tf.keras.layers.Dropout(0.5))\n",
    "    model.add(tf.keras.layers.Dense(1, activation='sigmoid'))\n",
    "\n",
    "    return model\n",
    "\n",
    "model = build_periodogram_model(INPUT_SHAPE)\n",
    "\n",
    "# On compile avec notre LR stable (1e-4)\n",
    "model.compile(\n",
    "    optimizer=tf.keras.optimizers.Adam(learning_rate=1e-4),\n",
    "    loss='binary_crossentropy',\n",
    "    metrics=['accuracy', pr_auc]\n",
    ")\n",
    "\n",
    "model.summary()"
   ],
   "id": "58c2c70acc3e0e04",
   "outputs": [
    {
     "data": {
      "text/plain": [
       "\u001B[1mModel: \"CNN_v17_Periodogram\"\u001B[0m\n"
      ],
      "text/html": [
       "<pre style=\"white-space:pre;overflow-x:auto;line-height:normal;font-family:Menlo,'DejaVu Sans Mono',consolas,'Courier New',monospace\"><span style=\"font-weight: bold\">Model: \"CNN_v17_Periodogram\"</span>\n",
       "</pre>\n"
      ]
     },
     "metadata": {},
     "output_type": "display_data"
    },
    {
     "data": {
      "text/plain": [
       "┏━━━━━━━━━━━━━━━━━━━━━━━━━━━━━━━━━┳━━━━━━━━━━━━━━━━━━━━━━━━┳━━━━━━━━━━━━━━━┓\n",
       "┃\u001B[1m \u001B[0m\u001B[1mLayer (type)                   \u001B[0m\u001B[1m \u001B[0m┃\u001B[1m \u001B[0m\u001B[1mOutput Shape          \u001B[0m\u001B[1m \u001B[0m┃\u001B[1m \u001B[0m\u001B[1m      Param #\u001B[0m\u001B[1m \u001B[0m┃\n",
       "┡━━━━━━━━━━━━━━━━━━━━━━━━━━━━━━━━━╇━━━━━━━━━━━━━━━━━━━━━━━━╇━━━━━━━━━━━━━━━┩\n",
       "│ conv1d_24 (\u001B[38;5;33mConv1D\u001B[0m)              │ (\u001B[38;5;45mNone\u001B[0m, \u001B[38;5;34m1000\u001B[0m, \u001B[38;5;34m32\u001B[0m)       │           \u001B[38;5;34m256\u001B[0m │\n",
       "├─────────────────────────────────┼────────────────────────┼───────────────┤\n",
       "│ max_pooling1d_24 (\u001B[38;5;33mMaxPooling1D\u001B[0m) │ (\u001B[38;5;45mNone\u001B[0m, \u001B[38;5;34m333\u001B[0m, \u001B[38;5;34m32\u001B[0m)        │             \u001B[38;5;34m0\u001B[0m │\n",
       "├─────────────────────────────────┼────────────────────────┼───────────────┤\n",
       "│ dropout_32 (\u001B[38;5;33mDropout\u001B[0m)            │ (\u001B[38;5;45mNone\u001B[0m, \u001B[38;5;34m333\u001B[0m, \u001B[38;5;34m32\u001B[0m)        │             \u001B[38;5;34m0\u001B[0m │\n",
       "├─────────────────────────────────┼────────────────────────┼───────────────┤\n",
       "│ conv1d_25 (\u001B[38;5;33mConv1D\u001B[0m)              │ (\u001B[38;5;45mNone\u001B[0m, \u001B[38;5;34m333\u001B[0m, \u001B[38;5;34m64\u001B[0m)        │        \u001B[38;5;34m10,304\u001B[0m │\n",
       "├─────────────────────────────────┼────────────────────────┼───────────────┤\n",
       "│ max_pooling1d_25 (\u001B[38;5;33mMaxPooling1D\u001B[0m) │ (\u001B[38;5;45mNone\u001B[0m, \u001B[38;5;34m111\u001B[0m, \u001B[38;5;34m64\u001B[0m)        │             \u001B[38;5;34m0\u001B[0m │\n",
       "├─────────────────────────────────┼────────────────────────┼───────────────┤\n",
       "│ dropout_33 (\u001B[38;5;33mDropout\u001B[0m)            │ (\u001B[38;5;45mNone\u001B[0m, \u001B[38;5;34m111\u001B[0m, \u001B[38;5;34m64\u001B[0m)        │             \u001B[38;5;34m0\u001B[0m │\n",
       "├─────────────────────────────────┼────────────────────────┼───────────────┤\n",
       "│ conv1d_26 (\u001B[38;5;33mConv1D\u001B[0m)              │ (\u001B[38;5;45mNone\u001B[0m, \u001B[38;5;34m111\u001B[0m, \u001B[38;5;34m128\u001B[0m)       │        \u001B[38;5;34m24,704\u001B[0m │\n",
       "├─────────────────────────────────┼────────────────────────┼───────────────┤\n",
       "│ max_pooling1d_26 (\u001B[38;5;33mMaxPooling1D\u001B[0m) │ (\u001B[38;5;45mNone\u001B[0m, \u001B[38;5;34m37\u001B[0m, \u001B[38;5;34m128\u001B[0m)        │             \u001B[38;5;34m0\u001B[0m │\n",
       "├─────────────────────────────────┼────────────────────────┼───────────────┤\n",
       "│ dropout_34 (\u001B[38;5;33mDropout\u001B[0m)            │ (\u001B[38;5;45mNone\u001B[0m, \u001B[38;5;34m37\u001B[0m, \u001B[38;5;34m128\u001B[0m)        │             \u001B[38;5;34m0\u001B[0m │\n",
       "├─────────────────────────────────┼────────────────────────┼───────────────┤\n",
       "│ flatten_8 (\u001B[38;5;33mFlatten\u001B[0m)             │ (\u001B[38;5;45mNone\u001B[0m, \u001B[38;5;34m4736\u001B[0m)           │             \u001B[38;5;34m0\u001B[0m │\n",
       "├─────────────────────────────────┼────────────────────────┼───────────────┤\n",
       "│ dense_16 (\u001B[38;5;33mDense\u001B[0m)                │ (\u001B[38;5;45mNone\u001B[0m, \u001B[38;5;34m64\u001B[0m)             │       \u001B[38;5;34m303,168\u001B[0m │\n",
       "├─────────────────────────────────┼────────────────────────┼───────────────┤\n",
       "│ dropout_35 (\u001B[38;5;33mDropout\u001B[0m)            │ (\u001B[38;5;45mNone\u001B[0m, \u001B[38;5;34m64\u001B[0m)             │             \u001B[38;5;34m0\u001B[0m │\n",
       "├─────────────────────────────────┼────────────────────────┼───────────────┤\n",
       "│ dense_17 (\u001B[38;5;33mDense\u001B[0m)                │ (\u001B[38;5;45mNone\u001B[0m, \u001B[38;5;34m1\u001B[0m)              │            \u001B[38;5;34m65\u001B[0m │\n",
       "└─────────────────────────────────┴────────────────────────┴───────────────┘\n"
      ],
      "text/html": [
       "<pre style=\"white-space:pre;overflow-x:auto;line-height:normal;font-family:Menlo,'DejaVu Sans Mono',consolas,'Courier New',monospace\">┏━━━━━━━━━━━━━━━━━━━━━━━━━━━━━━━━━┳━━━━━━━━━━━━━━━━━━━━━━━━┳━━━━━━━━━━━━━━━┓\n",
       "┃<span style=\"font-weight: bold\"> Layer (type)                    </span>┃<span style=\"font-weight: bold\"> Output Shape           </span>┃<span style=\"font-weight: bold\">       Param # </span>┃\n",
       "┡━━━━━━━━━━━━━━━━━━━━━━━━━━━━━━━━━╇━━━━━━━━━━━━━━━━━━━━━━━━╇━━━━━━━━━━━━━━━┩\n",
       "│ conv1d_24 (<span style=\"color: #0087ff; text-decoration-color: #0087ff\">Conv1D</span>)              │ (<span style=\"color: #00d7ff; text-decoration-color: #00d7ff\">None</span>, <span style=\"color: #00af00; text-decoration-color: #00af00\">1000</span>, <span style=\"color: #00af00; text-decoration-color: #00af00\">32</span>)       │           <span style=\"color: #00af00; text-decoration-color: #00af00\">256</span> │\n",
       "├─────────────────────────────────┼────────────────────────┼───────────────┤\n",
       "│ max_pooling1d_24 (<span style=\"color: #0087ff; text-decoration-color: #0087ff\">MaxPooling1D</span>) │ (<span style=\"color: #00d7ff; text-decoration-color: #00d7ff\">None</span>, <span style=\"color: #00af00; text-decoration-color: #00af00\">333</span>, <span style=\"color: #00af00; text-decoration-color: #00af00\">32</span>)        │             <span style=\"color: #00af00; text-decoration-color: #00af00\">0</span> │\n",
       "├─────────────────────────────────┼────────────────────────┼───────────────┤\n",
       "│ dropout_32 (<span style=\"color: #0087ff; text-decoration-color: #0087ff\">Dropout</span>)            │ (<span style=\"color: #00d7ff; text-decoration-color: #00d7ff\">None</span>, <span style=\"color: #00af00; text-decoration-color: #00af00\">333</span>, <span style=\"color: #00af00; text-decoration-color: #00af00\">32</span>)        │             <span style=\"color: #00af00; text-decoration-color: #00af00\">0</span> │\n",
       "├─────────────────────────────────┼────────────────────────┼───────────────┤\n",
       "│ conv1d_25 (<span style=\"color: #0087ff; text-decoration-color: #0087ff\">Conv1D</span>)              │ (<span style=\"color: #00d7ff; text-decoration-color: #00d7ff\">None</span>, <span style=\"color: #00af00; text-decoration-color: #00af00\">333</span>, <span style=\"color: #00af00; text-decoration-color: #00af00\">64</span>)        │        <span style=\"color: #00af00; text-decoration-color: #00af00\">10,304</span> │\n",
       "├─────────────────────────────────┼────────────────────────┼───────────────┤\n",
       "│ max_pooling1d_25 (<span style=\"color: #0087ff; text-decoration-color: #0087ff\">MaxPooling1D</span>) │ (<span style=\"color: #00d7ff; text-decoration-color: #00d7ff\">None</span>, <span style=\"color: #00af00; text-decoration-color: #00af00\">111</span>, <span style=\"color: #00af00; text-decoration-color: #00af00\">64</span>)        │             <span style=\"color: #00af00; text-decoration-color: #00af00\">0</span> │\n",
       "├─────────────────────────────────┼────────────────────────┼───────────────┤\n",
       "│ dropout_33 (<span style=\"color: #0087ff; text-decoration-color: #0087ff\">Dropout</span>)            │ (<span style=\"color: #00d7ff; text-decoration-color: #00d7ff\">None</span>, <span style=\"color: #00af00; text-decoration-color: #00af00\">111</span>, <span style=\"color: #00af00; text-decoration-color: #00af00\">64</span>)        │             <span style=\"color: #00af00; text-decoration-color: #00af00\">0</span> │\n",
       "├─────────────────────────────────┼────────────────────────┼───────────────┤\n",
       "│ conv1d_26 (<span style=\"color: #0087ff; text-decoration-color: #0087ff\">Conv1D</span>)              │ (<span style=\"color: #00d7ff; text-decoration-color: #00d7ff\">None</span>, <span style=\"color: #00af00; text-decoration-color: #00af00\">111</span>, <span style=\"color: #00af00; text-decoration-color: #00af00\">128</span>)       │        <span style=\"color: #00af00; text-decoration-color: #00af00\">24,704</span> │\n",
       "├─────────────────────────────────┼────────────────────────┼───────────────┤\n",
       "│ max_pooling1d_26 (<span style=\"color: #0087ff; text-decoration-color: #0087ff\">MaxPooling1D</span>) │ (<span style=\"color: #00d7ff; text-decoration-color: #00d7ff\">None</span>, <span style=\"color: #00af00; text-decoration-color: #00af00\">37</span>, <span style=\"color: #00af00; text-decoration-color: #00af00\">128</span>)        │             <span style=\"color: #00af00; text-decoration-color: #00af00\">0</span> │\n",
       "├─────────────────────────────────┼────────────────────────┼───────────────┤\n",
       "│ dropout_34 (<span style=\"color: #0087ff; text-decoration-color: #0087ff\">Dropout</span>)            │ (<span style=\"color: #00d7ff; text-decoration-color: #00d7ff\">None</span>, <span style=\"color: #00af00; text-decoration-color: #00af00\">37</span>, <span style=\"color: #00af00; text-decoration-color: #00af00\">128</span>)        │             <span style=\"color: #00af00; text-decoration-color: #00af00\">0</span> │\n",
       "├─────────────────────────────────┼────────────────────────┼───────────────┤\n",
       "│ flatten_8 (<span style=\"color: #0087ff; text-decoration-color: #0087ff\">Flatten</span>)             │ (<span style=\"color: #00d7ff; text-decoration-color: #00d7ff\">None</span>, <span style=\"color: #00af00; text-decoration-color: #00af00\">4736</span>)           │             <span style=\"color: #00af00; text-decoration-color: #00af00\">0</span> │\n",
       "├─────────────────────────────────┼────────────────────────┼───────────────┤\n",
       "│ dense_16 (<span style=\"color: #0087ff; text-decoration-color: #0087ff\">Dense</span>)                │ (<span style=\"color: #00d7ff; text-decoration-color: #00d7ff\">None</span>, <span style=\"color: #00af00; text-decoration-color: #00af00\">64</span>)             │       <span style=\"color: #00af00; text-decoration-color: #00af00\">303,168</span> │\n",
       "├─────────────────────────────────┼────────────────────────┼───────────────┤\n",
       "│ dropout_35 (<span style=\"color: #0087ff; text-decoration-color: #0087ff\">Dropout</span>)            │ (<span style=\"color: #00d7ff; text-decoration-color: #00d7ff\">None</span>, <span style=\"color: #00af00; text-decoration-color: #00af00\">64</span>)             │             <span style=\"color: #00af00; text-decoration-color: #00af00\">0</span> │\n",
       "├─────────────────────────────────┼────────────────────────┼───────────────┤\n",
       "│ dense_17 (<span style=\"color: #0087ff; text-decoration-color: #0087ff\">Dense</span>)                │ (<span style=\"color: #00d7ff; text-decoration-color: #00d7ff\">None</span>, <span style=\"color: #00af00; text-decoration-color: #00af00\">1</span>)              │            <span style=\"color: #00af00; text-decoration-color: #00af00\">65</span> │\n",
       "└─────────────────────────────────┴────────────────────────┴───────────────┘\n",
       "</pre>\n"
      ]
     },
     "metadata": {},
     "output_type": "display_data"
    },
    {
     "data": {
      "text/plain": [
       "\u001B[1m Total params: \u001B[0m\u001B[38;5;34m338,497\u001B[0m (1.29 MB)\n"
      ],
      "text/html": [
       "<pre style=\"white-space:pre;overflow-x:auto;line-height:normal;font-family:Menlo,'DejaVu Sans Mono',consolas,'Courier New',monospace\"><span style=\"font-weight: bold\"> Total params: </span><span style=\"color: #00af00; text-decoration-color: #00af00\">338,497</span> (1.29 MB)\n",
       "</pre>\n"
      ]
     },
     "metadata": {},
     "output_type": "display_data"
    },
    {
     "data": {
      "text/plain": [
       "\u001B[1m Trainable params: \u001B[0m\u001B[38;5;34m338,497\u001B[0m (1.29 MB)\n"
      ],
      "text/html": [
       "<pre style=\"white-space:pre;overflow-x:auto;line-height:normal;font-family:Menlo,'DejaVu Sans Mono',consolas,'Courier New',monospace\"><span style=\"font-weight: bold\"> Trainable params: </span><span style=\"color: #00af00; text-decoration-color: #00af00\">338,497</span> (1.29 MB)\n",
       "</pre>\n"
      ]
     },
     "metadata": {},
     "output_type": "display_data"
    },
    {
     "data": {
      "text/plain": [
       "\u001B[1m Non-trainable params: \u001B[0m\u001B[38;5;34m0\u001B[0m (0.00 B)\n"
      ],
      "text/html": [
       "<pre style=\"white-space:pre;overflow-x:auto;line-height:normal;font-family:Menlo,'DejaVu Sans Mono',consolas,'Courier New',monospace\"><span style=\"font-weight: bold\"> Non-trainable params: </span><span style=\"color: #00af00; text-decoration-color: #00af00\">0</span> (0.00 B)\n",
       "</pre>\n"
      ]
     },
     "metadata": {},
     "output_type": "display_data"
    }
   ],
   "execution_count": 58
  },
  {
   "metadata": {
    "ExecuteTime": {
     "end_time": "2025-11-01T15:11:09.777310Z",
     "start_time": "2025-11-01T15:11:09.771540Z"
    }
   },
   "cell_type": "code",
   "source": [
    "# Cellule 5b : Calculer les Poids de Classe\n",
    "# ----------------------------------------\n",
    "weights = class_weight.compute_class_weight(\n",
    "    'balanced',\n",
    "    classes=np.unique(y_train),\n",
    "    y=y_train\n",
    ")\n",
    "class_weights_dict = {0: weights[0], 1: weights[1]}\n",
    "\n",
    "print(f\"Poids de classe (0: 'Pas Planète'): {weights[0]:.2f}\")\n",
    "print(f\"Poids de classe (1: 'Planète'):   {weights[1]:.2f}\")"
   ],
   "id": "e81f1c72c42ab0ec",
   "outputs": [
    {
     "name": "stdout",
     "output_type": "stream",
     "text": [
      "Poids de classe (Classe 0 'Pas Planète'): 1.00\n",
      "Poids de classe (Classe 1 'Planète'):   40.00\n"
     ]
    }
   ],
   "execution_count": 59
  },
  {
   "metadata": {
    "ExecuteTime": {
     "end_time": "2025-11-01T15:15:14.571253Z",
     "start_time": "2025-11-01T15:14:25.457970Z"
    }
   },
   "cell_type": "code",
   "source": [
    "# Cellule 6 : Callbacks et Entraînement (v21 - Stable)\n",
    "# ----------------------------------------------------------------\n",
    "\n",
    "LOG_DIR = './logs/v21_periodogram_stable'\n",
    "MODEL_PATH = '../models/cnn_v21_periodogram_best.h5'\n",
    "\n",
    "!rmdir /S /Q .\\\\logs\\\\v21_periodogram_stable\n",
    "\n",
    "tensorboard_cb = tf.keras.callbacks.TensorBoard(log_dir=LOG_DIR, histogram_freq=1)\n",
    "checkpoint_cb = tf.keras.callbacks.ModelCheckpoint(\n",
    "    filepath=MODEL_PATH, save_best_only=True,\n",
    "    monitor='val_pr_auc', mode='max', verbose=1\n",
    ")\n",
    "early_stopping_cb = tf.keras.callbacks.EarlyStopping(\n",
    "    monitor='val_pr_auc',\n",
    "    mode='max',\n",
    "    patience=20,\n",
    "    restore_best_weights=True,\n",
    "    verbose=1\n",
    ")\n",
    "\n",
    "# Entraînement\n",
    "print(f\"Début de l'entraînement (v21 - Stable : LR=1e-4, Poids=67, Batch=64)...\")\n",
    "history = model.fit(\n",
    "    X_train_cnn,\n",
    "    y_train,\n",
    "    epochs=100,\n",
    "    batch_size=64, # <-- CHANGEMENT : Batch plus grand pour stabiliser\n",
    "    validation_data=(X_test_cnn, y_test),\n",
    "    callbacks=[tensorboard_cb, checkpoint_cb, early_stopping_cb],\n",
    "    class_weight=class_weights_dict # ON GARDE LES POIDS 'balanced'\n",
    ")"
   ],
   "id": "cc71670b0968378b",
   "outputs": [
    {
     "name": "stdout",
     "output_type": "stream",
     "text": [
      "Début de l'entraînement (v22 - Poids 40:1, Batch=64)...\n",
      "Epoch 1/100\n"
     ]
    },
    {
     "name": "stderr",
     "output_type": "stream",
     "text": [
      "Le fichier sp‚cifi‚ est introuvable.\n"
     ]
    },
    {
     "name": "stdout",
     "output_type": "stream",
     "text": [
      "\u001B[1m63/64\u001B[0m \u001B[32m━━━━━━━━━━━━━━━━━━━\u001B[0m\u001B[37m━\u001B[0m \u001B[1m0s\u001B[0m 30ms/step - accuracy: 0.9460 - loss: 0.8125 - pr_auc: 0.0102\n",
      "Epoch 1: val_pr_auc improved from None to 0.15813, saving model to ../models/cnn_v22_periodogram_best.h5\n"
     ]
    },
    {
     "name": "stderr",
     "output_type": "stream",
     "text": [
      "WARNING:absl:You are saving your model as an HDF5 file via `model.save()` or `keras.saving.save_model(model)`. This file format is considered legacy. We recommend using instead the native Keras format, e.g. `model.save('my_model.keras')` or `keras.saving.save_model(model, 'my_model.keras')`. \n"
     ]
    },
    {
     "name": "stdout",
     "output_type": "stream",
     "text": [
      "\u001B[1m64/64\u001B[0m \u001B[32m━━━━━━━━━━━━━━━━━━━━\u001B[0m\u001B[37m\u001B[0m \u001B[1m5s\u001B[0m 42ms/step - accuracy: 0.9801 - loss: 0.6939 - pr_auc: 0.0092 - val_accuracy: 0.9931 - val_loss: 0.3587 - val_pr_auc: 0.1581\n",
      "Epoch 2/100\n",
      "\u001B[1m63/64\u001B[0m \u001B[32m━━━━━━━━━━━━━━━━━━━\u001B[0m\u001B[37m━\u001B[0m \u001B[1m0s\u001B[0m 29ms/step - accuracy: 0.9890 - loss: 0.5791 - pr_auc: 0.0104\n",
      "Epoch 2: val_pr_auc did not improve from 0.15813\n",
      "\u001B[1m64/64\u001B[0m \u001B[32m━━━━━━━━━━━━━━━━━━━━\u001B[0m\u001B[37m\u001B[0m \u001B[1m2s\u001B[0m 34ms/step - accuracy: 0.9737 - loss: 0.6610 - pr_auc: 0.0138 - val_accuracy: 0.9931 - val_loss: 0.4495 - val_pr_auc: 0.0952\n",
      "Epoch 3/100\n",
      "\u001B[1m63/64\u001B[0m \u001B[32m━━━━━━━━━━━━━━━━━━━\u001B[0m\u001B[37m━\u001B[0m \u001B[1m0s\u001B[0m 28ms/step - accuracy: 0.9812 - loss: 0.6967 - pr_auc: 0.0146\n",
      "Epoch 3: val_pr_auc did not improve from 0.15813\n",
      "\u001B[1m64/64\u001B[0m \u001B[32m━━━━━━━━━━━━━━━━━━━━\u001B[0m\u001B[37m\u001B[0m \u001B[1m2s\u001B[0m 34ms/step - accuracy: 0.9717 - loss: 0.6829 - pr_auc: 0.0118 - val_accuracy: 0.9106 - val_loss: 0.4757 - val_pr_auc: 0.0220\n",
      "Epoch 4/100\n",
      "\u001B[1m63/64\u001B[0m \u001B[32m━━━━━━━━━━━━━━━━━━━\u001B[0m\u001B[37m━\u001B[0m \u001B[1m0s\u001B[0m 29ms/step - accuracy: 0.9742 - loss: 0.7289 - pr_auc: 0.0127\n",
      "Epoch 4: val_pr_auc did not improve from 0.15813\n",
      "\u001B[1m64/64\u001B[0m \u001B[32m━━━━━━━━━━━━━━━━━━━━\u001B[0m\u001B[37m\u001B[0m \u001B[1m2s\u001B[0m 34ms/step - accuracy: 0.9786 - loss: 0.6771 - pr_auc: 0.0125 - val_accuracy: 0.9725 - val_loss: 0.4541 - val_pr_auc: 0.0172\n",
      "Epoch 5/100\n",
      "\u001B[1m63/64\u001B[0m \u001B[32m━━━━━━━━━━━━━━━━━━━\u001B[0m\u001B[37m━\u001B[0m \u001B[1m0s\u001B[0m 28ms/step - accuracy: 0.9877 - loss: 0.5759 - pr_auc: 0.0164\n",
      "Epoch 5: val_pr_auc did not improve from 0.15813\n",
      "\u001B[1m64/64\u001B[0m \u001B[32m━━━━━━━━━━━━━━━━━━━━\u001B[0m\u001B[37m\u001B[0m \u001B[1m2s\u001B[0m 34ms/step - accuracy: 0.9828 - loss: 0.6214 - pr_auc: 0.0176 - val_accuracy: 0.9745 - val_loss: 0.4315 - val_pr_auc: 0.0180\n",
      "Epoch 6/100\n",
      "\u001B[1m63/64\u001B[0m \u001B[32m━━━━━━━━━━━━━━━━━━━\u001B[0m\u001B[37m━\u001B[0m \u001B[1m0s\u001B[0m 30ms/step - accuracy: 0.9887 - loss: 0.5921 - pr_auc: 0.0251\n",
      "Epoch 6: val_pr_auc did not improve from 0.15813\n",
      "\u001B[1m64/64\u001B[0m \u001B[32m━━━━━━━━━━━━━━━━━━━━\u001B[0m\u001B[37m\u001B[0m \u001B[1m2s\u001B[0m 35ms/step - accuracy: 0.9830 - loss: 0.6349 - pr_auc: 0.0193 - val_accuracy: 0.9794 - val_loss: 0.4508 - val_pr_auc: 0.0213\n",
      "Epoch 7/100\n",
      "\u001B[1m63/64\u001B[0m \u001B[32m━━━━━━━━━━━━━━━━━━━\u001B[0m\u001B[37m━\u001B[0m \u001B[1m0s\u001B[0m 29ms/step - accuracy: 0.9757 - loss: 0.6405 - pr_auc: 0.0245\n",
      "Epoch 7: val_pr_auc did not improve from 0.15813\n",
      "\u001B[1m64/64\u001B[0m \u001B[32m━━━━━━━━━━━━━━━━━━━━\u001B[0m\u001B[37m\u001B[0m \u001B[1m2s\u001B[0m 34ms/step - accuracy: 0.9759 - loss: 0.6192 - pr_auc: 0.0140 - val_accuracy: 0.9931 - val_loss: 0.3829 - val_pr_auc: 0.0156\n",
      "Epoch 8/100\n",
      "\u001B[1m63/64\u001B[0m \u001B[32m━━━━━━━━━━━━━━━━━━━\u001B[0m\u001B[37m━\u001B[0m \u001B[1m0s\u001B[0m 29ms/step - accuracy: 0.9939 - loss: 0.4966 - pr_auc: 0.0071\n",
      "Epoch 8: val_pr_auc did not improve from 0.15813\n",
      "\u001B[1m64/64\u001B[0m \u001B[32m━━━━━━━━━━━━━━━━━━━━\u001B[0m\u001B[37m\u001B[0m \u001B[1m2s\u001B[0m 34ms/step - accuracy: 0.9867 - loss: 0.6448 - pr_auc: 0.0141 - val_accuracy: 0.8861 - val_loss: 0.4872 - val_pr_auc: 0.0163\n",
      "Epoch 9/100\n",
      "\u001B[1m63/64\u001B[0m \u001B[32m━━━━━━━━━━━━━━━━━━━\u001B[0m\u001B[37m━\u001B[0m \u001B[1m0s\u001B[0m 29ms/step - accuracy: 0.9502 - loss: 0.6912 - pr_auc: 0.0162\n",
      "Epoch 9: val_pr_auc did not improve from 0.15813\n",
      "\u001B[1m64/64\u001B[0m \u001B[32m━━━━━━━━━━━━━━━━━━━━\u001B[0m\u001B[37m\u001B[0m \u001B[1m2s\u001B[0m 34ms/step - accuracy: 0.9609 - loss: 0.6409 - pr_auc: 0.0133 - val_accuracy: 0.9931 - val_loss: 0.3779 - val_pr_auc: 0.0211\n",
      "Epoch 10/100\n",
      "\u001B[1m63/64\u001B[0m \u001B[32m━━━━━━━━━━━━━━━━━━━\u001B[0m\u001B[37m━\u001B[0m \u001B[1m0s\u001B[0m 28ms/step - accuracy: 0.9906 - loss: 0.4963 - pr_auc: 0.0154\n",
      "Epoch 10: val_pr_auc did not improve from 0.15813\n",
      "\u001B[1m64/64\u001B[0m \u001B[32m━━━━━━━━━━━━━━━━━━━━\u001B[0m\u001B[37m\u001B[0m \u001B[1m2s\u001B[0m 34ms/step - accuracy: 0.9862 - loss: 0.6067 - pr_auc: 0.0184 - val_accuracy: 0.9764 - val_loss: 0.4192 - val_pr_auc: 0.0199\n",
      "Epoch 11/100\n",
      "\u001B[1m63/64\u001B[0m \u001B[32m━━━━━━━━━━━━━━━━━━━\u001B[0m\u001B[37m━\u001B[0m \u001B[1m0s\u001B[0m 28ms/step - accuracy: 0.9863 - loss: 0.4972 - pr_auc: 0.0085\n",
      "Epoch 11: val_pr_auc did not improve from 0.15813\n",
      "\u001B[1m64/64\u001B[0m \u001B[32m━━━━━━━━━━━━━━━━━━━━\u001B[0m\u001B[37m\u001B[0m \u001B[1m2s\u001B[0m 34ms/step - accuracy: 0.9867 - loss: 0.6273 - pr_auc: 0.0140 - val_accuracy: 0.9882 - val_loss: 0.4359 - val_pr_auc: 0.0319\n",
      "Epoch 12/100\n",
      "\u001B[1m63/64\u001B[0m \u001B[32m━━━━━━━━━━━━━━━━━━━\u001B[0m\u001B[37m━\u001B[0m \u001B[1m0s\u001B[0m 28ms/step - accuracy: 0.9831 - loss: 0.6080 - pr_auc: 0.0108\n",
      "Epoch 12: val_pr_auc did not improve from 0.15813\n",
      "\u001B[1m64/64\u001B[0m \u001B[32m━━━━━━━━━━━━━━━━━━━━\u001B[0m\u001B[37m\u001B[0m \u001B[1m2s\u001B[0m 33ms/step - accuracy: 0.9857 - loss: 0.6467 - pr_auc: 0.0146 - val_accuracy: 0.9695 - val_loss: 0.4510 - val_pr_auc: 0.0279\n",
      "Epoch 13/100\n",
      "\u001B[1m63/64\u001B[0m \u001B[32m━━━━━━━━━━━━━━━━━━━\u001B[0m\u001B[37m━\u001B[0m \u001B[1m0s\u001B[0m 30ms/step - accuracy: 0.9882 - loss: 0.5601 - pr_auc: 0.0290\n",
      "Epoch 13: val_pr_auc did not improve from 0.15813\n",
      "\u001B[1m64/64\u001B[0m \u001B[32m━━━━━━━━━━━━━━━━━━━━\u001B[0m\u001B[37m\u001B[0m \u001B[1m2s\u001B[0m 35ms/step - accuracy: 0.9840 - loss: 0.6417 - pr_auc: 0.0112 - val_accuracy: 0.9548 - val_loss: 0.4645 - val_pr_auc: 0.0215\n",
      "Epoch 14/100\n",
      "\u001B[1m63/64\u001B[0m \u001B[32m━━━━━━━━━━━━━━━━━━━\u001B[0m\u001B[37m━\u001B[0m \u001B[1m0s\u001B[0m 29ms/step - accuracy: 0.9814 - loss: 0.6300 - pr_auc: 0.0232\n",
      "Epoch 14: val_pr_auc did not improve from 0.15813\n",
      "\u001B[1m64/64\u001B[0m \u001B[32m━━━━━━━━━━━━━━━━━━━━\u001B[0m\u001B[37m\u001B[0m \u001B[1m2s\u001B[0m 35ms/step - accuracy: 0.9848 - loss: 0.6274 - pr_auc: 0.0151 - val_accuracy: 0.9902 - val_loss: 0.4274 - val_pr_auc: 0.0208\n",
      "Epoch 15/100\n",
      "\u001B[1m63/64\u001B[0m \u001B[32m━━━━━━━━━━━━━━━━━━━\u001B[0m\u001B[37m━\u001B[0m \u001B[1m0s\u001B[0m 29ms/step - accuracy: 0.9890 - loss: 0.5606 - pr_auc: 0.0164\n",
      "Epoch 15: val_pr_auc did not improve from 0.15813\n",
      "\u001B[1m64/64\u001B[0m \u001B[32m━━━━━━━━━━━━━━━━━━━━\u001B[0m\u001B[37m\u001B[0m \u001B[1m2s\u001B[0m 34ms/step - accuracy: 0.9882 - loss: 0.6295 - pr_auc: 0.0150 - val_accuracy: 0.9705 - val_loss: 0.4255 - val_pr_auc: 0.0207\n",
      "Epoch 16/100\n",
      "\u001B[1m63/64\u001B[0m \u001B[32m━━━━━━━━━━━━━━━━━━━\u001B[0m\u001B[37m━\u001B[0m \u001B[1m0s\u001B[0m 28ms/step - accuracy: 0.9807 - loss: 0.6133 - pr_auc: 0.0658\n",
      "Epoch 16: val_pr_auc did not improve from 0.15813\n",
      "\u001B[1m64/64\u001B[0m \u001B[32m━━━━━━━━━━━━━━━━━━━━\u001B[0m\u001B[37m\u001B[0m \u001B[1m2s\u001B[0m 34ms/step - accuracy: 0.9784 - loss: 0.6168 - pr_auc: 0.0178 - val_accuracy: 0.9931 - val_loss: 0.3687 - val_pr_auc: 0.0261\n",
      "Epoch 17/100\n",
      "\u001B[1m63/64\u001B[0m \u001B[32m━━━━━━━━━━━━━━━━━━━\u001B[0m\u001B[37m━\u001B[0m \u001B[1m0s\u001B[0m 30ms/step - accuracy: 0.9848 - loss: 0.6583 - pr_auc: 0.0473\n",
      "Epoch 17: val_pr_auc did not improve from 0.15813\n",
      "\u001B[1m64/64\u001B[0m \u001B[32m━━━━━━━━━━━━━━━━━━━━\u001B[0m\u001B[37m\u001B[0m \u001B[1m2s\u001B[0m 35ms/step - accuracy: 0.9826 - loss: 0.6144 - pr_auc: 0.0212 - val_accuracy: 0.9470 - val_loss: 0.3952 - val_pr_auc: 0.0292\n",
      "Epoch 18/100\n",
      "\u001B[1m63/64\u001B[0m \u001B[32m━━━━━━━━━━━━━━━━━━━\u001B[0m\u001B[37m━\u001B[0m \u001B[1m0s\u001B[0m 28ms/step - accuracy: 0.9741 - loss: 0.6489 - pr_auc: 0.0211\n",
      "Epoch 18: val_pr_auc did not improve from 0.15813\n",
      "\u001B[1m64/64\u001B[0m \u001B[32m━━━━━━━━━━━━━━━━━━━━\u001B[0m\u001B[37m\u001B[0m \u001B[1m2s\u001B[0m 34ms/step - accuracy: 0.9742 - loss: 0.6275 - pr_auc: 0.0152 - val_accuracy: 0.9931 - val_loss: 0.3514 - val_pr_auc: 0.0450\n",
      "Epoch 19/100\n",
      "\u001B[1m63/64\u001B[0m \u001B[32m━━━━━━━━━━━━━━━━━━━\u001B[0m\u001B[37m━\u001B[0m \u001B[1m0s\u001B[0m 30ms/step - accuracy: 0.9851 - loss: 0.5135 - pr_auc: 0.0132\n",
      "Epoch 19: val_pr_auc did not improve from 0.15813\n",
      "\u001B[1m64/64\u001B[0m \u001B[32m━━━━━━━━━━━━━━━━━━━━\u001B[0m\u001B[37m\u001B[0m \u001B[1m2s\u001B[0m 36ms/step - accuracy: 0.9688 - loss: 0.6226 - pr_auc: 0.0121 - val_accuracy: 0.8988 - val_loss: 0.4573 - val_pr_auc: 0.0459\n",
      "Epoch 20/100\n",
      "\u001B[1m63/64\u001B[0m \u001B[32m━━━━━━━━━━━━━━━━━━━\u001B[0m\u001B[37m━\u001B[0m \u001B[1m0s\u001B[0m 29ms/step - accuracy: 0.9804 - loss: 0.5930 - pr_auc: 0.0640\n",
      "Epoch 20: val_pr_auc did not improve from 0.15813\n",
      "\u001B[1m64/64\u001B[0m \u001B[32m━━━━━━━━━━━━━━━━━━━━\u001B[0m\u001B[37m\u001B[0m \u001B[1m2s\u001B[0m 34ms/step - accuracy: 0.9813 - loss: 0.6097 - pr_auc: 0.0212 - val_accuracy: 0.9440 - val_loss: 0.3982 - val_pr_auc: 0.0289\n",
      "Epoch 21/100\n",
      "\u001B[1m63/64\u001B[0m \u001B[32m━━━━━━━━━━━━━━━━━━━\u001B[0m\u001B[37m━\u001B[0m \u001B[1m0s\u001B[0m 30ms/step - accuracy: 0.9675 - loss: 0.6845 - pr_auc: 0.0197\n",
      "Epoch 21: val_pr_auc did not improve from 0.15813\n",
      "\u001B[1m64/64\u001B[0m \u001B[32m━━━━━━━━━━━━━━━━━━━━\u001B[0m\u001B[37m\u001B[0m \u001B[1m2s\u001B[0m 35ms/step - accuracy: 0.9720 - loss: 0.6171 - pr_auc: 0.0165 - val_accuracy: 0.9912 - val_loss: 0.3685 - val_pr_auc: 0.0413\n",
      "Epoch 21: early stopping\n",
      "Restoring model weights from the end of the best epoch: 1.\n"
     ]
    }
   ],
   "execution_count": 61
  },
  {
   "metadata": {
    "ExecuteTime": {
     "end_time": "2025-11-01T15:20:15.032220Z",
     "start_time": "2025-11-01T15:20:14.472361Z"
    }
   },
   "cell_type": "code",
   "source": [
    "# Cellule 7 : Évaluation (Seuil 0.5 vs. Optimisé) (v17)\n",
    "# ----------------------------------------------------\n",
    "# (Assurez-vous que 'average_precision_score', 'precision_recall_curve',\n",
    "# 'f1_score' sont importés depuis la Cellule 1)\n",
    "\n",
    "print(\"Évaluation du meilleur modèle v17 (restauré de l'époque 56)...\")\n",
    "\n",
    "# Prédictions (une seule fois)\n",
    "y_pred_proba = model.predict(X_test_cnn).ravel()\n",
    "\n",
    "# --- 1. Évaluation avec Seuil 0.5 ---\n",
    "print(\"\\n\" + \"=\"*40)\n",
    "print(\"ÉVALUATION AVEC SEUIL 0.5\")\n",
    "print(\"=\"*40)\n",
    "y_pred_class_05 = (y_pred_proba > 0.5).astype(int)\n",
    "\n",
    "print(\"\\n--- Rapport (Seuil 0.5) ---\")\n",
    "print(classification_report(y_test, y_pred_class_05, target_names=['Pas Planète', 'Planète'], zero_division=0))\n",
    "print(\"\\n--- Matrice (Seuil 0.5) ---\")\n",
    "print(confusion_matrix(y_test, y_pred_class_05))\n",
    "\n",
    "# --- 2. Évaluation avec Seuil Optimisé ---\n",
    "print(\"\\n\" + \"=\"*40)\n",
    "print(\"ÉVALUATION AVEC SEUIL OPTIMISÉ\")\n",
    "print(\"=\"*40)\n",
    "\n",
    "# 2a. Calculer la courbe P-R\n",
    "precision, recall, thresholds = precision_recall_curve(y_test, y_pred_proba)\n",
    "\n",
    "# 2b. Trouver le meilleur F1-Score\n",
    "f1_scores = (2 * precision * recall) / (precision + recall + 1e-9)\n",
    "best_f1_index = np.argmax(f1_scores)\n",
    "best_f1 = f1_scores[best_f1_index]\n",
    "best_threshold = thresholds[best_f1_index]\n",
    "\n",
    "print(f\"\\nMeilleur F1-Score trouvé : {best_f1:.4f}\")\n",
    "print(f\"Au Seuil optimal de : {best_threshold:.4f}\")\n",
    "\n",
    "# 2c. Évaluer avec CE SEUIL\n",
    "y_pred_class_optimal = (y_pred_proba > best_threshold).astype(int)\n",
    "\n",
    "print(\"\\n--- Rapport (Seuil Optimisé) ---\")\n",
    "print(classification_report(y_test, y_pred_class_optimal, target_names=['Pas Planète', 'Planète'], zero_division=0))\n",
    "print(\"\\n--- Matrice (Seuil Optimisé) ---\")\n",
    "print(confusion_matrix(y_test, y_pred_class_optimal))\n",
    "\n",
    "# --- 3. Score Global (Indépendant du seuil) ---\n",
    "pr_auc_score = average_precision_score(y_test, y_pred_proba)\n",
    "print(f\"\\nScore PR-AUC global (Average Precision) : {pr_auc_score:.4f}\")"
   ],
   "id": "ad1ab238626fe413",
   "outputs": [
    {
     "name": "stdout",
     "output_type": "stream",
     "text": [
      "Évaluation du meilleur modèle v17 (restauré de l'époque 56)...\n",
      "\u001B[1m32/32\u001B[0m \u001B[32m━━━━━━━━━━━━━━━━━━━━\u001B[0m\u001B[37m\u001B[0m \u001B[1m0s\u001B[0m 11ms/step\n",
      "\n",
      "========================================\n",
      "ÉVALUATION AVEC SEUIL 0.5\n",
      "========================================\n",
      "\n",
      "--- Rapport (Seuil 0.5) ---\n",
      "              precision    recall  f1-score   support\n",
      "\n",
      " Pas Planète       0.99      1.00      1.00      1011\n",
      "     Planète       0.00      0.00      0.00         7\n",
      "\n",
      "    accuracy                           0.99      1018\n",
      "   macro avg       0.50      0.50      0.50      1018\n",
      "weighted avg       0.99      0.99      0.99      1018\n",
      "\n",
      "\n",
      "--- Matrice (Seuil 0.5) ---\n",
      "[[1011    0]\n",
      " [   7    0]]\n",
      "\n",
      "========================================\n",
      "ÉVALUATION AVEC SEUIL OPTIMISÉ\n",
      "========================================\n",
      "\n",
      "Meilleur F1-Score trouvé : 0.2500\n",
      "Au Seuil optimal de : 0.4053\n",
      "\n",
      "--- Rapport (Seuil Optimisé) ---\n",
      "              precision    recall  f1-score   support\n",
      "\n",
      " Pas Planète       0.99      1.00      1.00      1011\n",
      "     Planète       0.00      0.00      0.00         7\n",
      "\n",
      "    accuracy                           0.99      1018\n",
      "   macro avg       0.50      0.50      0.50      1018\n",
      "weighted avg       0.99      0.99      0.99      1018\n",
      "\n",
      "\n",
      "--- Matrice (Seuil Optimisé) ---\n",
      "[[1011    0]\n",
      " [   7    0]]\n",
      "\n",
      "Score PR-AUC global (Average Precision) : 0.1614\n"
     ]
    }
   ],
   "execution_count": 62
  },
  {
   "metadata": {
    "ExecuteTime": {
     "end_time": "2025-11-01T15:20:18.921235Z",
     "start_time": "2025-11-01T15:20:18.511435Z"
    }
   },
   "cell_type": "code",
   "source": [
    "# Cellule 8 : Visualisation des résultats (v17)\n",
    "# ----------------------------------------------\n",
    "\n",
    "print(\"Affichage des graphiques d'entraînement (v17)...\")\n",
    "history_dict = history.history\n",
    "\n",
    "# Récupérer les métriques\n",
    "loss = history_dict['loss']\n",
    "val_loss = history_dict['val_loss']\n",
    "pr_auc = history_dict['pr_auc']\n",
    "val_pr_auc = history_dict['val_pr_auc']\n",
    "\n",
    "# Créer la plage d'époques\n",
    "actual_epochs = len(loss)\n",
    "epochs_range = range(1, actual_epochs + 1)\n",
    "\n",
    "# Créer la figure\n",
    "plt.figure(figsize=(16, 6))\n",
    "\n",
    "# Graphique 1 : Loss\n",
    "plt.subplot(1, 2, 1)\n",
    "plt.plot(epochs_range, loss, 'bo-', label='Training Loss')\n",
    "plt.plot(epochs_range, val_loss, 'ro-', label='Validation Loss')\n",
    "plt.title('Loss (v17 - Periodogram)')\n",
    "plt.xlabel('Epochs')\n",
    "plt.ylabel('Loss')\n",
    "plt.legend()\n",
    "plt.grid(True)\n",
    "\n",
    "# Graphique 2 : PR-AUC\n",
    "plt.subplot(1, 2, 2)\n",
    "plt.plot(epochs_range, pr_auc, 'bo-', label='Training PR-AUC')\n",
    "plt.plot(epochs_range, val_pr_auc, 'ro-', label='Validation PR-AUC')\n",
    "plt.title('PR-AUC (v17 - Periodogram)')\n",
    "plt.xlabel('Epochs')\n",
    "plt.ylabel('PR-AUC Score')\n",
    "plt.legend()\n",
    "plt.grid(True)\n",
    "\n",
    "plt.suptitle(\"Résultats de l'entraînement v17\", fontsize=16)\n",
    "plt.tight_layout(rect=[0, 0.03, 1, 0.95])\n",
    "plt.show()"
   ],
   "id": "99e39a1a67fbf148",
   "outputs": [
    {
     "name": "stdout",
     "output_type": "stream",
     "text": [
      "Affichage des graphiques d'entraînement (v17)...\n"
     ]
    },
    {
     "data": {
      "text/plain": [
       "<Figure size 1600x600 with 2 Axes>"
      ],
      "image/png": "[encoded data removed]"
     },
     "metadata": {},
     "output_type": "display_data"
    }
   ],
   "execution_count": 63
  }
 ],
 "metadata": {
  "kernelspec": {
   "display_name": "Python 3",
   "language": "python",
   "name": "python3"
  },
  "language_info": {
   "codemirror_mode": {
    "name": "ipython",
    "version": 2
   },
   "file_extension": ".py",
   "mimetype": "text/x-python",
   "name": "python",
   "nbconvert_exporter": "python",
   "pygments_lexer": "ipython2",
   "version": "2.7.6"
  }
 },
 "nbformat": 4,
 "nbformat_minor": 5
}
