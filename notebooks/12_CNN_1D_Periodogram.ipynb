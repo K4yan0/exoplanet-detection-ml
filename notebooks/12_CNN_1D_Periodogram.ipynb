{
 "cells": [
  {
   "cell_type": "code",
   "id": "initial_id",
   "metadata": {
    "collapsed": true,
    "ExecuteTime": {
     "end_time": "2025-11-01T12:57:44.101692Z",
     "start_time": "2025-11-01T12:57:21.236442Z"
    }
   },
   "source": [
    "import numpy as np\n",
    "import pandas as pd\n",
    "import matplotlib.pyplot as plt\n",
    "import tensorflow as tf\n",
    "from sklearn.model_selection import train_test_split\n",
    "from sklearn.utils import shuffle, class_weight\n",
    "from sklearn.metrics import (\n",
    "    classification_report, confusion_matrix,\n",
    "    average_precision_score, precision_recall_curve, f1_score\n",
    ")\n",
    "\n",
    "# Imports pour le multiprocessing\n",
    "import multiprocessing\n",
    "from tqdm import tqdm\n",
    "\n",
    "# --- NOTRE NOUVEL IMPORT ---\n",
    "from src.periodogram import generate_periodogram\n",
    "\n",
    "# Métrique Keras\n",
    "pr_auc = tf.keras.metrics.AUC(curve='PR', name='pr_auc')\n",
    "\n",
    "print(\"Bibliothèques importées.\")"
   ],
   "outputs": [
    {
     "name": "stdout",
     "output_type": "stream",
     "text": [
      "Bibliothèques importées.\n"
     ]
    }
   ],
   "execution_count": 1
  },
  {
   "metadata": {
    "ExecuteTime": {
     "end_time": "2025-11-01T12:57:51.596483Z",
     "start_time": "2025-11-01T12:57:47.680027Z"
    }
   },
   "cell_type": "code",
   "source": [
    "print(\"Chargement et mélange des données brutes...\")\n",
    "train_df = pd.read_csv('../data/raw/train.csv')\n",
    "\n",
    "X_raw = train_df.drop('LABEL', axis=1).values\n",
    "y = train_df['LABEL'].values - 1  # (0, 1)\n",
    "\n",
    "X_raw_shuffled, y_shuffled = shuffle(X_raw, y, random_state=42)\n",
    "\n",
    "print(f\"Forme de X_raw_shuffled : {X_raw_shuffled.shape}\")\n",
    "print(f\"Forme de y_shuffled : {y_shuffled.shape}\")"
   ],
   "id": "748f2fde940f3e19",
   "outputs": [
    {
     "name": "stdout",
     "output_type": "stream",
     "text": [
      "Chargement et mélange des données brutes...\n",
      "Forme de X_raw_shuffled : (5087, 3197)\n",
      "Forme de y_shuffled : (5087,)\n"
     ]
    }
   ],
   "execution_count": 2
  },
  {
   "metadata": {
    "ExecuteTime": {
     "end_time": "2025-11-01T12:58:13.505915Z",
     "start_time": "2025-11-01T12:58:08.904427Z"
    }
   },
   "cell_type": "code",
   "source": [
    "# Cellule 3 : Pré-traitement (Génération des Périodogrammes)\n",
    "# -----------------------------------------------------------------\n",
    "\n",
    "N_BINS = 1000 # C'est notre nouvelle dimension : 1000 points de fréquence\n",
    "\n",
    "X_data_to_process = X_raw_shuffled\n",
    "y_data_to_process = y_shuffled\n",
    "\n",
    "print(f\"Démarrage de la génération des périodogrammes (vers {N_BINS} bins)...\")\n",
    "\n",
    "N_CORES = multiprocessing.cpu_count() - 1\n",
    "if N_CORES < 1: N_CORES = 1\n",
    "print(f\"Utilisation de {N_CORES} cœurs CPU...\")\n",
    "\n",
    "# Préparer les arguments (row, n_bins)\n",
    "func_args = [(row, N_BINS) for row in X_data_to_process]\n",
    "\n",
    "with multiprocessing.Pool(processes=N_CORES) as pool:\n",
    "    # On utilise starmap car notre fonction a 2 arguments\n",
    "    X_periodogram = list(tqdm(pool.starmap(generate_periodogram, func_args), total=len(X_data_to_process)))\n",
    "\n",
    "# Convertir en array numpy\n",
    "X_periodogram = np.array(X_periodogram)\n",
    "y = y_data_to_process\n",
    "\n",
    "print(\"Génération des périodogrammes terminée !\")\n",
    "print(f\"Forme de X_periodogram (nos nouvelles features) : {X_periodogram.shape}\")"
   ],
   "id": "9e18c88c1bc89692",
   "outputs": [
    {
     "name": "stdout",
     "output_type": "stream",
     "text": [
      "Démarrage de la génération des périodogrammes (vers 1000 bins)...\n",
      "Utilisation de 7 cœurs CPU...\n"
     ]
    },
    {
     "name": "stderr",
     "output_type": "stream",
     "text": [
      "100%|██████████| 5087/5087 [00:00<00:00, 2445715.78it/s]"
     ]
    },
    {
     "name": "stdout",
     "output_type": "stream",
     "text": [
      "Génération des périodogrammes terminée !\n",
      "Forme de X_periodogram (nos nouvelles features) : (5087, 1000)\n"
     ]
    },
    {
     "name": "stderr",
     "output_type": "stream",
     "text": [
      "\n"
     ]
    }
   ],
   "execution_count": 3
  },
  {
   "metadata": {
    "ExecuteTime": {
     "end_time": "2025-11-01T12:59:06.488131Z",
     "start_time": "2025-11-01T12:59:06.468136Z"
    }
   },
   "cell_type": "code",
   "source": [
    "print(\"Division des données (Train/Test)...\")\n",
    "X_train, X_test, y_train, y_test = train_test_split(\n",
    "    X_periodogram, # <-- Nos nouvelles données\n",
    "    y,             # <-- Nos labels\n",
    "    test_size=0.2,\n",
    "    random_state=42,\n",
    "    stratify=y\n",
    ")\n",
    "\n",
    "# Redimensionner pour le CNN\n",
    "X_train_cnn = np.expand_dims(X_train, axis=-1)\n",
    "X_test_cnn = np.expand_dims(X_test, axis=-1)\n",
    "\n",
    "# Notre nouvelle forme d'entrée\n",
    "INPUT_SHAPE = (N_BINS, 1) # (1000, 1)\n",
    "\n",
    "print(f\"Forme X_train_cnn : {X_train_cnn.shape}\")\n",
    "print(f\"Forme X_test_cnn : {X_test_cnn.shape}\")"
   ],
   "id": "cf09ec7ad45e8cb6",
   "outputs": [
    {
     "name": "stdout",
     "output_type": "stream",
     "text": [
      "Division des données (Train/Test)...\n",
      "Forme X_train_cnn : (4069, 1000, 1)\n",
      "Forme X_test_cnn : (1018, 1000, 1)\n"
     ]
    }
   ],
   "execution_count": 4
  },
  {
   "metadata": {
    "ExecuteTime": {
     "end_time": "2025-11-01T12:59:27.376742Z",
     "start_time": "2025-11-01T12:59:27.257580Z"
    }
   },
   "cell_type": "code",
   "source": [
    "# Cellule 5 : Construction du Modèle (v17)\n",
    "\n",
    "def build_periodogram_model(input_shape):\n",
    "    model = tf.keras.models.Sequential(name=\"CNN_v17_Periodogram\")\n",
    "\n",
    "    model.add(tf.keras.layers.Input(shape=input_shape))\n",
    "\n",
    "    model.add(tf.keras.layers.Conv1D(filters=32, kernel_size=7, activation='relu', padding='same'))\n",
    "    model.add(tf.keras.layers.MaxPooling1D(pool_size=3))\n",
    "    model.add(tf.keras.layers.Dropout(0.3))\n",
    "\n",
    "    model.add(tf.keras.layers.Conv1D(filters=64, kernel_size=5, activation='relu', padding='same'))\n",
    "    model.add(tf.keras.layers.MaxPooling1D(pool_size=3))\n",
    "    model.add(tf.keras.layers.Dropout(0.3))\n",
    "\n",
    "    model.add(tf.keras.layers.Conv1D(filters=128, kernel_size=3, activation='relu', padding='same'))\n",
    "    model.add(tf.keras.layers.MaxPooling1D(pool_size=3))\n",
    "    model.add(tf.keras.layers.Dropout(0.3))\n",
    "\n",
    "    model.add(tf.keras.layers.Flatten())\n",
    "    model.add(tf.keras.layers.Dense(64, activation='relu'))\n",
    "    model.add(tf.keras.layers.Dropout(0.5))\n",
    "    model.add(tf.keras.layers.Dense(1, activation='sigmoid'))\n",
    "\n",
    "    return model\n",
    "\n",
    "model = build_periodogram_model(INPUT_SHAPE)\n",
    "\n",
    "# On compile avec notre LR stable (1e-4)\n",
    "model.compile(\n",
    "    optimizer=tf.keras.optimizers.Adam(learning_rate=1e-4),\n",
    "    loss='binary_crossentropy',\n",
    "    metrics=['accuracy', pr_auc]\n",
    ")\n",
    "\n",
    "model.summary()"
   ],
   "id": "58c2c70acc3e0e04",
   "outputs": [
    {
     "data": {
      "text/plain": [
       "\u001B[1mModel: \"CNN_v17_Periodogram\"\u001B[0m\n"
      ],
      "text/html": [
       "<pre style=\"white-space:pre;overflow-x:auto;line-height:normal;font-family:Menlo,'DejaVu Sans Mono',consolas,'Courier New',monospace\"><span style=\"font-weight: bold\">Model: \"CNN_v17_Periodogram\"</span>\n",
       "</pre>\n"
      ]
     },
     "metadata": {},
     "output_type": "display_data"
    },
    {
     "data": {
      "text/plain": [
       "┏━━━━━━━━━━━━━━━━━━━━━━━━━━━━━━━━━┳━━━━━━━━━━━━━━━━━━━━━━━━┳━━━━━━━━━━━━━━━┓\n",
       "┃\u001B[1m \u001B[0m\u001B[1mLayer (type)                   \u001B[0m\u001B[1m \u001B[0m┃\u001B[1m \u001B[0m\u001B[1mOutput Shape          \u001B[0m\u001B[1m \u001B[0m┃\u001B[1m \u001B[0m\u001B[1m      Param #\u001B[0m\u001B[1m \u001B[0m┃\n",
       "┡━━━━━━━━━━━━━━━━━━━━━━━━━━━━━━━━━╇━━━━━━━━━━━━━━━━━━━━━━━━╇━━━━━━━━━━━━━━━┩\n",
       "│ conv1d (\u001B[38;5;33mConv1D\u001B[0m)                 │ (\u001B[38;5;45mNone\u001B[0m, \u001B[38;5;34m1000\u001B[0m, \u001B[38;5;34m32\u001B[0m)       │           \u001B[38;5;34m256\u001B[0m │\n",
       "├─────────────────────────────────┼────────────────────────┼───────────────┤\n",
       "│ max_pooling1d (\u001B[38;5;33mMaxPooling1D\u001B[0m)    │ (\u001B[38;5;45mNone\u001B[0m, \u001B[38;5;34m333\u001B[0m, \u001B[38;5;34m32\u001B[0m)        │             \u001B[38;5;34m0\u001B[0m │\n",
       "├─────────────────────────────────┼────────────────────────┼───────────────┤\n",
       "│ dropout (\u001B[38;5;33mDropout\u001B[0m)               │ (\u001B[38;5;45mNone\u001B[0m, \u001B[38;5;34m333\u001B[0m, \u001B[38;5;34m32\u001B[0m)        │             \u001B[38;5;34m0\u001B[0m │\n",
       "├─────────────────────────────────┼────────────────────────┼───────────────┤\n",
       "│ conv1d_1 (\u001B[38;5;33mConv1D\u001B[0m)               │ (\u001B[38;5;45mNone\u001B[0m, \u001B[38;5;34m333\u001B[0m, \u001B[38;5;34m64\u001B[0m)        │        \u001B[38;5;34m10,304\u001B[0m │\n",
       "├─────────────────────────────────┼────────────────────────┼───────────────┤\n",
       "│ max_pooling1d_1 (\u001B[38;5;33mMaxPooling1D\u001B[0m)  │ (\u001B[38;5;45mNone\u001B[0m, \u001B[38;5;34m111\u001B[0m, \u001B[38;5;34m64\u001B[0m)        │             \u001B[38;5;34m0\u001B[0m │\n",
       "├─────────────────────────────────┼────────────────────────┼───────────────┤\n",
       "│ dropout_1 (\u001B[38;5;33mDropout\u001B[0m)             │ (\u001B[38;5;45mNone\u001B[0m, \u001B[38;5;34m111\u001B[0m, \u001B[38;5;34m64\u001B[0m)        │             \u001B[38;5;34m0\u001B[0m │\n",
       "├─────────────────────────────────┼────────────────────────┼───────────────┤\n",
       "│ conv1d_2 (\u001B[38;5;33mConv1D\u001B[0m)               │ (\u001B[38;5;45mNone\u001B[0m, \u001B[38;5;34m111\u001B[0m, \u001B[38;5;34m128\u001B[0m)       │        \u001B[38;5;34m24,704\u001B[0m │\n",
       "├─────────────────────────────────┼────────────────────────┼───────────────┤\n",
       "│ max_pooling1d_2 (\u001B[38;5;33mMaxPooling1D\u001B[0m)  │ (\u001B[38;5;45mNone\u001B[0m, \u001B[38;5;34m37\u001B[0m, \u001B[38;5;34m128\u001B[0m)        │             \u001B[38;5;34m0\u001B[0m │\n",
       "├─────────────────────────────────┼────────────────────────┼───────────────┤\n",
       "│ dropout_2 (\u001B[38;5;33mDropout\u001B[0m)             │ (\u001B[38;5;45mNone\u001B[0m, \u001B[38;5;34m37\u001B[0m, \u001B[38;5;34m128\u001B[0m)        │             \u001B[38;5;34m0\u001B[0m │\n",
       "├─────────────────────────────────┼────────────────────────┼───────────────┤\n",
       "│ flatten (\u001B[38;5;33mFlatten\u001B[0m)               │ (\u001B[38;5;45mNone\u001B[0m, \u001B[38;5;34m4736\u001B[0m)           │             \u001B[38;5;34m0\u001B[0m │\n",
       "├─────────────────────────────────┼────────────────────────┼───────────────┤\n",
       "│ dense (\u001B[38;5;33mDense\u001B[0m)                   │ (\u001B[38;5;45mNone\u001B[0m, \u001B[38;5;34m64\u001B[0m)             │       \u001B[38;5;34m303,168\u001B[0m │\n",
       "├─────────────────────────────────┼────────────────────────┼───────────────┤\n",
       "│ dropout_3 (\u001B[38;5;33mDropout\u001B[0m)             │ (\u001B[38;5;45mNone\u001B[0m, \u001B[38;5;34m64\u001B[0m)             │             \u001B[38;5;34m0\u001B[0m │\n",
       "├─────────────────────────────────┼────────────────────────┼───────────────┤\n",
       "│ dense_1 (\u001B[38;5;33mDense\u001B[0m)                 │ (\u001B[38;5;45mNone\u001B[0m, \u001B[38;5;34m1\u001B[0m)              │            \u001B[38;5;34m65\u001B[0m │\n",
       "└─────────────────────────────────┴────────────────────────┴───────────────┘\n"
      ],
      "text/html": [
       "<pre style=\"white-space:pre;overflow-x:auto;line-height:normal;font-family:Menlo,'DejaVu Sans Mono',consolas,'Courier New',monospace\">┏━━━━━━━━━━━━━━━━━━━━━━━━━━━━━━━━━┳━━━━━━━━━━━━━━━━━━━━━━━━┳━━━━━━━━━━━━━━━┓\n",
       "┃<span style=\"font-weight: bold\"> Layer (type)                    </span>┃<span style=\"font-weight: bold\"> Output Shape           </span>┃<span style=\"font-weight: bold\">       Param # </span>┃\n",
       "┡━━━━━━━━━━━━━━━━━━━━━━━━━━━━━━━━━╇━━━━━━━━━━━━━━━━━━━━━━━━╇━━━━━━━━━━━━━━━┩\n",
       "│ conv1d (<span style=\"color: #0087ff; text-decoration-color: #0087ff\">Conv1D</span>)                 │ (<span style=\"color: #00d7ff; text-decoration-color: #00d7ff\">None</span>, <span style=\"color: #00af00; text-decoration-color: #00af00\">1000</span>, <span style=\"color: #00af00; text-decoration-color: #00af00\">32</span>)       │           <span style=\"color: #00af00; text-decoration-color: #00af00\">256</span> │\n",
       "├─────────────────────────────────┼────────────────────────┼───────────────┤\n",
       "│ max_pooling1d (<span style=\"color: #0087ff; text-decoration-color: #0087ff\">MaxPooling1D</span>)    │ (<span style=\"color: #00d7ff; text-decoration-color: #00d7ff\">None</span>, <span style=\"color: #00af00; text-decoration-color: #00af00\">333</span>, <span style=\"color: #00af00; text-decoration-color: #00af00\">32</span>)        │             <span style=\"color: #00af00; text-decoration-color: #00af00\">0</span> │\n",
       "├─────────────────────────────────┼────────────────────────┼───────────────┤\n",
       "│ dropout (<span style=\"color: #0087ff; text-decoration-color: #0087ff\">Dropout</span>)               │ (<span style=\"color: #00d7ff; text-decoration-color: #00d7ff\">None</span>, <span style=\"color: #00af00; text-decoration-color: #00af00\">333</span>, <span style=\"color: #00af00; text-decoration-color: #00af00\">32</span>)        │             <span style=\"color: #00af00; text-decoration-color: #00af00\">0</span> │\n",
       "├─────────────────────────────────┼────────────────────────┼───────────────┤\n",
       "│ conv1d_1 (<span style=\"color: #0087ff; text-decoration-color: #0087ff\">Conv1D</span>)               │ (<span style=\"color: #00d7ff; text-decoration-color: #00d7ff\">None</span>, <span style=\"color: #00af00; text-decoration-color: #00af00\">333</span>, <span style=\"color: #00af00; text-decoration-color: #00af00\">64</span>)        │        <span style=\"color: #00af00; text-decoration-color: #00af00\">10,304</span> │\n",
       "├─────────────────────────────────┼────────────────────────┼───────────────┤\n",
       "│ max_pooling1d_1 (<span style=\"color: #0087ff; text-decoration-color: #0087ff\">MaxPooling1D</span>)  │ (<span style=\"color: #00d7ff; text-decoration-color: #00d7ff\">None</span>, <span style=\"color: #00af00; text-decoration-color: #00af00\">111</span>, <span style=\"color: #00af00; text-decoration-color: #00af00\">64</span>)        │             <span style=\"color: #00af00; text-decoration-color: #00af00\">0</span> │\n",
       "├─────────────────────────────────┼────────────────────────┼───────────────┤\n",
       "│ dropout_1 (<span style=\"color: #0087ff; text-decoration-color: #0087ff\">Dropout</span>)             │ (<span style=\"color: #00d7ff; text-decoration-color: #00d7ff\">None</span>, <span style=\"color: #00af00; text-decoration-color: #00af00\">111</span>, <span style=\"color: #00af00; text-decoration-color: #00af00\">64</span>)        │             <span style=\"color: #00af00; text-decoration-color: #00af00\">0</span> │\n",
       "├─────────────────────────────────┼────────────────────────┼───────────────┤\n",
       "│ conv1d_2 (<span style=\"color: #0087ff; text-decoration-color: #0087ff\">Conv1D</span>)               │ (<span style=\"color: #00d7ff; text-decoration-color: #00d7ff\">None</span>, <span style=\"color: #00af00; text-decoration-color: #00af00\">111</span>, <span style=\"color: #00af00; text-decoration-color: #00af00\">128</span>)       │        <span style=\"color: #00af00; text-decoration-color: #00af00\">24,704</span> │\n",
       "├─────────────────────────────────┼────────────────────────┼───────────────┤\n",
       "│ max_pooling1d_2 (<span style=\"color: #0087ff; text-decoration-color: #0087ff\">MaxPooling1D</span>)  │ (<span style=\"color: #00d7ff; text-decoration-color: #00d7ff\">None</span>, <span style=\"color: #00af00; text-decoration-color: #00af00\">37</span>, <span style=\"color: #00af00; text-decoration-color: #00af00\">128</span>)        │             <span style=\"color: #00af00; text-decoration-color: #00af00\">0</span> │\n",
       "├─────────────────────────────────┼────────────────────────┼───────────────┤\n",
       "│ dropout_2 (<span style=\"color: #0087ff; text-decoration-color: #0087ff\">Dropout</span>)             │ (<span style=\"color: #00d7ff; text-decoration-color: #00d7ff\">None</span>, <span style=\"color: #00af00; text-decoration-color: #00af00\">37</span>, <span style=\"color: #00af00; text-decoration-color: #00af00\">128</span>)        │             <span style=\"color: #00af00; text-decoration-color: #00af00\">0</span> │\n",
       "├─────────────────────────────────┼────────────────────────┼───────────────┤\n",
       "│ flatten (<span style=\"color: #0087ff; text-decoration-color: #0087ff\">Flatten</span>)               │ (<span style=\"color: #00d7ff; text-decoration-color: #00d7ff\">None</span>, <span style=\"color: #00af00; text-decoration-color: #00af00\">4736</span>)           │             <span style=\"color: #00af00; text-decoration-color: #00af00\">0</span> │\n",
       "├─────────────────────────────────┼────────────────────────┼───────────────┤\n",
       "│ dense (<span style=\"color: #0087ff; text-decoration-color: #0087ff\">Dense</span>)                   │ (<span style=\"color: #00d7ff; text-decoration-color: #00d7ff\">None</span>, <span style=\"color: #00af00; text-decoration-color: #00af00\">64</span>)             │       <span style=\"color: #00af00; text-decoration-color: #00af00\">303,168</span> │\n",
       "├─────────────────────────────────┼────────────────────────┼───────────────┤\n",
       "│ dropout_3 (<span style=\"color: #0087ff; text-decoration-color: #0087ff\">Dropout</span>)             │ (<span style=\"color: #00d7ff; text-decoration-color: #00d7ff\">None</span>, <span style=\"color: #00af00; text-decoration-color: #00af00\">64</span>)             │             <span style=\"color: #00af00; text-decoration-color: #00af00\">0</span> │\n",
       "├─────────────────────────────────┼────────────────────────┼───────────────┤\n",
       "│ dense_1 (<span style=\"color: #0087ff; text-decoration-color: #0087ff\">Dense</span>)                 │ (<span style=\"color: #00d7ff; text-decoration-color: #00d7ff\">None</span>, <span style=\"color: #00af00; text-decoration-color: #00af00\">1</span>)              │            <span style=\"color: #00af00; text-decoration-color: #00af00\">65</span> │\n",
       "└─────────────────────────────────┴────────────────────────┴───────────────┘\n",
       "</pre>\n"
      ]
     },
     "metadata": {},
     "output_type": "display_data"
    },
    {
     "data": {
      "text/plain": [
       "\u001B[1m Total params: \u001B[0m\u001B[38;5;34m338,497\u001B[0m (1.29 MB)\n"
      ],
      "text/html": [
       "<pre style=\"white-space:pre;overflow-x:auto;line-height:normal;font-family:Menlo,'DejaVu Sans Mono',consolas,'Courier New',monospace\"><span style=\"font-weight: bold\"> Total params: </span><span style=\"color: #00af00; text-decoration-color: #00af00\">338,497</span> (1.29 MB)\n",
       "</pre>\n"
      ]
     },
     "metadata": {},
     "output_type": "display_data"
    },
    {
     "data": {
      "text/plain": [
       "\u001B[1m Trainable params: \u001B[0m\u001B[38;5;34m338,497\u001B[0m (1.29 MB)\n"
      ],
      "text/html": [
       "<pre style=\"white-space:pre;overflow-x:auto;line-height:normal;font-family:Menlo,'DejaVu Sans Mono',consolas,'Courier New',monospace\"><span style=\"font-weight: bold\"> Trainable params: </span><span style=\"color: #00af00; text-decoration-color: #00af00\">338,497</span> (1.29 MB)\n",
       "</pre>\n"
      ]
     },
     "metadata": {},
     "output_type": "display_data"
    },
    {
     "data": {
      "text/plain": [
       "\u001B[1m Non-trainable params: \u001B[0m\u001B[38;5;34m0\u001B[0m (0.00 B)\n"
      ],
      "text/html": [
       "<pre style=\"white-space:pre;overflow-x:auto;line-height:normal;font-family:Menlo,'DejaVu Sans Mono',consolas,'Courier New',monospace\"><span style=\"font-weight: bold\"> Non-trainable params: </span><span style=\"color: #00af00; text-decoration-color: #00af00\">0</span> (0.00 B)\n",
       "</pre>\n"
      ]
     },
     "metadata": {},
     "output_type": "display_data"
    }
   ],
   "execution_count": 5
  },
  {
   "metadata": {
    "ExecuteTime": {
     "end_time": "2025-11-01T12:59:52.550354Z",
     "start_time": "2025-11-01T12:59:52.543880Z"
    }
   },
   "cell_type": "code",
   "source": [
    "# Cellule 5b : Calculer les Poids de Classe\n",
    "# ----------------------------------------\n",
    "weights = class_weight.compute_class_weight(\n",
    "    'balanced',\n",
    "    classes=np.unique(y_train),\n",
    "    y=y_train\n",
    ")\n",
    "class_weights_dict = {0: weights[0], 1: weights[1]}\n",
    "\n",
    "print(f\"Poids de classe (0: 'Pas Planète'): {weights[0]:.2f}\")\n",
    "print(f\"Poids de classe (1: 'Planète'):   {weights[1]:.2f}\")"
   ],
   "id": "e81f1c72c42ab0ec",
   "outputs": [
    {
     "name": "stdout",
     "output_type": "stream",
     "text": [
      "Poids de classe (0: 'Pas Planète'): 0.50\n",
      "Poids de classe (1: 'Planète'):   67.82\n"
     ]
    }
   ],
   "execution_count": 6
  },
  {
   "metadata": {
    "ExecuteTime": {
     "end_time": "2025-11-01T13:03:23.275450Z",
     "start_time": "2025-11-01T13:00:03.639891Z"
    }
   },
   "cell_type": "code",
   "source": [
    "# Cellule 6 : Callbacks et Entraînement (v17)\n",
    "\n",
    "LOG_DIR = './logs/v17_periodogram'\n",
    "MODEL_PATH = '../models/cnn_v17_periodogram_best.h5'\n",
    "\n",
    "!rmdir /S /Q .\\\\logs\\\\v17_periodogram\n",
    "\n",
    "tensorboard_cb = tf.keras.callbacks.TensorBoard(log_dir=LOG_DIR, histogram_freq=1)\n",
    "checkpoint_cb = tf.keras.callbacks.ModelCheckpoint(\n",
    "    filepath=MODEL_PATH, save_best_only=True,\n",
    "    monitor='val_pr_auc', mode='max', verbose=1\n",
    ")\n",
    "early_stopping_cb = tf.keras.callbacks.EarlyStopping(\n",
    "    monitor='val_pr_auc', mode='max', patience=10,\n",
    "    restore_best_weights=True, verbose=1\n",
    ")\n",
    "\n",
    "print(f\"Début de l'entraînement (v17 - Périodogramme)...\")\n",
    "history = model.fit(\n",
    "    X_train_cnn,\n",
    "    y_train,\n",
    "    epochs=100,\n",
    "    batch_size=32,\n",
    "    validation_data=(X_test_cnn, y_test),\n",
    "    callbacks=[tensorboard_cb, checkpoint_cb, early_stopping_cb],\n",
    "    class_weight=class_weights_dict # On utilise les poids !\n",
    ")"
   ],
   "id": "cc71670b0968378b",
   "outputs": [
    {
     "name": "stderr",
     "output_type": "stream",
     "text": [
      "Le fichier sp‚cifi‚ est introuvable.\n"
     ]
    },
    {
     "name": "stdout",
     "output_type": "stream",
     "text": [
      "Début de l'entraînement (v17 - Périodogramme)...\n",
      "Epoch 1/100\n",
      "\u001B[1m128/128\u001B[0m \u001B[32m━━━━━━━━━━━━━━━━━━━━\u001B[0m\u001B[37m\u001B[0m \u001B[1m0s\u001B[0m 14ms/step - accuracy: 0.9371 - loss: 1.6266 - pr_auc: 0.0055\n",
      "Epoch 1: val_pr_auc improved from None to 0.01457, saving model to ../models/cnn_v17_periodogram_best.h5\n"
     ]
    },
    {
     "name": "stderr",
     "output_type": "stream",
     "text": [
      "WARNING:absl:You are saving your model as an HDF5 file via `model.save()` or `keras.saving.save_model(model)`. This file format is considered legacy. We recommend using instead the native Keras format, e.g. `model.save('my_model.keras')` or `keras.saving.save_model(model, 'my_model.keras')`. \n"
     ]
    },
    {
     "name": "stdout",
     "output_type": "stream",
     "text": [
      "\u001B[1m128/128\u001B[0m \u001B[32m━━━━━━━━━━━━━━━━━━━━\u001B[0m\u001B[37m\u001B[0m \u001B[1m4s\u001B[0m 21ms/step - accuracy: 0.8973 - loss: 1.2239 - pr_auc: 0.0059 - val_accuracy: 0.8193 - val_loss: 0.6504 - val_pr_auc: 0.0146\n",
      "Epoch 2/100\n",
      "\u001B[1m125/128\u001B[0m \u001B[32m━━━━━━━━━━━━━━━━━━━\u001B[0m\u001B[37m━\u001B[0m \u001B[1m0s\u001B[0m 14ms/step - accuracy: 0.7813 - loss: 0.6734 - pr_auc: 0.0089\n",
      "Epoch 2: val_pr_auc did not improve from 0.01457\n",
      "\u001B[1m128/128\u001B[0m \u001B[32m━━━━━━━━━━━━━━━━━━━━\u001B[0m\u001B[37m\u001B[0m \u001B[1m2s\u001B[0m 16ms/step - accuracy: 0.7363 - loss: 0.6838 - pr_auc: 0.0101 - val_accuracy: 0.4784 - val_loss: 0.6824 - val_pr_auc: 0.0143\n",
      "Epoch 3/100\n",
      "\u001B[1m125/128\u001B[0m \u001B[32m━━━━━━━━━━━━━━━━━━━\u001B[0m\u001B[37m━\u001B[0m \u001B[1m0s\u001B[0m 14ms/step - accuracy: 0.6819 - loss: 0.7938 - pr_auc: 0.0141\n",
      "Epoch 3: val_pr_auc improved from 0.01457 to 0.01526, saving model to ../models/cnn_v17_periodogram_best.h5\n"
     ]
    },
    {
     "name": "stderr",
     "output_type": "stream",
     "text": [
      "WARNING:absl:You are saving your model as an HDF5 file via `model.save()` or `keras.saving.save_model(model)`. This file format is considered legacy. We recommend using instead the native Keras format, e.g. `model.save('my_model.keras')` or `keras.saving.save_model(model, 'my_model.keras')`. \n"
     ]
    },
    {
     "name": "stdout",
     "output_type": "stream",
     "text": [
      "\u001B[1m128/128\u001B[0m \u001B[32m━━━━━━━━━━━━━━━━━━━━\u001B[0m\u001B[37m\u001B[0m \u001B[1m2s\u001B[0m 17ms/step - accuracy: 0.6874 - loss: 0.6803 - pr_auc: 0.0101 - val_accuracy: 0.6100 - val_loss: 0.6424 - val_pr_auc: 0.0153\n",
      "Epoch 4/100\n",
      "\u001B[1m125/128\u001B[0m \u001B[32m━━━━━━━━━━━━━━━━━━━\u001B[0m\u001B[37m━\u001B[0m \u001B[1m0s\u001B[0m 14ms/step - accuracy: 0.7404 - loss: 0.6935 - pr_auc: 0.0122\n",
      "Epoch 4: val_pr_auc improved from 0.01526 to 0.01538, saving model to ../models/cnn_v17_periodogram_best.h5\n"
     ]
    },
    {
     "name": "stderr",
     "output_type": "stream",
     "text": [
      "WARNING:absl:You are saving your model as an HDF5 file via `model.save()` or `keras.saving.save_model(model)`. This file format is considered legacy. We recommend using instead the native Keras format, e.g. `model.save('my_model.keras')` or `keras.saving.save_model(model, 'my_model.keras')`. \n"
     ]
    },
    {
     "name": "stdout",
     "output_type": "stream",
     "text": [
      "\u001B[1m128/128\u001B[0m \u001B[32m━━━━━━━━━━━━━━━━━━━━\u001B[0m\u001B[37m\u001B[0m \u001B[1m2s\u001B[0m 17ms/step - accuracy: 0.7063 - loss: 0.6651 - pr_auc: 0.0109 - val_accuracy: 0.4784 - val_loss: 0.6629 - val_pr_auc: 0.0154\n",
      "Epoch 5/100\n",
      "\u001B[1m125/128\u001B[0m \u001B[32m━━━━━━━━━━━━━━━━━━━\u001B[0m\u001B[37m━\u001B[0m \u001B[1m0s\u001B[0m 15ms/step - accuracy: 0.6769 - loss: 0.6132 - pr_auc: 0.0180\n",
      "Epoch 5: val_pr_auc improved from 0.01538 to 0.01573, saving model to ../models/cnn_v17_periodogram_best.h5\n"
     ]
    },
    {
     "name": "stderr",
     "output_type": "stream",
     "text": [
      "WARNING:absl:You are saving your model as an HDF5 file via `model.save()` or `keras.saving.save_model(model)`. This file format is considered legacy. We recommend using instead the native Keras format, e.g. `model.save('my_model.keras')` or `keras.saving.save_model(model, 'my_model.keras')`. \n"
     ]
    },
    {
     "name": "stdout",
     "output_type": "stream",
     "text": [
      "\u001B[1m128/128\u001B[0m \u001B[32m━━━━━━━━━━━━━━━━━━━━\u001B[0m\u001B[37m\u001B[0m \u001B[1m2s\u001B[0m 17ms/step - accuracy: 0.6783 - loss: 0.6780 - pr_auc: 0.0151 - val_accuracy: 0.4077 - val_loss: 0.6881 - val_pr_auc: 0.0157\n",
      "Epoch 6/100\n",
      "\u001B[1m128/128\u001B[0m \u001B[32m━━━━━━━━━━━━━━━━━━━━\u001B[0m\u001B[37m\u001B[0m \u001B[1m0s\u001B[0m 15ms/step - accuracy: 0.6799 - loss: 0.5768 - pr_auc: 0.0576\n",
      "Epoch 6: val_pr_auc did not improve from 0.01573\n",
      "\u001B[1m128/128\u001B[0m \u001B[32m━━━━━━━━━━━━━━━━━━━━\u001B[0m\u001B[37m\u001B[0m \u001B[1m2s\u001B[0m 17ms/step - accuracy: 0.6537 - loss: 0.6350 - pr_auc: 0.0178 - val_accuracy: 0.4283 - val_loss: 0.6770 - val_pr_auc: 0.0152\n",
      "Epoch 7/100\n",
      "\u001B[1m128/128\u001B[0m \u001B[32m━━━━━━━━━━━━━━━━━━━━\u001B[0m\u001B[37m\u001B[0m \u001B[1m0s\u001B[0m 15ms/step - accuracy: 0.6821 - loss: 0.5892 - pr_auc: 0.0354\n",
      "Epoch 7: val_pr_auc did not improve from 0.01573\n",
      "\u001B[1m128/128\u001B[0m \u001B[32m━━━━━━━━━━━━━━━━━━━━\u001B[0m\u001B[37m\u001B[0m \u001B[1m2s\u001B[0m 18ms/step - accuracy: 0.6852 - loss: 0.6262 - pr_auc: 0.0157 - val_accuracy: 0.4273 - val_loss: 0.6652 - val_pr_auc: 0.0142\n",
      "Epoch 8/100\n",
      "\u001B[1m125/128\u001B[0m \u001B[32m━━━━━━━━━━━━━━━━━━━\u001B[0m\u001B[37m━\u001B[0m \u001B[1m0s\u001B[0m 15ms/step - accuracy: 0.5969 - loss: 0.6928 - pr_auc: 0.0350\n",
      "Epoch 8: val_pr_auc did not improve from 0.01573\n",
      "\u001B[1m128/128\u001B[0m \u001B[32m━━━━━━━━━━━━━━━━━━━━\u001B[0m\u001B[37m\u001B[0m \u001B[1m2s\u001B[0m 18ms/step - accuracy: 0.6188 - loss: 0.6448 - pr_auc: 0.0146 - val_accuracy: 0.4460 - val_loss: 0.6495 - val_pr_auc: 0.0150\n",
      "Epoch 9/100\n",
      "\u001B[1m127/128\u001B[0m \u001B[32m━━━━━━━━━━━━━━━━━━━\u001B[0m\u001B[37m━\u001B[0m \u001B[1m0s\u001B[0m 16ms/step - accuracy: 0.6664 - loss: 0.7097 - pr_auc: 0.0235\n",
      "Epoch 9: val_pr_auc did not improve from 0.01573\n",
      "\u001B[1m128/128\u001B[0m \u001B[32m━━━━━━━━━━━━━━━━━━━━\u001B[0m\u001B[37m\u001B[0m \u001B[1m2s\u001B[0m 18ms/step - accuracy: 0.6758 - loss: 0.6225 - pr_auc: 0.0191 - val_accuracy: 0.6218 - val_loss: 0.5950 - val_pr_auc: 0.0156\n",
      "Epoch 10/100\n",
      "\u001B[1m128/128\u001B[0m \u001B[32m━━━━━━━━━━━━━━━━━━━━\u001B[0m\u001B[37m\u001B[0m \u001B[1m0s\u001B[0m 16ms/step - accuracy: 0.7250 - loss: 0.5711 - pr_auc: 0.0228\n",
      "Epoch 10: val_pr_auc improved from 0.01573 to 0.01626, saving model to ../models/cnn_v17_periodogram_best.h5\n"
     ]
    },
    {
     "name": "stderr",
     "output_type": "stream",
     "text": [
      "WARNING:absl:You are saving your model as an HDF5 file via `model.save()` or `keras.saving.save_model(model)`. This file format is considered legacy. We recommend using instead the native Keras format, e.g. `model.save('my_model.keras')` or `keras.saving.save_model(model, 'my_model.keras')`. \n"
     ]
    },
    {
     "name": "stdout",
     "output_type": "stream",
     "text": [
      "\u001B[1m128/128\u001B[0m \u001B[32m━━━━━━━━━━━━━━━━━━━━\u001B[0m\u001B[37m\u001B[0m \u001B[1m2s\u001B[0m 19ms/step - accuracy: 0.6606 - loss: 0.6110 - pr_auc: 0.0160 - val_accuracy: 0.5373 - val_loss: 0.6243 - val_pr_auc: 0.0163\n",
      "Epoch 11/100\n",
      "\u001B[1m126/128\u001B[0m \u001B[32m━━━━━━━━━━━━━━━━━━━\u001B[0m\u001B[37m━\u001B[0m \u001B[1m0s\u001B[0m 17ms/step - accuracy: 0.7522 - loss: 0.5246 - pr_auc: 0.0193\n",
      "Epoch 11: val_pr_auc improved from 0.01626 to 0.01683, saving model to ../models/cnn_v17_periodogram_best.h5\n"
     ]
    },
    {
     "name": "stderr",
     "output_type": "stream",
     "text": [
      "WARNING:absl:You are saving your model as an HDF5 file via `model.save()` or `keras.saving.save_model(model)`. This file format is considered legacy. We recommend using instead the native Keras format, e.g. `model.save('my_model.keras')` or `keras.saving.save_model(model, 'my_model.keras')`. \n"
     ]
    },
    {
     "name": "stdout",
     "output_type": "stream",
     "text": [
      "\u001B[1m128/128\u001B[0m \u001B[32m━━━━━━━━━━━━━━━━━━━━\u001B[0m\u001B[37m\u001B[0m \u001B[1m3s\u001B[0m 20ms/step - accuracy: 0.7321 - loss: 0.6122 - pr_auc: 0.0147 - val_accuracy: 0.4086 - val_loss: 0.6741 - val_pr_auc: 0.0168\n",
      "Epoch 12/100\n",
      "\u001B[1m125/128\u001B[0m \u001B[32m━━━━━━━━━━━━━━━━━━━\u001B[0m\u001B[37m━\u001B[0m \u001B[1m0s\u001B[0m 17ms/step - accuracy: 0.5877 - loss: 0.6176 - pr_auc: 0.0080\n",
      "Epoch 12: val_pr_auc did not improve from 0.01683\n",
      "\u001B[1m128/128\u001B[0m \u001B[32m━━━━━━━━━━━━━━━━━━━━\u001B[0m\u001B[37m\u001B[0m \u001B[1m3s\u001B[0m 20ms/step - accuracy: 0.6314 - loss: 0.6442 - pr_auc: 0.0114 - val_accuracy: 0.4028 - val_loss: 0.6659 - val_pr_auc: 0.0167\n",
      "Epoch 13/100\n",
      "\u001B[1m125/128\u001B[0m \u001B[32m━━━━━━━━━━━━━━━━━━━\u001B[0m\u001B[37m━\u001B[0m \u001B[1m0s\u001B[0m 17ms/step - accuracy: 0.5519 - loss: 0.6224 - pr_auc: 0.0172\n",
      "Epoch 13: val_pr_auc improved from 0.01683 to 0.01855, saving model to ../models/cnn_v17_periodogram_best.h5\n"
     ]
    },
    {
     "name": "stderr",
     "output_type": "stream",
     "text": [
      "WARNING:absl:You are saving your model as an HDF5 file via `model.save()` or `keras.saving.save_model(model)`. This file format is considered legacy. We recommend using instead the native Keras format, e.g. `model.save('my_model.keras')` or `keras.saving.save_model(model, 'my_model.keras')`. \n"
     ]
    },
    {
     "name": "stdout",
     "output_type": "stream",
     "text": [
      "\u001B[1m128/128\u001B[0m \u001B[32m━━━━━━━━━━━━━━━━━━━━\u001B[0m\u001B[37m\u001B[0m \u001B[1m2s\u001B[0m 19ms/step - accuracy: 0.5947 - loss: 0.6064 - pr_auc: 0.0132 - val_accuracy: 0.6670 - val_loss: 0.5611 - val_pr_auc: 0.0185\n",
      "Epoch 14/100\n",
      "\u001B[1m127/128\u001B[0m \u001B[32m━━━━━━━━━━━━━━━━━━━\u001B[0m\u001B[37m━\u001B[0m \u001B[1m0s\u001B[0m 19ms/step - accuracy: 0.7473 - loss: 0.5358 - pr_auc: 0.0319\n",
      "Epoch 14: val_pr_auc did not improve from 0.01855\n",
      "\u001B[1m128/128\u001B[0m \u001B[32m━━━━━━━━━━━━━━━━━━━━\u001B[0m\u001B[37m\u001B[0m \u001B[1m3s\u001B[0m 22ms/step - accuracy: 0.6894 - loss: 0.6039 - pr_auc: 0.0160 - val_accuracy: 0.4371 - val_loss: 0.6498 - val_pr_auc: 0.0168\n",
      "Epoch 15/100\n",
      "\u001B[1m125/128\u001B[0m \u001B[32m━━━━━━━━━━━━━━━━━━━\u001B[0m\u001B[37m━\u001B[0m \u001B[1m0s\u001B[0m 18ms/step - accuracy: 0.5801 - loss: 0.6391 - pr_auc: 0.0131\n",
      "Epoch 15: val_pr_auc did not improve from 0.01855\n",
      "\u001B[1m128/128\u001B[0m \u001B[32m━━━━━━━━━━━━━━━━━━━━\u001B[0m\u001B[37m\u001B[0m \u001B[1m3s\u001B[0m 21ms/step - accuracy: 0.5891 - loss: 0.6249 - pr_auc: 0.0136 - val_accuracy: 0.5609 - val_loss: 0.5883 - val_pr_auc: 0.0184\n",
      "Epoch 16/100\n",
      "\u001B[1m126/128\u001B[0m \u001B[32m━━━━━━━━━━━━━━━━━━━\u001B[0m\u001B[37m━\u001B[0m \u001B[1m0s\u001B[0m 17ms/step - accuracy: 0.6875 - loss: 0.5784 - pr_auc: 0.0238\n",
      "Epoch 16: val_pr_auc improved from 0.01855 to 0.01864, saving model to ../models/cnn_v17_periodogram_best.h5\n"
     ]
    },
    {
     "name": "stderr",
     "output_type": "stream",
     "text": [
      "WARNING:absl:You are saving your model as an HDF5 file via `model.save()` or `keras.saving.save_model(model)`. This file format is considered legacy. We recommend using instead the native Keras format, e.g. `model.save('my_model.keras')` or `keras.saving.save_model(model, 'my_model.keras')`. \n"
     ]
    },
    {
     "name": "stdout",
     "output_type": "stream",
     "text": [
      "\u001B[1m128/128\u001B[0m \u001B[32m━━━━━━━━━━━━━━━━━━━━\u001B[0m\u001B[37m\u001B[0m \u001B[1m3s\u001B[0m 20ms/step - accuracy: 0.6746 - loss: 0.6029 - pr_auc: 0.0210 - val_accuracy: 0.4470 - val_loss: 0.6635 - val_pr_auc: 0.0186\n",
      "Epoch 17/100\n",
      "\u001B[1m127/128\u001B[0m \u001B[32m━━━━━━━━━━━━━━━━━━━\u001B[0m\u001B[37m━\u001B[0m \u001B[1m0s\u001B[0m 17ms/step - accuracy: 0.6018 - loss: 0.6169 - pr_auc: 0.0196\n",
      "Epoch 17: val_pr_auc did not improve from 0.01864\n",
      "\u001B[1m128/128\u001B[0m \u001B[32m━━━━━━━━━━━━━━━━━━━━\u001B[0m\u001B[37m\u001B[0m \u001B[1m3s\u001B[0m 20ms/step - accuracy: 0.5812 - loss: 0.6217 - pr_auc: 0.0129 - val_accuracy: 0.4597 - val_loss: 0.6314 - val_pr_auc: 0.0178\n",
      "Epoch 18/100\n",
      "\u001B[1m125/128\u001B[0m \u001B[32m━━━━━━━━━━━━━━━━━━━\u001B[0m\u001B[37m━\u001B[0m \u001B[1m0s\u001B[0m 17ms/step - accuracy: 0.5966 - loss: 0.6291 - pr_auc: 0.0316\n",
      "Epoch 18: val_pr_auc did not improve from 0.01864\n",
      "\u001B[1m128/128\u001B[0m \u001B[32m━━━━━━━━━━━━━━━━━━━━\u001B[0m\u001B[37m\u001B[0m \u001B[1m3s\u001B[0m 20ms/step - accuracy: 0.5952 - loss: 0.5936 - pr_auc: 0.0238 - val_accuracy: 0.5344 - val_loss: 0.6118 - val_pr_auc: 0.0182\n",
      "Epoch 19/100\n",
      "\u001B[1m126/128\u001B[0m \u001B[32m━━━━━━━━━━━━━━━━━━━\u001B[0m\u001B[37m━\u001B[0m \u001B[1m0s\u001B[0m 18ms/step - accuracy: 0.6752 - loss: 0.5651 - pr_auc: 0.0175\n",
      "Epoch 19: val_pr_auc improved from 0.01864 to 0.01976, saving model to ../models/cnn_v17_periodogram_best.h5\n"
     ]
    },
    {
     "name": "stderr",
     "output_type": "stream",
     "text": [
      "WARNING:absl:You are saving your model as an HDF5 file via `model.save()` or `keras.saving.save_model(model)`. This file format is considered legacy. We recommend using instead the native Keras format, e.g. `model.save('my_model.keras')` or `keras.saving.save_model(model, 'my_model.keras')`. \n"
     ]
    },
    {
     "name": "stdout",
     "output_type": "stream",
     "text": [
      "\u001B[1m128/128\u001B[0m \u001B[32m━━━━━━━━━━━━━━━━━━━━\u001B[0m\u001B[37m\u001B[0m \u001B[1m3s\u001B[0m 21ms/step - accuracy: 0.6498 - loss: 0.5730 - pr_auc: 0.0191 - val_accuracy: 0.5108 - val_loss: 0.6233 - val_pr_auc: 0.0198\n",
      "Epoch 20/100\n",
      "\u001B[1m127/128\u001B[0m \u001B[32m━━━━━━━━━━━━━━━━━━━\u001B[0m\u001B[37m━\u001B[0m \u001B[1m0s\u001B[0m 19ms/step - accuracy: 0.6665 - loss: 0.6708 - pr_auc: 0.0120\n",
      "Epoch 20: val_pr_auc did not improve from 0.01976\n",
      "\u001B[1m128/128\u001B[0m \u001B[32m━━━━━━━━━━━━━━━━━━━━\u001B[0m\u001B[37m\u001B[0m \u001B[1m3s\u001B[0m 21ms/step - accuracy: 0.6731 - loss: 0.6161 - pr_auc: 0.0131 - val_accuracy: 0.6454 - val_loss: 0.5453 - val_pr_auc: 0.0197\n",
      "Epoch 21/100\n",
      "\u001B[1m126/128\u001B[0m \u001B[32m━━━━━━━━━━━━━━━━━━━\u001B[0m\u001B[37m━\u001B[0m \u001B[1m0s\u001B[0m 20ms/step - accuracy: 0.7362 - loss: 0.6452 - pr_auc: 0.0403\n",
      "Epoch 21: val_pr_auc improved from 0.01976 to 0.02109, saving model to ../models/cnn_v17_periodogram_best.h5\n"
     ]
    },
    {
     "name": "stderr",
     "output_type": "stream",
     "text": [
      "WARNING:absl:You are saving your model as an HDF5 file via `model.save()` or `keras.saving.save_model(model)`. This file format is considered legacy. We recommend using instead the native Keras format, e.g. `model.save('my_model.keras')` or `keras.saving.save_model(model, 'my_model.keras')`. \n"
     ]
    },
    {
     "name": "stdout",
     "output_type": "stream",
     "text": [
      "\u001B[1m128/128\u001B[0m \u001B[32m━━━━━━━━━━━━━━━━━━━━\u001B[0m\u001B[37m\u001B[0m \u001B[1m3s\u001B[0m 23ms/step - accuracy: 0.7257 - loss: 0.6004 - pr_auc: 0.0202 - val_accuracy: 0.5619 - val_loss: 0.5717 - val_pr_auc: 0.0211\n",
      "Epoch 22/100\n",
      "\u001B[1m127/128\u001B[0m \u001B[32m━━━━━━━━━━━━━━━━━━━\u001B[0m\u001B[37m━\u001B[0m \u001B[1m0s\u001B[0m 18ms/step - accuracy: 0.6549 - loss: 0.6029 - pr_auc: 0.0176\n",
      "Epoch 22: val_pr_auc did not improve from 0.02109\n",
      "\u001B[1m128/128\u001B[0m \u001B[32m━━━━━━━━━━━━━━━━━━━━\u001B[0m\u001B[37m\u001B[0m \u001B[1m3s\u001B[0m 20ms/step - accuracy: 0.6299 - loss: 0.6135 - pr_auc: 0.0140 - val_accuracy: 0.5403 - val_loss: 0.6090 - val_pr_auc: 0.0206\n",
      "Epoch 23/100\n",
      "\u001B[1m127/128\u001B[0m \u001B[32m━━━━━━━━━━━━━━━━━━━\u001B[0m\u001B[37m━\u001B[0m \u001B[1m0s\u001B[0m 18ms/step - accuracy: 0.7069 - loss: 0.5934 - pr_auc: 0.0120\n",
      "Epoch 23: val_pr_auc improved from 0.02109 to 0.02158, saving model to ../models/cnn_v17_periodogram_best.h5\n"
     ]
    },
    {
     "name": "stderr",
     "output_type": "stream",
     "text": [
      "WARNING:absl:You are saving your model as an HDF5 file via `model.save()` or `keras.saving.save_model(model)`. This file format is considered legacy. We recommend using instead the native Keras format, e.g. `model.save('my_model.keras')` or `keras.saving.save_model(model, 'my_model.keras')`. \n"
     ]
    },
    {
     "name": "stdout",
     "output_type": "stream",
     "text": [
      "\u001B[1m128/128\u001B[0m \u001B[32m━━━━━━━━━━━━━━━━━━━━\u001B[0m\u001B[37m\u001B[0m \u001B[1m3s\u001B[0m 23ms/step - accuracy: 0.7267 - loss: 0.5904 - pr_auc: 0.0146 - val_accuracy: 0.5236 - val_loss: 0.6075 - val_pr_auc: 0.0216\n",
      "Epoch 24/100\n",
      "\u001B[1m127/128\u001B[0m \u001B[32m━━━━━━━━━━━━━━━━━━━\u001B[0m\u001B[37m━\u001B[0m \u001B[1m0s\u001B[0m 18ms/step - accuracy: 0.6421 - loss: 0.5174 - pr_auc: 0.0168\n",
      "Epoch 24: val_pr_auc improved from 0.02158 to 0.02188, saving model to ../models/cnn_v17_periodogram_best.h5\n"
     ]
    },
    {
     "name": "stderr",
     "output_type": "stream",
     "text": [
      "WARNING:absl:You are saving your model as an HDF5 file via `model.save()` or `keras.saving.save_model(model)`. This file format is considered legacy. We recommend using instead the native Keras format, e.g. `model.save('my_model.keras')` or `keras.saving.save_model(model, 'my_model.keras')`. \n"
     ]
    },
    {
     "name": "stdout",
     "output_type": "stream",
     "text": [
      "\u001B[1m128/128\u001B[0m \u001B[32m━━━━━━━━━━━━━━━━━━━━\u001B[0m\u001B[37m\u001B[0m \u001B[1m3s\u001B[0m 21ms/step - accuracy: 0.5923 - loss: 0.6061 - pr_auc: 0.0155 - val_accuracy: 0.4656 - val_loss: 0.6289 - val_pr_auc: 0.0219\n",
      "Epoch 25/100\n",
      "\u001B[1m126/128\u001B[0m \u001B[32m━━━━━━━━━━━━━━━━━━━\u001B[0m\u001B[37m━\u001B[0m \u001B[1m0s\u001B[0m 22ms/step - accuracy: 0.6902 - loss: 0.4753 - pr_auc: 0.0472\n",
      "Epoch 25: val_pr_auc improved from 0.02188 to 0.02476, saving model to ../models/cnn_v17_periodogram_best.h5\n"
     ]
    },
    {
     "name": "stderr",
     "output_type": "stream",
     "text": [
      "WARNING:absl:You are saving your model as an HDF5 file via `model.save()` or `keras.saving.save_model(model)`. This file format is considered legacy. We recommend using instead the native Keras format, e.g. `model.save('my_model.keras')` or `keras.saving.save_model(model, 'my_model.keras')`. \n"
     ]
    },
    {
     "name": "stdout",
     "output_type": "stream",
     "text": [
      "\u001B[1m128/128\u001B[0m \u001B[32m━━━━━━━━━━━━━━━━━━━━\u001B[0m\u001B[37m\u001B[0m \u001B[1m3s\u001B[0m 27ms/step - accuracy: 0.6436 - loss: 0.5562 - pr_auc: 0.0238 - val_accuracy: 0.4057 - val_loss: 0.6621 - val_pr_auc: 0.0248\n",
      "Epoch 26/100\n",
      "\u001B[1m127/128\u001B[0m \u001B[32m━━━━━━━━━━━━━━━━━━━\u001B[0m\u001B[37m━\u001B[0m \u001B[1m0s\u001B[0m 18ms/step - accuracy: 0.5852 - loss: 0.6218 - pr_auc: 0.0244\n",
      "Epoch 26: val_pr_auc did not improve from 0.02476\n",
      "\u001B[1m128/128\u001B[0m \u001B[32m━━━━━━━━━━━━━━━━━━━━\u001B[0m\u001B[37m\u001B[0m \u001B[1m3s\u001B[0m 21ms/step - accuracy: 0.6309 - loss: 0.5861 - pr_auc: 0.0228 - val_accuracy: 0.6061 - val_loss: 0.5403 - val_pr_auc: 0.0211\n",
      "Epoch 27/100\n",
      "\u001B[1m127/128\u001B[0m \u001B[32m━━━━━━━━━━━━━━━━━━━\u001B[0m\u001B[37m━\u001B[0m \u001B[1m0s\u001B[0m 18ms/step - accuracy: 0.7704 - loss: 0.4964 - pr_auc: 0.0160\n",
      "Epoch 27: val_pr_auc improved from 0.02476 to 0.02486, saving model to ../models/cnn_v17_periodogram_best.h5\n"
     ]
    },
    {
     "name": "stderr",
     "output_type": "stream",
     "text": [
      "WARNING:absl:You are saving your model as an HDF5 file via `model.save()` or `keras.saving.save_model(model)`. This file format is considered legacy. We recommend using instead the native Keras format, e.g. `model.save('my_model.keras')` or `keras.saving.save_model(model, 'my_model.keras')`. \n"
     ]
    },
    {
     "name": "stdout",
     "output_type": "stream",
     "text": [
      "\u001B[1m128/128\u001B[0m \u001B[32m━━━━━━━━━━━━━━━━━━━━\u001B[0m\u001B[37m\u001B[0m \u001B[1m3s\u001B[0m 21ms/step - accuracy: 0.7663 - loss: 0.5724 - pr_auc: 0.0196 - val_accuracy: 0.5442 - val_loss: 0.5777 - val_pr_auc: 0.0249\n",
      "Epoch 28/100\n",
      "\u001B[1m127/128\u001B[0m \u001B[32m━━━━━━━━━━━━━━━━━━━\u001B[0m\u001B[37m━\u001B[0m \u001B[1m0s\u001B[0m 20ms/step - accuracy: 0.6291 - loss: 0.7162 - pr_auc: 0.0171\n",
      "Epoch 28: val_pr_auc improved from 0.02486 to 0.02615, saving model to ../models/cnn_v17_periodogram_best.h5\n"
     ]
    },
    {
     "name": "stderr",
     "output_type": "stream",
     "text": [
      "WARNING:absl:You are saving your model as an HDF5 file via `model.save()` or `keras.saving.save_model(model)`. This file format is considered legacy. We recommend using instead the native Keras format, e.g. `model.save('my_model.keras')` or `keras.saving.save_model(model, 'my_model.keras')`. \n"
     ]
    },
    {
     "name": "stdout",
     "output_type": "stream",
     "text": [
      "\u001B[1m128/128\u001B[0m \u001B[32m━━━━━━━━━━━━━━━━━━━━\u001B[0m\u001B[37m\u001B[0m \u001B[1m3s\u001B[0m 23ms/step - accuracy: 0.6540 - loss: 0.5897 - pr_auc: 0.0137 - val_accuracy: 0.6916 - val_loss: 0.5161 - val_pr_auc: 0.0262\n",
      "Epoch 29/100\n",
      "\u001B[1m127/128\u001B[0m \u001B[32m━━━━━━━━━━━━━━━━━━━\u001B[0m\u001B[37m━\u001B[0m \u001B[1m0s\u001B[0m 19ms/step - accuracy: 0.7645 - loss: 0.5287 - pr_auc: 0.0117\n",
      "Epoch 29: val_pr_auc improved from 0.02615 to 0.03415, saving model to ../models/cnn_v17_periodogram_best.h5\n"
     ]
    },
    {
     "name": "stderr",
     "output_type": "stream",
     "text": [
      "WARNING:absl:You are saving your model as an HDF5 file via `model.save()` or `keras.saving.save_model(model)`. This file format is considered legacy. We recommend using instead the native Keras format, e.g. `model.save('my_model.keras')` or `keras.saving.save_model(model, 'my_model.keras')`. \n"
     ]
    },
    {
     "name": "stdout",
     "output_type": "stream",
     "text": [
      "\u001B[1m128/128\u001B[0m \u001B[32m━━━━━━━━━━━━━━━━━━━━\u001B[0m\u001B[37m\u001B[0m \u001B[1m3s\u001B[0m 22ms/step - accuracy: 0.7058 - loss: 0.5916 - pr_auc: 0.0178 - val_accuracy: 0.4538 - val_loss: 0.6467 - val_pr_auc: 0.0341\n",
      "Epoch 30/100\n",
      "\u001B[1m127/128\u001B[0m \u001B[32m━━━━━━━━━━━━━━━━━━━\u001B[0m\u001B[37m━\u001B[0m \u001B[1m0s\u001B[0m 23ms/step - accuracy: 0.6166 - loss: 0.6379 - pr_auc: 0.0182\n",
      "Epoch 30: val_pr_auc did not improve from 0.03415\n",
      "\u001B[1m128/128\u001B[0m \u001B[32m━━━━━━━━━━━━━━━━━━━━\u001B[0m\u001B[37m\u001B[0m \u001B[1m3s\u001B[0m 25ms/step - accuracy: 0.6174 - loss: 0.5811 - pr_auc: 0.0181 - val_accuracy: 0.6238 - val_loss: 0.5495 - val_pr_auc: 0.0322\n",
      "Epoch 31/100\n",
      "\u001B[1m127/128\u001B[0m \u001B[32m━━━━━━━━━━━━━━━━━━━\u001B[0m\u001B[37m━\u001B[0m \u001B[1m0s\u001B[0m 18ms/step - accuracy: 0.7553 - loss: 0.5114 - pr_auc: 0.0180\n",
      "Epoch 31: val_pr_auc improved from 0.03415 to 0.03621, saving model to ../models/cnn_v17_periodogram_best.h5\n"
     ]
    },
    {
     "name": "stderr",
     "output_type": "stream",
     "text": [
      "WARNING:absl:You are saving your model as an HDF5 file via `model.save()` or `keras.saving.save_model(model)`. This file format is considered legacy. We recommend using instead the native Keras format, e.g. `model.save('my_model.keras')` or `keras.saving.save_model(model, 'my_model.keras')`. \n"
     ]
    },
    {
     "name": "stdout",
     "output_type": "stream",
     "text": [
      "\u001B[1m128/128\u001B[0m \u001B[32m━━━━━━━━━━━━━━━━━━━━\u001B[0m\u001B[37m\u001B[0m \u001B[1m3s\u001B[0m 21ms/step - accuracy: 0.7287 - loss: 0.5749 - pr_auc: 0.0179 - val_accuracy: 0.4676 - val_loss: 0.6242 - val_pr_auc: 0.0362\n",
      "Epoch 32/100\n",
      "\u001B[1m125/128\u001B[0m \u001B[32m━━━━━━━━━━━━━━━━━━━\u001B[0m\u001B[37m━\u001B[0m \u001B[1m0s\u001B[0m 24ms/step - accuracy: 0.5901 - loss: 0.6123 - pr_auc: 0.0426\n",
      "Epoch 32: val_pr_auc improved from 0.03621 to 0.04798, saving model to ../models/cnn_v17_periodogram_best.h5\n"
     ]
    },
    {
     "name": "stderr",
     "output_type": "stream",
     "text": [
      "WARNING:absl:You are saving your model as an HDF5 file via `model.save()` or `keras.saving.save_model(model)`. This file format is considered legacy. We recommend using instead the native Keras format, e.g. `model.save('my_model.keras')` or `keras.saving.save_model(model, 'my_model.keras')`. \n"
     ]
    },
    {
     "name": "stdout",
     "output_type": "stream",
     "text": [
      "\u001B[1m128/128\u001B[0m \u001B[32m━━━━━━━━━━━━━━━━━━━━\u001B[0m\u001B[37m\u001B[0m \u001B[1m4s\u001B[0m 27ms/step - accuracy: 0.5837 - loss: 0.5958 - pr_auc: 0.0158 - val_accuracy: 0.4980 - val_loss: 0.6161 - val_pr_auc: 0.0480\n",
      "Epoch 33/100\n",
      "\u001B[1m127/128\u001B[0m \u001B[32m━━━━━━━━━━━━━━━━━━━\u001B[0m\u001B[37m━\u001B[0m \u001B[1m0s\u001B[0m 18ms/step - accuracy: 0.6170 - loss: 0.6043 - pr_auc: 0.0256\n",
      "Epoch 33: val_pr_auc did not improve from 0.04798\n",
      "\u001B[1m128/128\u001B[0m \u001B[32m━━━━━━━━━━━━━━━━━━━━\u001B[0m\u001B[37m\u001B[0m \u001B[1m3s\u001B[0m 21ms/step - accuracy: 0.6478 - loss: 0.5560 - pr_auc: 0.0242 - val_accuracy: 0.6739 - val_loss: 0.5323 - val_pr_auc: 0.0325\n",
      "Epoch 34/100\n",
      "\u001B[1m127/128\u001B[0m \u001B[32m━━━━━━━━━━━━━━━━━━━\u001B[0m\u001B[37m━\u001B[0m \u001B[1m0s\u001B[0m 18ms/step - accuracy: 0.6978 - loss: 0.6720 - pr_auc: 0.0143\n",
      "Epoch 34: val_pr_auc did not improve from 0.04798\n",
      "\u001B[1m128/128\u001B[0m \u001B[32m━━━━━━━━━━━━━━━━━━━━\u001B[0m\u001B[37m\u001B[0m \u001B[1m3s\u001B[0m 21ms/step - accuracy: 0.6724 - loss: 0.5894 - pr_auc: 0.0163 - val_accuracy: 0.5884 - val_loss: 0.5526 - val_pr_auc: 0.0348\n",
      "Epoch 35/100\n",
      "\u001B[1m126/128\u001B[0m \u001B[32m━━━━━━━━━━━━━━━━━━━\u001B[0m\u001B[37m━\u001B[0m \u001B[1m0s\u001B[0m 23ms/step - accuracy: 0.7388 - loss: 0.5287 - pr_auc: 0.0216\n",
      "Epoch 35: val_pr_auc did not improve from 0.04798\n",
      "\u001B[1m128/128\u001B[0m \u001B[32m━━━━━━━━━━━━━━━━━━━━\u001B[0m\u001B[37m\u001B[0m \u001B[1m3s\u001B[0m 26ms/step - accuracy: 0.6970 - loss: 0.5862 - pr_auc: 0.0208 - val_accuracy: 0.5059 - val_loss: 0.6151 - val_pr_auc: 0.0395\n",
      "Epoch 36/100\n",
      "\u001B[1m126/128\u001B[0m \u001B[32m━━━━━━━━━━━━━━━━━━━\u001B[0m\u001B[37m━\u001B[0m \u001B[1m0s\u001B[0m 20ms/step - accuracy: 0.6818 - loss: 0.5437 - pr_auc: 0.0833\n",
      "Epoch 36: val_pr_auc did not improve from 0.04798\n",
      "\u001B[1m128/128\u001B[0m \u001B[32m━━━━━━━━━━━━━━━━━━━━\u001B[0m\u001B[37m\u001B[0m \u001B[1m3s\u001B[0m 23ms/step - accuracy: 0.6638 - loss: 0.5632 - pr_auc: 0.0579 - val_accuracy: 0.5501 - val_loss: 0.5858 - val_pr_auc: 0.0423\n",
      "Epoch 37/100\n",
      "\u001B[1m125/128\u001B[0m \u001B[32m━━━━━━━━━━━━━━━━━━━\u001B[0m\u001B[37m━\u001B[0m \u001B[1m0s\u001B[0m 25ms/step - accuracy: 0.6844 - loss: 0.5380 - pr_auc: 0.0230\n",
      "Epoch 37: val_pr_auc did not improve from 0.04798\n",
      "\u001B[1m128/128\u001B[0m \u001B[32m━━━━━━━━━━━━━━━━━━━━\u001B[0m\u001B[37m\u001B[0m \u001B[1m4s\u001B[0m 28ms/step - accuracy: 0.6586 - loss: 0.5419 - pr_auc: 0.0230 - val_accuracy: 0.7534 - val_loss: 0.4477 - val_pr_auc: 0.0299\n",
      "Epoch 38/100\n",
      "\u001B[1m127/128\u001B[0m \u001B[32m━━━━━━━━━━━━━━━━━━━\u001B[0m\u001B[37m━\u001B[0m \u001B[1m0s\u001B[0m 19ms/step - accuracy: 0.8131 - loss: 0.5364 - pr_auc: 0.0419\n",
      "Epoch 38: val_pr_auc did not improve from 0.04798\n",
      "\u001B[1m128/128\u001B[0m \u001B[32m━━━━━━━━━━━━━━━━━━━━\u001B[0m\u001B[37m\u001B[0m \u001B[1m3s\u001B[0m 22ms/step - accuracy: 0.7609 - loss: 0.5953 - pr_auc: 0.0324 - val_accuracy: 0.5020 - val_loss: 0.6108 - val_pr_auc: 0.0450\n",
      "Epoch 39/100\n",
      "\u001B[1m128/128\u001B[0m \u001B[32m━━━━━━━━━━━━━━━━━━━━\u001B[0m\u001B[37m\u001B[0m \u001B[1m0s\u001B[0m 23ms/step - accuracy: 0.6861 - loss: 0.5242 - pr_auc: 0.0157\n",
      "Epoch 39: val_pr_auc did not improve from 0.04798\n",
      "\u001B[1m128/128\u001B[0m \u001B[32m━━━━━━━━━━━━━━━━━━━━\u001B[0m\u001B[37m\u001B[0m \u001B[1m3s\u001B[0m 26ms/step - accuracy: 0.6754 - loss: 0.5670 - pr_auc: 0.0169 - val_accuracy: 0.4578 - val_loss: 0.6319 - val_pr_auc: 0.0462\n",
      "Epoch 40/100\n",
      "\u001B[1m127/128\u001B[0m \u001B[32m━━━━━━━━━━━━━━━━━━━\u001B[0m\u001B[37m━\u001B[0m \u001B[1m0s\u001B[0m 19ms/step - accuracy: 0.6186 - loss: 0.6235 - pr_auc: 0.0187\n",
      "Epoch 40: val_pr_auc improved from 0.04798 to 0.05107, saving model to ../models/cnn_v17_periodogram_best.h5\n"
     ]
    },
    {
     "name": "stderr",
     "output_type": "stream",
     "text": [
      "WARNING:absl:You are saving your model as an HDF5 file via `model.save()` or `keras.saving.save_model(model)`. This file format is considered legacy. We recommend using instead the native Keras format, e.g. `model.save('my_model.keras')` or `keras.saving.save_model(model, 'my_model.keras')`. \n"
     ]
    },
    {
     "name": "stdout",
     "output_type": "stream",
     "text": [
      "\u001B[1m128/128\u001B[0m \u001B[32m━━━━━━━━━━━━━━━━━━━━\u001B[0m\u001B[37m\u001B[0m \u001B[1m3s\u001B[0m 22ms/step - accuracy: 0.6761 - loss: 0.5693 - pr_auc: 0.0153 - val_accuracy: 0.6974 - val_loss: 0.4958 - val_pr_auc: 0.0511\n",
      "Epoch 41/100\n",
      "\u001B[1m127/128\u001B[0m \u001B[32m━━━━━━━━━━━━━━━━━━━\u001B[0m\u001B[37m━\u001B[0m \u001B[1m0s\u001B[0m 27ms/step - accuracy: 0.6276 - loss: 0.6288 - pr_auc: 0.0245\n",
      "Epoch 41: val_pr_auc did not improve from 0.05107\n",
      "\u001B[1m128/128\u001B[0m \u001B[32m━━━━━━━━━━━━━━━━━━━━\u001B[0m\u001B[37m\u001B[0m \u001B[1m4s\u001B[0m 30ms/step - accuracy: 0.6127 - loss: 0.5877 - pr_auc: 0.0166 - val_accuracy: 0.5373 - val_loss: 0.5823 - val_pr_auc: 0.0446\n",
      "Epoch 42/100\n",
      "\u001B[1m127/128\u001B[0m \u001B[32m━━━━━━━━━━━━━━━━━━━\u001B[0m\u001B[37m━\u001B[0m \u001B[1m0s\u001B[0m 19ms/step - accuracy: 0.6768 - loss: 0.5058 - pr_auc: 0.0098\n",
      "Epoch 42: val_pr_auc improved from 0.05107 to 0.05399, saving model to ../models/cnn_v17_periodogram_best.h5\n"
     ]
    },
    {
     "name": "stderr",
     "output_type": "stream",
     "text": [
      "WARNING:absl:You are saving your model as an HDF5 file via `model.save()` or `keras.saving.save_model(model)`. This file format is considered legacy. We recommend using instead the native Keras format, e.g. `model.save('my_model.keras')` or `keras.saving.save_model(model, 'my_model.keras')`. \n"
     ]
    },
    {
     "name": "stdout",
     "output_type": "stream",
     "text": [
      "\u001B[1m128/128\u001B[0m \u001B[32m━━━━━━━━━━━━━━━━━━━━\u001B[0m\u001B[37m\u001B[0m \u001B[1m3s\u001B[0m 22ms/step - accuracy: 0.6449 - loss: 0.5886 - pr_auc: 0.0153 - val_accuracy: 0.4519 - val_loss: 0.6112 - val_pr_auc: 0.0540\n",
      "Epoch 43/100\n",
      "\u001B[1m125/128\u001B[0m \u001B[32m━━━━━━━━━━━━━━━━━━━\u001B[0m\u001B[37m━\u001B[0m \u001B[1m0s\u001B[0m 25ms/step - accuracy: 0.6094 - loss: 0.5336 - pr_auc: 0.0147\n",
      "Epoch 43: val_pr_auc did not improve from 0.05399\n",
      "\u001B[1m128/128\u001B[0m \u001B[32m━━━━━━━━━━━━━━━━━━━━\u001B[0m\u001B[37m\u001B[0m \u001B[1m4s\u001B[0m 27ms/step - accuracy: 0.6269 - loss: 0.5514 - pr_auc: 0.0175 - val_accuracy: 0.6680 - val_loss: 0.4841 - val_pr_auc: 0.0505\n",
      "Epoch 44/100\n",
      "\u001B[1m127/128\u001B[0m \u001B[32m━━━━━━━━━━━━━━━━━━━\u001B[0m\u001B[37m━\u001B[0m \u001B[1m0s\u001B[0m 19ms/step - accuracy: 0.7698 - loss: 0.4761 - pr_auc: 0.0115\n",
      "Epoch 44: val_pr_auc improved from 0.05399 to 0.05616, saving model to ../models/cnn_v17_periodogram_best.h5\n"
     ]
    },
    {
     "name": "stderr",
     "output_type": "stream",
     "text": [
      "WARNING:absl:You are saving your model as an HDF5 file via `model.save()` or `keras.saving.save_model(model)`. This file format is considered legacy. We recommend using instead the native Keras format, e.g. `model.save('my_model.keras')` or `keras.saving.save_model(model, 'my_model.keras')`. \n"
     ]
    },
    {
     "name": "stdout",
     "output_type": "stream",
     "text": [
      "\u001B[1m128/128\u001B[0m \u001B[32m━━━━━━━━━━━━━━━━━━━━\u001B[0m\u001B[37m\u001B[0m \u001B[1m3s\u001B[0m 22ms/step - accuracy: 0.7058 - loss: 0.5734 - pr_auc: 0.0161 - val_accuracy: 0.4617 - val_loss: 0.6053 - val_pr_auc: 0.0562\n",
      "Epoch 45/100\n",
      "\u001B[1m126/128\u001B[0m \u001B[32m━━━━━━━━━━━━━━━━━━━\u001B[0m\u001B[37m━\u001B[0m \u001B[1m0s\u001B[0m 26ms/step - accuracy: 0.6290 - loss: 0.5398 - pr_auc: 0.0292\n",
      "Epoch 45: val_pr_auc did not improve from 0.05616\n",
      "\u001B[1m128/128\u001B[0m \u001B[32m━━━━━━━━━━━━━━━━━━━━\u001B[0m\u001B[37m\u001B[0m \u001B[1m4s\u001B[0m 28ms/step - accuracy: 0.6579 - loss: 0.5327 - pr_auc: 0.0180 - val_accuracy: 0.6572 - val_loss: 0.5003 - val_pr_auc: 0.0554\n",
      "Epoch 46/100\n",
      "\u001B[1m127/128\u001B[0m \u001B[32m━━━━━━━━━━━━━━━━━━━\u001B[0m\u001B[37m━\u001B[0m \u001B[1m0s\u001B[0m 19ms/step - accuracy: 0.7691 - loss: 0.4698 - pr_auc: 0.0180\n",
      "Epoch 46: val_pr_auc did not improve from 0.05616\n",
      "\u001B[1m128/128\u001B[0m \u001B[32m━━━━━━━━━━━━━━━━━━━━\u001B[0m\u001B[37m\u001B[0m \u001B[1m3s\u001B[0m 22ms/step - accuracy: 0.6989 - loss: 0.5581 - pr_auc: 0.0179 - val_accuracy: 0.4666 - val_loss: 0.6346 - val_pr_auc: 0.0544\n",
      "Epoch 47/100\n",
      "\u001B[1m127/128\u001B[0m \u001B[32m━━━━━━━━━━━━━━━━━━━\u001B[0m\u001B[37m━\u001B[0m \u001B[1m0s\u001B[0m 19ms/step - accuracy: 0.6280 - loss: 0.6197 - pr_auc: 0.0172\n",
      "Epoch 47: val_pr_auc improved from 0.05616 to 0.06257, saving model to ../models/cnn_v17_periodogram_best.h5\n"
     ]
    },
    {
     "name": "stderr",
     "output_type": "stream",
     "text": [
      "WARNING:absl:You are saving your model as an HDF5 file via `model.save()` or `keras.saving.save_model(model)`. This file format is considered legacy. We recommend using instead the native Keras format, e.g. `model.save('my_model.keras')` or `keras.saving.save_model(model, 'my_model.keras')`. \n"
     ]
    },
    {
     "name": "stdout",
     "output_type": "stream",
     "text": [
      "\u001B[1m128/128\u001B[0m \u001B[32m━━━━━━━━━━━━━━━━━━━━\u001B[0m\u001B[37m\u001B[0m \u001B[1m4s\u001B[0m 30ms/step - accuracy: 0.6503 - loss: 0.5768 - pr_auc: 0.0180 - val_accuracy: 0.6503 - val_loss: 0.5442 - val_pr_auc: 0.0626\n",
      "Epoch 48/100\n",
      "\u001B[1m127/128\u001B[0m \u001B[32m━━━━━━━━━━━━━━━━━━━\u001B[0m\u001B[37m━\u001B[0m \u001B[1m0s\u001B[0m 19ms/step - accuracy: 0.7189 - loss: 0.6717 - pr_auc: 0.0644\n",
      "Epoch 48: val_pr_auc improved from 0.06257 to 0.06936, saving model to ../models/cnn_v17_periodogram_best.h5\n"
     ]
    },
    {
     "name": "stderr",
     "output_type": "stream",
     "text": [
      "WARNING:absl:You are saving your model as an HDF5 file via `model.save()` or `keras.saving.save_model(model)`. This file format is considered legacy. We recommend using instead the native Keras format, e.g. `model.save('my_model.keras')` or `keras.saving.save_model(model, 'my_model.keras')`. \n"
     ]
    },
    {
     "name": "stdout",
     "output_type": "stream",
     "text": [
      "\u001B[1m128/128\u001B[0m \u001B[32m━━━━━━━━━━━━━━━━━━━━\u001B[0m\u001B[37m\u001B[0m \u001B[1m3s\u001B[0m 22ms/step - accuracy: 0.7083 - loss: 0.5506 - pr_auc: 0.0241 - val_accuracy: 0.6739 - val_loss: 0.5041 - val_pr_auc: 0.0694\n",
      "Epoch 49/100\n",
      "\u001B[1m127/128\u001B[0m \u001B[32m━━━━━━━━━━━━━━━━━━━\u001B[0m\u001B[37m━\u001B[0m \u001B[1m0s\u001B[0m 19ms/step - accuracy: 0.7319 - loss: 0.5362 - pr_auc: 0.0193\n",
      "Epoch 49: val_pr_auc did not improve from 0.06936\n",
      "\u001B[1m128/128\u001B[0m \u001B[32m━━━━━━━━━━━━━━━━━━━━\u001B[0m\u001B[37m\u001B[0m \u001B[1m3s\u001B[0m 22ms/step - accuracy: 0.6894 - loss: 0.5458 - pr_auc: 0.0170 - val_accuracy: 0.6346 - val_loss: 0.5266 - val_pr_auc: 0.0641\n",
      "Epoch 50/100\n",
      "\u001B[1m127/128\u001B[0m \u001B[32m━━━━━━━━━━━━━━━━━━━\u001B[0m\u001B[37m━\u001B[0m \u001B[1m0s\u001B[0m 26ms/step - accuracy: 0.7357 - loss: 0.5050 - pr_auc: 0.0232\n",
      "Epoch 50: val_pr_auc did not improve from 0.06936\n",
      "\u001B[1m128/128\u001B[0m \u001B[32m━━━━━━━━━━━━━━━━━━━━\u001B[0m\u001B[37m\u001B[0m \u001B[1m4s\u001B[0m 29ms/step - accuracy: 0.7107 - loss: 0.5387 - pr_auc: 0.0176 - val_accuracy: 0.6297 - val_loss: 0.5277 - val_pr_auc: 0.0621\n",
      "Epoch 51/100\n",
      "\u001B[1m127/128\u001B[0m \u001B[32m━━━━━━━━━━━━━━━━━━━\u001B[0m\u001B[37m━\u001B[0m \u001B[1m0s\u001B[0m 19ms/step - accuracy: 0.7266 - loss: 0.5843 - pr_auc: 0.0943\n",
      "Epoch 51: val_pr_auc did not improve from 0.06936\n",
      "\u001B[1m128/128\u001B[0m \u001B[32m━━━━━━━━━━━━━━━━━━━━\u001B[0m\u001B[37m\u001B[0m \u001B[1m4s\u001B[0m 29ms/step - accuracy: 0.7412 - loss: 0.5372 - pr_auc: 0.0593 - val_accuracy: 0.6218 - val_loss: 0.5393 - val_pr_auc: 0.0536\n",
      "Epoch 52/100\n",
      "\u001B[1m127/128\u001B[0m \u001B[32m━━━━━━━━━━━━━━━━━━━\u001B[0m\u001B[37m━\u001B[0m \u001B[1m0s\u001B[0m 19ms/step - accuracy: 0.6917 - loss: 0.5714 - pr_auc: 0.0264\n",
      "Epoch 52: val_pr_auc did not improve from 0.06936\n",
      "\u001B[1m128/128\u001B[0m \u001B[32m━━━━━━━━━━━━━━━━━━━━\u001B[0m\u001B[37m\u001B[0m \u001B[1m3s\u001B[0m 22ms/step - accuracy: 0.7029 - loss: 0.5217 - pr_auc: 0.0215 - val_accuracy: 0.6739 - val_loss: 0.4793 - val_pr_auc: 0.0480\n",
      "Epoch 53/100\n",
      "\u001B[1m127/128\u001B[0m \u001B[32m━━━━━━━━━━━━━━━━━━━\u001B[0m\u001B[37m━\u001B[0m \u001B[1m0s\u001B[0m 19ms/step - accuracy: 0.7551 - loss: 0.5514 - pr_auc: 0.0171\n",
      "Epoch 53: val_pr_auc improved from 0.06936 to 0.07737, saving model to ../models/cnn_v17_periodogram_best.h5\n"
     ]
    },
    {
     "name": "stderr",
     "output_type": "stream",
     "text": [
      "WARNING:absl:You are saving your model as an HDF5 file via `model.save()` or `keras.saving.save_model(model)`. This file format is considered legacy. We recommend using instead the native Keras format, e.g. `model.save('my_model.keras')` or `keras.saving.save_model(model, 'my_model.keras')`. \n"
     ]
    },
    {
     "name": "stdout",
     "output_type": "stream",
     "text": [
      "\u001B[1m128/128\u001B[0m \u001B[32m━━━━━━━━━━━━━━━━━━━━\u001B[0m\u001B[37m\u001B[0m \u001B[1m3s\u001B[0m 23ms/step - accuracy: 0.7213 - loss: 0.6120 - pr_auc: 0.0150 - val_accuracy: 0.5128 - val_loss: 0.6002 - val_pr_auc: 0.0774\n",
      "Epoch 54/100\n",
      "\u001B[1m125/128\u001B[0m \u001B[32m━━━━━━━━━━━━━━━━━━━\u001B[0m\u001B[37m━\u001B[0m \u001B[1m0s\u001B[0m 27ms/step - accuracy: 0.6919 - loss: 0.5086 - pr_auc: 0.0141\n",
      "Epoch 54: val_pr_auc did not improve from 0.07737\n",
      "\u001B[1m128/128\u001B[0m \u001B[32m━━━━━━━━━━━━━━━━━━━━\u001B[0m\u001B[37m\u001B[0m \u001B[1m4s\u001B[0m 29ms/step - accuracy: 0.6982 - loss: 0.5697 - pr_auc: 0.0151 - val_accuracy: 0.6257 - val_loss: 0.5502 - val_pr_auc: 0.0767\n",
      "Epoch 55/100\n",
      "\u001B[1m127/128\u001B[0m \u001B[32m━━━━━━━━━━━━━━━━━━━\u001B[0m\u001B[37m━\u001B[0m \u001B[1m0s\u001B[0m 19ms/step - accuracy: 0.7221 - loss: 0.6699 - pr_auc: 0.0201\n",
      "Epoch 55: val_pr_auc did not improve from 0.07737\n",
      "\u001B[1m128/128\u001B[0m \u001B[32m━━━━━━━━━━━━━━━━━━━━\u001B[0m\u001B[37m\u001B[0m \u001B[1m3s\u001B[0m 22ms/step - accuracy: 0.7171 - loss: 0.5505 - pr_auc: 0.0176 - val_accuracy: 0.6208 - val_loss: 0.5511 - val_pr_auc: 0.0530\n",
      "Epoch 56/100\n",
      "\u001B[1m128/128\u001B[0m \u001B[32m━━━━━━━━━━━━━━━━━━━━\u001B[0m\u001B[37m\u001B[0m \u001B[1m0s\u001B[0m 26ms/step - accuracy: 0.7529 - loss: 0.5461 - pr_auc: 0.0245\n",
      "Epoch 56: val_pr_auc improved from 0.07737 to 0.10150, saving model to ../models/cnn_v17_periodogram_best.h5\n"
     ]
    },
    {
     "name": "stderr",
     "output_type": "stream",
     "text": [
      "WARNING:absl:You are saving your model as an HDF5 file via `model.save()` or `keras.saving.save_model(model)`. This file format is considered legacy. We recommend using instead the native Keras format, e.g. `model.save('my_model.keras')` or `keras.saving.save_model(model, 'my_model.keras')`. \n"
     ]
    },
    {
     "name": "stdout",
     "output_type": "stream",
     "text": [
      "\u001B[1m128/128\u001B[0m \u001B[32m━━━━━━━━━━━━━━━━━━━━\u001B[0m\u001B[37m\u001B[0m \u001B[1m4s\u001B[0m 30ms/step - accuracy: 0.7648 - loss: 0.5236 - pr_auc: 0.0199 - val_accuracy: 0.5550 - val_loss: 0.5954 - val_pr_auc: 0.1015\n",
      "Epoch 57/100\n",
      "\u001B[1m127/128\u001B[0m \u001B[32m━━━━━━━━━━━━━━━━━━━\u001B[0m\u001B[37m━\u001B[0m \u001B[1m0s\u001B[0m 19ms/step - accuracy: 0.7140 - loss: 0.4951 - pr_auc: 0.0203\n",
      "Epoch 57: val_pr_auc did not improve from 0.10150\n",
      "\u001B[1m128/128\u001B[0m \u001B[32m━━━━━━━━━━━━━━━━━━━━\u001B[0m\u001B[37m\u001B[0m \u001B[1m3s\u001B[0m 22ms/step - accuracy: 0.7203 - loss: 0.5193 - pr_auc: 0.0254 - val_accuracy: 0.6729 - val_loss: 0.4878 - val_pr_auc: 0.0735\n",
      "Epoch 58/100\n",
      "\u001B[1m127/128\u001B[0m \u001B[32m━━━━━━━━━━━━━━━━━━━\u001B[0m\u001B[37m━\u001B[0m \u001B[1m0s\u001B[0m 34ms/step - accuracy: 0.7670 - loss: 0.4902 - pr_auc: 0.0101\n",
      "Epoch 58: val_pr_auc did not improve from 0.10150\n",
      "\u001B[1m128/128\u001B[0m \u001B[32m━━━━━━━━━━━━━━━━━━━━\u001B[0m\u001B[37m\u001B[0m \u001B[1m5s\u001B[0m 36ms/step - accuracy: 0.7405 - loss: 0.5353 - pr_auc: 0.0216 - val_accuracy: 0.6189 - val_loss: 0.5420 - val_pr_auc: 0.0614\n",
      "Epoch 59/100\n",
      "\u001B[1m127/128\u001B[0m \u001B[32m━━━━━━━━━━━━━━━━━━━\u001B[0m\u001B[37m━\u001B[0m \u001B[1m0s\u001B[0m 19ms/step - accuracy: 0.7687 - loss: 0.3716 - pr_auc: 0.0244\n",
      "Epoch 59: val_pr_auc did not improve from 0.10150\n",
      "\u001B[1m128/128\u001B[0m \u001B[32m━━━━━━━━━━━━━━━━━━━━\u001B[0m\u001B[37m\u001B[0m \u001B[1m3s\u001B[0m 22ms/step - accuracy: 0.7601 - loss: 0.4791 - pr_auc: 0.0634 - val_accuracy: 0.6071 - val_loss: 0.5399 - val_pr_auc: 0.1003\n",
      "Epoch 60/100\n",
      "\u001B[1m127/128\u001B[0m \u001B[32m━━━━━━━━━━━━━━━━━━━\u001B[0m\u001B[37m━\u001B[0m \u001B[1m0s\u001B[0m 29ms/step - accuracy: 0.7222 - loss: 0.4493 - pr_auc: 0.0162\n",
      "Epoch 60: val_pr_auc did not improve from 0.10150\n",
      "\u001B[1m128/128\u001B[0m \u001B[32m━━━━━━━━━━━━━━━━━━━━\u001B[0m\u001B[37m\u001B[0m \u001B[1m4s\u001B[0m 31ms/step - accuracy: 0.7144 - loss: 0.4930 - pr_auc: 0.0231 - val_accuracy: 0.6532 - val_loss: 0.4922 - val_pr_auc: 0.0606\n",
      "Epoch 61/100\n",
      "\u001B[1m127/128\u001B[0m \u001B[32m━━━━━━━━━━━━━━━━━━━\u001B[0m\u001B[37m━\u001B[0m \u001B[1m0s\u001B[0m 20ms/step - accuracy: 0.7784 - loss: 0.4241 - pr_auc: 0.0244\n",
      "Epoch 61: val_pr_auc did not improve from 0.10150\n",
      "\u001B[1m128/128\u001B[0m \u001B[32m━━━━━━━━━━━━━━━━━━━━\u001B[0m\u001B[37m\u001B[0m \u001B[1m3s\u001B[0m 23ms/step - accuracy: 0.7316 - loss: 0.4961 - pr_auc: 0.0257 - val_accuracy: 0.4853 - val_loss: 0.6280 - val_pr_auc: 0.0721\n",
      "Epoch 62/100\n",
      "\u001B[1m127/128\u001B[0m \u001B[32m━━━━━━━━━━━━━━━━━━━\u001B[0m\u001B[37m━\u001B[0m \u001B[1m0s\u001B[0m 30ms/step - accuracy: 0.6780 - loss: 0.6212 - pr_auc: 0.0274\n",
      "Epoch 62: val_pr_auc did not improve from 0.10150\n",
      "\u001B[1m128/128\u001B[0m \u001B[32m━━━━━━━━━━━━━━━━━━━━\u001B[0m\u001B[37m\u001B[0m \u001B[1m4s\u001B[0m 33ms/step - accuracy: 0.7125 - loss: 0.5006 - pr_auc: 0.0206 - val_accuracy: 0.7682 - val_loss: 0.3809 - val_pr_auc: 0.0791\n",
      "Epoch 63/100\n",
      "\u001B[1m127/128\u001B[0m \u001B[32m━━━━━━━━━━━━━━━━━━━\u001B[0m\u001B[37m━\u001B[0m \u001B[1m0s\u001B[0m 19ms/step - accuracy: 0.8168 - loss: 0.4696 - pr_auc: 0.0543\n",
      "Epoch 63: val_pr_auc did not improve from 0.10150\n",
      "\u001B[1m128/128\u001B[0m \u001B[32m━━━━━━━━━━━━━━━━━━━━\u001B[0m\u001B[37m\u001B[0m \u001B[1m3s\u001B[0m 22ms/step - accuracy: 0.7550 - loss: 0.5042 - pr_auc: 0.0236 - val_accuracy: 0.6699 - val_loss: 0.4798 - val_pr_auc: 0.0537\n",
      "Epoch 64/100\n",
      "\u001B[1m127/128\u001B[0m \u001B[32m━━━━━━━━━━━━━━━━━━━\u001B[0m\u001B[37m━\u001B[0m \u001B[1m0s\u001B[0m 28ms/step - accuracy: 0.7876 - loss: 0.4077 - pr_auc: 0.0217\n",
      "Epoch 64: val_pr_auc did not improve from 0.10150\n",
      "\u001B[1m128/128\u001B[0m \u001B[32m━━━━━━━━━━━━━━━━━━━━\u001B[0m\u001B[37m\u001B[0m \u001B[1m4s\u001B[0m 31ms/step - accuracy: 0.7636 - loss: 0.4972 - pr_auc: 0.0275 - val_accuracy: 0.5481 - val_loss: 0.5953 - val_pr_auc: 0.0716\n",
      "Epoch 65/100\n",
      "\u001B[1m127/128\u001B[0m \u001B[32m━━━━━━━━━━━━━━━━━━━\u001B[0m\u001B[37m━\u001B[0m \u001B[1m0s\u001B[0m 19ms/step - accuracy: 0.6864 - loss: 0.3842 - pr_auc: 0.0218\n",
      "Epoch 65: val_pr_auc did not improve from 0.10150\n",
      "\u001B[1m128/128\u001B[0m \u001B[32m━━━━━━━━━━━━━━━━━━━━\u001B[0m\u001B[37m\u001B[0m \u001B[1m3s\u001B[0m 22ms/step - accuracy: 0.6798 - loss: 0.4883 - pr_auc: 0.0290 - val_accuracy: 0.5393 - val_loss: 0.5996 - val_pr_auc: 0.0578\n",
      "Epoch 66/100\n",
      "\u001B[1m126/128\u001B[0m \u001B[32m━━━━━━━━━━━━━━━━━━━\u001B[0m\u001B[37m━\u001B[0m \u001B[1m0s\u001B[0m 30ms/step - accuracy: 0.7212 - loss: 0.4435 - pr_auc: 0.0375\n",
      "Epoch 66: val_pr_auc did not improve from 0.10150\n",
      "\u001B[1m128/128\u001B[0m \u001B[32m━━━━━━━━━━━━━━━━━━━━\u001B[0m\u001B[37m\u001B[0m \u001B[1m4s\u001B[0m 32ms/step - accuracy: 0.7385 - loss: 0.4650 - pr_auc: 0.0311 - val_accuracy: 0.5472 - val_loss: 0.5889 - val_pr_auc: 0.0706\n",
      "Epoch 66: early stopping\n",
      "Restoring model weights from the end of the best epoch: 56.\n"
     ]
    }
   ],
   "execution_count": 7
  },
  {
   "metadata": {
    "ExecuteTime": {
     "end_time": "2025-11-01T13:23:06.490340Z",
     "start_time": "2025-11-01T13:23:06.282798Z"
    }
   },
   "cell_type": "code",
   "source": [
    "# Cellule 7 : Évaluation (Seuil 0.5 vs. Optimisé) (v17)\n",
    "# ----------------------------------------------------\n",
    "# (Assurez-vous que 'average_precision_score', 'precision_recall_curve',\n",
    "# 'f1_score' sont importés depuis la Cellule 1)\n",
    "\n",
    "print(\"Évaluation du meilleur modèle v17 (restauré de l'époque 56)...\")\n",
    "\n",
    "# Prédictions (une seule fois)\n",
    "y_pred_proba = model.predict(X_test_cnn).ravel()\n",
    "\n",
    "# --- 1. Évaluation avec Seuil 0.5 ---\n",
    "print(\"\\n\" + \"=\"*40)\n",
    "print(\"ÉVALUATION AVEC SEUIL 0.5\")\n",
    "print(\"=\"*40)\n",
    "y_pred_class_05 = (y_pred_proba > 0.5).astype(int)\n",
    "\n",
    "print(\"\\n--- Rapport (Seuil 0.5) ---\")\n",
    "print(classification_report(y_test, y_pred_class_05, target_names=['Pas Planète', 'Planète'], zero_division=0))\n",
    "print(\"\\n--- Matrice (Seuil 0.5) ---\")\n",
    "print(confusion_matrix(y_test, y_pred_class_05))\n",
    "\n",
    "# --- 2. Évaluation avec Seuil Optimisé ---\n",
    "print(\"\\n\" + \"=\"*40)\n",
    "print(\"ÉVALUATION AVEC SEUIL OPTIMISÉ\")\n",
    "print(\"=\"*40)\n",
    "\n",
    "# 2a. Calculer la courbe P-R\n",
    "precision, recall, thresholds = precision_recall_curve(y_test, y_pred_proba)\n",
    "\n",
    "# 2b. Trouver le meilleur F1-Score\n",
    "f1_scores = (2 * precision * recall) / (precision + recall + 1e-9)\n",
    "best_f1_index = np.argmax(f1_scores)\n",
    "best_f1 = f1_scores[best_f1_index]\n",
    "best_threshold = thresholds[best_f1_index]\n",
    "\n",
    "print(f\"\\nMeilleur F1-Score trouvé : {best_f1:.4f}\")\n",
    "print(f\"Au Seuil optimal de : {best_threshold:.4f}\")\n",
    "\n",
    "# 2c. Évaluer avec CE SEUIL\n",
    "y_pred_class_optimal = (y_pred_proba > best_threshold).astype(int)\n",
    "\n",
    "print(\"\\n--- Rapport (Seuil Optimisé) ---\")\n",
    "print(classification_report(y_test, y_pred_class_optimal, target_names=['Pas Planète', 'Planète'], zero_division=0))\n",
    "print(\"\\n--- Matrice (Seuil Optimisé) ---\")\n",
    "print(confusion_matrix(y_test, y_pred_class_optimal))\n",
    "\n",
    "# --- 3. Score Global (Indépendant du seuil) ---\n",
    "pr_auc_score = average_precision_score(y_test, y_pred_proba)\n",
    "print(f\"\\nScore PR-AUC global (Average Precision) : {pr_auc_score:.4f}\")"
   ],
   "id": "ad1ab238626fe413",
   "outputs": [
    {
     "name": "stdout",
     "output_type": "stream",
     "text": [
      "Évaluation du meilleur modèle v17 (restauré de l'époque 56)...\n",
      "\u001B[1m32/32\u001B[0m \u001B[32m━━━━━━━━━━━━━━━━━━━━\u001B[0m\u001B[37m\u001B[0m \u001B[1m0s\u001B[0m 4ms/step\n",
      "\n",
      "========================================\n",
      "ÉVALUATION AVEC SEUIL 0.5\n",
      "========================================\n",
      "\n",
      "--- Rapport (Seuil 0.5) ---\n",
      "              precision    recall  f1-score   support\n",
      "\n",
      " Pas Planète       1.00      0.55      0.71      1011\n",
      "     Planète       0.01      0.71      0.02         7\n",
      "\n",
      "    accuracy                           0.56      1018\n",
      "   macro avg       0.50      0.63      0.37      1018\n",
      "weighted avg       0.99      0.56      0.71      1018\n",
      "\n",
      "\n",
      "--- Matrice (Seuil 0.5) ---\n",
      "[[560 451]\n",
      " [  2   5]]\n",
      "\n",
      "========================================\n",
      "ÉVALUATION AVEC SEUIL OPTIMISÉ\n",
      "========================================\n",
      "\n",
      "Meilleur F1-Score trouvé : 0.2222\n",
      "Au Seuil optimal de : 0.7041\n",
      "\n",
      "--- Rapport (Seuil Optimisé) ---\n",
      "              precision    recall  f1-score   support\n",
      "\n",
      " Pas Planète       0.99      1.00      1.00      1011\n",
      "     Planète       0.00      0.00      0.00         7\n",
      "\n",
      "    accuracy                           0.99      1018\n",
      "   macro avg       0.50      0.50      0.50      1018\n",
      "weighted avg       0.99      0.99      0.99      1018\n",
      "\n",
      "\n",
      "--- Matrice (Seuil Optimisé) ---\n",
      "[[1010    1]\n",
      " [   7    0]]\n",
      "\n",
      "Score PR-AUC global (Average Precision) : 0.1072\n"
     ]
    }
   ],
   "execution_count": 10
  },
  {
   "metadata": {
    "ExecuteTime": {
     "end_time": "2025-11-01T13:23:19.146153Z",
     "start_time": "2025-11-01T13:23:18.915074Z"
    }
   },
   "cell_type": "code",
   "source": [
    "# Cellule 8 : Visualisation des résultats (v17)\n",
    "# ----------------------------------------------\n",
    "\n",
    "print(\"Affichage des graphiques d'entraînement (v17)...\")\n",
    "history_dict = history.history\n",
    "\n",
    "# Récupérer les métriques\n",
    "loss = history_dict['loss']\n",
    "val_loss = history_dict['val_loss']\n",
    "pr_auc = history_dict['pr_auc']\n",
    "val_pr_auc = history_dict['val_pr_auc']\n",
    "\n",
    "# Créer la plage d'époques\n",
    "actual_epochs = len(loss)\n",
    "epochs_range = range(1, actual_epochs + 1)\n",
    "\n",
    "# Créer la figure\n",
    "plt.figure(figsize=(16, 6))\n",
    "\n",
    "# Graphique 1 : Loss\n",
    "plt.subplot(1, 2, 1)\n",
    "plt.plot(epochs_range, loss, 'bo-', label='Training Loss')\n",
    "plt.plot(epochs_range, val_loss, 'ro-', label='Validation Loss')\n",
    "plt.title('Loss (v17 - Periodogram)')\n",
    "plt.xlabel('Epochs')\n",
    "plt.ylabel('Loss')\n",
    "plt.legend()\n",
    "plt.grid(True)\n",
    "\n",
    "# Graphique 2 : PR-AUC\n",
    "plt.subplot(1, 2, 2)\n",
    "plt.plot(epochs_range, pr_auc, 'bo-', label='Training PR-AUC')\n",
    "plt.plot(epochs_range, val_pr_auc, 'ro-', label='Validation PR-AUC')\n",
    "plt.title('PR-AUC (v17 - Periodogram)')\n",
    "plt.xlabel('Epochs')\n",
    "plt.ylabel('PR-AUC Score')\n",
    "plt.legend()\n",
    "plt.grid(True)\n",
    "\n",
    "plt.suptitle(\"Résultats de l'entraînement v17\", fontsize=16)\n",
    "plt.tight_layout(rect=[0, 0.03, 1, 0.95])\n",
    "plt.show()"
   ],
   "id": "99e39a1a67fbf148",
   "outputs": [
    {
     "name": "stdout",
     "output_type": "stream",
     "text": [
      "Affichage des graphiques d'entraînement (v17)...\n"
     ]
    },
    {
     "data": {
      "text/plain": [
       "<Figure size 1600x600 with 2 Axes>"
      ],
      "image/png": "[encoded data removed]"
     },
     "metadata": {},
     "output_type": "display_data"
    }
   ],
   "execution_count": 11
  }
 ],
 "metadata": {
  "kernelspec": {
   "display_name": "Python 3",
   "language": "python",
   "name": "python3"
  },
  "language_info": {
   "codemirror_mode": {
    "name": "ipython",
    "version": 2
   },
   "file_extension": ".py",
   "mimetype": "text/x-python",
   "name": "python",
   "nbconvert_exporter": "python",
   "pygments_lexer": "ipython2",
   "version": "2.7.6"
  }
 },
 "nbformat": 4,
 "nbformat_minor": 5
}
