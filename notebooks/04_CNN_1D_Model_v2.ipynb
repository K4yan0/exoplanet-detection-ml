{
 "cells": [
  {
   "cell_type": "code",
   "id": "initial_id",
   "metadata": {
    "collapsed": true,
    "ExecuteTime": {
     "end_time": "2025-10-26T20:13:31.121724Z",
     "start_time": "2025-10-26T20:13:23.451361Z"
    }
   },
   "source": [
    "import pandas as pd\n",
    "import numpy as np\n",
    "import matplotlib.pyplot as plt\n",
    "import sys\n",
    "import tensorflow as tf\n",
    "from sklearn.metrics import classification_report, confusion_matrix, precision_recall_curve, auc\n",
    "from sklearn.utils.class_weight import compute_class_weight\n",
    "\n",
    "# Imports Keras (la nouvelle façon)\n",
    "Sequential = tf.keras.models.Sequential\n",
    "Conv1D = tf.keras.layers.Conv1D\n",
    "MaxPooling1D = tf.keras.layers.MaxPooling1D\n",
    "Flatten = tf.keras.layers.Flatten\n",
    "Dense = tf.keras.layers.Dense\n",
    "Dropout = tf.keras.layers.Dropout\n",
    "BatchNormalization = tf.keras.layers.BatchNormalization\n",
    "Adam = tf.keras.optimizers.Adam\n",
    "AUC = tf.keras.metrics.AUC\n",
    "\n",
    "# Ajoute le dossier parent au 'path' pour trouver 'src'\n",
    "sys.path.append('../src')\n",
    "from src.preprocess import normalize_flux\n",
    "\n",
    "print(\"TensorFlow Version:\", tf.__version__)"
   ],
   "outputs": [
    {
     "name": "stdout",
     "output_type": "stream",
     "text": [
      "TensorFlow Version: 2.20.0\n"
     ]
    }
   ],
   "execution_count": 1
  },
  {
   "metadata": {
    "ExecuteTime": {
     "end_time": "2025-10-26T20:18:53.375573Z",
     "start_time": "2025-10-26T20:18:44.663959Z"
    }
   },
   "cell_type": "code",
   "source": [
    "TRAIN_PATH = '../data/raw/train.csv'\n",
    "TEST_PATH = '../data/raw/test.csv'\n",
    "\n",
    "print(\"Chargement des données...\")\n",
    "df_train = pd.read_csv(TRAIN_PATH)\n",
    "df_test = pd.read_csv(TEST_PATH)\n",
    "\n",
    "df_train['LABEL'] = df_train['LABEL'].map({1: 0, 2: 1})\n",
    "df_test['LABEL'] = df_test['LABEL'].map({1: 0, 2: 1})\n",
    "\n",
    "X_train_raw = df_train.drop('LABEL', axis=1)\n",
    "y_train = df_train['LABEL']\n",
    "X_test_raw = df_test.drop('LABEL', axis=1)\n",
    "y_test = df_test['LABEL']\n",
    "\n",
    "X_train_filled = X_train_raw.fillna(0)\n",
    "X_test_filled = X_test_raw.fillna(0)\n",
    "\n",
    "print(\"Normalisation (detrending) des données...\")\n",
    "X_train_normalized = X_train_filled.apply(normalize_flux, axis=1).values\n",
    "X_test_normalized = X_test_filled.apply(normalize_flux, axis=1).values\n",
    "print(\"Normalisation terminée.\")\n",
    "\n",
    "# --- 2. Préparation pour le CNN ---\n",
    "print(\"Préparation des données pour le CNN...\")\n",
    "X_train_cnn = X_train_normalized[:, :, np.newaxis]\n",
    "X_test_cnn = X_test_normalized[:, :, np.newaxis]\n",
    "\n",
    "class_weights = compute_class_weight(\n",
    "    class_weight='balanced',\n",
    "    classes=np.unique(y_train),\n",
    "    y=y_train\n",
    ")\n",
    "class_weight_dict = {\n",
    "    0: class_weights[0],\n",
    "    1: class_weights[1]\n",
    "}\n",
    "\n",
    "print(f\"Shape de X_train_cnn: {X_train_cnn.shape}\")\n",
    "print(f\"Poids des classes: {class_weight_dict}\")\n",
    "print(\"--- Préparation terminée ---\")"
   ],
   "id": "5b77c207aaaa2880",
   "outputs": [
    {
     "name": "stdout",
     "output_type": "stream",
     "text": [
      "Chargement des données...\n",
      "Normalisation (detrending) des données...\n",
      "Normalisation terminée.\n",
      "Préparation des données pour le CNN...\n",
      "Shape de X_train_cnn: (5087, 3197, 1)\n",
      "Poids des classes: {0: np.float64(0.5036633663366337), 1: np.float64(68.74324324324324)}\n",
      "--- Préparation terminée ---\n"
     ]
    }
   ],
   "execution_count": 3
  }
 ],
 "metadata": {
  "kernelspec": {
   "display_name": "Python 3",
   "language": "python",
   "name": "python3"
  },
  "language_info": {
   "codemirror_mode": {
    "name": "ipython",
    "version": 2
   },
   "file_extension": ".py",
   "mimetype": "text/x-python",
   "name": "python",
   "nbconvert_exporter": "python",
   "pygments_lexer": "ipython2",
   "version": "2.7.6"
  }
 },
 "nbformat": 4,
 "nbformat_minor": 5
}
