{
 "cells": [
  {
   "cell_type": "code",
   "id": "initial_id",
   "metadata": {
    "collapsed": true,
    "ExecuteTime": {
     "end_time": "2025-10-28T13:00:59.510559Z",
     "start_time": "2025-10-28T13:00:50.762570Z"
    }
   },
   "source": [
    "import pandas as pd\n",
    "import numpy as np\n",
    "import matplotlib.pyplot as plt\n",
    "import sys\n",
    "import tensorflow as tf\n",
    "import os\n",
    "import random\n",
    "\n",
    "# --- NEW: FIXING RANDOMNESS (REPRODUCIBILITY) ---\n",
    "# We choose a \"seed\" (a magic number), 42 is a convention\n",
    "SEED = 42\n",
    "\n",
    "# 1. Set the seed for native Python\n",
    "os.environ['PYTHONHASHSEED'] = str(SEED)\n",
    "random.seed(SEED)\n",
    "\n",
    "# 2. Set the seed for NumPy\n",
    "np.random.seed(SEED)\n",
    "\n",
    "# 3. Set the seed for TensorFlow\n",
    "tf.random.set_seed(SEED)\n",
    "\n",
    "# (Optional: can slow down training, but ensures full determinism)\n",
    "# tf.config.experimental.enable_op_determinism()\n",
    "\n",
    "print(f\"--- Randomness fixed with seed: {SEED} ---\")\n",
    "\n",
    "from sklearn.metrics import classification_report, confusion_matrix, precision_recall_curve, auc\n",
    "from sklearn.utils.class_weight import compute_class_weight\n",
    "\n",
    "# Keras Imports (including Callbacks)\n",
    "from tensorflow.keras.models import Sequential\n",
    "from tensorflow.keras.layers import Input, Conv1D, MaxPooling1D, Flatten, Dense, Dropout, BatchNormalization\n",
    "from tensorflow.keras.optimizers import Adam\n",
    "from tensorflow.keras.metrics import AUC\n",
    "from tensorflow.keras.callbacks import ModelCheckpoint, EarlyStopping\n",
    "\n",
    "# Add src to path\n",
    "sys.path.append('../src')\n",
    "from src.preprocess import normalize_flux\n",
    "\n",
    "print(f\"TensorFlow Version: {tf.__version__}\")"
   ],
   "outputs": [
    {
     "name": "stdout",
     "output_type": "stream",
     "text": [
      "--- Randomness fixed with seed: 42 ---\n",
      "TensorFlow Version: 2.20.0\n"
     ]
    }
   ],
   "execution_count": 1
  },
  {
   "metadata": {
    "ExecuteTime": {
     "end_time": "2025-10-28T13:01:17.447244Z",
     "start_time": "2025-10-28T13:01:07.519237Z"
    }
   },
   "cell_type": "code",
   "source": [
    "TRAIN_PATH = '../data/raw/train.csv'\n",
    "TEST_PATH = '../data/raw/test.csv'\n",
    "\n",
    "print(\"Loading data...\")\n",
    "df_train = pd.read_csv(TRAIN_PATH)\n",
    "df_test = pd.read_csv(TEST_PATH)\n",
    "\n",
    "# Map labels {1: 0, 2: 1}\n",
    "df_train['LABEL'] = df_train['LABEL'].map({1: 0, 2: 1})\n",
    "df_test['LABEL'] = df_test['LABEL'].map({1: 0, 2: 1})\n",
    "\n",
    "# Separate X/y\n",
    "X_train_raw = df_train.drop('LABEL', axis=1)\n",
    "y_train = df_train['LABEL']\n",
    "X_test_raw = df_test.drop('LABEL', axis=1)\n",
    "y_test = df_test['LABEL']\n",
    "\n",
    "# Fill NaNs\n",
    "X_train_filled = X_train_raw.fillna(0)\n",
    "X_test_filled = X_test_raw.fillna(0)\n",
    "\n",
    "print(\"Normalizing data (detrending)...\")\n",
    "X_train_normalized = X_train_filled.apply(normalize_flux, axis=1).values\n",
    "X_test_normalized = X_test_filled.apply(normalize_flux, axis=1).values\n",
    "\n",
    "print(\"Reshaping data for CNN...\")\n",
    "X_train_cnn = X_train_normalized[:, :, np.newaxis]\n",
    "X_test_cnn = X_test_normalized[:, :, np.newaxis]\n",
    "\n",
    "# Calculate class weights\n",
    "class_weights = compute_class_weight(\n",
    "    class_weight='balanced',\n",
    "    classes=np.unique(y_train),\n",
    "    y=y_train\n",
    ")\n",
    "class_weight_dict = {\n",
    "    0: class_weights[0],\n",
    "    1: class_weights[1]\n",
    "}\n",
    "print(\"--- Data preparation complete ---\")"
   ],
   "id": "1046b7ce685dd783",
   "outputs": [
    {
     "name": "stdout",
     "output_type": "stream",
     "text": [
      "Loading data...\n",
      "Normalizing data (detrending)...\n",
      "Reshaping data for CNN...\n",
      "--- Data preparation complete ---\n"
     ]
    }
   ],
   "execution_count": 2
  },
  {
   "metadata": {
    "ExecuteTime": {
     "end_time": "2025-10-28T13:01:48.302558Z",
     "start_time": "2025-10-28T13:01:48.163009Z"
    }
   },
   "cell_type": "code",
   "source": [
    "print(\"Building v5 model architecture...\")\n",
    "INPUT_SHAPE = (X_train_cnn.shape[1], 1)\n",
    "\n",
    "model_v5 = Sequential([\n",
    "    Input(shape=INPUT_SHAPE),\n",
    "    # Block 1\n",
    "    Conv1D(filters=8, kernel_size=5, activation='relu'),\n",
    "    MaxPooling1D(pool_size=2),\n",
    "    BatchNormalization(),\n",
    "    # Block 2\n",
    "    Conv1D(filters=16, kernel_size=5, activation='relu'),\n",
    "    MaxPooling1D(pool_size=2),\n",
    "    BatchNormalization(),\n",
    "    # Block 3\n",
    "    Conv1D(filters=32, kernel_size=5, activation='relu'),\n",
    "    MaxPooling1D(pool_size=2),\n",
    "    BatchNormalization(),\n",
    "    # Head\n",
    "    Flatten(),\n",
    "    Dense(32, activation='relu'),\n",
    "    Dropout(0.6), # The seed will also make this dropout reproducible\n",
    "    Dense(1, activation='sigmoid')\n",
    "])\n",
    "\n",
    "model_v5.summary()"
   ],
   "id": "670768e13fe839c",
   "outputs": [
    {
     "name": "stdout",
     "output_type": "stream",
     "text": [
      "Building v5 model architecture...\n"
     ]
    },
    {
     "data": {
      "text/plain": [
       "\u001B[1mModel: \"sequential\"\u001B[0m\n"
      ],
      "text/html": [
       "<pre style=\"white-space:pre;overflow-x:auto;line-height:normal;font-family:Menlo,'DejaVu Sans Mono',consolas,'Courier New',monospace\"><span style=\"font-weight: bold\">Model: \"sequential\"</span>\n",
       "</pre>\n"
      ]
     },
     "metadata": {},
     "output_type": "display_data"
    },
    {
     "data": {
      "text/plain": [
       "┏━━━━━━━━━━━━━━━━━━━━━━━━━━━━━━━━━┳━━━━━━━━━━━━━━━━━━━━━━━━┳━━━━━━━━━━━━━━━┓\n",
       "┃\u001B[1m \u001B[0m\u001B[1mLayer (type)                   \u001B[0m\u001B[1m \u001B[0m┃\u001B[1m \u001B[0m\u001B[1mOutput Shape          \u001B[0m\u001B[1m \u001B[0m┃\u001B[1m \u001B[0m\u001B[1m      Param #\u001B[0m\u001B[1m \u001B[0m┃\n",
       "┡━━━━━━━━━━━━━━━━━━━━━━━━━━━━━━━━━╇━━━━━━━━━━━━━━━━━━━━━━━━╇━━━━━━━━━━━━━━━┩\n",
       "│ conv1d (\u001B[38;5;33mConv1D\u001B[0m)                 │ (\u001B[38;5;45mNone\u001B[0m, \u001B[38;5;34m3193\u001B[0m, \u001B[38;5;34m8\u001B[0m)        │            \u001B[38;5;34m48\u001B[0m │\n",
       "├─────────────────────────────────┼────────────────────────┼───────────────┤\n",
       "│ max_pooling1d (\u001B[38;5;33mMaxPooling1D\u001B[0m)    │ (\u001B[38;5;45mNone\u001B[0m, \u001B[38;5;34m1596\u001B[0m, \u001B[38;5;34m8\u001B[0m)        │             \u001B[38;5;34m0\u001B[0m │\n",
       "├─────────────────────────────────┼────────────────────────┼───────────────┤\n",
       "│ batch_normalization             │ (\u001B[38;5;45mNone\u001B[0m, \u001B[38;5;34m1596\u001B[0m, \u001B[38;5;34m8\u001B[0m)        │            \u001B[38;5;34m32\u001B[0m │\n",
       "│ (\u001B[38;5;33mBatchNormalization\u001B[0m)            │                        │               │\n",
       "├─────────────────────────────────┼────────────────────────┼───────────────┤\n",
       "│ conv1d_1 (\u001B[38;5;33mConv1D\u001B[0m)               │ (\u001B[38;5;45mNone\u001B[0m, \u001B[38;5;34m1592\u001B[0m, \u001B[38;5;34m16\u001B[0m)       │           \u001B[38;5;34m656\u001B[0m │\n",
       "├─────────────────────────────────┼────────────────────────┼───────────────┤\n",
       "│ max_pooling1d_1 (\u001B[38;5;33mMaxPooling1D\u001B[0m)  │ (\u001B[38;5;45mNone\u001B[0m, \u001B[38;5;34m796\u001B[0m, \u001B[38;5;34m16\u001B[0m)        │             \u001B[38;5;34m0\u001B[0m │\n",
       "├─────────────────────────────────┼────────────────────────┼───────────────┤\n",
       "│ batch_normalization_1           │ (\u001B[38;5;45mNone\u001B[0m, \u001B[38;5;34m796\u001B[0m, \u001B[38;5;34m16\u001B[0m)        │            \u001B[38;5;34m64\u001B[0m │\n",
       "│ (\u001B[38;5;33mBatchNormalization\u001B[0m)            │                        │               │\n",
       "├─────────────────────────────────┼────────────────────────┼───────────────┤\n",
       "│ conv1d_2 (\u001B[38;5;33mConv1D\u001B[0m)               │ (\u001B[38;5;45mNone\u001B[0m, \u001B[38;5;34m792\u001B[0m, \u001B[38;5;34m32\u001B[0m)        │         \u001B[38;5;34m2,592\u001B[0m │\n",
       "├─────────────────────────────────┼────────────────────────┼───────────────┤\n",
       "│ max_pooling1d_2 (\u001B[38;5;33mMaxPooling1D\u001B[0m)  │ (\u001B[38;5;45mNone\u001B[0m, \u001B[38;5;34m396\u001B[0m, \u001B[38;5;34m32\u001B[0m)        │             \u001B[38;5;34m0\u001B[0m │\n",
       "├─────────────────────────────────┼────────────────────────┼───────────────┤\n",
       "│ batch_normalization_2           │ (\u001B[38;5;45mNone\u001B[0m, \u001B[38;5;34m396\u001B[0m, \u001B[38;5;34m32\u001B[0m)        │           \u001B[38;5;34m128\u001B[0m │\n",
       "│ (\u001B[38;5;33mBatchNormalization\u001B[0m)            │                        │               │\n",
       "├─────────────────────────────────┼────────────────────────┼───────────────┤\n",
       "│ flatten (\u001B[38;5;33mFlatten\u001B[0m)               │ (\u001B[38;5;45mNone\u001B[0m, \u001B[38;5;34m12672\u001B[0m)          │             \u001B[38;5;34m0\u001B[0m │\n",
       "├─────────────────────────────────┼────────────────────────┼───────────────┤\n",
       "│ dense (\u001B[38;5;33mDense\u001B[0m)                   │ (\u001B[38;5;45mNone\u001B[0m, \u001B[38;5;34m32\u001B[0m)             │       \u001B[38;5;34m405,536\u001B[0m │\n",
       "├─────────────────────────────────┼────────────────────────┼───────────────┤\n",
       "│ dropout (\u001B[38;5;33mDropout\u001B[0m)               │ (\u001B[38;5;45mNone\u001B[0m, \u001B[38;5;34m32\u001B[0m)             │             \u001B[38;5;34m0\u001B[0m │\n",
       "├─────────────────────────────────┼────────────────────────┼───────────────┤\n",
       "│ dense_1 (\u001B[38;5;33mDense\u001B[0m)                 │ (\u001B[38;5;45mNone\u001B[0m, \u001B[38;5;34m1\u001B[0m)              │            \u001B[38;5;34m33\u001B[0m │\n",
       "└─────────────────────────────────┴────────────────────────┴───────────────┘\n"
      ],
      "text/html": [
       "<pre style=\"white-space:pre;overflow-x:auto;line-height:normal;font-family:Menlo,'DejaVu Sans Mono',consolas,'Courier New',monospace\">┏━━━━━━━━━━━━━━━━━━━━━━━━━━━━━━━━━┳━━━━━━━━━━━━━━━━━━━━━━━━┳━━━━━━━━━━━━━━━┓\n",
       "┃<span style=\"font-weight: bold\"> Layer (type)                    </span>┃<span style=\"font-weight: bold\"> Output Shape           </span>┃<span style=\"font-weight: bold\">       Param # </span>┃\n",
       "┡━━━━━━━━━━━━━━━━━━━━━━━━━━━━━━━━━╇━━━━━━━━━━━━━━━━━━━━━━━━╇━━━━━━━━━━━━━━━┩\n",
       "│ conv1d (<span style=\"color: #0087ff; text-decoration-color: #0087ff\">Conv1D</span>)                 │ (<span style=\"color: #00d7ff; text-decoration-color: #00d7ff\">None</span>, <span style=\"color: #00af00; text-decoration-color: #00af00\">3193</span>, <span style=\"color: #00af00; text-decoration-color: #00af00\">8</span>)        │            <span style=\"color: #00af00; text-decoration-color: #00af00\">48</span> │\n",
       "├─────────────────────────────────┼────────────────────────┼───────────────┤\n",
       "│ max_pooling1d (<span style=\"color: #0087ff; text-decoration-color: #0087ff\">MaxPooling1D</span>)    │ (<span style=\"color: #00d7ff; text-decoration-color: #00d7ff\">None</span>, <span style=\"color: #00af00; text-decoration-color: #00af00\">1596</span>, <span style=\"color: #00af00; text-decoration-color: #00af00\">8</span>)        │             <span style=\"color: #00af00; text-decoration-color: #00af00\">0</span> │\n",
       "├─────────────────────────────────┼────────────────────────┼───────────────┤\n",
       "│ batch_normalization             │ (<span style=\"color: #00d7ff; text-decoration-color: #00d7ff\">None</span>, <span style=\"color: #00af00; text-decoration-color: #00af00\">1596</span>, <span style=\"color: #00af00; text-decoration-color: #00af00\">8</span>)        │            <span style=\"color: #00af00; text-decoration-color: #00af00\">32</span> │\n",
       "│ (<span style=\"color: #0087ff; text-decoration-color: #0087ff\">BatchNormalization</span>)            │                        │               │\n",
       "├─────────────────────────────────┼────────────────────────┼───────────────┤\n",
       "│ conv1d_1 (<span style=\"color: #0087ff; text-decoration-color: #0087ff\">Conv1D</span>)               │ (<span style=\"color: #00d7ff; text-decoration-color: #00d7ff\">None</span>, <span style=\"color: #00af00; text-decoration-color: #00af00\">1592</span>, <span style=\"color: #00af00; text-decoration-color: #00af00\">16</span>)       │           <span style=\"color: #00af00; text-decoration-color: #00af00\">656</span> │\n",
       "├─────────────────────────────────┼────────────────────────┼───────────────┤\n",
       "│ max_pooling1d_1 (<span style=\"color: #0087ff; text-decoration-color: #0087ff\">MaxPooling1D</span>)  │ (<span style=\"color: #00d7ff; text-decoration-color: #00d7ff\">None</span>, <span style=\"color: #00af00; text-decoration-color: #00af00\">796</span>, <span style=\"color: #00af00; text-decoration-color: #00af00\">16</span>)        │             <span style=\"color: #00af00; text-decoration-color: #00af00\">0</span> │\n",
       "├─────────────────────────────────┼────────────────────────┼───────────────┤\n",
       "│ batch_normalization_1           │ (<span style=\"color: #00d7ff; text-decoration-color: #00d7ff\">None</span>, <span style=\"color: #00af00; text-decoration-color: #00af00\">796</span>, <span style=\"color: #00af00; text-decoration-color: #00af00\">16</span>)        │            <span style=\"color: #00af00; text-decoration-color: #00af00\">64</span> │\n",
       "│ (<span style=\"color: #0087ff; text-decoration-color: #0087ff\">BatchNormalization</span>)            │                        │               │\n",
       "├─────────────────────────────────┼────────────────────────┼───────────────┤\n",
       "│ conv1d_2 (<span style=\"color: #0087ff; text-decoration-color: #0087ff\">Conv1D</span>)               │ (<span style=\"color: #00d7ff; text-decoration-color: #00d7ff\">None</span>, <span style=\"color: #00af00; text-decoration-color: #00af00\">792</span>, <span style=\"color: #00af00; text-decoration-color: #00af00\">32</span>)        │         <span style=\"color: #00af00; text-decoration-color: #00af00\">2,592</span> │\n",
       "├─────────────────────────────────┼────────────────────────┼───────────────┤\n",
       "│ max_pooling1d_2 (<span style=\"color: #0087ff; text-decoration-color: #0087ff\">MaxPooling1D</span>)  │ (<span style=\"color: #00d7ff; text-decoration-color: #00d7ff\">None</span>, <span style=\"color: #00af00; text-decoration-color: #00af00\">396</span>, <span style=\"color: #00af00; text-decoration-color: #00af00\">32</span>)        │             <span style=\"color: #00af00; text-decoration-color: #00af00\">0</span> │\n",
       "├─────────────────────────────────┼────────────────────────┼───────────────┤\n",
       "│ batch_normalization_2           │ (<span style=\"color: #00d7ff; text-decoration-color: #00d7ff\">None</span>, <span style=\"color: #00af00; text-decoration-color: #00af00\">396</span>, <span style=\"color: #00af00; text-decoration-color: #00af00\">32</span>)        │           <span style=\"color: #00af00; text-decoration-color: #00af00\">128</span> │\n",
       "│ (<span style=\"color: #0087ff; text-decoration-color: #0087ff\">BatchNormalization</span>)            │                        │               │\n",
       "├─────────────────────────────────┼────────────────────────┼───────────────┤\n",
       "│ flatten (<span style=\"color: #0087ff; text-decoration-color: #0087ff\">Flatten</span>)               │ (<span style=\"color: #00d7ff; text-decoration-color: #00d7ff\">None</span>, <span style=\"color: #00af00; text-decoration-color: #00af00\">12672</span>)          │             <span style=\"color: #00af00; text-decoration-color: #00af00\">0</span> │\n",
       "├─────────────────────────────────┼────────────────────────┼───────────────┤\n",
       "│ dense (<span style=\"color: #0087ff; text-decoration-color: #0087ff\">Dense</span>)                   │ (<span style=\"color: #00d7ff; text-decoration-color: #00d7ff\">None</span>, <span style=\"color: #00af00; text-decoration-color: #00af00\">32</span>)             │       <span style=\"color: #00af00; text-decoration-color: #00af00\">405,536</span> │\n",
       "├─────────────────────────────────┼────────────────────────┼───────────────┤\n",
       "│ dropout (<span style=\"color: #0087ff; text-decoration-color: #0087ff\">Dropout</span>)               │ (<span style=\"color: #00d7ff; text-decoration-color: #00d7ff\">None</span>, <span style=\"color: #00af00; text-decoration-color: #00af00\">32</span>)             │             <span style=\"color: #00af00; text-decoration-color: #00af00\">0</span> │\n",
       "├─────────────────────────────────┼────────────────────────┼───────────────┤\n",
       "│ dense_1 (<span style=\"color: #0087ff; text-decoration-color: #0087ff\">Dense</span>)                 │ (<span style=\"color: #00d7ff; text-decoration-color: #00d7ff\">None</span>, <span style=\"color: #00af00; text-decoration-color: #00af00\">1</span>)              │            <span style=\"color: #00af00; text-decoration-color: #00af00\">33</span> │\n",
       "└─────────────────────────────────┴────────────────────────┴───────────────┘\n",
       "</pre>\n"
      ]
     },
     "metadata": {},
     "output_type": "display_data"
    },
    {
     "data": {
      "text/plain": [
       "\u001B[1m Total params: \u001B[0m\u001B[38;5;34m409,089\u001B[0m (1.56 MB)\n"
      ],
      "text/html": [
       "<pre style=\"white-space:pre;overflow-x:auto;line-height:normal;font-family:Menlo,'DejaVu Sans Mono',consolas,'Courier New',monospace\"><span style=\"font-weight: bold\"> Total params: </span><span style=\"color: #00af00; text-decoration-color: #00af00\">409,089</span> (1.56 MB)\n",
       "</pre>\n"
      ]
     },
     "metadata": {},
     "output_type": "display_data"
    },
    {
     "data": {
      "text/plain": [
       "\u001B[1m Trainable params: \u001B[0m\u001B[38;5;34m408,977\u001B[0m (1.56 MB)\n"
      ],
      "text/html": [
       "<pre style=\"white-space:pre;overflow-x:auto;line-height:normal;font-family:Menlo,'DejaVu Sans Mono',consolas,'Courier New',monospace\"><span style=\"font-weight: bold\"> Trainable params: </span><span style=\"color: #00af00; text-decoration-color: #00af00\">408,977</span> (1.56 MB)\n",
       "</pre>\n"
      ]
     },
     "metadata": {},
     "output_type": "display_data"
    },
    {
     "data": {
      "text/plain": [
       "\u001B[1m Non-trainable params: \u001B[0m\u001B[38;5;34m112\u001B[0m (448.00 B)\n"
      ],
      "text/html": [
       "<pre style=\"white-space:pre;overflow-x:auto;line-height:normal;font-family:Menlo,'DejaVu Sans Mono',consolas,'Courier New',monospace\"><span style=\"font-weight: bold\"> Non-trainable params: </span><span style=\"color: #00af00; text-decoration-color: #00af00\">112</span> (448.00 B)\n",
       "</pre>\n"
      ]
     },
     "metadata": {},
     "output_type": "display_data"
    }
   ],
   "execution_count": 3
  },
  {
   "metadata": {
    "ExecuteTime": {
     "end_time": "2025-10-28T13:03:51.725199Z",
     "start_time": "2025-10-28T13:03:51.709801Z"
    }
   },
   "cell_type": "code",
   "source": [
    "# hypothesis test: v2's high LR + v3's Callbacks\n",
    "\n",
    "MODEL_SAVE_PATH = '../models/cnn_model_v5.keras'\n",
    "\n",
    "# 1. ModelCheckpoint\n",
    "checkpoint_cb = ModelCheckpoint(\n",
    "    filepath=MODEL_SAVE_PATH,\n",
    "    monitor='val_pr_auc',\n",
    "    mode='max',\n",
    "    save_best_only=True,\n",
    "    verbose=1\n",
    ")\n",
    "\n",
    "# 2. EarlyStopping\n",
    "early_stopping_cb = EarlyStopping(\n",
    "    monitor='val_pr_auc',\n",
    "    mode='max',\n",
    "    patience=5,\n",
    "    verbose=1,\n",
    "    restore_best_weights=True\n",
    ")\n",
    "\n",
    "CALLBACK_LIST = [checkpoint_cb, early_stopping_cb]\n",
    "\n",
    "# 3. Compile with the HIGH learning rate (from v2)\n",
    "print(\"Compiling v5 model with 'v2' learning rate (0.001)...\")\n",
    "pr_auc_metric = AUC(curve='PR', name='pr_auc')\n",
    "\n",
    "model_v5.compile(\n",
    "    optimizer=Adam(learning_rate=0.001), # Testing the v2 (unstable) LR\n",
    "    loss='binary_crossentropy',\n",
    "    metrics=['accuracy', pr_auc_metric]\n",
    ")\n",
    "\n",
    "print(\"Model compiled.\")"
   ],
   "id": "91be8ec302432b40",
   "outputs": [
    {
     "name": "stdout",
     "output_type": "stream",
     "text": [
      "Compiling v5 model with 'v2' learning rate (0.001)...\n",
      "Model compiled.\n"
     ]
    }
   ],
   "execution_count": 5
  },
  {
   "metadata": {
    "ExecuteTime": {
     "end_time": "2025-10-28T13:04:32.989303Z",
     "start_time": "2025-10-28T13:03:59.152297Z"
    }
   },
   "cell_type": "code",
   "source": [
    "# --- 4. Train the Model (v5) ---\n",
    "print(\"Starting v5 (reproducible) training...\")\n",
    "\n",
    "history_v5 = model_v5.fit(\n",
    "    X_train_cnn,\n",
    "    y_train,\n",
    "    epochs=50,\n",
    "    batch_size=32,\n",
    "    validation_data=(X_test_cnn, y_test),\n",
    "    class_weight=class_weight_dict,\n",
    "    callbacks=CALLBACK_LIST\n",
    ")\n",
    "\n",
    "print(\"Training finished.\")"
   ],
   "id": "8a94dfa4ee73f48c",
   "outputs": [
    {
     "name": "stdout",
     "output_type": "stream",
     "text": [
      "Starting v5 (reproducible) training...\n",
      "Epoch 1/50\n",
      "\u001B[1m159/159\u001B[0m \u001B[32m━━━━━━━━━━━━━━━━━━━━\u001B[0m\u001B[37m\u001B[0m \u001B[1m0s\u001B[0m 20ms/step - accuracy: 0.4979 - loss: 2.4729 - pr_auc: 0.0073\n",
      "Epoch 1: val_pr_auc improved from None to 0.00694, saving model to ../models/cnn_model_v5.keras\n",
      "\u001B[1m159/159\u001B[0m \u001B[32m━━━━━━━━━━━━━━━━━━━━\u001B[0m\u001B[37m\u001B[0m \u001B[1m7s\u001B[0m 25ms/step - accuracy: 0.5467 - loss: 2.2656 - pr_auc: 0.0074 - val_accuracy: 0.1140 - val_loss: 0.7895 - val_pr_auc: 0.0069\n",
      "Epoch 2/50\n",
      "\u001B[1m157/159\u001B[0m \u001B[32m━━━━━━━━━━━━━━━━━━━\u001B[0m\u001B[37m━\u001B[0m \u001B[1m0s\u001B[0m 22ms/step - accuracy: 0.6825 - loss: 1.1469 - pr_auc: 0.0262\n",
      "Epoch 2: val_pr_auc improved from 0.00694 to 0.00831, saving model to ../models/cnn_model_v5.keras\n",
      "\u001B[1m159/159\u001B[0m \u001B[32m━━━━━━━━━━━━━━━━━━━━\u001B[0m\u001B[37m\u001B[0m \u001B[1m5s\u001B[0m 23ms/step - accuracy: 0.6914 - loss: 1.1125 - pr_auc: 0.0298 - val_accuracy: 0.9877 - val_loss: 0.2255 - val_pr_auc: 0.0083\n",
      "Epoch 3/50\n",
      "\u001B[1m157/159\u001B[0m \u001B[32m━━━━━━━━━━━━━━━━━━━\u001B[0m\u001B[37m━\u001B[0m \u001B[1m0s\u001B[0m 22ms/step - accuracy: 0.7042 - loss: 0.6856 - pr_auc: 0.0642\n",
      "Epoch 3: val_pr_auc improved from 0.00831 to 0.01232, saving model to ../models/cnn_model_v5.keras\n",
      "\u001B[1m159/159\u001B[0m \u001B[32m━━━━━━━━━━━━━━━━━━━━\u001B[0m\u001B[37m\u001B[0m \u001B[1m4s\u001B[0m 23ms/step - accuracy: 0.7788 - loss: 0.6363 - pr_auc: 0.0707 - val_accuracy: 0.9912 - val_loss: 0.0499 - val_pr_auc: 0.0123\n",
      "Epoch 4/50\n",
      "\u001B[1m157/159\u001B[0m \u001B[32m━━━━━━━━━━━━━━━━━━━\u001B[0m\u001B[37m━\u001B[0m \u001B[1m0s\u001B[0m 21ms/step - accuracy: 0.8448 - loss: 0.4124 - pr_auc: 0.2061\n",
      "Epoch 4: val_pr_auc did not improve from 0.01232\n",
      "\u001B[1m159/159\u001B[0m \u001B[32m━━━━━━━━━━━━━━━━━━━━\u001B[0m\u001B[37m\u001B[0m \u001B[1m4s\u001B[0m 23ms/step - accuracy: 0.8176 - loss: 0.4671 - pr_auc: 0.1704 - val_accuracy: 0.9912 - val_loss: 0.0772 - val_pr_auc: 0.0088\n",
      "Epoch 5/50\n",
      "\u001B[1m157/159\u001B[0m \u001B[32m━━━━━━━━━━━━━━━━━━━\u001B[0m\u001B[37m━\u001B[0m \u001B[1m0s\u001B[0m 21ms/step - accuracy: 0.8374 - loss: 0.8457 - pr_auc: 0.1490\n",
      "Epoch 5: val_pr_auc did not improve from 0.01232\n",
      "\u001B[1m159/159\u001B[0m \u001B[32m━━━━━━━━━━━━━━━━━━━━\u001B[0m\u001B[37m\u001B[0m \u001B[1m4s\u001B[0m 23ms/step - accuracy: 0.7710 - loss: 1.0632 - pr_auc: 0.0377 - val_accuracy: 0.9912 - val_loss: 0.0890 - val_pr_auc: 0.0088\n",
      "Epoch 6/50\n",
      "\u001B[1m158/159\u001B[0m \u001B[32m━━━━━━━━━━━━━━━━━━━\u001B[0m\u001B[37m━\u001B[0m \u001B[1m0s\u001B[0m 23ms/step - accuracy: 0.8115 - loss: 0.4570 - pr_auc: 0.1948\n",
      "Epoch 6: val_pr_auc did not improve from 0.01232\n",
      "\u001B[1m159/159\u001B[0m \u001B[32m━━━━━━━━━━━━━━━━━━━━\u001B[0m\u001B[37m\u001B[0m \u001B[1m4s\u001B[0m 24ms/step - accuracy: 0.8528 - loss: 0.4709 - pr_auc: 0.1721 - val_accuracy: 0.9912 - val_loss: 0.2576 - val_pr_auc: 0.0088\n",
      "Epoch 7/50\n",
      "\u001B[1m157/159\u001B[0m \u001B[32m━━━━━━━━━━━━━━━━━━━\u001B[0m\u001B[37m━\u001B[0m \u001B[1m0s\u001B[0m 21ms/step - accuracy: 0.7878 - loss: 0.7523 - pr_auc: 0.1563\n",
      "Epoch 7: val_pr_auc did not improve from 0.01232\n",
      "\u001B[1m159/159\u001B[0m \u001B[32m━━━━━━━━━━━━━━━━━━━━\u001B[0m\u001B[37m\u001B[0m \u001B[1m4s\u001B[0m 22ms/step - accuracy: 0.7920 - loss: 0.7642 - pr_auc: 0.1718 - val_accuracy: 0.9912 - val_loss: 0.0949 - val_pr_auc: 0.0088\n",
      "Epoch 8/50\n",
      "\u001B[1m158/159\u001B[0m \u001B[32m━━━━━━━━━━━━━━━━━━━\u001B[0m\u001B[37m━\u001B[0m \u001B[1m0s\u001B[0m 21ms/step - accuracy: 0.7841 - loss: 0.4993 - pr_auc: 0.1481\n",
      "Epoch 8: val_pr_auc did not improve from 0.01232\n",
      "\u001B[1m159/159\u001B[0m \u001B[32m━━━━━━━━━━━━━━━━━━━━\u001B[0m\u001B[37m\u001B[0m \u001B[1m4s\u001B[0m 23ms/step - accuracy: 0.8020 - loss: 0.4538 - pr_auc: 0.1459 - val_accuracy: 0.9912 - val_loss: 0.1504 - val_pr_auc: 0.0088\n",
      "Epoch 8: early stopping\n",
      "Restoring model weights from the end of the best epoch: 3.\n",
      "Training finished.\n"
     ]
    }
   ],
   "execution_count": 6
  },
  {
   "metadata": {
    "ExecuteTime": {
     "end_time": "2025-10-28T13:05:11.063348Z",
     "start_time": "2025-10-28T13:05:10.540473Z"
    }
   },
   "cell_type": "code",
   "source": [
    "print(\"Evaluating v5 model (with best weights)...\")\n",
    "\n",
    "y_pred_proba_cnn_v5 = model_v5.predict(X_test_cnn).flatten()\n",
    "y_pred_cnn_v5 = (y_pred_proba_cnn_v5 > 0.5).astype(int)\n",
    "\n",
    "print(\"\\nConfusion Matrix (CNN v5):\")\n",
    "cm_cnn_v5 = confusion_matrix(y_test, y_pred_cnn_v5)\n",
    "print(cm_cnn_v5)\n",
    "\n",
    "print(\"\\nClassification Report (CNN v5):\")\n",
    "print(classification_report(y_test, y_pred_cnn_v5, target_names=['No Planet (0)', 'Planet (1)']))"
   ],
   "id": "a41074a024245dd1",
   "outputs": [
    {
     "name": "stdout",
     "output_type": "stream",
     "text": [
      "Evaluating v5 model (with best weights)...\n",
      "\u001B[1m18/18\u001B[0m \u001B[32m━━━━━━━━━━━━━━━━━━━━\u001B[0m\u001B[37m\u001B[0m \u001B[1m0s\u001B[0m 15ms/step\n",
      "\n",
      "Confusion Matrix (CNN v5):\n",
      "[[565   0]\n",
      " [  5   0]]\n",
      "\n",
      "Classification Report (CNN v5):\n",
      "               precision    recall  f1-score   support\n",
      "\n",
      "No Planet (0)       0.99      1.00      1.00       565\n",
      "   Planet (1)       0.00      0.00      0.00         5\n",
      "\n",
      "     accuracy                           0.99       570\n",
      "    macro avg       0.50      0.50      0.50       570\n",
      " weighted avg       0.98      0.99      0.99       570\n",
      "\n"
     ]
    },
    {
     "name": "stderr",
     "output_type": "stream",
     "text": [
      "C:\\Users\\libra\\IdeaProjects\\exoplanet-detection-ml\\venv\\Lib\\site-packages\\sklearn\\metrics\\_classification.py:1731: UndefinedMetricWarning: Precision is ill-defined and being set to 0.0 in labels with no predicted samples. Use `zero_division` parameter to control this behavior.\n",
      "  _warn_prf(average, modifier, f\"{metric.capitalize()} is\", result.shape[0])\n",
      "C:\\Users\\libra\\IdeaProjects\\exoplanet-detection-ml\\venv\\Lib\\site-packages\\sklearn\\metrics\\_classification.py:1731: UndefinedMetricWarning: Precision is ill-defined and being set to 0.0 in labels with no predicted samples. Use `zero_division` parameter to control this behavior.\n",
      "  _warn_prf(average, modifier, f\"{metric.capitalize()} is\", result.shape[0])\n",
      "C:\\Users\\libra\\IdeaProjects\\exoplanet-detection-ml\\venv\\Lib\\site-packages\\sklearn\\metrics\\_classification.py:1731: UndefinedMetricWarning: Precision is ill-defined and being set to 0.0 in labels with no predicted samples. Use `zero_division` parameter to control this behavior.\n",
      "  _warn_prf(average, modifier, f\"{metric.capitalize()} is\", result.shape[0])\n"
     ]
    }
   ],
   "execution_count": 7
  },
  {
   "metadata": {
    "ExecuteTime": {
     "end_time": "2025-10-28T13:07:56.373808Z",
     "start_time": "2025-10-28T13:07:55.987956Z"
    }
   },
   "cell_type": "code",
   "source": [
    "print(\"\\nPlotting training history...\")\n",
    "\n",
    "history_dict = history_v5.history\n",
    "loss = history_dict['loss']; val_loss = history_dict['val_loss']\n",
    "pr_auc = history_dict['pr_auc']; val_pr_auc = history_dict['val_pr_auc']\n",
    "actual_epochs = len(loss)\n",
    "epochs_range = range(1, actual_epochs + 1)\n",
    "\n",
    "plt.figure(figsize=(14, 6))\n",
    "# Plot 1: Loss\n",
    "plt.subplot(1, 2, 1)\n",
    "plt.plot(epochs_range, loss, 'bo-', label='Training Loss')\n",
    "plt.plot(epochs_range, val_loss, 'ro-', label='Validation Loss')\n",
    "plt.title('Training and Validation Loss (v5)')\n",
    "plt.xlabel('Epochs'); plt.ylabel('Loss'); plt.legend()\n",
    "\n",
    "# Plot 2: PR-AUC\n",
    "plt.subplot(1, 2, 2)\n",
    "plt.plot(epochs_range, pr_auc, 'bo-', label='Training PR-AUC')\n",
    "plt.plot(epochs_range, val_pr_auc, 'ro-', label='Validation PR-AUC')\n",
    "plt.title('Training and Validation PR-AUC (v5)')\n",
    "plt.xlabel('Epochs'); plt.ylabel('PR-AUC Score'); plt.legend()\n",
    "\n",
    "plt.tight_layout()\n",
    "plt.show()"
   ],
   "id": "221bb7d8affa6edb",
   "outputs": [
    {
     "name": "stdout",
     "output_type": "stream",
     "text": [
      "\n",
      "Plotting training history...\n"
     ]
    },
    {
     "data": {
      "text/plain": [
       "<Figure size 1400x600 with 2 Axes>"
      ],
      "image/png": "[encoded data removed]"
     },
     "metadata": {},
     "output_type": "display_data"
    }
   ],
   "execution_count": 8
  }
 ],
 "metadata": {
  "kernelspec": {
   "display_name": "Python 3",
   "language": "python",
   "name": "python3"
  },
  "language_info": {
   "codemirror_mode": {
    "name": "ipython",
    "version": 2
   },
   "file_extension": ".py",
   "mimetype": "text/x-python",
   "name": "python",
   "nbconvert_exporter": "python",
   "pygments_lexer": "ipython2",
   "version": "2.7.6"
  }
 },
 "nbformat": 4,
 "nbformat_minor": 5
}
