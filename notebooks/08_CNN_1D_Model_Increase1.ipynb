{
 "cells": [
  {
   "cell_type": "code",
   "id": "initial_id",
   "metadata": {
    "collapsed": true,
    "ExecuteTime": {
     "end_time": "2025-10-28T13:26:34.495823Z",
     "start_time": "2025-10-28T13:26:34.484766Z"
    }
   },
   "source": [
    "import pandas as pd\n",
    "import numpy as np\n",
    "import matplotlib.pyplot as plt\n",
    "import sys\n",
    "import tensorflow as tf\n",
    "import os\n",
    "import random\n",
    "\n",
    "# --- FIXING RANDOMNESS (REPRODUCIBILITY) ---\n",
    "SEED = 42\n",
    "os.environ['PYTHONHASHSEED'] = str(SEED)\n",
    "random.seed(SEED)\n",
    "np.random.seed(SEED)\n",
    "tf.random.set_seed(SEED)\n",
    "print(f\"--- Randomness fixed with seed: {SEED} ---\")\n",
    "\n",
    "from sklearn.metrics import classification_report, confusion_matrix, precision_recall_curve, auc\n",
    "from sklearn.utils.class_weight import compute_class_weight\n",
    "from sklearn.utils import shuffle # We will need to shuffle our new dataset\n",
    "\n",
    "# Keras Imports\n",
    "from tensorflow.keras.models import Sequential\n",
    "from tensorflow.keras.layers import Input, Conv1D, MaxPooling1D, Flatten, Dense, Dropout, BatchNormalization\n",
    "from tensorflow.keras.optimizers import Adam\n",
    "from tensorflow.keras.metrics import AUC\n",
    "from tensorflow.keras.callbacks import ModelCheckpoint, EarlyStopping\n",
    "\n",
    "# Add src to path\n",
    "sys.path.append('../src')\n",
    "from src.preprocess import normalize_flux\n",
    "#Import tool--\n",
    "from src.augmentation import inject_transit_signal\n",
    "\n",
    "print(f\"TensorFlow Version: {tf.__version__}\")"
   ],
   "outputs": [
    {
     "name": "stdout",
     "output_type": "stream",
     "text": [
      "--- Randomness fixed with seed: 42 ---\n",
      "TensorFlow Version: 2.20.0\n"
     ]
    }
   ],
   "execution_count": 5
  },
  {
   "metadata": {
    "ExecuteTime": {
     "end_time": "2025-10-28T13:31:44.827790Z",
     "start_time": "2025-10-28T13:31:36.039986Z"
    }
   },
   "cell_type": "code",
   "source": [
    "TRAIN_PATH = '../data/raw/train.csv'\n",
    "TEST_PATH = '../data/raw/test.csv'\n",
    "print(\"Loading data...\")\n",
    "df_train = pd.read_csv(TRAIN_PATH)\n",
    "df_test = pd.read_csv(TEST_PATH)\n",
    "\n",
    "# Map labels\n",
    "df_train['LABEL'] = df_train['LABEL'].map({1: 0, 2: 1})\n",
    "df_test['LABEL'] = df_test['LABEL'].map({1: 0, 2: 1})\n",
    "\n",
    "# --- 2. Data Augmentation (The New Strategy) ---\n",
    "print(\"Starting data augmentation...\")\n",
    "N_AUGMENTATIONS = 1000 # Let's create 1000 new \"fake\" planets\n",
    "\n",
    "# Separate the original positive and negative examples\n",
    "df_train_pos = df_train[df_train['LABEL'] == 1]\n",
    "df_train_neg = df_train[df_train['LABEL'] == 0]\n",
    "\n",
    "# --- A. Process the ORIGINAL positives (the 37 real ones) ---\n",
    "print(f\"Processing {len(df_train_pos)} original positive samples...\")\n",
    "X_train_pos_raw = df_train_pos.drop('LABEL', axis=1).fillna(0)\n",
    "# Normalize them\n",
    "X_train_pos_norm = X_train_pos_raw.apply(normalize_flux, axis=1).values\n",
    "y_train_pos = df_train_pos['LABEL'].values # Shape (37,)\n",
    "\n",
    "# --- B. Create NEW augmented positives ---\n",
    "print(f\"Creating {N_AUGMENTATIONS} new augmented positive samples...\")\n",
    "augmented_flux_list = []\n",
    "# We will sample from the 5050 negative examples\n",
    "df_train_neg_raw_for_sampling = df_train_neg.drop('LABEL', axis=1).fillna(0)\n",
    "\n",
    "for i in range(N_AUGMENTATIONS):\n",
    "    # 1. Pick a random \"no planet\" series\n",
    "    sample_neg_series = df_train_neg_raw_for_sampling.sample(1).values[0]\n",
    "\n",
    "    # 2. Normalize it\n",
    "    normalized_neg_series = normalize_flux(sample_neg_series)\n",
    "\n",
    "    # 3. Inject our fake signal\n",
    "    augmented_series = inject_transit_signal(normalized_neg_series)\n",
    "\n",
    "    # 4. Add it to our list\n",
    "    augmented_flux_list.append(augmented_series)\n",
    "\n",
    "# Convert the list to a NumPy array\n",
    "X_train_augmented = np.array(augmented_flux_list) # Shape (1000, 3197)\n",
    "# The labels for these are all '1' (Planet)\n",
    "y_train_augmented = np.ones(N_AUGMENTATIONS, dtype=int) # Shape (1000,)\n",
    "\n",
    "# --- C. Process ALL NEGATIVE samples (THE MISSING STEP) ---\n",
    "print(f\"Processing {len(df_train_neg)} original negative samples...\")\n",
    "X_train_neg_raw = df_train_neg.drop('LABEL', axis=1).fillna(0)\n",
    "X_train_neg_norm = X_train_neg_raw.apply(normalize_flux, axis=1).values # Shape (5050, 3197)\n",
    "y_train_neg = df_train_neg['LABEL'].values # Shape (5050,)\n",
    "\n",
    "# --- D. Combine and Shuffle (CORRECTED) ---\n",
    "print(\"Combining and shuffling final training set...\")\n",
    "# Combine all X parts: (5050 neg) + (37 real pos) + (1000 fake pos)\n",
    "X_train_final = np.concatenate([X_train_neg_norm, X_train_pos_norm, X_train_augmented])\n",
    "# Combine all y parts: (5050 neg) + (37 real pos) + (1000 fake pos)\n",
    "y_train_final = np.concatenate([y_train_neg, y_train_pos, y_train_augmented])\n",
    "\n",
    "# Shuffle them together\n",
    "X_train_final, y_train_final = shuffle(X_train_final, y_train_final, random_state=SEED)\n",
    "\n",
    "# --- E. Print new dataset info ---\n",
    "total_samples = len(y_train_final)\n",
    "total_positives = len(y_train_pos) + len(y_train_augmented)\n",
    "total_negatives = len(y_train_neg)\n",
    "print(f\"New training set size: {total_samples} samples\")\n",
    "print(f\" -> Negatives (0): {total_negatives}\")\n",
    "print(f\" -> Positives (1): {total_positives} (Balance: {total_positives/total_samples:.1%})\")\n",
    "\n",
    "# --- 3. Process Test Data (No Augmentation!) ---\n",
    "print(\"Processing test data (unchanged)...\")\n",
    "X_test_raw = df_test.drop('LABEL', axis=1).fillna(0)\n",
    "X_test_normalized = X_test_raw.apply(normalize_flux, axis=1).values\n",
    "y_test = df_test['LABEL'].values # Use .values for consistency\n",
    "\n",
    "# --- 4. Final CNN Prep (Reshaping) ---\n",
    "print(\"Reshaping data for CNN...\")\n",
    "X_train_cnn = X_train_final[:, :, np.newaxis]\n",
    "X_test_cnn = X_test_normalized[:, :, np.newaxis]\n",
    "\n",
    "# --- 5. Recalculate Class Weights ---\n",
    "# This will now work, as y_train_final contains both 0s and 1s\n",
    "print(\"Recalculating class weights...\")\n",
    "class_weights = compute_class_weight(\n",
    "    class_weight='balanced',\n",
    "    classes=np.unique(y_train_final), # Should now be [0, 1]\n",
    "    y=y_train_final\n",
    ")\n",
    "class_weight_dict = {\n",
    "    0: class_weights[0],\n",
    "    1: class_weights[1]\n",
    "}\n",
    "print(f\"New Class Weights: {class_weight_dict}\")\n",
    "print(\"--- Data preparation complete ---\")"
   ],
   "id": "16ff95839f8d151e",
   "outputs": [
    {
     "name": "stdout",
     "output_type": "stream",
     "text": [
      "Loading data...\n",
      "Starting data augmentation...\n",
      "Processing 37 original positive samples...\n",
      "Creating 1000 new augmented positive samples...\n",
      "Processing 5050 original negative samples...\n",
      "Combining and shuffling final training set...\n",
      "New training set size: 6087 samples\n",
      " -> Negatives (0): 5050\n",
      " -> Positives (1): 1037 (Balance: 17.0%)\n",
      "Processing test data (unchanged)...\n",
      "Reshaping data for CNN...\n",
      "Recalculating class weights...\n",
      "New Class Weights: {0: np.float64(0.6026732673267327), 1: np.float64(2.9349083895853423)}\n",
      "--- Data preparation complete ---\n"
     ]
    }
   ],
   "execution_count": 7
  },
  {
   "metadata": {
    "ExecuteTime": {
     "end_time": "2025-10-28T13:49:41.779863Z",
     "start_time": "2025-10-28T13:48:37.450242Z"
    }
   },
   "cell_type": "code",
   "source": [
    "print(\"Building v6 model architecture (same as v5)...\")\n",
    "INPUT_SHAPE = (X_train_cnn.shape[1], 1)\n",
    "\n",
    "model_v6 = Sequential([\n",
    "    Input(shape=INPUT_SHAPE),\n",
    "    Conv1D(filters=8, kernel_size=5, activation='relu'),\n",
    "    MaxPooling1D(pool_size=2), BatchNormalization(),\n",
    "    Conv1D(filters=16, kernel_size=5, activation='relu'),\n",
    "    MaxPooling1D(pool_size=2), BatchNormalization(),\n",
    "    Conv1D(filters=32, kernel_size=5, activation='relu'),\n",
    "    MaxPooling1D(pool_size=2), BatchNormalization(),\n",
    "    Flatten(),\n",
    "    Dense(32, activation='relu'),\n",
    "    Dropout(0.6),\n",
    "    Dense(1, activation='sigmoid')\n",
    "])\n",
    "model_v6.summary()\n",
    "\n",
    "# --- 4. Callbacks & Compilation ---\n",
    "MODEL_SAVE_PATH = '../models/cnn_model_v6_augmented.keras'\n",
    "checkpoint_cb = ModelCheckpoint(filepath=MODEL_SAVE_PATH, monitor='val_pr_auc', mode='max', save_best_only=True, verbose=1)\n",
    "early_stopping_cb = EarlyStopping(monitor='val_pr_auc', mode='max', patience=5, verbose=1, restore_best_weights=True)\n",
    "CALLBACK_LIST = [checkpoint_cb, early_stopping_cb]\n",
    "\n",
    "print(\"Compiling v6 model...\")\n",
    "pr_auc_metric = AUC(curve='PR', name='pr_auc')\n",
    "model_v6.compile(\n",
    "    optimizer=Adam(learning_rate=0.001), # High LR is fine now\n",
    "    loss='binary_crossentropy',\n",
    "    metrics=['accuracy', pr_auc_metric]\n",
    ")\n",
    "print(\"Model compiled.\")\n",
    "\n",
    "# --- 5. Train the Model (v6) ---\n",
    "print(\"Starting v6 (augmented) training...\")\n",
    "history_v6 = model_v6.fit(\n",
    "    X_train_cnn,\n",
    "    y_train_final, # <-- Use the new augmented labels\n",
    "    epochs=50,\n",
    "    batch_size=32,\n",
    "    validation_data=(X_test_cnn, y_test), # <-- Validate on the REAL test data\n",
    "    class_weight=class_weight_dict, # <-- Use the new, more balanced weights\n",
    "    callbacks=CALLBACK_LIST\n",
    ")\n",
    "print(\"Training finished.\")"
   ],
   "id": "4808326bb594ef3",
   "outputs": [
    {
     "name": "stdout",
     "output_type": "stream",
     "text": [
      "Building v6 model architecture (same as v5)...\n"
     ]
    },
    {
     "data": {
      "text/plain": [
       "\u001B[1mModel: \"sequential\"\u001B[0m\n"
      ],
      "text/html": [
       "<pre style=\"white-space:pre;overflow-x:auto;line-height:normal;font-family:Menlo,'DejaVu Sans Mono',consolas,'Courier New',monospace\"><span style=\"font-weight: bold\">Model: \"sequential\"</span>\n",
       "</pre>\n"
      ]
     },
     "metadata": {},
     "output_type": "display_data"
    },
    {
     "data": {
      "text/plain": [
       "┏━━━━━━━━━━━━━━━━━━━━━━━━━━━━━━━━━┳━━━━━━━━━━━━━━━━━━━━━━━━┳━━━━━━━━━━━━━━━┓\n",
       "┃\u001B[1m \u001B[0m\u001B[1mLayer (type)                   \u001B[0m\u001B[1m \u001B[0m┃\u001B[1m \u001B[0m\u001B[1mOutput Shape          \u001B[0m\u001B[1m \u001B[0m┃\u001B[1m \u001B[0m\u001B[1m      Param #\u001B[0m\u001B[1m \u001B[0m┃\n",
       "┡━━━━━━━━━━━━━━━━━━━━━━━━━━━━━━━━━╇━━━━━━━━━━━━━━━━━━━━━━━━╇━━━━━━━━━━━━━━━┩\n",
       "│ conv1d (\u001B[38;5;33mConv1D\u001B[0m)                 │ (\u001B[38;5;45mNone\u001B[0m, \u001B[38;5;34m3193\u001B[0m, \u001B[38;5;34m8\u001B[0m)        │            \u001B[38;5;34m48\u001B[0m │\n",
       "├─────────────────────────────────┼────────────────────────┼───────────────┤\n",
       "│ max_pooling1d (\u001B[38;5;33mMaxPooling1D\u001B[0m)    │ (\u001B[38;5;45mNone\u001B[0m, \u001B[38;5;34m1596\u001B[0m, \u001B[38;5;34m8\u001B[0m)        │             \u001B[38;5;34m0\u001B[0m │\n",
       "├─────────────────────────────────┼────────────────────────┼───────────────┤\n",
       "│ batch_normalization             │ (\u001B[38;5;45mNone\u001B[0m, \u001B[38;5;34m1596\u001B[0m, \u001B[38;5;34m8\u001B[0m)        │            \u001B[38;5;34m32\u001B[0m │\n",
       "│ (\u001B[38;5;33mBatchNormalization\u001B[0m)            │                        │               │\n",
       "├─────────────────────────────────┼────────────────────────┼───────────────┤\n",
       "│ conv1d_1 (\u001B[38;5;33mConv1D\u001B[0m)               │ (\u001B[38;5;45mNone\u001B[0m, \u001B[38;5;34m1592\u001B[0m, \u001B[38;5;34m16\u001B[0m)       │           \u001B[38;5;34m656\u001B[0m │\n",
       "├─────────────────────────────────┼────────────────────────┼───────────────┤\n",
       "│ max_pooling1d_1 (\u001B[38;5;33mMaxPooling1D\u001B[0m)  │ (\u001B[38;5;45mNone\u001B[0m, \u001B[38;5;34m796\u001B[0m, \u001B[38;5;34m16\u001B[0m)        │             \u001B[38;5;34m0\u001B[0m │\n",
       "├─────────────────────────────────┼────────────────────────┼───────────────┤\n",
       "│ batch_normalization_1           │ (\u001B[38;5;45mNone\u001B[0m, \u001B[38;5;34m796\u001B[0m, \u001B[38;5;34m16\u001B[0m)        │            \u001B[38;5;34m64\u001B[0m │\n",
       "│ (\u001B[38;5;33mBatchNormalization\u001B[0m)            │                        │               │\n",
       "├─────────────────────────────────┼────────────────────────┼───────────────┤\n",
       "│ conv1d_2 (\u001B[38;5;33mConv1D\u001B[0m)               │ (\u001B[38;5;45mNone\u001B[0m, \u001B[38;5;34m792\u001B[0m, \u001B[38;5;34m32\u001B[0m)        │         \u001B[38;5;34m2,592\u001B[0m │\n",
       "├─────────────────────────────────┼────────────────────────┼───────────────┤\n",
       "│ max_pooling1d_2 (\u001B[38;5;33mMaxPooling1D\u001B[0m)  │ (\u001B[38;5;45mNone\u001B[0m, \u001B[38;5;34m396\u001B[0m, \u001B[38;5;34m32\u001B[0m)        │             \u001B[38;5;34m0\u001B[0m │\n",
       "├─────────────────────────────────┼────────────────────────┼───────────────┤\n",
       "│ batch_normalization_2           │ (\u001B[38;5;45mNone\u001B[0m, \u001B[38;5;34m396\u001B[0m, \u001B[38;5;34m32\u001B[0m)        │           \u001B[38;5;34m128\u001B[0m │\n",
       "│ (\u001B[38;5;33mBatchNormalization\u001B[0m)            │                        │               │\n",
       "├─────────────────────────────────┼────────────────────────┼───────────────┤\n",
       "│ flatten (\u001B[38;5;33mFlatten\u001B[0m)               │ (\u001B[38;5;45mNone\u001B[0m, \u001B[38;5;34m12672\u001B[0m)          │             \u001B[38;5;34m0\u001B[0m │\n",
       "├─────────────────────────────────┼────────────────────────┼───────────────┤\n",
       "│ dense (\u001B[38;5;33mDense\u001B[0m)                   │ (\u001B[38;5;45mNone\u001B[0m, \u001B[38;5;34m32\u001B[0m)             │       \u001B[38;5;34m405,536\u001B[0m │\n",
       "├─────────────────────────────────┼────────────────────────┼───────────────┤\n",
       "│ dropout (\u001B[38;5;33mDropout\u001B[0m)               │ (\u001B[38;5;45mNone\u001B[0m, \u001B[38;5;34m32\u001B[0m)             │             \u001B[38;5;34m0\u001B[0m │\n",
       "├─────────────────────────────────┼────────────────────────┼───────────────┤\n",
       "│ dense_1 (\u001B[38;5;33mDense\u001B[0m)                 │ (\u001B[38;5;45mNone\u001B[0m, \u001B[38;5;34m1\u001B[0m)              │            \u001B[38;5;34m33\u001B[0m │\n",
       "└─────────────────────────────────┴────────────────────────┴───────────────┘\n"
      ],
      "text/html": [
       "<pre style=\"white-space:pre;overflow-x:auto;line-height:normal;font-family:Menlo,'DejaVu Sans Mono',consolas,'Courier New',monospace\">┏━━━━━━━━━━━━━━━━━━━━━━━━━━━━━━━━━┳━━━━━━━━━━━━━━━━━━━━━━━━┳━━━━━━━━━━━━━━━┓\n",
       "┃<span style=\"font-weight: bold\"> Layer (type)                    </span>┃<span style=\"font-weight: bold\"> Output Shape           </span>┃<span style=\"font-weight: bold\">       Param # </span>┃\n",
       "┡━━━━━━━━━━━━━━━━━━━━━━━━━━━━━━━━━╇━━━━━━━━━━━━━━━━━━━━━━━━╇━━━━━━━━━━━━━━━┩\n",
       "│ conv1d (<span style=\"color: #0087ff; text-decoration-color: #0087ff\">Conv1D</span>)                 │ (<span style=\"color: #00d7ff; text-decoration-color: #00d7ff\">None</span>, <span style=\"color: #00af00; text-decoration-color: #00af00\">3193</span>, <span style=\"color: #00af00; text-decoration-color: #00af00\">8</span>)        │            <span style=\"color: #00af00; text-decoration-color: #00af00\">48</span> │\n",
       "├─────────────────────────────────┼────────────────────────┼───────────────┤\n",
       "│ max_pooling1d (<span style=\"color: #0087ff; text-decoration-color: #0087ff\">MaxPooling1D</span>)    │ (<span style=\"color: #00d7ff; text-decoration-color: #00d7ff\">None</span>, <span style=\"color: #00af00; text-decoration-color: #00af00\">1596</span>, <span style=\"color: #00af00; text-decoration-color: #00af00\">8</span>)        │             <span style=\"color: #00af00; text-decoration-color: #00af00\">0</span> │\n",
       "├─────────────────────────────────┼────────────────────────┼───────────────┤\n",
       "│ batch_normalization             │ (<span style=\"color: #00d7ff; text-decoration-color: #00d7ff\">None</span>, <span style=\"color: #00af00; text-decoration-color: #00af00\">1596</span>, <span style=\"color: #00af00; text-decoration-color: #00af00\">8</span>)        │            <span style=\"color: #00af00; text-decoration-color: #00af00\">32</span> │\n",
       "│ (<span style=\"color: #0087ff; text-decoration-color: #0087ff\">BatchNormalization</span>)            │                        │               │\n",
       "├─────────────────────────────────┼────────────────────────┼───────────────┤\n",
       "│ conv1d_1 (<span style=\"color: #0087ff; text-decoration-color: #0087ff\">Conv1D</span>)               │ (<span style=\"color: #00d7ff; text-decoration-color: #00d7ff\">None</span>, <span style=\"color: #00af00; text-decoration-color: #00af00\">1592</span>, <span style=\"color: #00af00; text-decoration-color: #00af00\">16</span>)       │           <span style=\"color: #00af00; text-decoration-color: #00af00\">656</span> │\n",
       "├─────────────────────────────────┼────────────────────────┼───────────────┤\n",
       "│ max_pooling1d_1 (<span style=\"color: #0087ff; text-decoration-color: #0087ff\">MaxPooling1D</span>)  │ (<span style=\"color: #00d7ff; text-decoration-color: #00d7ff\">None</span>, <span style=\"color: #00af00; text-decoration-color: #00af00\">796</span>, <span style=\"color: #00af00; text-decoration-color: #00af00\">16</span>)        │             <span style=\"color: #00af00; text-decoration-color: #00af00\">0</span> │\n",
       "├─────────────────────────────────┼────────────────────────┼───────────────┤\n",
       "│ batch_normalization_1           │ (<span style=\"color: #00d7ff; text-decoration-color: #00d7ff\">None</span>, <span style=\"color: #00af00; text-decoration-color: #00af00\">796</span>, <span style=\"color: #00af00; text-decoration-color: #00af00\">16</span>)        │            <span style=\"color: #00af00; text-decoration-color: #00af00\">64</span> │\n",
       "│ (<span style=\"color: #0087ff; text-decoration-color: #0087ff\">BatchNormalization</span>)            │                        │               │\n",
       "├─────────────────────────────────┼────────────────────────┼───────────────┤\n",
       "│ conv1d_2 (<span style=\"color: #0087ff; text-decoration-color: #0087ff\">Conv1D</span>)               │ (<span style=\"color: #00d7ff; text-decoration-color: #00d7ff\">None</span>, <span style=\"color: #00af00; text-decoration-color: #00af00\">792</span>, <span style=\"color: #00af00; text-decoration-color: #00af00\">32</span>)        │         <span style=\"color: #00af00; text-decoration-color: #00af00\">2,592</span> │\n",
       "├─────────────────────────────────┼────────────────────────┼───────────────┤\n",
       "│ max_pooling1d_2 (<span style=\"color: #0087ff; text-decoration-color: #0087ff\">MaxPooling1D</span>)  │ (<span style=\"color: #00d7ff; text-decoration-color: #00d7ff\">None</span>, <span style=\"color: #00af00; text-decoration-color: #00af00\">396</span>, <span style=\"color: #00af00; text-decoration-color: #00af00\">32</span>)        │             <span style=\"color: #00af00; text-decoration-color: #00af00\">0</span> │\n",
       "├─────────────────────────────────┼────────────────────────┼───────────────┤\n",
       "│ batch_normalization_2           │ (<span style=\"color: #00d7ff; text-decoration-color: #00d7ff\">None</span>, <span style=\"color: #00af00; text-decoration-color: #00af00\">396</span>, <span style=\"color: #00af00; text-decoration-color: #00af00\">32</span>)        │           <span style=\"color: #00af00; text-decoration-color: #00af00\">128</span> │\n",
       "│ (<span style=\"color: #0087ff; text-decoration-color: #0087ff\">BatchNormalization</span>)            │                        │               │\n",
       "├─────────────────────────────────┼────────────────────────┼───────────────┤\n",
       "│ flatten (<span style=\"color: #0087ff; text-decoration-color: #0087ff\">Flatten</span>)               │ (<span style=\"color: #00d7ff; text-decoration-color: #00d7ff\">None</span>, <span style=\"color: #00af00; text-decoration-color: #00af00\">12672</span>)          │             <span style=\"color: #00af00; text-decoration-color: #00af00\">0</span> │\n",
       "├─────────────────────────────────┼────────────────────────┼───────────────┤\n",
       "│ dense (<span style=\"color: #0087ff; text-decoration-color: #0087ff\">Dense</span>)                   │ (<span style=\"color: #00d7ff; text-decoration-color: #00d7ff\">None</span>, <span style=\"color: #00af00; text-decoration-color: #00af00\">32</span>)             │       <span style=\"color: #00af00; text-decoration-color: #00af00\">405,536</span> │\n",
       "├─────────────────────────────────┼────────────────────────┼───────────────┤\n",
       "│ dropout (<span style=\"color: #0087ff; text-decoration-color: #0087ff\">Dropout</span>)               │ (<span style=\"color: #00d7ff; text-decoration-color: #00d7ff\">None</span>, <span style=\"color: #00af00; text-decoration-color: #00af00\">32</span>)             │             <span style=\"color: #00af00; text-decoration-color: #00af00\">0</span> │\n",
       "├─────────────────────────────────┼────────────────────────┼───────────────┤\n",
       "│ dense_1 (<span style=\"color: #0087ff; text-decoration-color: #0087ff\">Dense</span>)                 │ (<span style=\"color: #00d7ff; text-decoration-color: #00d7ff\">None</span>, <span style=\"color: #00af00; text-decoration-color: #00af00\">1</span>)              │            <span style=\"color: #00af00; text-decoration-color: #00af00\">33</span> │\n",
       "└─────────────────────────────────┴────────────────────────┴───────────────┘\n",
       "</pre>\n"
      ]
     },
     "metadata": {},
     "output_type": "display_data"
    },
    {
     "data": {
      "text/plain": [
       "\u001B[1m Total params: \u001B[0m\u001B[38;5;34m409,089\u001B[0m (1.56 MB)\n"
      ],
      "text/html": [
       "<pre style=\"white-space:pre;overflow-x:auto;line-height:normal;font-family:Menlo,'DejaVu Sans Mono',consolas,'Courier New',monospace\"><span style=\"font-weight: bold\"> Total params: </span><span style=\"color: #00af00; text-decoration-color: #00af00\">409,089</span> (1.56 MB)\n",
       "</pre>\n"
      ]
     },
     "metadata": {},
     "output_type": "display_data"
    },
    {
     "data": {
      "text/plain": [
       "\u001B[1m Trainable params: \u001B[0m\u001B[38;5;34m408,977\u001B[0m (1.56 MB)\n"
      ],
      "text/html": [
       "<pre style=\"white-space:pre;overflow-x:auto;line-height:normal;font-family:Menlo,'DejaVu Sans Mono',consolas,'Courier New',monospace\"><span style=\"font-weight: bold\"> Trainable params: </span><span style=\"color: #00af00; text-decoration-color: #00af00\">408,977</span> (1.56 MB)\n",
       "</pre>\n"
      ]
     },
     "metadata": {},
     "output_type": "display_data"
    },
    {
     "data": {
      "text/plain": [
       "\u001B[1m Non-trainable params: \u001B[0m\u001B[38;5;34m112\u001B[0m (448.00 B)\n"
      ],
      "text/html": [
       "<pre style=\"white-space:pre;overflow-x:auto;line-height:normal;font-family:Menlo,'DejaVu Sans Mono',consolas,'Courier New',monospace\"><span style=\"font-weight: bold\"> Non-trainable params: </span><span style=\"color: #00af00; text-decoration-color: #00af00\">112</span> (448.00 B)\n",
       "</pre>\n"
      ]
     },
     "metadata": {},
     "output_type": "display_data"
    },
    {
     "name": "stdout",
     "output_type": "stream",
     "text": [
      "Compiling v6 model...\n",
      "Model compiled.\n",
      "Starting v6 (augmented) training...\n",
      "Epoch 1/50\n",
      "\u001B[1m191/191\u001B[0m \u001B[32m━━━━━━━━━━━━━━━━━━━━\u001B[0m\u001B[37m\u001B[0m \u001B[1m0s\u001B[0m 22ms/step - accuracy: 0.5390 - loss: 1.3323 - pr_auc: 0.1731\n",
      "Epoch 1: val_pr_auc improved from None to 0.00682, saving model to ../models/cnn_model_v6_augmented.keras\n",
      "\u001B[1m191/191\u001B[0m \u001B[32m━━━━━━━━━━━━━━━━━━━━\u001B[0m\u001B[37m\u001B[0m \u001B[1m8s\u001B[0m 26ms/step - accuracy: 0.6264 - loss: 1.2479 - pr_auc: 0.1655 - val_accuracy: 0.9351 - val_loss: 0.6848 - val_pr_auc: 0.0068\n",
      "Epoch 2/50\n",
      "\u001B[1m189/191\u001B[0m \u001B[32m━━━━━━━━━━━━━━━━━━━\u001B[0m\u001B[37m━\u001B[0m \u001B[1m0s\u001B[0m 26ms/step - accuracy: 0.6631 - loss: 0.8576 - pr_auc: 0.1945\n",
      "Epoch 2: val_pr_auc improved from 0.00682 to 0.00701, saving model to ../models/cnn_model_v6_augmented.keras\n",
      "\u001B[1m191/191\u001B[0m \u001B[32m━━━━━━━━━━━━━━━━━━━━\u001B[0m\u001B[37m\u001B[0m \u001B[1m5s\u001B[0m 28ms/step - accuracy: 0.6566 - loss: 0.8089 - pr_auc: 0.1965 - val_accuracy: 0.9684 - val_loss: 0.6828 - val_pr_auc: 0.0070\n",
      "Epoch 3/50\n",
      "\u001B[1m189/191\u001B[0m \u001B[32m━━━━━━━━━━━━━━━━━━━\u001B[0m\u001B[37m━\u001B[0m \u001B[1m0s\u001B[0m 27ms/step - accuracy: 0.7233 - loss: 0.7100 - pr_auc: 0.2358\n",
      "Epoch 3: val_pr_auc improved from 0.00701 to 0.00864, saving model to ../models/cnn_model_v6_augmented.keras\n",
      "\u001B[1m191/191\u001B[0m \u001B[32m━━━━━━━━━━━━━━━━━━━━\u001B[0m\u001B[37m\u001B[0m \u001B[1m6s\u001B[0m 29ms/step - accuracy: 0.7316 - loss: 0.7042 - pr_auc: 0.2371 - val_accuracy: 0.9895 - val_loss: 0.6718 - val_pr_auc: 0.0086\n",
      "Epoch 4/50\n",
      "\u001B[1m189/191\u001B[0m \u001B[32m━━━━━━━━━━━━━━━━━━━\u001B[0m\u001B[37m━\u001B[0m \u001B[1m0s\u001B[0m 31ms/step - accuracy: 0.7433 - loss: 0.7101 - pr_auc: 0.2436\n",
      "Epoch 4: val_pr_auc improved from 0.00864 to 0.01149, saving model to ../models/cnn_model_v6_augmented.keras\n",
      "\u001B[1m191/191\u001B[0m \u001B[32m━━━━━━━━━━━━━━━━━━━━\u001B[0m\u001B[37m\u001B[0m \u001B[1m6s\u001B[0m 32ms/step - accuracy: 0.7394 - loss: 0.7189 - pr_auc: 0.2288 - val_accuracy: 0.9737 - val_loss: 0.6650 - val_pr_auc: 0.0115\n",
      "Epoch 5/50\n",
      "\u001B[1m190/191\u001B[0m \u001B[32m━━━━━━━━━━━━━━━━━━━\u001B[0m\u001B[37m━\u001B[0m \u001B[1m0s\u001B[0m 24ms/step - accuracy: 0.7762 - loss: 0.6919 - pr_auc: 0.2572\n",
      "Epoch 5: val_pr_auc did not improve from 0.01149\n",
      "\u001B[1m191/191\u001B[0m \u001B[32m━━━━━━━━━━━━━━━━━━━━\u001B[0m\u001B[37m\u001B[0m \u001B[1m5s\u001B[0m 26ms/step - accuracy: 0.7713 - loss: 0.6831 - pr_auc: 0.2482 - val_accuracy: 0.9860 - val_loss: 0.6519 - val_pr_auc: 0.0084\n",
      "Epoch 6/50\n",
      "\u001B[1m189/191\u001B[0m \u001B[32m━━━━━━━━━━━━━━━━━━━\u001B[0m\u001B[37m━\u001B[0m \u001B[1m0s\u001B[0m 24ms/step - accuracy: 0.7913 - loss: 0.7008 - pr_auc: 0.2634\n",
      "Epoch 6: val_pr_auc did not improve from 0.01149\n",
      "\u001B[1m191/191\u001B[0m \u001B[32m━━━━━━━━━━━━━━━━━━━━\u001B[0m\u001B[37m\u001B[0m \u001B[1m5s\u001B[0m 25ms/step - accuracy: 0.7856 - loss: 0.6790 - pr_auc: 0.2690 - val_accuracy: 0.9895 - val_loss: 0.6460 - val_pr_auc: 0.0086\n",
      "Epoch 7/50\n",
      "\u001B[1m190/191\u001B[0m \u001B[32m━━━━━━━━━━━━━━━━━━━\u001B[0m\u001B[37m━\u001B[0m \u001B[1m0s\u001B[0m 24ms/step - accuracy: 0.7966 - loss: 0.6662 - pr_auc: 0.2950\n",
      "Epoch 7: val_pr_auc improved from 0.01149 to 0.02177, saving model to ../models/cnn_model_v6_augmented.keras\n",
      "\u001B[1m191/191\u001B[0m \u001B[32m━━━━━━━━━━━━━━━━━━━━\u001B[0m\u001B[37m\u001B[0m \u001B[1m5s\u001B[0m 26ms/step - accuracy: 0.7994 - loss: 0.6642 - pr_auc: 0.2879 - val_accuracy: 0.9912 - val_loss: 0.4654 - val_pr_auc: 0.0218\n",
      "Epoch 8/50\n",
      "\u001B[1m190/191\u001B[0m \u001B[32m━━━━━━━━━━━━━━━━━━━\u001B[0m\u001B[37m━\u001B[0m \u001B[1m0s\u001B[0m 23ms/step - accuracy: 0.8044 - loss: 0.6715 - pr_auc: 0.2807\n",
      "Epoch 8: val_pr_auc did not improve from 0.02177\n",
      "\u001B[1m191/191\u001B[0m \u001B[32m━━━━━━━━━━━━━━━━━━━━\u001B[0m\u001B[37m\u001B[0m \u001B[1m5s\u001B[0m 24ms/step - accuracy: 0.8088 - loss: 0.6664 - pr_auc: 0.2856 - val_accuracy: 0.9912 - val_loss: 0.6405 - val_pr_auc: 0.0088\n",
      "Epoch 9/50\n",
      "\u001B[1m189/191\u001B[0m \u001B[32m━━━━━━━━━━━━━━━━━━━\u001B[0m\u001B[37m━\u001B[0m \u001B[1m0s\u001B[0m 25ms/step - accuracy: 0.8089 - loss: 0.6608 - pr_auc: 0.3023\n",
      "Epoch 9: val_pr_auc did not improve from 0.02177\n",
      "\u001B[1m191/191\u001B[0m \u001B[32m━━━━━━━━━━━━━━━━━━━━\u001B[0m\u001B[37m\u001B[0m \u001B[1m5s\u001B[0m 26ms/step - accuracy: 0.8119 - loss: 0.6563 - pr_auc: 0.3036 - val_accuracy: 0.9912 - val_loss: 0.6349 - val_pr_auc: 0.0088\n",
      "Epoch 10/50\n",
      "\u001B[1m189/191\u001B[0m \u001B[32m━━━━━━━━━━━━━━━━━━━\u001B[0m\u001B[37m━\u001B[0m \u001B[1m0s\u001B[0m 25ms/step - accuracy: 0.8221 - loss: 0.6545 - pr_auc: 0.3269\n",
      "Epoch 10: val_pr_auc did not improve from 0.02177\n",
      "\u001B[1m191/191\u001B[0m \u001B[32m━━━━━━━━━━━━━━━━━━━━\u001B[0m\u001B[37m\u001B[0m \u001B[1m5s\u001B[0m 26ms/step - accuracy: 0.8216 - loss: 0.6571 - pr_auc: 0.3075 - val_accuracy: 0.9895 - val_loss: 0.6527 - val_pr_auc: 0.0087\n",
      "Epoch 11/50\n",
      "\u001B[1m190/191\u001B[0m \u001B[32m━━━━━━━━━━━━━━━━━━━\u001B[0m\u001B[37m━\u001B[0m \u001B[1m0s\u001B[0m 24ms/step - accuracy: 0.8114 - loss: 0.6624 - pr_auc: 0.3081\n",
      "Epoch 11: val_pr_auc did not improve from 0.02177\n",
      "\u001B[1m191/191\u001B[0m \u001B[32m━━━━━━━━━━━━━━━━━━━━\u001B[0m\u001B[37m\u001B[0m \u001B[1m5s\u001B[0m 25ms/step - accuracy: 0.8127 - loss: 0.6536 - pr_auc: 0.3177 - val_accuracy: 0.9860 - val_loss: 0.6438 - val_pr_auc: 0.0086\n",
      "Epoch 12/50\n",
      "\u001B[1m189/191\u001B[0m \u001B[32m━━━━━━━━━━━━━━━━━━━\u001B[0m\u001B[37m━\u001B[0m \u001B[1m0s\u001B[0m 24ms/step - accuracy: 0.8105 - loss: 0.6626 - pr_auc: 0.3102\n",
      "Epoch 12: val_pr_auc did not improve from 0.02177\n",
      "\u001B[1m191/191\u001B[0m \u001B[32m━━━━━━━━━━━━━━━━━━━━\u001B[0m\u001B[37m\u001B[0m \u001B[1m5s\u001B[0m 25ms/step - accuracy: 0.8121 - loss: 0.6586 - pr_auc: 0.3228 - val_accuracy: 0.9895 - val_loss: 0.6343 - val_pr_auc: 0.0087\n",
      "Epoch 12: early stopping\n",
      "Restoring model weights from the end of the best epoch: 7.\n",
      "Training finished.\n"
     ]
    }
   ],
   "execution_count": 8
  },
  {
   "metadata": {
    "ExecuteTime": {
     "end_time": "2025-10-28T13:55:40.522305Z",
     "start_time": "2025-10-28T13:55:39.510480Z"
    }
   },
   "cell_type": "code",
   "source": [
    "# --- 6. Evaluate the Model (v6) ---\n",
    "print(\"Evaluating v6 model (with best weights)...\")\n",
    "\n",
    "y_pred_proba_cnn_v6 = model_v6.predict(X_test_cnn).flatten()\n",
    "y_pred_cnn_v6 = (y_pred_proba_cnn_v6 > 0.5).astype(int)\n",
    "\n",
    "print(\"\\nConfusion Matrix (CNN v6):\")\n",
    "cm_cnn_v6 = confusion_matrix(y_test, y_pred_cnn_v6)\n",
    "print(cm_cnn_v6)\n",
    "\n",
    "print(\"\\nClassification Report (CNN v6):\")\n",
    "print(classification_report(y_test, y_pred_cnn_v6, target_names=['No Planet (0)', 'Planet (1)']))\n",
    "\n",
    "# --- 7. Plot Training History ---\n",
    "\n",
    "print(\"\\nPlotting training history...\")\n",
    "history_dict = history_v6.history\n",
    "loss = history_dict['loss']; val_loss = history_dict['val_loss']\n",
    "pr_auc = history_dict['pr_auc']; val_pr_auc = history_dict['val_pr_auc']\n",
    "actual_epochs = len(loss)\n",
    "epochs_range = range(1, actual_epochs + 1)\n",
    "plt.figure(figsize=(14, 6))\n",
    "plt.subplot(1, 2, 1)\n",
    "plt.plot(epochs_range, loss, 'bo-', label='Training Loss')\n",
    "plt.plot(epochs_range, val_loss, 'ro-', label='Validation Loss')\n",
    "plt.title('Training and Validation Loss (v6 - Augmented)')\n",
    "plt.xlabel('Epochs'); plt.ylabel('Loss'); plt.legend()\n",
    "plt.subplot(1, 2, 2)\n",
    "plt.plot(epochs_range, pr_auc, 'bo-', label='Training PR-AUC')\n",
    "plt.plot(epochs_range, val_pr_auc, 'ro-', label='Validation PR-AUC')\n",
    "plt.title('Training and Validation PR-AUC (v6 - Augmented)')\n",
    "plt.xlabel('Epochs'); plt.ylabel('PR-AUC Score'); plt.legend()\n",
    "plt.tight_layout()\n",
    "plt.show()"
   ],
   "id": "ba3192951a1b6e22",
   "outputs": [
    {
     "name": "stdout",
     "output_type": "stream",
     "text": [
      "Evaluating v6 model (with best weights)...\n",
      "\u001B[1m18/18\u001B[0m \u001B[32m━━━━━━━━━━━━━━━━━━━━\u001B[0m\u001B[37m\u001B[0m \u001B[1m0s\u001B[0m 18ms/step\n",
      "\n",
      "Confusion Matrix (CNN v6):\n",
      "[[565   0]\n",
      " [  5   0]]\n",
      "\n",
      "Classification Report (CNN v6):\n",
      "               precision    recall  f1-score   support\n",
      "\n",
      "No Planet (0)       0.99      1.00      1.00       565\n",
      "   Planet (1)       0.00      0.00      0.00         5\n",
      "\n",
      "     accuracy                           0.99       570\n",
      "    macro avg       0.50      0.50      0.50       570\n",
      " weighted avg       0.98      0.99      0.99       570\n",
      "\n",
      "\n",
      "Plotting training history...\n"
     ]
    },
    {
     "name": "stderr",
     "output_type": "stream",
     "text": [
      "C:\\Users\\libra\\IdeaProjects\\exoplanet-detection-ml\\venv\\Lib\\site-packages\\sklearn\\metrics\\_classification.py:1731: UndefinedMetricWarning: Precision is ill-defined and being set to 0.0 in labels with no predicted samples. Use `zero_division` parameter to control this behavior.\n",
      "  _warn_prf(average, modifier, f\"{metric.capitalize()} is\", result.shape[0])\n",
      "C:\\Users\\libra\\IdeaProjects\\exoplanet-detection-ml\\venv\\Lib\\site-packages\\sklearn\\metrics\\_classification.py:1731: UndefinedMetricWarning: Precision is ill-defined and being set to 0.0 in labels with no predicted samples. Use `zero_division` parameter to control this behavior.\n",
      "  _warn_prf(average, modifier, f\"{metric.capitalize()} is\", result.shape[0])\n",
      "C:\\Users\\libra\\IdeaProjects\\exoplanet-detection-ml\\venv\\Lib\\site-packages\\sklearn\\metrics\\_classification.py:1731: UndefinedMetricWarning: Precision is ill-defined and being set to 0.0 in labels with no predicted samples. Use `zero_division` parameter to control this behavior.\n",
      "  _warn_prf(average, modifier, f\"{metric.capitalize()} is\", result.shape[0])\n"
     ]
    },
    {
     "data": {
      "text/plain": [
       "<Figure size 1400x600 with 2 Axes>"
      ],
      "image/png": "[encoded data removed]"
     },
     "metadata": {},
     "output_type": "display_data"
    }
   ],
   "execution_count": 9
  }
 ],
 "metadata": {
  "kernelspec": {
   "display_name": "Python 3",
   "language": "python",
   "name": "python3"
  },
  "language_info": {
   "codemirror_mode": {
    "name": "ipython",
    "version": 2
   },
   "file_extension": ".py",
   "mimetype": "text/x-python",
   "name": "python",
   "nbconvert_exporter": "python",
   "pygments_lexer": "ipython2",
   "version": "2.7.6"
  }
 },
 "nbformat": 4,
 "nbformat_minor": 5
}
