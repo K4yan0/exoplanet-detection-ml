{
 "cells": [
  {
   "metadata": {},
   "cell_type": "raw",
   "source": "",
   "id": "1af4e4c5c5643dfb"
  },
  {
   "cell_type": "code",
   "id": "initial_id",
   "metadata": {
    "collapsed": true,
    "ExecuteTime": {
     "end_time": "2025-10-24T09:49:02.642608Z",
     "start_time": "2025-10-24T09:49:02.637492Z"
    }
   },
   "source": [
    "import pandas as pd\n",
    "#import numpy as np\n",
    "import matplotlib.pyplot as plt\n",
    "#import seaborn as sns\n",
    "import sys\n",
    "\n",
    "# Ajoute le dossier parent au 'path' pour trouver 'src'\n",
    "sys.path.append('../src')\n",
    "from src.preprocess import normalize_flux"
   ],
   "outputs": [],
   "execution_count": 13
  },
  {
   "metadata": {
    "ExecuteTime": {
     "end_time": "2025-10-24T09:49:08.584123Z",
     "start_time": "2025-10-24T09:49:04.632037Z"
    }
   },
   "cell_type": "code",
   "source": [
    "# Chemin vers les données\n",
    "TRAIN_PATH = '../data/raw/train.csv'\n",
    "TEST_PATH = '../data/raw/test.csv'\n",
    "\n",
    "# Charger les données\n",
    "df_train = pd.read_csv(TRAIN_PATH)\n",
    "df_test = pd.read_csv(TEST_PATH)\n",
    "\n",
    "# --- CORRECTION DES LABELS ---\n",
    "df_train['LABEL'] = df_train['LABEL'].map({1: 0, 2: 1})\n",
    "df_test['LABEL'] = df_test['LABEL'].map({1: 0, 2: 1})\n",
    "\n",
    "print(\"Données d'entraînement chargées :\", df_train.shape)\n",
    "print(\"Données de test chargées :\", df_test.shape)"
   ],
   "id": "79d367fd07f48d14",
   "outputs": [
    {
     "name": "stdout",
     "output_type": "stream",
     "text": [
      "Données d'entraînement chargées : (5087, 3198)\n",
      "Données de test chargées : (570, 3198)\n"
     ]
    }
   ],
   "execution_count": 14
  },
  {
   "metadata": {
    "ExecuteTime": {
     "end_time": "2025-10-24T09:49:11.677163Z",
     "start_time": "2025-10-24T09:49:11.610074Z"
    }
   },
   "cell_type": "code",
   "source": [
    "# Vérifier le déséquilibre des classes\n",
    "print(\"Répartition des classes (0=Pas de Planète, 1=Planète):\")\n",
    "print(df_train['LABEL'].value_counts(normalize=True))\n",
    "\n",
    "# Séparer X (flux) et Y (label)\n",
    "X_train = df_train.drop('LABEL', axis=1)\n",
    "y_train = df_train['LABEL']\n",
    "\n",
    "# Visualiser un exemple de chaque\n",
    "plt.figure(figsize=(15, 6))\n",
    "# ... (le reste du code pour les graphiques) ...\n",
    "plt.show()"
   ],
   "id": "80a06afe55ece1a6",
   "outputs": [
    {
     "name": "stdout",
     "output_type": "stream",
     "text": [
      "Répartition des classes (0=Pas de Planète, 1=Planète):\n",
      "LABEL\n",
      "0    0.992727\n",
      "1    0.007273\n",
      "Name: proportion, dtype: float64\n"
     ]
    },
    {
     "data": {
      "text/plain": [
       "<Figure size 1500x600 with 0 Axes>"
      ]
     },
     "metadata": {},
     "output_type": "display_data"
    }
   ],
   "execution_count": 15
  },
  {
   "metadata": {
    "ExecuteTime": {
     "end_time": "2025-10-25T21:05:32.854022Z",
     "start_time": "2025-10-25T21:05:21.868068Z"
    }
   },
   "cell_type": "code",
   "source": [
    "# 1. Gérer les NaN\n",
    "X_train_filled = X_train.fillna(0)\n",
    "# Nous préparons aussi X_test\n",
    "X_test = df_test.drop('LABEL', axis=1)\n",
    "y_test = df_test['LABEL']\n",
    "X_test_filled = X_test.fillna(0)\n",
    "\n",
    "# 3. Appliquer la normalisation\n",
    "print(\"Début de la normalisation (detrending) sur X_train...\")\n",
    "X_train_normalized = X_train_filled.apply(normalize_flux, axis=1)\n",
    "print(\"Normalisation X_train terminée.\")\n",
    "\n",
    "print(\"\\nDébut de la normalisation (detrending) sur X_test...\")\n",
    "X_test_normalized = X_test_filled.apply(normalize_flux, axis=1)\n",
    "print(\"Normalisation X_test terminée.\")\n",
    "\n",
    "# 4. Vérifier que cela a fonctionné\n",
    "print(\"\\nFlux normalisé (X_train_normalized):\")\n",
    "print(X_train_normalized.head())"
   ],
   "id": "ab814f9a1a9d21bb",
   "outputs": [
    {
     "name": "stdout",
     "output_type": "stream",
     "text": [
      "Début de la normalisation (detrending) sur X_train...\n",
      "Normalisation X_train terminée.\n",
      "\n",
      "Début de la normalisation (detrending) sur X_test...\n",
      "Normalisation X_test terminée.\n",
      "\n",
      "Flux normalisé (X_train_normalized):\n",
      "     FLUX.1    FLUX.2    FLUX.3    FLUX.4    FLUX.5    FLUX.6    FLUX.7  \\\n",
      "0 -1.886686 -1.787830 -1.190518 -0.743625 -0.617823  0.219779  0.329200   \n",
      "1 -0.085511 -0.203074  0.367709 -0.074256  0.815648  0.647483  0.930251   \n",
      "2 -0.005947  0.002972 -0.035086 -0.063066 -0.134840 -0.110121 -0.106123   \n",
      "3 -0.039901  0.022359 -0.107982 -0.117303 -0.054814 -0.064967 -0.029001   \n",
      "4  0.366722  0.373324  0.379843  0.348515  0.299895  0.266291  0.217862   \n",
      "\n",
      "     FLUX.8    FLUX.9   FLUX.10  ...  FLUX.3188  FLUX.3189  FLUX.3190  \\\n",
      "0 -0.038641 -0.201974  0.605494  ...   4.212807   8.255525  10.831223   \n",
      "1  0.864299  0.802409  0.549976  ...  -0.630915   3.029169   3.192708   \n",
      "2 -0.055326 -0.144493 -0.040067  ...   1.241573  -1.441677  -1.476459   \n",
      "3 -0.054769 -0.042079  0.002425  ...  -1.545467  -0.626124  -0.610770   \n",
      "4  0.242620  0.195782  0.167401  ...   0.133555  -0.223255  -0.210889   \n",
      "\n",
      "   FLUX.3191  FLUX.3192  FLUX.3193  FLUX.3194  FLUX.3195  FLUX.3196  FLUX.3197  \n",
      "0  -5.502672  -7.899501 -12.287344  -4.282753  -4.682457  -1.232949   0.640655  \n",
      "1   2.427663  -0.427389  -1.082666   0.215142  -1.623159  -2.490667  -2.841783  \n",
      "2   0.134810  -0.233995  -1.181503  -0.586258   0.006750   1.370022   2.296551  \n",
      "3  -4.115767  -3.057645   0.326815  -0.110454   0.716215   0.671632  -2.268725  \n",
      "4  -0.287043  -0.113959  -0.128722  -0.210044  -0.243437  -0.192684   0.000428  \n",
      "\n",
      "[5 rows x 3197 columns]\n"
     ]
    }
   ],
   "execution_count": 17
  }
 ],
 "metadata": {
  "kernelspec": {
   "display_name": "Python 3",
   "language": "python",
   "name": "python3"
  },
  "language_info": {
   "codemirror_mode": {
    "name": "ipython",
    "version": 2
   },
   "file_extension": ".py",
   "mimetype": "text/x-python",
   "name": "python",
   "nbconvert_exporter": "python",
   "pygments_lexer": "ipython2",
   "version": "2.7.6"
  }
 },
 "nbformat": 4,
 "nbformat_minor": 5
}
