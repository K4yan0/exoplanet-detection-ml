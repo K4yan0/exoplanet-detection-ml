{
 "cells": [
  {
   "cell_type": "code",
   "id": "initial_id",
   "metadata": {
    "collapsed": true,
    "ExecuteTime": {
     "end_time": "2025-11-01T09:36:01.229168Z",
     "start_time": "2025-11-01T09:35:24.500026Z"
    }
   },
   "source": [
    "import numpy as np\n",
    "import pandas as pd\n",
    "import matplotlib.pyplot as plt\n",
    "import tensorflow as tf\n",
    "from sklearn.model_selection import train_test_split\n",
    "from sklearn.metrics import classification_report, confusion_matrix, roc_auc_score\n",
    "from sklearn.metrics import average_precision_score\n",
    "from sklearn.utils import class_weight\n",
    "\n",
    "#shuffle csv\n",
    "from sklearn.utils import shuffle\n",
    "\n",
    "#Multiprocessing\n",
    "import multiprocessing\n",
    "from tqdm import tqdm  # Barre de progression\n",
    "\n",
    "#import feature\n",
    "from src.phase_folding import create_folded_lightcurve\n",
    "\n",
    "# TensorFlow\n",
    "pr_auc = tf.keras.metrics.AUC(curve='PR', name='pr_auc')\n",
    "\n",
    "print(\"Bibliothèques importées (avec multiprocessing et tqdm).\")"
   ],
   "outputs": [
    {
     "name": "stdout",
     "output_type": "stream",
     "text": [
      "Bibliothèques importées (avec multiprocessing et tqdm).\n"
     ]
    }
   ],
   "execution_count": 1
  },
  {
   "metadata": {
    "ExecuteTime": {
     "end_time": "2025-11-01T09:36:25.760455Z",
     "start_time": "2025-11-01T09:36:20.036133Z"
    }
   },
   "cell_type": "code",
   "source": [
    "print(\"Chargement des données brutes...\")\n",
    "train_df = pd.read_csv('../data/raw/train.csv')\n",
    "\n",
    "X_raw = train_df.drop('LABEL', axis=1).values\n",
    "y = train_df['LABEL'].values - 1  # (0, 1)\n",
    "\n",
    "print(\"Mélange des données...\")\n",
    "X_raw_shuffled, y_shuffled = shuffle(X_raw, y, random_state=42)\n",
    "\n",
    "print(f\"Forme de X_raw_shuffled : {X_raw_shuffled.shape}\")\n",
    "print(f\"Forme de y_shuffled : {y_shuffled.shape}\")"
   ],
   "id": "6425fd9bc865195",
   "outputs": [
    {
     "name": "stdout",
     "output_type": "stream",
     "text": [
      "Chargement des données brutes...\n",
      "Mélange des données...\n",
      "Forme de X_raw_shuffled : (5087, 3197)\n",
      "Forme de y_shuffled : (5087,)\n"
     ]
    }
   ],
   "execution_count": 2
  },
  {
   "metadata": {
    "ExecuteTime": {
     "end_time": "2025-11-01T09:57:02.742388Z",
     "start_time": "2025-11-01T09:36:29.172047Z"
    }
   },
   "cell_type": "code",
   "source": [
    "N_BINS = 500\n",
    "\n",
    "# On utilise les données complètes (mélangées) de la Cellule 2\n",
    "X_data_to_process = X_raw_shuffled\n",
    "y_data_to_process = y_shuffled\n",
    "\n",
    "print(f\"Démarrage du pré-traitement 'Phase Folding' PARALLÉLISÉ sur {len(X_data_to_process)} étoiles...\")\n",
    "\n",
    "# 1. Déterminer le nombre de cœurs\n",
    "N_CORES = multiprocessing.cpu_count() - 1\n",
    "if N_CORES < 1:\n",
    "    N_CORES = 1\n",
    "print(f\"Utilisation de {N_CORES} cœurs CPU...\")\n",
    "\n",
    "# 2. Préparer les arguments pour la fonction\n",
    "# (Notre fonction a besoin de 2 arguments : row et n_bins)\n",
    "func_args = [(row, N_BINS) for row in X_data_to_process]\n",
    "\n",
    "# 3. Créer un \"pool\" de workers et lancer le calcul\n",
    "with multiprocessing.Pool(processes=N_CORES) as pool:\n",
    "    # pool.starmap est fait pour les fonctions avec plusieurs arguments\n",
    "    # tqdm ajoute la barre de progression\n",
    "    X_folded = list(tqdm(pool.starmap(create_folded_lightcurve, func_args), total=len(X_data_to_process)))\n",
    "\n",
    "# 4. Convertir la liste de résultats en array numpy\n",
    "X_folded = np.array(X_folded)\n",
    "\n",
    "# 5. y devient y_data_to_process pour la Cellule 4\n",
    "y = y_data_to_process\n",
    "\n",
    "print(\"Pré-traitement 'Phase Folding' terminé !\")\n",
    "print(f\"Forme de X_folded (nos nouvelles features) : {X_folded.shape}\")\n",
    "print(f\"Forme de y (cibles) : {y.shape}\")"
   ],
   "id": "269a757c15cec483",
   "outputs": [
    {
     "name": "stdout",
     "output_type": "stream",
     "text": [
      "Démarrage du pré-traitement 'Phase Folding' PARALLÉLISÉ sur 5087 étoiles...\n",
      "Utilisation de 7 cœurs CPU...\n"
     ]
    },
    {
     "name": "stderr",
     "output_type": "stream",
     "text": [
      "100%|██████████| 5087/5087 [00:00<00:00, 1655141.14it/s]"
     ]
    },
    {
     "name": "stdout",
     "output_type": "stream",
     "text": [
      "Pré-traitement 'Phase Folding' terminé !\n",
      "Forme de X_folded (nos nouvelles features) : (5087, 500)\n",
      "Forme de y (cibles) : (5087,)\n"
     ]
    },
    {
     "name": "stderr",
     "output_type": "stream",
     "text": [
      "\n"
     ]
    }
   ],
   "execution_count": 3
  },
  {
   "metadata": {
    "ExecuteTime": {
     "end_time": "2025-11-01T09:59:53.413503Z",
     "start_time": "2025-11-01T09:59:53.385585Z"
    }
   },
   "cell_type": "code",
   "source": [
    "print(\"Division des données complètes (Train/Test)...\")\n",
    "X_train, X_test, y_train, y_test = train_test_split(\n",
    "    X_folded,  # <-- Données complètes\n",
    "    y,         # <-- Données complètes\n",
    "    test_size=0.2,\n",
    "    random_state=42,\n",
    "    stratify=y # Stratifier sur TOUTES les données\n",
    ")\n",
    "\n",
    "# Redimensionner pour le CNN\n",
    "X_train_cnn = np.expand_dims(X_train, axis=-1)\n",
    "X_test_cnn = np.expand_dims(X_test, axis=-1)\n",
    "\n",
    "INPUT_SHAPE = (N_BINS, 1)\n",
    "\n",
    "print(f\"Forme X_train_cnn : {X_train_cnn.shape}\")\n",
    "print(f\"Forme X_test_cnn : {X_test_cnn.shape}\")\n",
    "print(f\"Classes dans y_train : {np.unique(y_train, return_counts=True)}\")\n",
    "print(f\"Classes dans y_test : {np.unique(y_test, return_counts=True)}\")"
   ],
   "id": "e0123083e63c07af",
   "outputs": [
    {
     "name": "stdout",
     "output_type": "stream",
     "text": [
      "Division des données complètes (Train/Test)...\n",
      "Forme X_train_cnn : (4069, 500, 1)\n",
      "Forme X_test_cnn : (1018, 500, 1)\n",
      "Classes dans y_train : (array([0, 1]), array([4039,   30]))\n",
      "Classes dans y_test : (array([0, 1]), array([1011,    7]))\n"
     ]
    }
   ],
   "execution_count": 4
  },
  {
   "metadata": {
    "ExecuteTime": {
     "end_time": "2025-11-01T09:59:57.346921Z",
     "start_time": "2025-11-01T09:59:57.148562Z"
    }
   },
   "cell_type": "code",
   "source": [
    "# Le v10 était en underfitting adding more capacity .\n",
    "\n",
    "def build_phase_model_v11(input_shape):\n",
    "    model = tf.keras.models.Sequential(name=\"CNN_v11_Deeper\")\n",
    "\n",
    "    model.add(tf.keras.layers.Input(shape=input_shape))\n",
    "\n",
    "    # 1er Bloc (plus de filtres)\n",
    "    model.add(tf.keras.layers.Conv1D(filters=32, kernel_size=7, activation='relu', padding='same'))\n",
    "    model.add(tf.keras.layers.MaxPooling1D(pool_size=3))\n",
    "    model.add(tf.keras.layers.Dropout(0.3))\n",
    "\n",
    "    # 2ème Bloc\n",
    "    model.add(tf.keras.layers.Conv1D(filters=64, kernel_size=5, activation='relu', padding='same'))\n",
    "    model.add(tf.keras.layers.MaxPooling1D(pool_size=3))\n",
    "    model.add(tf.keras.layers.Dropout(0.3))\n",
    "\n",
    "    # 3ème Bloc (encore plus profond)\n",
    "    model.add(tf.keras.layers.Conv1D(filters=128, kernel_size=3, activation='relu', padding='same'))\n",
    "    model.add(tf.keras.layers.MaxPooling1D(pool_size=3))\n",
    "    model.add(tf.keras.layers.Dropout(0.3))\n",
    "\n",
    "    # Tête de classification (plus de neurones)\n",
    "    model.add(tf.keras.layers.Flatten())\n",
    "    model.add(tf.keras.layers.Dense(64, activation='relu'))\n",
    "    model.add(tf.keras.layers.Dropout(0.5))\n",
    "    model.add(tf.keras.layers.Dense(1, activation='sigmoid'))\n",
    "\n",
    "    return model\n",
    "\n",
    "model = build_phase_model_v11(INPUT_SHAPE)\n",
    "\n",
    "# Compiler avec le même optimisateur\n",
    "model.compile(\n",
    "    optimizer=tf.keras.optimizers.Adam(learning_rate=1e-4),\n",
    "    loss='binary_crossentropy',\n",
    "    metrics=['accuracy', pr_auc] # On suit toujours le PR-AUC\n",
    ")\n",
    "\n",
    "model.summary()"
   ],
   "id": "4c88fdcd03ad7211",
   "outputs": [
    {
     "data": {
      "text/plain": [
       "\u001B[1mModel: \"CNN_v11_Deeper\"\u001B[0m\n"
      ],
      "text/html": [
       "<pre style=\"white-space:pre;overflow-x:auto;line-height:normal;font-family:Menlo,'DejaVu Sans Mono',consolas,'Courier New',monospace\"><span style=\"font-weight: bold\">Model: \"CNN_v11_Deeper\"</span>\n",
       "</pre>\n"
      ]
     },
     "metadata": {},
     "output_type": "display_data"
    },
    {
     "data": {
      "text/plain": [
       "┏━━━━━━━━━━━━━━━━━━━━━━━━━━━━━━━━━┳━━━━━━━━━━━━━━━━━━━━━━━━┳━━━━━━━━━━━━━━━┓\n",
       "┃\u001B[1m \u001B[0m\u001B[1mLayer (type)                   \u001B[0m\u001B[1m \u001B[0m┃\u001B[1m \u001B[0m\u001B[1mOutput Shape          \u001B[0m\u001B[1m \u001B[0m┃\u001B[1m \u001B[0m\u001B[1m      Param #\u001B[0m\u001B[1m \u001B[0m┃\n",
       "┡━━━━━━━━━━━━━━━━━━━━━━━━━━━━━━━━━╇━━━━━━━━━━━━━━━━━━━━━━━━╇━━━━━━━━━━━━━━━┩\n",
       "│ conv1d (\u001B[38;5;33mConv1D\u001B[0m)                 │ (\u001B[38;5;45mNone\u001B[0m, \u001B[38;5;34m500\u001B[0m, \u001B[38;5;34m32\u001B[0m)        │           \u001B[38;5;34m256\u001B[0m │\n",
       "├─────────────────────────────────┼────────────────────────┼───────────────┤\n",
       "│ max_pooling1d (\u001B[38;5;33mMaxPooling1D\u001B[0m)    │ (\u001B[38;5;45mNone\u001B[0m, \u001B[38;5;34m166\u001B[0m, \u001B[38;5;34m32\u001B[0m)        │             \u001B[38;5;34m0\u001B[0m │\n",
       "├─────────────────────────────────┼────────────────────────┼───────────────┤\n",
       "│ dropout (\u001B[38;5;33mDropout\u001B[0m)               │ (\u001B[38;5;45mNone\u001B[0m, \u001B[38;5;34m166\u001B[0m, \u001B[38;5;34m32\u001B[0m)        │             \u001B[38;5;34m0\u001B[0m │\n",
       "├─────────────────────────────────┼────────────────────────┼───────────────┤\n",
       "│ conv1d_1 (\u001B[38;5;33mConv1D\u001B[0m)               │ (\u001B[38;5;45mNone\u001B[0m, \u001B[38;5;34m166\u001B[0m, \u001B[38;5;34m64\u001B[0m)        │        \u001B[38;5;34m10,304\u001B[0m │\n",
       "├─────────────────────────────────┼────────────────────────┼───────────────┤\n",
       "│ max_pooling1d_1 (\u001B[38;5;33mMaxPooling1D\u001B[0m)  │ (\u001B[38;5;45mNone\u001B[0m, \u001B[38;5;34m55\u001B[0m, \u001B[38;5;34m64\u001B[0m)         │             \u001B[38;5;34m0\u001B[0m │\n",
       "├─────────────────────────────────┼────────────────────────┼───────────────┤\n",
       "│ dropout_1 (\u001B[38;5;33mDropout\u001B[0m)             │ (\u001B[38;5;45mNone\u001B[0m, \u001B[38;5;34m55\u001B[0m, \u001B[38;5;34m64\u001B[0m)         │             \u001B[38;5;34m0\u001B[0m │\n",
       "├─────────────────────────────────┼────────────────────────┼───────────────┤\n",
       "│ conv1d_2 (\u001B[38;5;33mConv1D\u001B[0m)               │ (\u001B[38;5;45mNone\u001B[0m, \u001B[38;5;34m55\u001B[0m, \u001B[38;5;34m128\u001B[0m)        │        \u001B[38;5;34m24,704\u001B[0m │\n",
       "├─────────────────────────────────┼────────────────────────┼───────────────┤\n",
       "│ max_pooling1d_2 (\u001B[38;5;33mMaxPooling1D\u001B[0m)  │ (\u001B[38;5;45mNone\u001B[0m, \u001B[38;5;34m18\u001B[0m, \u001B[38;5;34m128\u001B[0m)        │             \u001B[38;5;34m0\u001B[0m │\n",
       "├─────────────────────────────────┼────────────────────────┼───────────────┤\n",
       "│ dropout_2 (\u001B[38;5;33mDropout\u001B[0m)             │ (\u001B[38;5;45mNone\u001B[0m, \u001B[38;5;34m18\u001B[0m, \u001B[38;5;34m128\u001B[0m)        │             \u001B[38;5;34m0\u001B[0m │\n",
       "├─────────────────────────────────┼────────────────────────┼───────────────┤\n",
       "│ flatten (\u001B[38;5;33mFlatten\u001B[0m)               │ (\u001B[38;5;45mNone\u001B[0m, \u001B[38;5;34m2304\u001B[0m)           │             \u001B[38;5;34m0\u001B[0m │\n",
       "├─────────────────────────────────┼────────────────────────┼───────────────┤\n",
       "│ dense (\u001B[38;5;33mDense\u001B[0m)                   │ (\u001B[38;5;45mNone\u001B[0m, \u001B[38;5;34m64\u001B[0m)             │       \u001B[38;5;34m147,520\u001B[0m │\n",
       "├─────────────────────────────────┼────────────────────────┼───────────────┤\n",
       "│ dropout_3 (\u001B[38;5;33mDropout\u001B[0m)             │ (\u001B[38;5;45mNone\u001B[0m, \u001B[38;5;34m64\u001B[0m)             │             \u001B[38;5;34m0\u001B[0m │\n",
       "├─────────────────────────────────┼────────────────────────┼───────────────┤\n",
       "│ dense_1 (\u001B[38;5;33mDense\u001B[0m)                 │ (\u001B[38;5;45mNone\u001B[0m, \u001B[38;5;34m1\u001B[0m)              │            \u001B[38;5;34m65\u001B[0m │\n",
       "└─────────────────────────────────┴────────────────────────┴───────────────┘\n"
      ],
      "text/html": [
       "<pre style=\"white-space:pre;overflow-x:auto;line-height:normal;font-family:Menlo,'DejaVu Sans Mono',consolas,'Courier New',monospace\">┏━━━━━━━━━━━━━━━━━━━━━━━━━━━━━━━━━┳━━━━━━━━━━━━━━━━━━━━━━━━┳━━━━━━━━━━━━━━━┓\n",
       "┃<span style=\"font-weight: bold\"> Layer (type)                    </span>┃<span style=\"font-weight: bold\"> Output Shape           </span>┃<span style=\"font-weight: bold\">       Param # </span>┃\n",
       "┡━━━━━━━━━━━━━━━━━━━━━━━━━━━━━━━━━╇━━━━━━━━━━━━━━━━━━━━━━━━╇━━━━━━━━━━━━━━━┩\n",
       "│ conv1d (<span style=\"color: #0087ff; text-decoration-color: #0087ff\">Conv1D</span>)                 │ (<span style=\"color: #00d7ff; text-decoration-color: #00d7ff\">None</span>, <span style=\"color: #00af00; text-decoration-color: #00af00\">500</span>, <span style=\"color: #00af00; text-decoration-color: #00af00\">32</span>)        │           <span style=\"color: #00af00; text-decoration-color: #00af00\">256</span> │\n",
       "├─────────────────────────────────┼────────────────────────┼───────────────┤\n",
       "│ max_pooling1d (<span style=\"color: #0087ff; text-decoration-color: #0087ff\">MaxPooling1D</span>)    │ (<span style=\"color: #00d7ff; text-decoration-color: #00d7ff\">None</span>, <span style=\"color: #00af00; text-decoration-color: #00af00\">166</span>, <span style=\"color: #00af00; text-decoration-color: #00af00\">32</span>)        │             <span style=\"color: #00af00; text-decoration-color: #00af00\">0</span> │\n",
       "├─────────────────────────────────┼────────────────────────┼───────────────┤\n",
       "│ dropout (<span style=\"color: #0087ff; text-decoration-color: #0087ff\">Dropout</span>)               │ (<span style=\"color: #00d7ff; text-decoration-color: #00d7ff\">None</span>, <span style=\"color: #00af00; text-decoration-color: #00af00\">166</span>, <span style=\"color: #00af00; text-decoration-color: #00af00\">32</span>)        │             <span style=\"color: #00af00; text-decoration-color: #00af00\">0</span> │\n",
       "├─────────────────────────────────┼────────────────────────┼───────────────┤\n",
       "│ conv1d_1 (<span style=\"color: #0087ff; text-decoration-color: #0087ff\">Conv1D</span>)               │ (<span style=\"color: #00d7ff; text-decoration-color: #00d7ff\">None</span>, <span style=\"color: #00af00; text-decoration-color: #00af00\">166</span>, <span style=\"color: #00af00; text-decoration-color: #00af00\">64</span>)        │        <span style=\"color: #00af00; text-decoration-color: #00af00\">10,304</span> │\n",
       "├─────────────────────────────────┼────────────────────────┼───────────────┤\n",
       "│ max_pooling1d_1 (<span style=\"color: #0087ff; text-decoration-color: #0087ff\">MaxPooling1D</span>)  │ (<span style=\"color: #00d7ff; text-decoration-color: #00d7ff\">None</span>, <span style=\"color: #00af00; text-decoration-color: #00af00\">55</span>, <span style=\"color: #00af00; text-decoration-color: #00af00\">64</span>)         │             <span style=\"color: #00af00; text-decoration-color: #00af00\">0</span> │\n",
       "├─────────────────────────────────┼────────────────────────┼───────────────┤\n",
       "│ dropout_1 (<span style=\"color: #0087ff; text-decoration-color: #0087ff\">Dropout</span>)             │ (<span style=\"color: #00d7ff; text-decoration-color: #00d7ff\">None</span>, <span style=\"color: #00af00; text-decoration-color: #00af00\">55</span>, <span style=\"color: #00af00; text-decoration-color: #00af00\">64</span>)         │             <span style=\"color: #00af00; text-decoration-color: #00af00\">0</span> │\n",
       "├─────────────────────────────────┼────────────────────────┼───────────────┤\n",
       "│ conv1d_2 (<span style=\"color: #0087ff; text-decoration-color: #0087ff\">Conv1D</span>)               │ (<span style=\"color: #00d7ff; text-decoration-color: #00d7ff\">None</span>, <span style=\"color: #00af00; text-decoration-color: #00af00\">55</span>, <span style=\"color: #00af00; text-decoration-color: #00af00\">128</span>)        │        <span style=\"color: #00af00; text-decoration-color: #00af00\">24,704</span> │\n",
       "├─────────────────────────────────┼────────────────────────┼───────────────┤\n",
       "│ max_pooling1d_2 (<span style=\"color: #0087ff; text-decoration-color: #0087ff\">MaxPooling1D</span>)  │ (<span style=\"color: #00d7ff; text-decoration-color: #00d7ff\">None</span>, <span style=\"color: #00af00; text-decoration-color: #00af00\">18</span>, <span style=\"color: #00af00; text-decoration-color: #00af00\">128</span>)        │             <span style=\"color: #00af00; text-decoration-color: #00af00\">0</span> │\n",
       "├─────────────────────────────────┼────────────────────────┼───────────────┤\n",
       "│ dropout_2 (<span style=\"color: #0087ff; text-decoration-color: #0087ff\">Dropout</span>)             │ (<span style=\"color: #00d7ff; text-decoration-color: #00d7ff\">None</span>, <span style=\"color: #00af00; text-decoration-color: #00af00\">18</span>, <span style=\"color: #00af00; text-decoration-color: #00af00\">128</span>)        │             <span style=\"color: #00af00; text-decoration-color: #00af00\">0</span> │\n",
       "├─────────────────────────────────┼────────────────────────┼───────────────┤\n",
       "│ flatten (<span style=\"color: #0087ff; text-decoration-color: #0087ff\">Flatten</span>)               │ (<span style=\"color: #00d7ff; text-decoration-color: #00d7ff\">None</span>, <span style=\"color: #00af00; text-decoration-color: #00af00\">2304</span>)           │             <span style=\"color: #00af00; text-decoration-color: #00af00\">0</span> │\n",
       "├─────────────────────────────────┼────────────────────────┼───────────────┤\n",
       "│ dense (<span style=\"color: #0087ff; text-decoration-color: #0087ff\">Dense</span>)                   │ (<span style=\"color: #00d7ff; text-decoration-color: #00d7ff\">None</span>, <span style=\"color: #00af00; text-decoration-color: #00af00\">64</span>)             │       <span style=\"color: #00af00; text-decoration-color: #00af00\">147,520</span> │\n",
       "├─────────────────────────────────┼────────────────────────┼───────────────┤\n",
       "│ dropout_3 (<span style=\"color: #0087ff; text-decoration-color: #0087ff\">Dropout</span>)             │ (<span style=\"color: #00d7ff; text-decoration-color: #00d7ff\">None</span>, <span style=\"color: #00af00; text-decoration-color: #00af00\">64</span>)             │             <span style=\"color: #00af00; text-decoration-color: #00af00\">0</span> │\n",
       "├─────────────────────────────────┼────────────────────────┼───────────────┤\n",
       "│ dense_1 (<span style=\"color: #0087ff; text-decoration-color: #0087ff\">Dense</span>)                 │ (<span style=\"color: #00d7ff; text-decoration-color: #00d7ff\">None</span>, <span style=\"color: #00af00; text-decoration-color: #00af00\">1</span>)              │            <span style=\"color: #00af00; text-decoration-color: #00af00\">65</span> │\n",
       "└─────────────────────────────────┴────────────────────────┴───────────────┘\n",
       "</pre>\n"
      ]
     },
     "metadata": {},
     "output_type": "display_data"
    },
    {
     "data": {
      "text/plain": [
       "\u001B[1m Total params: \u001B[0m\u001B[38;5;34m182,849\u001B[0m (714.25 KB)\n"
      ],
      "text/html": [
       "<pre style=\"white-space:pre;overflow-x:auto;line-height:normal;font-family:Menlo,'DejaVu Sans Mono',consolas,'Courier New',monospace\"><span style=\"font-weight: bold\"> Total params: </span><span style=\"color: #00af00; text-decoration-color: #00af00\">182,849</span> (714.25 KB)\n",
       "</pre>\n"
      ]
     },
     "metadata": {},
     "output_type": "display_data"
    },
    {
     "data": {
      "text/plain": [
       "\u001B[1m Trainable params: \u001B[0m\u001B[38;5;34m182,849\u001B[0m (714.25 KB)\n"
      ],
      "text/html": [
       "<pre style=\"white-space:pre;overflow-x:auto;line-height:normal;font-family:Menlo,'DejaVu Sans Mono',consolas,'Courier New',monospace\"><span style=\"font-weight: bold\"> Trainable params: </span><span style=\"color: #00af00; text-decoration-color: #00af00\">182,849</span> (714.25 KB)\n",
       "</pre>\n"
      ]
     },
     "metadata": {},
     "output_type": "display_data"
    },
    {
     "data": {
      "text/plain": [
       "\u001B[1m Non-trainable params: \u001B[0m\u001B[38;5;34m0\u001B[0m (0.00 B)\n"
      ],
      "text/html": [
       "<pre style=\"white-space:pre;overflow-x:auto;line-height:normal;font-family:Menlo,'DejaVu Sans Mono',consolas,'Courier New',monospace\"><span style=\"font-weight: bold\"> Non-trainable params: </span><span style=\"color: #00af00; text-decoration-color: #00af00\">0</span> (0.00 B)\n",
       "</pre>\n"
      ]
     },
     "metadata": {},
     "output_type": "display_data"
    }
   ],
   "execution_count": 5
  },
  {
   "metadata": {
    "ExecuteTime": {
     "end_time": "2025-11-01T10:00:03.618644Z",
     "start_time": "2025-11-01T10:00:03.606970Z"
    }
   },
   "cell_type": "code",
   "source": [
    "# Calculer les poids basés sur le SET D'ENTRAÎNEMENT (y_train)\n",
    "# C'est la seule chose que le modèle doit voir\n",
    "weights = class_weight.compute_class_weight(\n",
    "    'balanced',\n",
    "    classes=np.unique(y_train),\n",
    "    y=y_train\n",
    ")\n",
    "\n",
    "# Keras attend un dictionnaire\n",
    "class_weights_dict = {0: weights[0], 1: weights[1]}\n",
    "\n",
    "print(f\"Poids de classe (Classe 0 'Pas Planète'): {weights[0]:.2f}\")\n",
    "print(f\"Poids de classe (Classe 1 'Planète'):   {weights[1]:.2f}\")"
   ],
   "id": "64c4c38c5343f602",
   "outputs": [
    {
     "name": "stdout",
     "output_type": "stream",
     "text": [
      "Poids de classe (Classe 0 'Pas Planète'): 0.50\n",
      "Poids de classe (Classe 1 'Planète'):   67.82\n"
     ]
    }
   ],
   "execution_count": 6
  },
  {
   "metadata": {
    "ExecuteTime": {
     "end_time": "2025-11-01T10:00:37.929845Z",
     "start_time": "2025-11-01T10:00:05.478057Z"
    }
   },
   "cell_type": "code",
   "source": [
    "# Cellule 6 : Callbacks et Entraînement (v12 - avec Class Weights)\n",
    "# ----------------------------------------------------------------\n",
    "\n",
    "# Noms de fichiers pour la v12\n",
    "LOG_DIR = './logs/v12_phase_folding_weighted'\n",
    "MODEL_PATH = '../models/cnn_v12_phase_folding_best.h5'\n",
    "\n",
    "# 1. Nettoyer les anciens logs (version Windows)\n",
    "!rmdir /S /Q .\\\\logs\\\\v12_phase_folding_weighted\n",
    "\n",
    "# 2. Définir les Callbacks (LE CODE QUI MANQUAIT)\n",
    "tensorboard_cb = tf.keras.callbacks.TensorBoard(log_dir=LOG_DIR, histogram_freq=1)\n",
    "\n",
    "checkpoint_cb = tf.keras.callbacks.ModelCheckpoint(\n",
    "    filepath=MODEL_PATH,\n",
    "    save_best_only=True,\n",
    "    monitor='val_pr_auc', # Toujours notre métrique clé\n",
    "    mode='max',\n",
    "    verbose=1\n",
    ")\n",
    "\n",
    "early_stopping_cb = tf.keras.callbacks.EarlyStopping(\n",
    "    monitor='val_pr_auc',\n",
    "    mode='max',\n",
    "    patience=10,\n",
    "    restore_best_weights=True,\n",
    "    verbose=1\n",
    ")\n",
    "\n",
    "# 3. Entraînement\n",
    "print(f\"Début de l'entraînement (v12 - avec Poids de Classe)...\")\n",
    "history = model.fit(\n",
    "    X_train_cnn,\n",
    "    y_train,\n",
    "    epochs=100,\n",
    "    batch_size=32,\n",
    "    validation_data=(X_test_cnn, y_test),\n",
    "\n",
    "    # On passe les callbacks qui sont maintenant définis\n",
    "    callbacks=[tensorboard_cb, checkpoint_cb, early_stopping_cb],\n",
    "\n",
    "    # Et on ajoute la nouvelle ligne magique\n",
    "    class_weight=class_weights_dict\n",
    ")"
   ],
   "id": "807cc97ce849feb",
   "outputs": [
    {
     "name": "stderr",
     "output_type": "stream",
     "text": [
      "Le fichier sp‚cifi‚ est introuvable.\n"
     ]
    },
    {
     "name": "stdout",
     "output_type": "stream",
     "text": [
      "Début de l'entraînement (v12 - avec Poids de Classe)...\n",
      "Epoch 1/100\n",
      "\u001B[1m126/128\u001B[0m \u001B[32m━━━━━━━━━━━━━━━━━━━\u001B[0m\u001B[37m━\u001B[0m \u001B[1m0s\u001B[0m 13ms/step - accuracy: 0.8861 - loss: 0.7763 - pr_auc: 0.0053\n",
      "Epoch 1: val_pr_auc improved from None to 0.02474, saving model to ../models/cnn_v12_phase_folding_best.h5\n"
     ]
    },
    {
     "name": "stderr",
     "output_type": "stream",
     "text": [
      "WARNING:absl:You are saving your model as an HDF5 file via `model.save()` or `keras.saving.save_model(model)`. This file format is considered legacy. We recommend using instead the native Keras format, e.g. `model.save('my_model.keras')` or `keras.saving.save_model(model, 'my_model.keras')`. \n"
     ]
    },
    {
     "name": "stdout",
     "output_type": "stream",
     "text": [
      "\u001B[1m128/128\u001B[0m \u001B[32m━━━━━━━━━━━━━━━━━━━━\u001B[0m\u001B[37m\u001B[0m \u001B[1m5s\u001B[0m 19ms/step - accuracy: 0.9629 - loss: 0.9822 - pr_auc: 0.0073 - val_accuracy: 0.9931 - val_loss: 0.4769 - val_pr_auc: 0.0247\n",
      "Epoch 2/100\n",
      "\u001B[1m126/128\u001B[0m \u001B[32m━━━━━━━━━━━━━━━━━━━\u001B[0m\u001B[37m━\u001B[0m \u001B[1m0s\u001B[0m 12ms/step - accuracy: 0.9812 - loss: 0.7614 - pr_auc: 0.0062\n",
      "Epoch 2: val_pr_auc improved from 0.02474 to 0.02908, saving model to ../models/cnn_v12_phase_folding_best.h5\n"
     ]
    },
    {
     "name": "stderr",
     "output_type": "stream",
     "text": [
      "WARNING:absl:You are saving your model as an HDF5 file via `model.save()` or `keras.saving.save_model(model)`. This file format is considered legacy. We recommend using instead the native Keras format, e.g. `model.save('my_model.keras')` or `keras.saving.save_model(model, 'my_model.keras')`. \n"
     ]
    },
    {
     "name": "stdout",
     "output_type": "stream",
     "text": [
      "\u001B[1m128/128\u001B[0m \u001B[32m━━━━━━━━━━━━━━━━━━━━\u001B[0m\u001B[37m\u001B[0m \u001B[1m2s\u001B[0m 14ms/step - accuracy: 0.9651 - loss: 0.7908 - pr_auc: 0.0070 - val_accuracy: 0.9430 - val_loss: 0.6082 - val_pr_auc: 0.0291\n",
      "Epoch 3/100\n",
      "\u001B[1m127/128\u001B[0m \u001B[32m━━━━━━━━━━━━━━━━━━━\u001B[0m\u001B[37m━\u001B[0m \u001B[1m0s\u001B[0m 13ms/step - accuracy: 0.9108 - loss: 0.6149 - pr_auc: 0.0043\n",
      "Epoch 3: val_pr_auc improved from 0.02908 to 0.04846, saving model to ../models/cnn_v12_phase_folding_best.h5\n"
     ]
    },
    {
     "name": "stderr",
     "output_type": "stream",
     "text": [
      "WARNING:absl:You are saving your model as an HDF5 file via `model.save()` or `keras.saving.save_model(model)`. This file format is considered legacy. We recommend using instead the native Keras format, e.g. `model.save('my_model.keras')` or `keras.saving.save_model(model, 'my_model.keras')`. \n"
     ]
    },
    {
     "name": "stdout",
     "output_type": "stream",
     "text": [
      "\u001B[1m128/128\u001B[0m \u001B[32m━━━━━━━━━━━━━━━━━━━━\u001B[0m\u001B[37m\u001B[0m \u001B[1m2s\u001B[0m 15ms/step - accuracy: 0.9098 - loss: 0.6916 - pr_auc: 0.0086 - val_accuracy: 0.5855 - val_loss: 0.6457 - val_pr_auc: 0.0485\n",
      "Epoch 4/100\n",
      "\u001B[1m125/128\u001B[0m \u001B[32m━━━━━━━━━━━━━━━━━━━\u001B[0m\u001B[37m━\u001B[0m \u001B[1m0s\u001B[0m 12ms/step - accuracy: 0.7578 - loss: 0.7029 - pr_auc: 0.0084\n",
      "Epoch 4: val_pr_auc did not improve from 0.04846\n",
      "\u001B[1m128/128\u001B[0m \u001B[32m━━━━━━━━━━━━━━━━━━━━\u001B[0m\u001B[37m\u001B[0m \u001B[1m2s\u001B[0m 14ms/step - accuracy: 0.7284 - loss: 0.6972 - pr_auc: 0.0074 - val_accuracy: 0.4479 - val_loss: 0.6882 - val_pr_auc: 0.0448\n",
      "Epoch 5/100\n",
      "\u001B[1m127/128\u001B[0m \u001B[32m━━━━━━━━━━━━━━━━━━━\u001B[0m\u001B[37m━\u001B[0m \u001B[1m0s\u001B[0m 11ms/step - accuracy: 0.6911 - loss: 0.6156 - pr_auc: 0.0091\n",
      "Epoch 5: val_pr_auc improved from 0.04846 to 0.08410, saving model to ../models/cnn_v12_phase_folding_best.h5\n"
     ]
    },
    {
     "name": "stderr",
     "output_type": "stream",
     "text": [
      "WARNING:absl:You are saving your model as an HDF5 file via `model.save()` or `keras.saving.save_model(model)`. This file format is considered legacy. We recommend using instead the native Keras format, e.g. `model.save('my_model.keras')` or `keras.saving.save_model(model, 'my_model.keras')`. \n"
     ]
    },
    {
     "name": "stdout",
     "output_type": "stream",
     "text": [
      "\u001B[1m128/128\u001B[0m \u001B[32m━━━━━━━━━━━━━━━━━━━━\u001B[0m\u001B[37m\u001B[0m \u001B[1m2s\u001B[0m 14ms/step - accuracy: 0.6879 - loss: 0.6832 - pr_auc: 0.0104 - val_accuracy: 0.4303 - val_loss: 0.6846 - val_pr_auc: 0.0841\n",
      "Epoch 6/100\n",
      "\u001B[1m125/128\u001B[0m \u001B[32m━━━━━━━━━━━━━━━━━━━\u001B[0m\u001B[37m━\u001B[0m \u001B[1m0s\u001B[0m 12ms/step - accuracy: 0.6841 - loss: 0.7642 - pr_auc: 0.0091\n",
      "Epoch 6: val_pr_auc did not improve from 0.08410\n",
      "\u001B[1m128/128\u001B[0m \u001B[32m━━━━━━━━━━━━━━━━━━━━\u001B[0m\u001B[37m\u001B[0m \u001B[1m2s\u001B[0m 14ms/step - accuracy: 0.6830 - loss: 0.6883 - pr_auc: 0.0087 - val_accuracy: 0.4676 - val_loss: 0.6724 - val_pr_auc: 0.0309\n",
      "Epoch 7/100\n",
      "\u001B[1m127/128\u001B[0m \u001B[32m━━━━━━━━━━━━━━━━━━━\u001B[0m\u001B[37m━\u001B[0m \u001B[1m0s\u001B[0m 12ms/step - accuracy: 0.7534 - loss: 0.6542 - pr_auc: 0.0107\n",
      "Epoch 7: val_pr_auc did not improve from 0.08410\n",
      "\u001B[1m128/128\u001B[0m \u001B[32m━━━━━━━━━━━━━━━━━━━━\u001B[0m\u001B[37m\u001B[0m \u001B[1m2s\u001B[0m 14ms/step - accuracy: 0.7638 - loss: 0.6581 - pr_auc: 0.0119 - val_accuracy: 0.6208 - val_loss: 0.6461 - val_pr_auc: 0.0339\n",
      "Epoch 8/100\n",
      "\u001B[1m127/128\u001B[0m \u001B[32m━━━━━━━━━━━━━━━━━━━\u001B[0m\u001B[37m━\u001B[0m \u001B[1m0s\u001B[0m 11ms/step - accuracy: 0.8120 - loss: 0.6907 - pr_auc: 0.0106\n",
      "Epoch 8: val_pr_auc did not improve from 0.08410\n",
      "\u001B[1m128/128\u001B[0m \u001B[32m━━━━━━━━━━━━━━━━━━━━\u001B[0m\u001B[37m\u001B[0m \u001B[1m2s\u001B[0m 13ms/step - accuracy: 0.8076 - loss: 0.6767 - pr_auc: 0.0100 - val_accuracy: 0.5383 - val_loss: 0.6497 - val_pr_auc: 0.0364\n",
      "Epoch 9/100\n",
      "\u001B[1m124/128\u001B[0m \u001B[32m━━━━━━━━━━━━━━━━━━━\u001B[0m\u001B[37m━\u001B[0m \u001B[1m0s\u001B[0m 13ms/step - accuracy: 0.7707 - loss: 0.6214 - pr_auc: 0.0189\n",
      "Epoch 9: val_pr_auc did not improve from 0.08410\n",
      "\u001B[1m128/128\u001B[0m \u001B[32m━━━━━━━━━━━━━━━━━━━━\u001B[0m\u001B[37m\u001B[0m \u001B[1m2s\u001B[0m 15ms/step - accuracy: 0.7609 - loss: 0.6438 - pr_auc: 0.0140 - val_accuracy: 0.4912 - val_loss: 0.6520 - val_pr_auc: 0.0349\n",
      "Epoch 10/100\n",
      "\u001B[1m126/128\u001B[0m \u001B[32m━━━━━━━━━━━━━━━━━━━\u001B[0m\u001B[37m━\u001B[0m \u001B[1m0s\u001B[0m 14ms/step - accuracy: 0.7594 - loss: 0.7038 - pr_auc: 0.0219\n",
      "Epoch 10: val_pr_auc did not improve from 0.08410\n",
      "\u001B[1m128/128\u001B[0m \u001B[32m━━━━━━━━━━━━━━━━━━━━\u001B[0m\u001B[37m\u001B[0m \u001B[1m2s\u001B[0m 16ms/step - accuracy: 0.7471 - loss: 0.6569 - pr_auc: 0.0139 - val_accuracy: 0.5275 - val_loss: 0.6554 - val_pr_auc: 0.0283\n",
      "Epoch 11/100\n",
      "\u001B[1m126/128\u001B[0m \u001B[32m━━━━━━━━━━━━━━━━━━━\u001B[0m\u001B[37m━\u001B[0m \u001B[1m0s\u001B[0m 12ms/step - accuracy: 0.7353 - loss: 0.7652 - pr_auc: 0.0361\n",
      "Epoch 11: val_pr_auc did not improve from 0.08410\n",
      "\u001B[1m128/128\u001B[0m \u001B[32m━━━━━━━━━━━━━━━━━━━━\u001B[0m\u001B[37m\u001B[0m \u001B[1m2s\u001B[0m 14ms/step - accuracy: 0.7383 - loss: 0.6534 - pr_auc: 0.0158 - val_accuracy: 0.4823 - val_loss: 0.6663 - val_pr_auc: 0.0185\n",
      "Epoch 12/100\n",
      "\u001B[1m124/128\u001B[0m \u001B[32m━━━━━━━━━━━━━━━━━━━\u001B[0m\u001B[37m━\u001B[0m \u001B[1m0s\u001B[0m 13ms/step - accuracy: 0.7692 - loss: 0.5685 - pr_auc: 0.0241\n",
      "Epoch 12: val_pr_auc did not improve from 0.08410\n",
      "\u001B[1m128/128\u001B[0m \u001B[32m━━━━━━━━━━━━━━━━━━━━\u001B[0m\u001B[37m\u001B[0m \u001B[1m2s\u001B[0m 15ms/step - accuracy: 0.7746 - loss: 0.6305 - pr_auc: 0.0167 - val_accuracy: 0.4578 - val_loss: 0.6634 - val_pr_auc: 0.0166\n",
      "Epoch 13/100\n",
      "\u001B[1m127/128\u001B[0m \u001B[32m━━━━━━━━━━━━━━━━━━━\u001B[0m\u001B[37m━\u001B[0m \u001B[1m0s\u001B[0m 12ms/step - accuracy: 0.7646 - loss: 0.6169 - pr_auc: 0.0354\n",
      "Epoch 13: val_pr_auc did not improve from 0.08410\n",
      "\u001B[1m128/128\u001B[0m \u001B[32m━━━━━━━━━━━━━━━━━━━━\u001B[0m\u001B[37m\u001B[0m \u001B[1m2s\u001B[0m 14ms/step - accuracy: 0.7798 - loss: 0.6264 - pr_auc: 0.0202 - val_accuracy: 0.5187 - val_loss: 0.6443 - val_pr_auc: 0.0211\n",
      "Epoch 14/100\n",
      "\u001B[1m124/128\u001B[0m \u001B[32m━━━━━━━━━━━━━━━━━━━\u001B[0m\u001B[37m━\u001B[0m \u001B[1m0s\u001B[0m 13ms/step - accuracy: 0.7515 - loss: 0.5721 - pr_auc: 0.0215\n",
      "Epoch 14: val_pr_auc did not improve from 0.08410\n",
      "\u001B[1m128/128\u001B[0m \u001B[32m━━━━━━━━━━━━━━━━━━━━\u001B[0m\u001B[37m\u001B[0m \u001B[1m2s\u001B[0m 14ms/step - accuracy: 0.7110 - loss: 0.6303 - pr_auc: 0.0128 - val_accuracy: 0.4489 - val_loss: 0.6653 - val_pr_auc: 0.0169\n",
      "Epoch 15/100\n",
      "\u001B[1m127/128\u001B[0m \u001B[32m━━━━━━━━━━━━━━━━━━━\u001B[0m\u001B[37m━\u001B[0m \u001B[1m0s\u001B[0m 12ms/step - accuracy: 0.7122 - loss: 0.6246 - pr_auc: 0.0144\n",
      "Epoch 15: val_pr_auc did not improve from 0.08410\n",
      "\u001B[1m128/128\u001B[0m \u001B[32m━━━━━━━━━━━━━━━━━━━━\u001B[0m\u001B[37m\u001B[0m \u001B[1m2s\u001B[0m 13ms/step - accuracy: 0.6879 - loss: 0.6334 - pr_auc: 0.0151 - val_accuracy: 0.4204 - val_loss: 0.6673 - val_pr_auc: 0.0174\n",
      "Epoch 15: early stopping\n",
      "Restoring model weights from the end of the best epoch: 5.\n"
     ]
    }
   ],
   "execution_count": 7
  },
  {
   "metadata": {
    "ExecuteTime": {
     "end_time": "2025-11-01T10:04:16.897119Z",
     "start_time": "2025-11-01T10:04:16.463694Z"
    }
   },
   "cell_type": "code",
   "source": [
    "print(\"Évaluation du meilleur modèle v11 (restauré)...\")\n",
    "\n",
    "# Prédictions\n",
    "y_pred_proba = model.predict(X_test_cnn).ravel()\n",
    "y_pred_class = (y_pred_proba > 0.5).astype(int)\n",
    "\n",
    "# Rapports\n",
    "print(\"\\n--- Rapport de Classification (v11) ---\")\n",
    "print(classification_report(y_test, y_pred_class, target_names=['Pas de Planète', 'Planète']))\n",
    "\n",
    "print(\"\\n--- Matrice de Confusion (v11) ---\")\n",
    "print(confusion_matrix(y_test, y_pred_class))\n",
    "\n",
    "# LE VRAI SCORE PR-AUC (Average Precision)\n",
    "# (Assurez-vous d'importer average_precision_score depuis sklearn.metrics)\n",
    "try:\n",
    "    pr_auc_score = average_precision_score(y_test, y_pred_proba)\n",
    "    print(f\"\\nScore PR-AUC (Average Precision) : {pr_auc_score:.4f}\")\n",
    "except NameError:\n",
    "    print(\"\\nN'oubliez pas d'importer 'average_precision_score' pour voir le score PR-AUC.\")"
   ],
   "id": "eefb5dd47e73e7c9",
   "outputs": [
    {
     "name": "stdout",
     "output_type": "stream",
     "text": [
      "Évaluation du meilleur modèle v11 (restauré)...\n",
      "\u001B[1m32/32\u001B[0m \u001B[32m━━━━━━━━━━━━━━━━━━━━\u001B[0m\u001B[37m\u001B[0m \u001B[1m0s\u001B[0m 8ms/step\n",
      "\n",
      "--- Rapport de Classification (v11) ---\n",
      "                precision    recall  f1-score   support\n",
      "\n",
      "Pas de Planète       0.99      0.43      0.60      1011\n",
      "       Planète       0.01      0.57      0.01         7\n",
      "\n",
      "      accuracy                           0.43      1018\n",
      "     macro avg       0.50      0.50      0.31      1018\n",
      "  weighted avg       0.99      0.43      0.60      1018\n",
      "\n",
      "\n",
      "--- Matrice de Confusion (v11) ---\n",
      "[[434 577]\n",
      " [  3   4]]\n",
      "\n",
      "Score PR-AUC (Average Precision) : 0.0885\n"
     ]
    }
   ],
   "execution_count": 8
  },
  {
   "metadata": {
    "ExecuteTime": {
     "end_time": "2025-11-01T10:04:21.769248Z",
     "start_time": "2025-11-01T10:04:21.246946Z"
    }
   },
   "cell_type": "code",
   "source": [
    "print(\"Affichage des graphiques d'entraînement (v11)...\")\n",
    "history_dict = history.history\n",
    "\n",
    "# Récupérer les métriques\n",
    "loss = history_dict['loss']\n",
    "val_loss = history_dict['val_loss']\n",
    "pr_auc = history_dict['pr_auc']\n",
    "val_pr_auc = history_dict['val_pr_auc']\n",
    "\n",
    "# Créer la plage d'époques (nombre d'époques réellement exécutées)\n",
    "actual_epochs = len(loss)\n",
    "epochs_range = range(1, actual_epochs + 1)\n",
    "\n",
    "# Créer la figure\n",
    "plt.figure(figsize=(16, 6))\n",
    "\n",
    "# Graphique 1 : Loss\n",
    "plt.subplot(1, 2, 1)\n",
    "plt.plot(epochs_range, loss, 'bo-', label='Training Loss')\n",
    "plt.plot(epochs_range, val_loss, 'ro-', label='Validation Loss')\n",
    "plt.title('Loss (v10 - Phase Folding)')\n",
    "plt.xlabel('Epochs')\n",
    "plt.ylabel('Loss')\n",
    "plt.legend()\n",
    "plt.grid(True)\n",
    "\n",
    "# Graphique 2 : PR-AUC\n",
    "plt.subplot(1, 2, 2)\n",
    "plt.plot(epochs_range, pr_auc, 'bo-', label='Training PR-AUC')\n",
    "plt.plot(epochs_range, val_pr_auc, 'ro-', label='Validation PR-AUC')\n",
    "plt.title('PR-AUC (v11 - Phase Folding)')\n",
    "plt.xlabel('Epochs')\n",
    "plt.ylabel('PR-AUC Score')\n",
    "plt.legend()\n",
    "plt.grid(True)\n",
    "\n",
    "plt.suptitle(\"Résultats de l'entraînement v11\", fontsize=16)\n",
    "plt.tight_layout(rect=[0, 0.03, 1, 0.95])\n",
    "plt.show()"
   ],
   "id": "f0085e951bdcd440",
   "outputs": [
    {
     "name": "stdout",
     "output_type": "stream",
     "text": [
      "Affichage des graphiques d'entraînement (v11)...\n"
     ]
    },
    {
     "data": {
      "text/plain": [
       "<Figure size 1600x600 with 2 Axes>"
      ],
      "image/png": "[encoded data removed]"
     },
     "metadata": {},
     "output_type": "display_data"
    }
   ],
   "execution_count": 9
  }
 ],
 "metadata": {
  "kernelspec": {
   "display_name": "Python 3",
   "language": "python",
   "name": "python3"
  },
  "language_info": {
   "codemirror_mode": {
    "name": "ipython",
    "version": 2
   },
   "file_extension": ".py",
   "mimetype": "text/x-python",
   "name": "python",
   "nbconvert_exporter": "python",
   "pygments_lexer": "ipython2",
   "version": "2.7.6"
  }
 },
 "nbformat": 4,
 "nbformat_minor": 5
}
