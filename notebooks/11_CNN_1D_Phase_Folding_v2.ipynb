{
 "cells": [
  {
   "cell_type": "code",
   "id": "initial_id",
   "metadata": {
    "collapsed": true,
    "ExecuteTime": {
     "end_time": "2025-10-30T08:56:53.797318Z",
     "start_time": "2025-10-30T08:56:53.784475Z"
    }
   },
   "source": [
    "import numpy as np\n",
    "import pandas as pd\n",
    "import matplotlib.pyplot as plt\n",
    "import tensorflow as tf\n",
    "from sklearn.model_selection import train_test_split\n",
    "from sklearn.metrics import classification_report, confusion_matrix, roc_auc_score\n",
    "from sklearn.metrics import average_precision_score\n",
    "\n",
    "#shuffle csv\n",
    "from sklearn.utils import shuffle\n",
    "\n",
    "#Multiprocessing\n",
    "import multiprocessing\n",
    "from tqdm import tqdm  # Barre de progression\n",
    "\n",
    "#import feature\n",
    "from src.phase_folding import create_folded_lightcurve\n",
    "\n",
    "# TensorFlow\n",
    "pr_auc = tf.keras.metrics.AUC(curve='PR', name='pr_auc')\n",
    "\n",
    "print(\"Bibliothèques importées (avec multiprocessing et tqdm).\")"
   ],
   "outputs": [
    {
     "name": "stdout",
     "output_type": "stream",
     "text": [
      "Bibliothèques importées (avec multiprocessing et tqdm).\n"
     ]
    }
   ],
   "execution_count": 8
  },
  {
   "metadata": {
    "ExecuteTime": {
     "end_time": "2025-10-30T08:27:35.389683Z",
     "start_time": "2025-10-30T08:27:30.668013Z"
    }
   },
   "cell_type": "code",
   "source": [
    "print(\"Chargement des données brutes...\")\n",
    "train_df = pd.read_csv('../data/raw/train.csv')\n",
    "\n",
    "X_raw = train_df.drop('LABEL', axis=1).values\n",
    "y = train_df['LABEL'].values - 1  # (0, 1)\n",
    "\n",
    "print(\"Mélange des données...\")\n",
    "X_raw_shuffled, y_shuffled = shuffle(X_raw, y, random_state=42)\n",
    "\n",
    "print(f\"Forme de X_raw_shuffled : {X_raw_shuffled.shape}\")\n",
    "print(f\"Forme de y_shuffled : {y_shuffled.shape}\")"
   ],
   "id": "6425fd9bc865195",
   "outputs": [
    {
     "name": "stdout",
     "output_type": "stream",
     "text": [
      "Chargement des données brutes...\n",
      "Mélange des données...\n",
      "Forme de X_raw_shuffled : (5087, 3197)\n",
      "Forme de y_shuffled : (5087,)\n"
     ]
    }
   ],
   "execution_count": 3
  },
  {
   "metadata": {
    "ExecuteTime": {
     "end_time": "2025-10-30T08:50:09.816851Z",
     "start_time": "2025-10-30T08:27:39.734505Z"
    }
   },
   "cell_type": "code",
   "source": [
    "N_BINS = 500\n",
    "\n",
    "# On utilise les données complètes (mélangées) de la Cellule 2\n",
    "X_data_to_process = X_raw_shuffled\n",
    "y_data_to_process = y_shuffled\n",
    "\n",
    "print(f\"Démarrage du pré-traitement 'Phase Folding' PARALLÉLISÉ sur {len(X_data_to_process)} étoiles...\")\n",
    "\n",
    "# 1. Déterminer le nombre de cœurs\n",
    "N_CORES = multiprocessing.cpu_count() - 1\n",
    "if N_CORES < 1:\n",
    "    N_CORES = 1\n",
    "print(f\"Utilisation de {N_CORES} cœurs CPU...\")\n",
    "\n",
    "# 2. Préparer les arguments pour la fonction\n",
    "# (Notre fonction a besoin de 2 arguments : row et n_bins)\n",
    "func_args = [(row, N_BINS) for row in X_data_to_process]\n",
    "\n",
    "# 3. Créer un \"pool\" de workers et lancer le calcul\n",
    "with multiprocessing.Pool(processes=N_CORES) as pool:\n",
    "    # pool.starmap est fait pour les fonctions avec plusieurs arguments\n",
    "    # tqdm ajoute la barre de progression\n",
    "    X_folded = list(tqdm(pool.starmap(create_folded_lightcurve, func_args), total=len(X_data_to_process)))\n",
    "\n",
    "# 4. Convertir la liste de résultats en array numpy\n",
    "X_folded = np.array(X_folded)\n",
    "\n",
    "# 5. y devient y_data_to_process pour la Cellule 4\n",
    "y = y_data_to_process\n",
    "\n",
    "print(\"Pré-traitement 'Phase Folding' terminé !\")\n",
    "print(f\"Forme de X_folded (nos nouvelles features) : {X_folded.shape}\")\n",
    "print(f\"Forme de y (cibles) : {y.shape}\")"
   ],
   "id": "269a757c15cec483",
   "outputs": [
    {
     "name": "stdout",
     "output_type": "stream",
     "text": [
      "Démarrage du pré-traitement 'Phase Folding' PARALLÉLISÉ sur 5087 étoiles...\n",
      "Utilisation de 7 cœurs CPU...\n"
     ]
    },
    {
     "name": "stderr",
     "output_type": "stream",
     "text": [
      "100%|██████████| 5087/5087 [00:00<00:00, 1889182.26it/s]\n"
     ]
    },
    {
     "name": "stdout",
     "output_type": "stream",
     "text": [
      "Pré-traitement 'Phase Folding' terminé !\n",
      "Forme de X_folded (nos nouvelles features) : (5087, 500)\n",
      "Forme de y (cibles) : (5087,)\n"
     ]
    }
   ],
   "execution_count": 4
  },
  {
   "metadata": {
    "ExecuteTime": {
     "end_time": "2025-10-30T08:51:10.172687Z",
     "start_time": "2025-10-30T08:51:10.132577Z"
    }
   },
   "cell_type": "code",
   "source": [
    "print(\"Division des données complètes (Train/Test)...\")\n",
    "X_train, X_test, y_train, y_test = train_test_split(\n",
    "    X_folded,  # <-- Données complètes\n",
    "    y,         # <-- Données complètes\n",
    "    test_size=0.2,\n",
    "    random_state=42,\n",
    "    stratify=y # Stratifier sur TOUTES les données\n",
    ")\n",
    "\n",
    "# Redimensionner pour le CNN\n",
    "X_train_cnn = np.expand_dims(X_train, axis=-1)\n",
    "X_test_cnn = np.expand_dims(X_test, axis=-1)\n",
    "\n",
    "INPUT_SHAPE = (N_BINS, 1)\n",
    "\n",
    "print(f\"Forme X_train_cnn : {X_train_cnn.shape}\")\n",
    "print(f\"Forme X_test_cnn : {X_test_cnn.shape}\")\n",
    "print(f\"Classes dans y_train : {np.unique(y_train, return_counts=True)}\")\n",
    "print(f\"Classes dans y_test : {np.unique(y_test, return_counts=True)}\")"
   ],
   "id": "e0123083e63c07af",
   "outputs": [
    {
     "name": "stdout",
     "output_type": "stream",
     "text": [
      "Division des données complètes (Train/Test)...\n",
      "Forme X_train_cnn : (4069, 500, 1)\n",
      "Forme X_test_cnn : (1018, 500, 1)\n",
      "Classes dans y_train : (array([0, 1]), array([4039,   30]))\n",
      "Classes dans y_test : (array([0, 1]), array([1011,    7]))\n"
     ]
    }
   ],
   "execution_count": 5
  },
  {
   "metadata": {
    "ExecuteTime": {
     "end_time": "2025-10-30T08:51:44.004417Z",
     "start_time": "2025-10-30T08:51:43.709231Z"
    }
   },
   "cell_type": "code",
   "source": [
    "# Le v10 était en underfitting adding more capacity .\n",
    "\n",
    "def build_phase_model_v11(input_shape):\n",
    "    model = tf.keras.models.Sequential(name=\"CNN_v11_Deeper\")\n",
    "\n",
    "    model.add(tf.keras.layers.Input(shape=input_shape))\n",
    "\n",
    "    # 1er Bloc (plus de filtres)\n",
    "    model.add(tf.keras.layers.Conv1D(filters=32, kernel_size=7, activation='relu', padding='same'))\n",
    "    model.add(tf.keras.layers.MaxPooling1D(pool_size=3))\n",
    "    model.add(tf.keras.layers.Dropout(0.3))\n",
    "\n",
    "    # 2ème Bloc\n",
    "    model.add(tf.keras.layers.Conv1D(filters=64, kernel_size=5, activation='relu', padding='same'))\n",
    "    model.add(tf.keras.layers.MaxPooling1D(pool_size=3))\n",
    "    model.add(tf.keras.layers.Dropout(0.3))\n",
    "\n",
    "    # 3ème Bloc (encore plus profond)\n",
    "    model.add(tf.keras.layers.Conv1D(filters=128, kernel_size=3, activation='relu', padding='same'))\n",
    "    model.add(tf.keras.layers.MaxPooling1D(pool_size=3))\n",
    "    model.add(tf.keras.layers.Dropout(0.3))\n",
    "\n",
    "    # Tête de classification (plus de neurones)\n",
    "    model.add(tf.keras.layers.Flatten())\n",
    "    model.add(tf.keras.layers.Dense(64, activation='relu'))\n",
    "    model.add(tf.keras.layers.Dropout(0.5))\n",
    "    model.add(tf.keras.layers.Dense(1, activation='sigmoid'))\n",
    "\n",
    "    return model\n",
    "\n",
    "model = build_phase_model_v11(INPUT_SHAPE)\n",
    "\n",
    "# Compiler avec le même optimisateur\n",
    "model.compile(\n",
    "    optimizer=tf.keras.optimizers.Adam(learning_rate=1e-4),\n",
    "    loss='binary_crossentropy',\n",
    "    metrics=['accuracy', pr_auc] # On suit toujours le PR-AUC\n",
    ")\n",
    "\n",
    "model.summary()"
   ],
   "id": "4c88fdcd03ad7211",
   "outputs": [
    {
     "data": {
      "text/plain": [
       "\u001B[1mModel: \"CNN_v11_Deeper\"\u001B[0m\n"
      ],
      "text/html": [
       "<pre style=\"white-space:pre;overflow-x:auto;line-height:normal;font-family:Menlo,'DejaVu Sans Mono',consolas,'Courier New',monospace\"><span style=\"font-weight: bold\">Model: \"CNN_v11_Deeper\"</span>\n",
       "</pre>\n"
      ]
     },
     "metadata": {},
     "output_type": "display_data"
    },
    {
     "data": {
      "text/plain": [
       "┏━━━━━━━━━━━━━━━━━━━━━━━━━━━━━━━━━┳━━━━━━━━━━━━━━━━━━━━━━━━┳━━━━━━━━━━━━━━━┓\n",
       "┃\u001B[1m \u001B[0m\u001B[1mLayer (type)                   \u001B[0m\u001B[1m \u001B[0m┃\u001B[1m \u001B[0m\u001B[1mOutput Shape          \u001B[0m\u001B[1m \u001B[0m┃\u001B[1m \u001B[0m\u001B[1m      Param #\u001B[0m\u001B[1m \u001B[0m┃\n",
       "┡━━━━━━━━━━━━━━━━━━━━━━━━━━━━━━━━━╇━━━━━━━━━━━━━━━━━━━━━━━━╇━━━━━━━━━━━━━━━┩\n",
       "│ conv1d (\u001B[38;5;33mConv1D\u001B[0m)                 │ (\u001B[38;5;45mNone\u001B[0m, \u001B[38;5;34m500\u001B[0m, \u001B[38;5;34m32\u001B[0m)        │           \u001B[38;5;34m256\u001B[0m │\n",
       "├─────────────────────────────────┼────────────────────────┼───────────────┤\n",
       "│ max_pooling1d (\u001B[38;5;33mMaxPooling1D\u001B[0m)    │ (\u001B[38;5;45mNone\u001B[0m, \u001B[38;5;34m166\u001B[0m, \u001B[38;5;34m32\u001B[0m)        │             \u001B[38;5;34m0\u001B[0m │\n",
       "├─────────────────────────────────┼────────────────────────┼───────────────┤\n",
       "│ dropout (\u001B[38;5;33mDropout\u001B[0m)               │ (\u001B[38;5;45mNone\u001B[0m, \u001B[38;5;34m166\u001B[0m, \u001B[38;5;34m32\u001B[0m)        │             \u001B[38;5;34m0\u001B[0m │\n",
       "├─────────────────────────────────┼────────────────────────┼───────────────┤\n",
       "│ conv1d_1 (\u001B[38;5;33mConv1D\u001B[0m)               │ (\u001B[38;5;45mNone\u001B[0m, \u001B[38;5;34m166\u001B[0m, \u001B[38;5;34m64\u001B[0m)        │        \u001B[38;5;34m10,304\u001B[0m │\n",
       "├─────────────────────────────────┼────────────────────────┼───────────────┤\n",
       "│ max_pooling1d_1 (\u001B[38;5;33mMaxPooling1D\u001B[0m)  │ (\u001B[38;5;45mNone\u001B[0m, \u001B[38;5;34m55\u001B[0m, \u001B[38;5;34m64\u001B[0m)         │             \u001B[38;5;34m0\u001B[0m │\n",
       "├─────────────────────────────────┼────────────────────────┼───────────────┤\n",
       "│ dropout_1 (\u001B[38;5;33mDropout\u001B[0m)             │ (\u001B[38;5;45mNone\u001B[0m, \u001B[38;5;34m55\u001B[0m, \u001B[38;5;34m64\u001B[0m)         │             \u001B[38;5;34m0\u001B[0m │\n",
       "├─────────────────────────────────┼────────────────────────┼───────────────┤\n",
       "│ conv1d_2 (\u001B[38;5;33mConv1D\u001B[0m)               │ (\u001B[38;5;45mNone\u001B[0m, \u001B[38;5;34m55\u001B[0m, \u001B[38;5;34m128\u001B[0m)        │        \u001B[38;5;34m24,704\u001B[0m │\n",
       "├─────────────────────────────────┼────────────────────────┼───────────────┤\n",
       "│ max_pooling1d_2 (\u001B[38;5;33mMaxPooling1D\u001B[0m)  │ (\u001B[38;5;45mNone\u001B[0m, \u001B[38;5;34m18\u001B[0m, \u001B[38;5;34m128\u001B[0m)        │             \u001B[38;5;34m0\u001B[0m │\n",
       "├─────────────────────────────────┼────────────────────────┼───────────────┤\n",
       "│ dropout_2 (\u001B[38;5;33mDropout\u001B[0m)             │ (\u001B[38;5;45mNone\u001B[0m, \u001B[38;5;34m18\u001B[0m, \u001B[38;5;34m128\u001B[0m)        │             \u001B[38;5;34m0\u001B[0m │\n",
       "├─────────────────────────────────┼────────────────────────┼───────────────┤\n",
       "│ flatten (\u001B[38;5;33mFlatten\u001B[0m)               │ (\u001B[38;5;45mNone\u001B[0m, \u001B[38;5;34m2304\u001B[0m)           │             \u001B[38;5;34m0\u001B[0m │\n",
       "├─────────────────────────────────┼────────────────────────┼───────────────┤\n",
       "│ dense (\u001B[38;5;33mDense\u001B[0m)                   │ (\u001B[38;5;45mNone\u001B[0m, \u001B[38;5;34m64\u001B[0m)             │       \u001B[38;5;34m147,520\u001B[0m │\n",
       "├─────────────────────────────────┼────────────────────────┼───────────────┤\n",
       "│ dropout_3 (\u001B[38;5;33mDropout\u001B[0m)             │ (\u001B[38;5;45mNone\u001B[0m, \u001B[38;5;34m64\u001B[0m)             │             \u001B[38;5;34m0\u001B[0m │\n",
       "├─────────────────────────────────┼────────────────────────┼───────────────┤\n",
       "│ dense_1 (\u001B[38;5;33mDense\u001B[0m)                 │ (\u001B[38;5;45mNone\u001B[0m, \u001B[38;5;34m1\u001B[0m)              │            \u001B[38;5;34m65\u001B[0m │\n",
       "└─────────────────────────────────┴────────────────────────┴───────────────┘\n"
      ],
      "text/html": [
       "<pre style=\"white-space:pre;overflow-x:auto;line-height:normal;font-family:Menlo,'DejaVu Sans Mono',consolas,'Courier New',monospace\">┏━━━━━━━━━━━━━━━━━━━━━━━━━━━━━━━━━┳━━━━━━━━━━━━━━━━━━━━━━━━┳━━━━━━━━━━━━━━━┓\n",
       "┃<span style=\"font-weight: bold\"> Layer (type)                    </span>┃<span style=\"font-weight: bold\"> Output Shape           </span>┃<span style=\"font-weight: bold\">       Param # </span>┃\n",
       "┡━━━━━━━━━━━━━━━━━━━━━━━━━━━━━━━━━╇━━━━━━━━━━━━━━━━━━━━━━━━╇━━━━━━━━━━━━━━━┩\n",
       "│ conv1d (<span style=\"color: #0087ff; text-decoration-color: #0087ff\">Conv1D</span>)                 │ (<span style=\"color: #00d7ff; text-decoration-color: #00d7ff\">None</span>, <span style=\"color: #00af00; text-decoration-color: #00af00\">500</span>, <span style=\"color: #00af00; text-decoration-color: #00af00\">32</span>)        │           <span style=\"color: #00af00; text-decoration-color: #00af00\">256</span> │\n",
       "├─────────────────────────────────┼────────────────────────┼───────────────┤\n",
       "│ max_pooling1d (<span style=\"color: #0087ff; text-decoration-color: #0087ff\">MaxPooling1D</span>)    │ (<span style=\"color: #00d7ff; text-decoration-color: #00d7ff\">None</span>, <span style=\"color: #00af00; text-decoration-color: #00af00\">166</span>, <span style=\"color: #00af00; text-decoration-color: #00af00\">32</span>)        │             <span style=\"color: #00af00; text-decoration-color: #00af00\">0</span> │\n",
       "├─────────────────────────────────┼────────────────────────┼───────────────┤\n",
       "│ dropout (<span style=\"color: #0087ff; text-decoration-color: #0087ff\">Dropout</span>)               │ (<span style=\"color: #00d7ff; text-decoration-color: #00d7ff\">None</span>, <span style=\"color: #00af00; text-decoration-color: #00af00\">166</span>, <span style=\"color: #00af00; text-decoration-color: #00af00\">32</span>)        │             <span style=\"color: #00af00; text-decoration-color: #00af00\">0</span> │\n",
       "├─────────────────────────────────┼────────────────────────┼───────────────┤\n",
       "│ conv1d_1 (<span style=\"color: #0087ff; text-decoration-color: #0087ff\">Conv1D</span>)               │ (<span style=\"color: #00d7ff; text-decoration-color: #00d7ff\">None</span>, <span style=\"color: #00af00; text-decoration-color: #00af00\">166</span>, <span style=\"color: #00af00; text-decoration-color: #00af00\">64</span>)        │        <span style=\"color: #00af00; text-decoration-color: #00af00\">10,304</span> │\n",
       "├─────────────────────────────────┼────────────────────────┼───────────────┤\n",
       "│ max_pooling1d_1 (<span style=\"color: #0087ff; text-decoration-color: #0087ff\">MaxPooling1D</span>)  │ (<span style=\"color: #00d7ff; text-decoration-color: #00d7ff\">None</span>, <span style=\"color: #00af00; text-decoration-color: #00af00\">55</span>, <span style=\"color: #00af00; text-decoration-color: #00af00\">64</span>)         │             <span style=\"color: #00af00; text-decoration-color: #00af00\">0</span> │\n",
       "├─────────────────────────────────┼────────────────────────┼───────────────┤\n",
       "│ dropout_1 (<span style=\"color: #0087ff; text-decoration-color: #0087ff\">Dropout</span>)             │ (<span style=\"color: #00d7ff; text-decoration-color: #00d7ff\">None</span>, <span style=\"color: #00af00; text-decoration-color: #00af00\">55</span>, <span style=\"color: #00af00; text-decoration-color: #00af00\">64</span>)         │             <span style=\"color: #00af00; text-decoration-color: #00af00\">0</span> │\n",
       "├─────────────────────────────────┼────────────────────────┼───────────────┤\n",
       "│ conv1d_2 (<span style=\"color: #0087ff; text-decoration-color: #0087ff\">Conv1D</span>)               │ (<span style=\"color: #00d7ff; text-decoration-color: #00d7ff\">None</span>, <span style=\"color: #00af00; text-decoration-color: #00af00\">55</span>, <span style=\"color: #00af00; text-decoration-color: #00af00\">128</span>)        │        <span style=\"color: #00af00; text-decoration-color: #00af00\">24,704</span> │\n",
       "├─────────────────────────────────┼────────────────────────┼───────────────┤\n",
       "│ max_pooling1d_2 (<span style=\"color: #0087ff; text-decoration-color: #0087ff\">MaxPooling1D</span>)  │ (<span style=\"color: #00d7ff; text-decoration-color: #00d7ff\">None</span>, <span style=\"color: #00af00; text-decoration-color: #00af00\">18</span>, <span style=\"color: #00af00; text-decoration-color: #00af00\">128</span>)        │             <span style=\"color: #00af00; text-decoration-color: #00af00\">0</span> │\n",
       "├─────────────────────────────────┼────────────────────────┼───────────────┤\n",
       "│ dropout_2 (<span style=\"color: #0087ff; text-decoration-color: #0087ff\">Dropout</span>)             │ (<span style=\"color: #00d7ff; text-decoration-color: #00d7ff\">None</span>, <span style=\"color: #00af00; text-decoration-color: #00af00\">18</span>, <span style=\"color: #00af00; text-decoration-color: #00af00\">128</span>)        │             <span style=\"color: #00af00; text-decoration-color: #00af00\">0</span> │\n",
       "├─────────────────────────────────┼────────────────────────┼───────────────┤\n",
       "│ flatten (<span style=\"color: #0087ff; text-decoration-color: #0087ff\">Flatten</span>)               │ (<span style=\"color: #00d7ff; text-decoration-color: #00d7ff\">None</span>, <span style=\"color: #00af00; text-decoration-color: #00af00\">2304</span>)           │             <span style=\"color: #00af00; text-decoration-color: #00af00\">0</span> │\n",
       "├─────────────────────────────────┼────────────────────────┼───────────────┤\n",
       "│ dense (<span style=\"color: #0087ff; text-decoration-color: #0087ff\">Dense</span>)                   │ (<span style=\"color: #00d7ff; text-decoration-color: #00d7ff\">None</span>, <span style=\"color: #00af00; text-decoration-color: #00af00\">64</span>)             │       <span style=\"color: #00af00; text-decoration-color: #00af00\">147,520</span> │\n",
       "├─────────────────────────────────┼────────────────────────┼───────────────┤\n",
       "│ dropout_3 (<span style=\"color: #0087ff; text-decoration-color: #0087ff\">Dropout</span>)             │ (<span style=\"color: #00d7ff; text-decoration-color: #00d7ff\">None</span>, <span style=\"color: #00af00; text-decoration-color: #00af00\">64</span>)             │             <span style=\"color: #00af00; text-decoration-color: #00af00\">0</span> │\n",
       "├─────────────────────────────────┼────────────────────────┼───────────────┤\n",
       "│ dense_1 (<span style=\"color: #0087ff; text-decoration-color: #0087ff\">Dense</span>)                 │ (<span style=\"color: #00d7ff; text-decoration-color: #00d7ff\">None</span>, <span style=\"color: #00af00; text-decoration-color: #00af00\">1</span>)              │            <span style=\"color: #00af00; text-decoration-color: #00af00\">65</span> │\n",
       "└─────────────────────────────────┴────────────────────────┴───────────────┘\n",
       "</pre>\n"
      ]
     },
     "metadata": {},
     "output_type": "display_data"
    },
    {
     "data": {
      "text/plain": [
       "\u001B[1m Total params: \u001B[0m\u001B[38;5;34m182,849\u001B[0m (714.25 KB)\n"
      ],
      "text/html": [
       "<pre style=\"white-space:pre;overflow-x:auto;line-height:normal;font-family:Menlo,'DejaVu Sans Mono',consolas,'Courier New',monospace\"><span style=\"font-weight: bold\"> Total params: </span><span style=\"color: #00af00; text-decoration-color: #00af00\">182,849</span> (714.25 KB)\n",
       "</pre>\n"
      ]
     },
     "metadata": {},
     "output_type": "display_data"
    },
    {
     "data": {
      "text/plain": [
       "\u001B[1m Trainable params: \u001B[0m\u001B[38;5;34m182,849\u001B[0m (714.25 KB)\n"
      ],
      "text/html": [
       "<pre style=\"white-space:pre;overflow-x:auto;line-height:normal;font-family:Menlo,'DejaVu Sans Mono',consolas,'Courier New',monospace\"><span style=\"font-weight: bold\"> Trainable params: </span><span style=\"color: #00af00; text-decoration-color: #00af00\">182,849</span> (714.25 KB)\n",
       "</pre>\n"
      ]
     },
     "metadata": {},
     "output_type": "display_data"
    },
    {
     "data": {
      "text/plain": [
       "\u001B[1m Non-trainable params: \u001B[0m\u001B[38;5;34m0\u001B[0m (0.00 B)\n"
      ],
      "text/html": [
       "<pre style=\"white-space:pre;overflow-x:auto;line-height:normal;font-family:Menlo,'DejaVu Sans Mono',consolas,'Courier New',monospace\"><span style=\"font-weight: bold\"> Non-trainable params: </span><span style=\"color: #00af00; text-decoration-color: #00af00\">0</span> (0.00 B)\n",
       "</pre>\n"
      ]
     },
     "metadata": {},
     "output_type": "display_data"
    }
   ],
   "execution_count": 6
  },
  {
   "metadata": {
    "ExecuteTime": {
     "end_time": "2025-10-30T08:54:39.604028Z",
     "start_time": "2025-10-30T08:53:42.633946Z"
    }
   },
   "cell_type": "code",
   "source": [
    "# Noms de fichiers pour la v11\n",
    "LOG_DIR = './logs/v11_phase_folding_deeper'\n",
    "MODEL_PATH = '../models/cnn_v11_phase_folding_best.h5'\n",
    "\n",
    "# Nettoyer les anciens logs (version Windows)\n",
    "!rmdir /S /Q .\\\\logs\\\\v11_phase_folding_deeper\n",
    "\n",
    "# Callbacks\n",
    "tensorboard_cb = tf.keras.callbacks.TensorBoard(log_dir=LOG_DIR, histogram_freq=1)\n",
    "\n",
    "checkpoint_cb = tf.keras.callbacks.ModelCheckpoint(\n",
    "    filepath=MODEL_PATH,\n",
    "    save_best_only=True,\n",
    "    monitor='val_pr_auc', # Toujours notre métrique clé\n",
    "    mode='max',\n",
    "    verbose=1\n",
    ")\n",
    "\n",
    "early_stopping_cb = tf.keras.callbacks.EarlyStopping(\n",
    "    monitor='val_pr_auc',\n",
    "    mode='max',\n",
    "    patience=10, # On garde 10 époques de patience\n",
    "    restore_best_weights=True,\n",
    "    verbose=1\n",
    ")\n",
    "\n",
    "# Entraînement\n",
    "print(f\"Début de l'entraînement (v11 - Modèle Plus Profond) sur {X_train_cnn.shape[0]} échantillons...\")\n",
    "history = model.fit(\n",
    "    X_train_cnn,\n",
    "    y_train,\n",
    "    epochs=100,\n",
    "    batch_size=32,\n",
    "    validation_data=(X_test_cnn, y_test),\n",
    "    callbacks=[tensorboard_cb, checkpoint_cb, early_stopping_cb],\n",
    "    verbose=1\n",
    ")"
   ],
   "id": "807cc97ce849feb",
   "outputs": [
    {
     "name": "stderr",
     "output_type": "stream",
     "text": [
      "Le fichier sp‚cifi‚ est introuvable.\n"
     ]
    },
    {
     "name": "stdout",
     "output_type": "stream",
     "text": [
      "Début de l'entraînement (v11 - Modèle Plus Profond) sur 4069 échantillons...\n",
      "Epoch 1/100\n",
      "\u001B[1m127/128\u001B[0m \u001B[32m━━━━━━━━━━━━━━━━━━━\u001B[0m\u001B[37m━\u001B[0m \u001B[1m0s\u001B[0m 16ms/step - accuracy: 0.8985 - loss: 0.2764 - pr_auc: 0.0082\n",
      "Epoch 1: val_pr_auc improved from None to 0.01197, saving model to ../models/cnn_v11_phase_folding_best.h5\n"
     ]
    },
    {
     "name": "stderr",
     "output_type": "stream",
     "text": [
      "WARNING:absl:You are saving your model as an HDF5 file via `model.save()` or `keras.saving.save_model(model)`. This file format is considered legacy. We recommend using instead the native Keras format, e.g. `model.save('my_model.keras')` or `keras.saving.save_model(model, 'my_model.keras')`. \n"
     ]
    },
    {
     "name": "stdout",
     "output_type": "stream",
     "text": [
      "\u001B[1m128/128\u001B[0m \u001B[32m━━━━━━━━━━━━━━━━━━━━\u001B[0m\u001B[37m\u001B[0m \u001B[1m6s\u001B[0m 24ms/step - accuracy: 0.9690 - loss: 0.1297 - pr_auc: 0.0085 - val_accuracy: 0.9931 - val_loss: 0.0608 - val_pr_auc: 0.0120\n",
      "Epoch 2/100\n",
      "\u001B[1m125/128\u001B[0m \u001B[32m━━━━━━━━━━━━━━━━━━━\u001B[0m\u001B[37m━\u001B[0m \u001B[1m0s\u001B[0m 15ms/step - accuracy: 0.9912 - loss: 0.0607 - pr_auc: 0.0119\n",
      "Epoch 2: val_pr_auc improved from 0.01197 to 0.02498, saving model to ../models/cnn_v11_phase_folding_best.h5\n"
     ]
    },
    {
     "name": "stderr",
     "output_type": "stream",
     "text": [
      "WARNING:absl:You are saving your model as an HDF5 file via `model.save()` or `keras.saving.save_model(model)`. This file format is considered legacy. We recommend using instead the native Keras format, e.g. `model.save('my_model.keras')` or `keras.saving.save_model(model, 'my_model.keras')`. \n"
     ]
    },
    {
     "name": "stdout",
     "output_type": "stream",
     "text": [
      "\u001B[1m128/128\u001B[0m \u001B[32m━━━━━━━━━━━━━━━━━━━━\u001B[0m\u001B[37m\u001B[0m \u001B[1m2s\u001B[0m 19ms/step - accuracy: 0.9926 - loss: 0.0534 - pr_auc: 0.0099 - val_accuracy: 0.9931 - val_loss: 0.0484 - val_pr_auc: 0.0250\n",
      "Epoch 3/100\n",
      "\u001B[1m126/128\u001B[0m \u001B[32m━━━━━━━━━━━━━━━━━━━\u001B[0m\u001B[37m━\u001B[0m \u001B[1m0s\u001B[0m 14ms/step - accuracy: 0.9931 - loss: 0.0533 - pr_auc: 0.0061\n",
      "Epoch 3: val_pr_auc improved from 0.02498 to 0.05111, saving model to ../models/cnn_v11_phase_folding_best.h5\n"
     ]
    },
    {
     "name": "stderr",
     "output_type": "stream",
     "text": [
      "WARNING:absl:You are saving your model as an HDF5 file via `model.save()` or `keras.saving.save_model(model)`. This file format is considered legacy. We recommend using instead the native Keras format, e.g. `model.save('my_model.keras')` or `keras.saving.save_model(model, 'my_model.keras')`. \n"
     ]
    },
    {
     "name": "stdout",
     "output_type": "stream",
     "text": [
      "\u001B[1m128/128\u001B[0m \u001B[32m━━━━━━━━━━━━━━━━━━━━\u001B[0m\u001B[37m\u001B[0m \u001B[1m2s\u001B[0m 17ms/step - accuracy: 0.9926 - loss: 0.0511 - pr_auc: 0.0123 - val_accuracy: 0.9931 - val_loss: 0.0563 - val_pr_auc: 0.0511\n",
      "Epoch 4/100\n",
      "\u001B[1m125/128\u001B[0m \u001B[32m━━━━━━━━━━━━━━━━━━━\u001B[0m\u001B[37m━\u001B[0m \u001B[1m0s\u001B[0m 13ms/step - accuracy: 0.9922 - loss: 0.0543 - pr_auc: 0.0079\n",
      "Epoch 4: val_pr_auc improved from 0.05111 to 0.07881, saving model to ../models/cnn_v11_phase_folding_best.h5\n"
     ]
    },
    {
     "name": "stderr",
     "output_type": "stream",
     "text": [
      "WARNING:absl:You are saving your model as an HDF5 file via `model.save()` or `keras.saving.save_model(model)`. This file format is considered legacy. We recommend using instead the native Keras format, e.g. `model.save('my_model.keras')` or `keras.saving.save_model(model, 'my_model.keras')`. \n"
     ]
    },
    {
     "name": "stdout",
     "output_type": "stream",
     "text": [
      "\u001B[1m128/128\u001B[0m \u001B[32m━━━━━━━━━━━━━━━━━━━━\u001B[0m\u001B[37m\u001B[0m \u001B[1m2s\u001B[0m 16ms/step - accuracy: 0.9926 - loss: 0.0499 - pr_auc: 0.0075 - val_accuracy: 0.9931 - val_loss: 0.0632 - val_pr_auc: 0.0788\n",
      "Epoch 5/100\n",
      "\u001B[1m124/128\u001B[0m \u001B[32m━━━━━━━━━━━━━━━━━━━\u001B[0m\u001B[37m━\u001B[0m \u001B[1m0s\u001B[0m 14ms/step - accuracy: 0.9932 - loss: 0.0504 - pr_auc: 0.0072\n",
      "Epoch 5: val_pr_auc improved from 0.07881 to 0.09862, saving model to ../models/cnn_v11_phase_folding_best.h5\n"
     ]
    },
    {
     "name": "stderr",
     "output_type": "stream",
     "text": [
      "WARNING:absl:You are saving your model as an HDF5 file via `model.save()` or `keras.saving.save_model(model)`. This file format is considered legacy. We recommend using instead the native Keras format, e.g. `model.save('my_model.keras')` or `keras.saving.save_model(model, 'my_model.keras')`. \n"
     ]
    },
    {
     "name": "stdout",
     "output_type": "stream",
     "text": [
      "\u001B[1m128/128\u001B[0m \u001B[32m━━━━━━━━━━━━━━━━━━━━\u001B[0m\u001B[37m\u001B[0m \u001B[1m3s\u001B[0m 20ms/step - accuracy: 0.9926 - loss: 0.0501 - pr_auc: 0.0098 - val_accuracy: 0.9931 - val_loss: 0.0510 - val_pr_auc: 0.0986\n",
      "Epoch 6/100\n",
      "\u001B[1m128/128\u001B[0m \u001B[32m━━━━━━━━━━━━━━━━━━━━\u001B[0m\u001B[37m\u001B[0m \u001B[1m0s\u001B[0m 14ms/step - accuracy: 0.9924 - loss: 0.0526 - pr_auc: 0.0092\n",
      "Epoch 6: val_pr_auc improved from 0.09862 to 0.10082, saving model to ../models/cnn_v11_phase_folding_best.h5\n"
     ]
    },
    {
     "name": "stderr",
     "output_type": "stream",
     "text": [
      "WARNING:absl:You are saving your model as an HDF5 file via `model.save()` or `keras.saving.save_model(model)`. This file format is considered legacy. We recommend using instead the native Keras format, e.g. `model.save('my_model.keras')` or `keras.saving.save_model(model, 'my_model.keras')`. \n"
     ]
    },
    {
     "name": "stdout",
     "output_type": "stream",
     "text": [
      "\u001B[1m128/128\u001B[0m \u001B[32m━━━━━━━━━━━━━━━━━━━━\u001B[0m\u001B[37m\u001B[0m \u001B[1m2s\u001B[0m 18ms/step - accuracy: 0.9926 - loss: 0.0489 - pr_auc: 0.0107 - val_accuracy: 0.9931 - val_loss: 0.0652 - val_pr_auc: 0.1008\n",
      "Epoch 7/100\n",
      "\u001B[1m128/128\u001B[0m \u001B[32m━━━━━━━━━━━━━━━━━━━━\u001B[0m\u001B[37m\u001B[0m \u001B[1m0s\u001B[0m 15ms/step - accuracy: 0.9919 - loss: 0.0545 - pr_auc: 0.0133\n",
      "Epoch 7: val_pr_auc improved from 0.10082 to 0.10120, saving model to ../models/cnn_v11_phase_folding_best.h5\n"
     ]
    },
    {
     "name": "stderr",
     "output_type": "stream",
     "text": [
      "WARNING:absl:You are saving your model as an HDF5 file via `model.save()` or `keras.saving.save_model(model)`. This file format is considered legacy. We recommend using instead the native Keras format, e.g. `model.save('my_model.keras')` or `keras.saving.save_model(model, 'my_model.keras')`. \n"
     ]
    },
    {
     "name": "stdout",
     "output_type": "stream",
     "text": [
      "\u001B[1m128/128\u001B[0m \u001B[32m━━━━━━━━━━━━━━━━━━━━\u001B[0m\u001B[37m\u001B[0m \u001B[1m2s\u001B[0m 18ms/step - accuracy: 0.9926 - loss: 0.0463 - pr_auc: 0.0125 - val_accuracy: 0.9931 - val_loss: 0.0678 - val_pr_auc: 0.1012\n",
      "Epoch 8/100\n",
      "\u001B[1m126/128\u001B[0m \u001B[32m━━━━━━━━━━━━━━━━━━━\u001B[0m\u001B[37m━\u001B[0m \u001B[1m0s\u001B[0m 17ms/step - accuracy: 0.9935 - loss: 0.0407 - pr_auc: 0.0115\n",
      "Epoch 8: val_pr_auc did not improve from 0.10120\n",
      "\u001B[1m128/128\u001B[0m \u001B[32m━━━━━━━━━━━━━━━━━━━━\u001B[0m\u001B[37m\u001B[0m \u001B[1m3s\u001B[0m 20ms/step - accuracy: 0.9926 - loss: 0.0449 - pr_auc: 0.0136 - val_accuracy: 0.9931 - val_loss: 0.0606 - val_pr_auc: 0.0994\n",
      "Epoch 9/100\n",
      "\u001B[1m125/128\u001B[0m \u001B[32m━━━━━━━━━━━━━━━━━━━\u001B[0m\u001B[37m━\u001B[0m \u001B[1m0s\u001B[0m 14ms/step - accuracy: 0.9929 - loss: 0.0407 - pr_auc: 0.0446\n",
      "Epoch 9: val_pr_auc improved from 0.10120 to 0.10498, saving model to ../models/cnn_v11_phase_folding_best.h5\n"
     ]
    },
    {
     "name": "stderr",
     "output_type": "stream",
     "text": [
      "WARNING:absl:You are saving your model as an HDF5 file via `model.save()` or `keras.saving.save_model(model)`. This file format is considered legacy. We recommend using instead the native Keras format, e.g. `model.save('my_model.keras')` or `keras.saving.save_model(model, 'my_model.keras')`. \n"
     ]
    },
    {
     "name": "stdout",
     "output_type": "stream",
     "text": [
      "\u001B[1m128/128\u001B[0m \u001B[32m━━━━━━━━━━━━━━━━━━━━\u001B[0m\u001B[37m\u001B[0m \u001B[1m2s\u001B[0m 18ms/step - accuracy: 0.9926 - loss: 0.0462 - pr_auc: 0.0242 - val_accuracy: 0.9931 - val_loss: 0.0662 - val_pr_auc: 0.1050\n",
      "Epoch 10/100\n",
      "\u001B[1m127/128\u001B[0m \u001B[32m━━━━━━━━━━━━━━━━━━━\u001B[0m\u001B[37m━\u001B[0m \u001B[1m0s\u001B[0m 15ms/step - accuracy: 0.9931 - loss: 0.0436 - pr_auc: 0.0095\n",
      "Epoch 10: val_pr_auc improved from 0.10498 to 0.10568, saving model to ../models/cnn_v11_phase_folding_best.h5\n"
     ]
    },
    {
     "name": "stderr",
     "output_type": "stream",
     "text": [
      "WARNING:absl:You are saving your model as an HDF5 file via `model.save()` or `keras.saving.save_model(model)`. This file format is considered legacy. We recommend using instead the native Keras format, e.g. `model.save('my_model.keras')` or `keras.saving.save_model(model, 'my_model.keras')`. \n"
     ]
    },
    {
     "name": "stdout",
     "output_type": "stream",
     "text": [
      "\u001B[1m128/128\u001B[0m \u001B[32m━━━━━━━━━━━━━━━━━━━━\u001B[0m\u001B[37m\u001B[0m \u001B[1m3s\u001B[0m 21ms/step - accuracy: 0.9926 - loss: 0.0469 - pr_auc: 0.0101 - val_accuracy: 0.9931 - val_loss: 0.0537 - val_pr_auc: 0.1057\n",
      "Epoch 11/100\n",
      "\u001B[1m124/128\u001B[0m \u001B[32m━━━━━━━━━━━━━━━━━━━\u001B[0m\u001B[37m━\u001B[0m \u001B[1m0s\u001B[0m 15ms/step - accuracy: 0.9943 - loss: 0.0368 - pr_auc: 0.0130\n",
      "Epoch 11: val_pr_auc did not improve from 0.10568\n",
      "\u001B[1m128/128\u001B[0m \u001B[32m━━━━━━━━━━━━━━━━━━━━\u001B[0m\u001B[37m\u001B[0m \u001B[1m2s\u001B[0m 17ms/step - accuracy: 0.9926 - loss: 0.0455 - pr_auc: 0.0128 - val_accuracy: 0.9931 - val_loss: 0.0637 - val_pr_auc: 0.1015\n",
      "Epoch 12/100\n",
      "\u001B[1m125/128\u001B[0m \u001B[32m━━━━━━━━━━━━━━━━━━━\u001B[0m\u001B[37m━\u001B[0m \u001B[1m0s\u001B[0m 15ms/step - accuracy: 0.9897 - loss: 0.0542 - pr_auc: 0.0258\n",
      "Epoch 12: val_pr_auc did not improve from 0.10568\n",
      "\u001B[1m128/128\u001B[0m \u001B[32m━━━━━━━━━━━━━━━━━━━━\u001B[0m\u001B[37m\u001B[0m \u001B[1m2s\u001B[0m 17ms/step - accuracy: 0.9926 - loss: 0.0415 - pr_auc: 0.0174 - val_accuracy: 0.9931 - val_loss: 0.0495 - val_pr_auc: 0.1014\n",
      "Epoch 13/100\n",
      "\u001B[1m127/128\u001B[0m \u001B[32m━━━━━━━━━━━━━━━━━━━\u001B[0m\u001B[37m━\u001B[0m \u001B[1m0s\u001B[0m 20ms/step - accuracy: 0.9923 - loss: 0.0483 - pr_auc: 0.0149\n",
      "Epoch 13: val_pr_auc did not improve from 0.10568\n",
      "\u001B[1m128/128\u001B[0m \u001B[32m━━━━━━━━━━━━━━━━━━━━\u001B[0m\u001B[37m\u001B[0m \u001B[1m3s\u001B[0m 22ms/step - accuracy: 0.9926 - loss: 0.0439 - pr_auc: 0.0240 - val_accuracy: 0.9931 - val_loss: 0.0508 - val_pr_auc: 0.1028\n",
      "Epoch 14/100\n",
      "\u001B[1m125/128\u001B[0m \u001B[32m━━━━━━━━━━━━━━━━━━━\u001B[0m\u001B[37m━\u001B[0m \u001B[1m0s\u001B[0m 15ms/step - accuracy: 0.9917 - loss: 0.0456 - pr_auc: 0.0299\n",
      "Epoch 14: val_pr_auc did not improve from 0.10568\n",
      "\u001B[1m128/128\u001B[0m \u001B[32m━━━━━━━━━━━━━━━━━━━━\u001B[0m\u001B[37m\u001B[0m \u001B[1m2s\u001B[0m 18ms/step - accuracy: 0.9926 - loss: 0.0439 - pr_auc: 0.0154 - val_accuracy: 0.9931 - val_loss: 0.0732 - val_pr_auc: 0.1009\n",
      "Epoch 15/100\n",
      "\u001B[1m126/128\u001B[0m \u001B[32m━━━━━━━━━━━━━━━━━━━\u001B[0m\u001B[37m━\u001B[0m \u001B[1m0s\u001B[0m 22ms/step - accuracy: 0.9919 - loss: 0.0418 - pr_auc: 0.0626\n",
      "Epoch 15: val_pr_auc did not improve from 0.10568\n",
      "\u001B[1m128/128\u001B[0m \u001B[32m━━━━━━━━━━━━━━━━━━━━\u001B[0m\u001B[37m\u001B[0m \u001B[1m3s\u001B[0m 27ms/step - accuracy: 0.9926 - loss: 0.0404 - pr_auc: 0.0338 - val_accuracy: 0.9931 - val_loss: 0.0568 - val_pr_auc: 0.0994\n",
      "Epoch 16/100\n",
      "\u001B[1m127/128\u001B[0m \u001B[32m━━━━━━━━━━━━━━━━━━━\u001B[0m\u001B[37m━\u001B[0m \u001B[1m0s\u001B[0m 15ms/step - accuracy: 0.9932 - loss: 0.0404 - pr_auc: 0.0160\n",
      "Epoch 16: val_pr_auc did not improve from 0.10568\n",
      "\u001B[1m128/128\u001B[0m \u001B[32m━━━━━━━━━━━━━━━━━━━━\u001B[0m\u001B[37m\u001B[0m \u001B[1m4s\u001B[0m 17ms/step - accuracy: 0.9926 - loss: 0.0441 - pr_auc: 0.0154 - val_accuracy: 0.9931 - val_loss: 0.0611 - val_pr_auc: 0.0849\n",
      "Epoch 17/100\n",
      "\u001B[1m125/128\u001B[0m \u001B[32m━━━━━━━━━━━━━━━━━━━\u001B[0m\u001B[37m━\u001B[0m \u001B[1m0s\u001B[0m 19ms/step - accuracy: 0.9922 - loss: 0.0444 - pr_auc: 0.0372\n",
      "Epoch 17: val_pr_auc did not improve from 0.10568\n",
      "\u001B[1m128/128\u001B[0m \u001B[32m━━━━━━━━━━━━━━━━━━━━\u001B[0m\u001B[37m\u001B[0m \u001B[1m3s\u001B[0m 22ms/step - accuracy: 0.9926 - loss: 0.0448 - pr_auc: 0.0175 - val_accuracy: 0.9931 - val_loss: 0.0697 - val_pr_auc: 0.0842\n",
      "Epoch 18/100\n",
      "\u001B[1m128/128\u001B[0m \u001B[32m━━━━━━━━━━━━━━━━━━━━\u001B[0m\u001B[37m\u001B[0m \u001B[1m0s\u001B[0m 16ms/step - accuracy: 0.9930 - loss: 0.0405 - pr_auc: 0.0161\n",
      "Epoch 18: val_pr_auc did not improve from 0.10568\n",
      "\u001B[1m128/128\u001B[0m \u001B[32m━━━━━━━━━━━━━━━━━━━━\u001B[0m\u001B[37m\u001B[0m \u001B[1m2s\u001B[0m 19ms/step - accuracy: 0.9926 - loss: 0.0425 - pr_auc: 0.0159 - val_accuracy: 0.9931 - val_loss: 0.0588 - val_pr_auc: 0.0875\n",
      "Epoch 19/100\n",
      "\u001B[1m127/128\u001B[0m \u001B[32m━━━━━━━━━━━━━━━━━━━\u001B[0m\u001B[37m━\u001B[0m \u001B[1m0s\u001B[0m 22ms/step - accuracy: 0.9923 - loss: 0.0448 - pr_auc: 0.0238\n",
      "Epoch 19: val_pr_auc did not improve from 0.10568\n",
      "\u001B[1m128/128\u001B[0m \u001B[32m━━━━━━━━━━━━━━━━━━━━\u001B[0m\u001B[37m\u001B[0m \u001B[1m3s\u001B[0m 26ms/step - accuracy: 0.9926 - loss: 0.0422 - pr_auc: 0.0320 - val_accuracy: 0.9931 - val_loss: 0.0551 - val_pr_auc: 0.0763\n",
      "Epoch 20/100\n",
      "\u001B[1m126/128\u001B[0m \u001B[32m━━━━━━━━━━━━━━━━━━━\u001B[0m\u001B[37m━\u001B[0m \u001B[1m0s\u001B[0m 15ms/step - accuracy: 0.9918 - loss: 0.0433 - pr_auc: 0.0244\n",
      "Epoch 20: val_pr_auc did not improve from 0.10568\n",
      "\u001B[1m128/128\u001B[0m \u001B[32m━━━━━━━━━━━━━━━━━━━━\u001B[0m\u001B[37m\u001B[0m \u001B[1m2s\u001B[0m 18ms/step - accuracy: 0.9926 - loss: 0.0399 - pr_auc: 0.0266 - val_accuracy: 0.9931 - val_loss: 0.0528 - val_pr_auc: 0.0786\n",
      "Epoch 20: early stopping\n",
      "Restoring model weights from the end of the best epoch: 10.\n"
     ]
    }
   ],
   "execution_count": 7
  },
  {
   "metadata": {
    "ExecuteTime": {
     "end_time": "2025-10-30T08:57:06.243762Z",
     "start_time": "2025-10-30T08:57:05.659736Z"
    }
   },
   "cell_type": "code",
   "source": [
    "print(\"Évaluation du meilleur modèle v11 (restauré)...\")\n",
    "\n",
    "# Prédictions\n",
    "y_pred_proba = model.predict(X_test_cnn).ravel()\n",
    "y_pred_class = (y_pred_proba > 0.5).astype(int)\n",
    "\n",
    "# Rapports\n",
    "print(\"\\n--- Rapport de Classification (v11) ---\")\n",
    "print(classification_report(y_test, y_pred_class, target_names=['Pas de Planète', 'Planète']))\n",
    "\n",
    "print(\"\\n--- Matrice de Confusion (v11) ---\")\n",
    "print(confusion_matrix(y_test, y_pred_class))\n",
    "\n",
    "# LE VRAI SCORE PR-AUC (Average Precision)\n",
    "# (Assurez-vous d'importer average_precision_score depuis sklearn.metrics)\n",
    "try:\n",
    "    pr_auc_score = average_precision_score(y_test, y_pred_proba)\n",
    "    print(f\"\\nScore PR-AUC (Average Precision) : {pr_auc_score:.4f}\")\n",
    "except NameError:\n",
    "    print(\"\\nN'oubliez pas d'importer 'average_precision_score' pour voir le score PR-AUC.\")"
   ],
   "id": "eefb5dd47e73e7c9",
   "outputs": [
    {
     "name": "stdout",
     "output_type": "stream",
     "text": [
      "Évaluation du meilleur modèle v11 (restauré)...\n",
      "\u001B[1m32/32\u001B[0m \u001B[32m━━━━━━━━━━━━━━━━━━━━\u001B[0m\u001B[37m\u001B[0m \u001B[1m0s\u001B[0m 10ms/step\n",
      "\n",
      "--- Rapport de Classification (v11) ---\n",
      "                precision    recall  f1-score   support\n",
      "\n",
      "Pas de Planète       0.99      1.00      1.00      1011\n",
      "       Planète       0.00      0.00      0.00         7\n",
      "\n",
      "      accuracy                           0.99      1018\n",
      "     macro avg       0.50      0.50      0.50      1018\n",
      "  weighted avg       0.99      0.99      0.99      1018\n",
      "\n",
      "\n",
      "--- Matrice de Confusion (v11) ---\n",
      "[[1011    0]\n",
      " [   7    0]]\n",
      "\n",
      "Score PR-AUC (Average Precision) : 0.1449\n"
     ]
    },
    {
     "name": "stderr",
     "output_type": "stream",
     "text": [
      "C:\\Users\\libra\\IdeaProjects\\exoplanet-detection-ml\\venv\\Lib\\site-packages\\sklearn\\metrics\\_classification.py:1731: UndefinedMetricWarning: Precision is ill-defined and being set to 0.0 in labels with no predicted samples. Use `zero_division` parameter to control this behavior.\n",
      "  _warn_prf(average, modifier, f\"{metric.capitalize()} is\", result.shape[0])\n",
      "C:\\Users\\libra\\IdeaProjects\\exoplanet-detection-ml\\venv\\Lib\\site-packages\\sklearn\\metrics\\_classification.py:1731: UndefinedMetricWarning: Precision is ill-defined and being set to 0.0 in labels with no predicted samples. Use `zero_division` parameter to control this behavior.\n",
      "  _warn_prf(average, modifier, f\"{metric.capitalize()} is\", result.shape[0])\n",
      "C:\\Users\\libra\\IdeaProjects\\exoplanet-detection-ml\\venv\\Lib\\site-packages\\sklearn\\metrics\\_classification.py:1731: UndefinedMetricWarning: Precision is ill-defined and being set to 0.0 in labels with no predicted samples. Use `zero_division` parameter to control this behavior.\n",
      "  _warn_prf(average, modifier, f\"{metric.capitalize()} is\", result.shape[0])\n"
     ]
    }
   ],
   "execution_count": 9
  },
  {
   "metadata": {
    "ExecuteTime": {
     "end_time": "2025-10-30T08:58:17.423841Z",
     "start_time": "2025-10-30T08:58:16.937756Z"
    }
   },
   "cell_type": "code",
   "source": [
    "print(\"Affichage des graphiques d'entraînement (v10)...\")\n",
    "history_dict = history.history\n",
    "\n",
    "# Récupérer les métriques\n",
    "loss = history_dict['loss']\n",
    "val_loss = history_dict['val_loss']\n",
    "pr_auc = history_dict['pr_auc']\n",
    "val_pr_auc = history_dict['val_pr_auc']\n",
    "\n",
    "# Créer la plage d'époques (nombre d'époques réellement exécutées)\n",
    "actual_epochs = len(loss)\n",
    "epochs_range = range(1, actual_epochs + 1)\n",
    "\n",
    "# Créer la figure\n",
    "plt.figure(figsize=(16, 6))\n",
    "\n",
    "# Graphique 1 : Loss\n",
    "plt.subplot(1, 2, 1)\n",
    "plt.plot(epochs_range, loss, 'bo-', label='Training Loss')\n",
    "plt.plot(epochs_range, val_loss, 'ro-', label='Validation Loss')\n",
    "plt.title('Loss (v10 - Phase Folding)')\n",
    "plt.xlabel('Epochs')\n",
    "plt.ylabel('Loss')\n",
    "plt.legend()\n",
    "plt.grid(True)\n",
    "\n",
    "# Graphique 2 : PR-AUC\n",
    "plt.subplot(1, 2, 2)\n",
    "plt.plot(epochs_range, pr_auc, 'bo-', label='Training PR-AUC')\n",
    "plt.plot(epochs_range, val_pr_auc, 'ro-', label='Validation PR-AUC')\n",
    "plt.title('PR-AUC (v10 - Phase Folding)')\n",
    "plt.xlabel('Epochs')\n",
    "plt.ylabel('PR-AUC Score')\n",
    "plt.legend()\n",
    "plt.grid(True)\n",
    "\n",
    "plt.suptitle(\"Résultats de l'entraînement v10\", fontsize=16)\n",
    "plt.tight_layout(rect=[0, 0.03, 1, 0.95])\n",
    "plt.show()"
   ],
   "id": "f0085e951bdcd440",
   "outputs": [
    {
     "name": "stdout",
     "output_type": "stream",
     "text": [
      "Affichage des graphiques d'entraînement (v10)...\n"
     ]
    },
    {
     "data": {
      "text/plain": [
       "<Figure size 1600x600 with 2 Axes>"
      ],
      "image/png": "[encoded data removed]"
     },
     "metadata": {},
     "output_type": "display_data"
    }
   ],
   "execution_count": 11
  }
 ],
 "metadata": {
  "kernelspec": {
   "display_name": "Python 3",
   "language": "python",
   "name": "python3"
  },
  "language_info": {
   "codemirror_mode": {
    "name": "ipython",
    "version": 2
   },
   "file_extension": ".py",
   "mimetype": "text/x-python",
   "name": "python",
   "nbconvert_exporter": "python",
   "pygments_lexer": "ipython2",
   "version": "2.7.6"
  }
 },
 "nbformat": 4,
 "nbformat_minor": 5
}
