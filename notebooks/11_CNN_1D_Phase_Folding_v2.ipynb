{
 "cells": [
  {
   "cell_type": "code",
   "id": "initial_id",
   "metadata": {
    "collapsed": true,
    "ExecuteTime": {
     "end_time": "2025-11-01T10:26:15.526455Z",
     "start_time": "2025-11-01T10:26:15.514249Z"
    }
   },
   "source": [
    "import numpy as np\n",
    "import pandas as pd\n",
    "import matplotlib.pyplot as plt\n",
    "import tensorflow as tf\n",
    "from sklearn.model_selection import train_test_split\n",
    "from sklearn.metrics import classification_report, confusion_matrix, roc_auc_score\n",
    "from sklearn.metrics import average_precision_score\n",
    "from sklearn.utils import class_weight\n",
    "\n",
    "#shuffle csv\n",
    "from sklearn.utils import shuffle\n",
    "\n",
    "#Multiprocessing\n",
    "import multiprocessing\n",
    "from tqdm import tqdm  # Barre de progression\n",
    "\n",
    "#import feature\n",
    "from src.phase_folding import create_folded_lightcurve\n",
    "\n",
    "# TensorFlow\n",
    "pr_auc = tf.keras.metrics.AUC(curve='PR', name='pr_auc')\n",
    "\n",
    "print(\"Bibliothèques importées (avec multiprocessing et tqdm).\")"
   ],
   "outputs": [
    {
     "name": "stdout",
     "output_type": "stream",
     "text": [
      "Bibliothèques importées (avec multiprocessing et tqdm).\n"
     ]
    }
   ],
   "execution_count": 17
  },
  {
   "metadata": {
    "ExecuteTime": {
     "end_time": "2025-11-01T10:26:20.870325Z",
     "start_time": "2025-11-01T10:26:17.051891Z"
    }
   },
   "cell_type": "code",
   "source": [
    "print(\"Chargement des données brutes...\")\n",
    "train_df = pd.read_csv('../data/raw/train.csv')\n",
    "\n",
    "X_raw = train_df.drop('LABEL', axis=1).values\n",
    "y = train_df['LABEL'].values - 1  # (0, 1)\n",
    "\n",
    "print(\"Mélange des données...\")\n",
    "X_raw_shuffled, y_shuffled = shuffle(X_raw, y, random_state=42)\n",
    "\n",
    "print(f\"Forme de X_raw_shuffled : {X_raw_shuffled.shape}\")\n",
    "print(f\"Forme de y_shuffled : {y_shuffled.shape}\")"
   ],
   "id": "6425fd9bc865195",
   "outputs": [
    {
     "name": "stdout",
     "output_type": "stream",
     "text": [
      "Chargement des données brutes...\n",
      "Mélange des données...\n",
      "Forme de X_raw_shuffled : (5087, 3197)\n",
      "Forme de y_shuffled : (5087,)\n"
     ]
    }
   ],
   "execution_count": 18
  },
  {
   "metadata": {
    "ExecuteTime": {
     "end_time": "2025-11-01T09:57:02.742388Z",
     "start_time": "2025-11-01T09:36:29.172047Z"
    }
   },
   "cell_type": "code",
   "source": [
    "N_BINS = 500\n",
    "\n",
    "# On utilise les données complètes (mélangées) de la Cellule 2\n",
    "X_data_to_process = X_raw_shuffled\n",
    "y_data_to_process = y_shuffled\n",
    "\n",
    "print(f\"Démarrage du pré-traitement 'Phase Folding' PARALLÉLISÉ sur {len(X_data_to_process)} étoiles...\")\n",
    "\n",
    "# 1. Déterminer le nombre de cœurs\n",
    "N_CORES = multiprocessing.cpu_count() - 1\n",
    "if N_CORES < 1:\n",
    "    N_CORES = 1\n",
    "print(f\"Utilisation de {N_CORES} cœurs CPU...\")\n",
    "\n",
    "# 2. Préparer les arguments pour la fonction\n",
    "# (Notre fonction a besoin de 2 arguments : row et n_bins)\n",
    "func_args = [(row, N_BINS) for row in X_data_to_process]\n",
    "\n",
    "# 3. Créer un \"pool\" de workers et lancer le calcul\n",
    "with multiprocessing.Pool(processes=N_CORES) as pool:\n",
    "    # pool.starmap est fait pour les fonctions avec plusieurs arguments\n",
    "    # tqdm ajoute la barre de progression\n",
    "    X_folded = list(tqdm(pool.starmap(create_folded_lightcurve, func_args), total=len(X_data_to_process)))\n",
    "\n",
    "# 4. Convertir la liste de résultats en array numpy\n",
    "X_folded = np.array(X_folded)\n",
    "\n",
    "# 5. y devient y_data_to_process pour la Cellule 4\n",
    "y = y_data_to_process\n",
    "\n",
    "print(\"Pré-traitement 'Phase Folding' terminé !\")\n",
    "print(f\"Forme de X_folded (nos nouvelles features) : {X_folded.shape}\")\n",
    "print(f\"Forme de y (cibles) : {y.shape}\")"
   ],
   "id": "269a757c15cec483",
   "outputs": [
    {
     "name": "stdout",
     "output_type": "stream",
     "text": [
      "Démarrage du pré-traitement 'Phase Folding' PARALLÉLISÉ sur 5087 étoiles...\n",
      "Utilisation de 7 cœurs CPU...\n"
     ]
    },
    {
     "name": "stderr",
     "output_type": "stream",
     "text": [
      "100%|██████████| 5087/5087 [00:00<00:00, 1655141.14it/s]"
     ]
    },
    {
     "name": "stdout",
     "output_type": "stream",
     "text": [
      "Pré-traitement 'Phase Folding' terminé !\n",
      "Forme de X_folded (nos nouvelles features) : (5087, 500)\n",
      "Forme de y (cibles) : (5087,)\n"
     ]
    },
    {
     "name": "stderr",
     "output_type": "stream",
     "text": [
      "\n"
     ]
    }
   ],
   "execution_count": 3
  },
  {
   "metadata": {
    "ExecuteTime": {
     "end_time": "2025-11-01T10:26:46.688364Z",
     "start_time": "2025-11-01T10:26:46.661219Z"
    }
   },
   "cell_type": "code",
   "source": [
    "print(\"Division des données complètes (Train/Test)...\")\n",
    "X_train, X_test, y_train, y_test = train_test_split(\n",
    "    X_folded,  # <-- Données complètes\n",
    "    y,         # <-- Données complètes\n",
    "    test_size=0.2,\n",
    "    random_state=42,\n",
    "    stratify=y # Stratifier sur TOUTES les données\n",
    ")\n",
    "\n",
    "# Redimensionner pour le CNN\n",
    "X_train_cnn = np.expand_dims(X_train, axis=-1)\n",
    "X_test_cnn = np.expand_dims(X_test, axis=-1)\n",
    "\n",
    "INPUT_SHAPE = (N_BINS, 1)\n",
    "\n",
    "print(f\"Forme X_train_cnn : {X_train_cnn.shape}\")\n",
    "print(f\"Forme X_test_cnn : {X_test_cnn.shape}\")\n",
    "print(f\"Classes dans y_train : {np.unique(y_train, return_counts=True)}\")\n",
    "print(f\"Classes dans y_test : {np.unique(y_test, return_counts=True)}\")"
   ],
   "id": "e0123083e63c07af",
   "outputs": [
    {
     "name": "stdout",
     "output_type": "stream",
     "text": [
      "Division des données complètes (Train/Test)...\n",
      "Forme X_train_cnn : (4069, 500, 1)\n",
      "Forme X_test_cnn : (1018, 500, 1)\n",
      "Classes dans y_train : (array([0, 1]), array([4039,   30]))\n",
      "Classes dans y_test : (array([0, 1]), array([1011,    7]))\n"
     ]
    }
   ],
   "execution_count": 20
  },
  {
   "metadata": {
    "ExecuteTime": {
     "end_time": "2025-11-01T10:26:51.535700Z",
     "start_time": "2025-11-01T10:26:51.420213Z"
    }
   },
   "cell_type": "code",
   "source": [
    "# Le v10 était en underfitting adding more capacity .\n",
    "\n",
    "def build_phase_model_v13(input_shape):\n",
    "    model = tf.keras.models.Sequential(name=\"CNN_v13_Deeper\")\n",
    "\n",
    "    model.add(tf.keras.layers.Input(shape=input_shape))\n",
    "\n",
    "    # 1er Bloc (plus de filtres)\n",
    "    model.add(tf.keras.layers.Conv1D(filters=32, kernel_size=7, activation='relu', padding='same'))\n",
    "    model.add(tf.keras.layers.MaxPooling1D(pool_size=3))\n",
    "    model.add(tf.keras.layers.Dropout(0.3))\n",
    "\n",
    "    # 2ème Bloc\n",
    "    model.add(tf.keras.layers.Conv1D(filters=64, kernel_size=5, activation='relu', padding='same'))\n",
    "    model.add(tf.keras.layers.MaxPooling1D(pool_size=3))\n",
    "    model.add(tf.keras.layers.Dropout(0.3))\n",
    "\n",
    "    # 3ème Bloc (encore plus profond)\n",
    "    model.add(tf.keras.layers.Conv1D(filters=128, kernel_size=3, activation='relu', padding='same'))\n",
    "    model.add(tf.keras.layers.MaxPooling1D(pool_size=3))\n",
    "    model.add(tf.keras.layers.Dropout(0.3))\n",
    "\n",
    "    # Tête de classification (plus de neurones)\n",
    "    model.add(tf.keras.layers.Flatten())\n",
    "    model.add(tf.keras.layers.Dense(64, activation='relu'))\n",
    "    model.add(tf.keras.layers.Dropout(0.5))\n",
    "    model.add(tf.keras.layers.Dense(1, activation='sigmoid'))\n",
    "\n",
    "    return model\n",
    "\n",
    "model = build_phase_model_v13(INPUT_SHAPE)\n",
    "\n",
    "# Compiler avec le même optimisateur\n",
    "model.compile(\n",
    "    optimizer=tf.keras.optimizers.Adam(learning_rate=1e-3),\n",
    "    loss='binary_crossentropy',\n",
    "    metrics=['accuracy', pr_auc] # On suit toujours le PR-AUC\n",
    ")\n",
    "\n",
    "model.summary()"
   ],
   "id": "4c88fdcd03ad7211",
   "outputs": [
    {
     "data": {
      "text/plain": [
       "\u001B[1mModel: \"CNN_v13_Deeper\"\u001B[0m\n"
      ],
      "text/html": [
       "<pre style=\"white-space:pre;overflow-x:auto;line-height:normal;font-family:Menlo,'DejaVu Sans Mono',consolas,'Courier New',monospace\"><span style=\"font-weight: bold\">Model: \"CNN_v13_Deeper\"</span>\n",
       "</pre>\n"
      ]
     },
     "metadata": {},
     "output_type": "display_data"
    },
    {
     "data": {
      "text/plain": [
       "┏━━━━━━━━━━━━━━━━━━━━━━━━━━━━━━━━━┳━━━━━━━━━━━━━━━━━━━━━━━━┳━━━━━━━━━━━━━━━┓\n",
       "┃\u001B[1m \u001B[0m\u001B[1mLayer (type)                   \u001B[0m\u001B[1m \u001B[0m┃\u001B[1m \u001B[0m\u001B[1mOutput Shape          \u001B[0m\u001B[1m \u001B[0m┃\u001B[1m \u001B[0m\u001B[1m      Param #\u001B[0m\u001B[1m \u001B[0m┃\n",
       "┡━━━━━━━━━━━━━━━━━━━━━━━━━━━━━━━━━╇━━━━━━━━━━━━━━━━━━━━━━━━╇━━━━━━━━━━━━━━━┩\n",
       "│ conv1d_9 (\u001B[38;5;33mConv1D\u001B[0m)               │ (\u001B[38;5;45mNone\u001B[0m, \u001B[38;5;34m500\u001B[0m, \u001B[38;5;34m32\u001B[0m)        │           \u001B[38;5;34m256\u001B[0m │\n",
       "├─────────────────────────────────┼────────────────────────┼───────────────┤\n",
       "│ max_pooling1d_9 (\u001B[38;5;33mMaxPooling1D\u001B[0m)  │ (\u001B[38;5;45mNone\u001B[0m, \u001B[38;5;34m166\u001B[0m, \u001B[38;5;34m32\u001B[0m)        │             \u001B[38;5;34m0\u001B[0m │\n",
       "├─────────────────────────────────┼────────────────────────┼───────────────┤\n",
       "│ dropout_12 (\u001B[38;5;33mDropout\u001B[0m)            │ (\u001B[38;5;45mNone\u001B[0m, \u001B[38;5;34m166\u001B[0m, \u001B[38;5;34m32\u001B[0m)        │             \u001B[38;5;34m0\u001B[0m │\n",
       "├─────────────────────────────────┼────────────────────────┼───────────────┤\n",
       "│ conv1d_10 (\u001B[38;5;33mConv1D\u001B[0m)              │ (\u001B[38;5;45mNone\u001B[0m, \u001B[38;5;34m166\u001B[0m, \u001B[38;5;34m64\u001B[0m)        │        \u001B[38;5;34m10,304\u001B[0m │\n",
       "├─────────────────────────────────┼────────────────────────┼───────────────┤\n",
       "│ max_pooling1d_10 (\u001B[38;5;33mMaxPooling1D\u001B[0m) │ (\u001B[38;5;45mNone\u001B[0m, \u001B[38;5;34m55\u001B[0m, \u001B[38;5;34m64\u001B[0m)         │             \u001B[38;5;34m0\u001B[0m │\n",
       "├─────────────────────────────────┼────────────────────────┼───────────────┤\n",
       "│ dropout_13 (\u001B[38;5;33mDropout\u001B[0m)            │ (\u001B[38;5;45mNone\u001B[0m, \u001B[38;5;34m55\u001B[0m, \u001B[38;5;34m64\u001B[0m)         │             \u001B[38;5;34m0\u001B[0m │\n",
       "├─────────────────────────────────┼────────────────────────┼───────────────┤\n",
       "│ conv1d_11 (\u001B[38;5;33mConv1D\u001B[0m)              │ (\u001B[38;5;45mNone\u001B[0m, \u001B[38;5;34m55\u001B[0m, \u001B[38;5;34m128\u001B[0m)        │        \u001B[38;5;34m24,704\u001B[0m │\n",
       "├─────────────────────────────────┼────────────────────────┼───────────────┤\n",
       "│ max_pooling1d_11 (\u001B[38;5;33mMaxPooling1D\u001B[0m) │ (\u001B[38;5;45mNone\u001B[0m, \u001B[38;5;34m18\u001B[0m, \u001B[38;5;34m128\u001B[0m)        │             \u001B[38;5;34m0\u001B[0m │\n",
       "├─────────────────────────────────┼────────────────────────┼───────────────┤\n",
       "│ dropout_14 (\u001B[38;5;33mDropout\u001B[0m)            │ (\u001B[38;5;45mNone\u001B[0m, \u001B[38;5;34m18\u001B[0m, \u001B[38;5;34m128\u001B[0m)        │             \u001B[38;5;34m0\u001B[0m │\n",
       "├─────────────────────────────────┼────────────────────────┼───────────────┤\n",
       "│ flatten_3 (\u001B[38;5;33mFlatten\u001B[0m)             │ (\u001B[38;5;45mNone\u001B[0m, \u001B[38;5;34m2304\u001B[0m)           │             \u001B[38;5;34m0\u001B[0m │\n",
       "├─────────────────────────────────┼────────────────────────┼───────────────┤\n",
       "│ dense_6 (\u001B[38;5;33mDense\u001B[0m)                 │ (\u001B[38;5;45mNone\u001B[0m, \u001B[38;5;34m64\u001B[0m)             │       \u001B[38;5;34m147,520\u001B[0m │\n",
       "├─────────────────────────────────┼────────────────────────┼───────────────┤\n",
       "│ dropout_15 (\u001B[38;5;33mDropout\u001B[0m)            │ (\u001B[38;5;45mNone\u001B[0m, \u001B[38;5;34m64\u001B[0m)             │             \u001B[38;5;34m0\u001B[0m │\n",
       "├─────────────────────────────────┼────────────────────────┼───────────────┤\n",
       "│ dense_7 (\u001B[38;5;33mDense\u001B[0m)                 │ (\u001B[38;5;45mNone\u001B[0m, \u001B[38;5;34m1\u001B[0m)              │            \u001B[38;5;34m65\u001B[0m │\n",
       "└─────────────────────────────────┴────────────────────────┴───────────────┘\n"
      ],
      "text/html": [
       "<pre style=\"white-space:pre;overflow-x:auto;line-height:normal;font-family:Menlo,'DejaVu Sans Mono',consolas,'Courier New',monospace\">┏━━━━━━━━━━━━━━━━━━━━━━━━━━━━━━━━━┳━━━━━━━━━━━━━━━━━━━━━━━━┳━━━━━━━━━━━━━━━┓\n",
       "┃<span style=\"font-weight: bold\"> Layer (type)                    </span>┃<span style=\"font-weight: bold\"> Output Shape           </span>┃<span style=\"font-weight: bold\">       Param # </span>┃\n",
       "┡━━━━━━━━━━━━━━━━━━━━━━━━━━━━━━━━━╇━━━━━━━━━━━━━━━━━━━━━━━━╇━━━━━━━━━━━━━━━┩\n",
       "│ conv1d_9 (<span style=\"color: #0087ff; text-decoration-color: #0087ff\">Conv1D</span>)               │ (<span style=\"color: #00d7ff; text-decoration-color: #00d7ff\">None</span>, <span style=\"color: #00af00; text-decoration-color: #00af00\">500</span>, <span style=\"color: #00af00; text-decoration-color: #00af00\">32</span>)        │           <span style=\"color: #00af00; text-decoration-color: #00af00\">256</span> │\n",
       "├─────────────────────────────────┼────────────────────────┼───────────────┤\n",
       "│ max_pooling1d_9 (<span style=\"color: #0087ff; text-decoration-color: #0087ff\">MaxPooling1D</span>)  │ (<span style=\"color: #00d7ff; text-decoration-color: #00d7ff\">None</span>, <span style=\"color: #00af00; text-decoration-color: #00af00\">166</span>, <span style=\"color: #00af00; text-decoration-color: #00af00\">32</span>)        │             <span style=\"color: #00af00; text-decoration-color: #00af00\">0</span> │\n",
       "├─────────────────────────────────┼────────────────────────┼───────────────┤\n",
       "│ dropout_12 (<span style=\"color: #0087ff; text-decoration-color: #0087ff\">Dropout</span>)            │ (<span style=\"color: #00d7ff; text-decoration-color: #00d7ff\">None</span>, <span style=\"color: #00af00; text-decoration-color: #00af00\">166</span>, <span style=\"color: #00af00; text-decoration-color: #00af00\">32</span>)        │             <span style=\"color: #00af00; text-decoration-color: #00af00\">0</span> │\n",
       "├─────────────────────────────────┼────────────────────────┼───────────────┤\n",
       "│ conv1d_10 (<span style=\"color: #0087ff; text-decoration-color: #0087ff\">Conv1D</span>)              │ (<span style=\"color: #00d7ff; text-decoration-color: #00d7ff\">None</span>, <span style=\"color: #00af00; text-decoration-color: #00af00\">166</span>, <span style=\"color: #00af00; text-decoration-color: #00af00\">64</span>)        │        <span style=\"color: #00af00; text-decoration-color: #00af00\">10,304</span> │\n",
       "├─────────────────────────────────┼────────────────────────┼───────────────┤\n",
       "│ max_pooling1d_10 (<span style=\"color: #0087ff; text-decoration-color: #0087ff\">MaxPooling1D</span>) │ (<span style=\"color: #00d7ff; text-decoration-color: #00d7ff\">None</span>, <span style=\"color: #00af00; text-decoration-color: #00af00\">55</span>, <span style=\"color: #00af00; text-decoration-color: #00af00\">64</span>)         │             <span style=\"color: #00af00; text-decoration-color: #00af00\">0</span> │\n",
       "├─────────────────────────────────┼────────────────────────┼───────────────┤\n",
       "│ dropout_13 (<span style=\"color: #0087ff; text-decoration-color: #0087ff\">Dropout</span>)            │ (<span style=\"color: #00d7ff; text-decoration-color: #00d7ff\">None</span>, <span style=\"color: #00af00; text-decoration-color: #00af00\">55</span>, <span style=\"color: #00af00; text-decoration-color: #00af00\">64</span>)         │             <span style=\"color: #00af00; text-decoration-color: #00af00\">0</span> │\n",
       "├─────────────────────────────────┼────────────────────────┼───────────────┤\n",
       "│ conv1d_11 (<span style=\"color: #0087ff; text-decoration-color: #0087ff\">Conv1D</span>)              │ (<span style=\"color: #00d7ff; text-decoration-color: #00d7ff\">None</span>, <span style=\"color: #00af00; text-decoration-color: #00af00\">55</span>, <span style=\"color: #00af00; text-decoration-color: #00af00\">128</span>)        │        <span style=\"color: #00af00; text-decoration-color: #00af00\">24,704</span> │\n",
       "├─────────────────────────────────┼────────────────────────┼───────────────┤\n",
       "│ max_pooling1d_11 (<span style=\"color: #0087ff; text-decoration-color: #0087ff\">MaxPooling1D</span>) │ (<span style=\"color: #00d7ff; text-decoration-color: #00d7ff\">None</span>, <span style=\"color: #00af00; text-decoration-color: #00af00\">18</span>, <span style=\"color: #00af00; text-decoration-color: #00af00\">128</span>)        │             <span style=\"color: #00af00; text-decoration-color: #00af00\">0</span> │\n",
       "├─────────────────────────────────┼────────────────────────┼───────────────┤\n",
       "│ dropout_14 (<span style=\"color: #0087ff; text-decoration-color: #0087ff\">Dropout</span>)            │ (<span style=\"color: #00d7ff; text-decoration-color: #00d7ff\">None</span>, <span style=\"color: #00af00; text-decoration-color: #00af00\">18</span>, <span style=\"color: #00af00; text-decoration-color: #00af00\">128</span>)        │             <span style=\"color: #00af00; text-decoration-color: #00af00\">0</span> │\n",
       "├─────────────────────────────────┼────────────────────────┼───────────────┤\n",
       "│ flatten_3 (<span style=\"color: #0087ff; text-decoration-color: #0087ff\">Flatten</span>)             │ (<span style=\"color: #00d7ff; text-decoration-color: #00d7ff\">None</span>, <span style=\"color: #00af00; text-decoration-color: #00af00\">2304</span>)           │             <span style=\"color: #00af00; text-decoration-color: #00af00\">0</span> │\n",
       "├─────────────────────────────────┼────────────────────────┼───────────────┤\n",
       "│ dense_6 (<span style=\"color: #0087ff; text-decoration-color: #0087ff\">Dense</span>)                 │ (<span style=\"color: #00d7ff; text-decoration-color: #00d7ff\">None</span>, <span style=\"color: #00af00; text-decoration-color: #00af00\">64</span>)             │       <span style=\"color: #00af00; text-decoration-color: #00af00\">147,520</span> │\n",
       "├─────────────────────────────────┼────────────────────────┼───────────────┤\n",
       "│ dropout_15 (<span style=\"color: #0087ff; text-decoration-color: #0087ff\">Dropout</span>)            │ (<span style=\"color: #00d7ff; text-decoration-color: #00d7ff\">None</span>, <span style=\"color: #00af00; text-decoration-color: #00af00\">64</span>)             │             <span style=\"color: #00af00; text-decoration-color: #00af00\">0</span> │\n",
       "├─────────────────────────────────┼────────────────────────┼───────────────┤\n",
       "│ dense_7 (<span style=\"color: #0087ff; text-decoration-color: #0087ff\">Dense</span>)                 │ (<span style=\"color: #00d7ff; text-decoration-color: #00d7ff\">None</span>, <span style=\"color: #00af00; text-decoration-color: #00af00\">1</span>)              │            <span style=\"color: #00af00; text-decoration-color: #00af00\">65</span> │\n",
       "└─────────────────────────────────┴────────────────────────┴───────────────┘\n",
       "</pre>\n"
      ]
     },
     "metadata": {},
     "output_type": "display_data"
    },
    {
     "data": {
      "text/plain": [
       "\u001B[1m Total params: \u001B[0m\u001B[38;5;34m182,849\u001B[0m (714.25 KB)\n"
      ],
      "text/html": [
       "<pre style=\"white-space:pre;overflow-x:auto;line-height:normal;font-family:Menlo,'DejaVu Sans Mono',consolas,'Courier New',monospace\"><span style=\"font-weight: bold\"> Total params: </span><span style=\"color: #00af00; text-decoration-color: #00af00\">182,849</span> (714.25 KB)\n",
       "</pre>\n"
      ]
     },
     "metadata": {},
     "output_type": "display_data"
    },
    {
     "data": {
      "text/plain": [
       "\u001B[1m Trainable params: \u001B[0m\u001B[38;5;34m182,849\u001B[0m (714.25 KB)\n"
      ],
      "text/html": [
       "<pre style=\"white-space:pre;overflow-x:auto;line-height:normal;font-family:Menlo,'DejaVu Sans Mono',consolas,'Courier New',monospace\"><span style=\"font-weight: bold\"> Trainable params: </span><span style=\"color: #00af00; text-decoration-color: #00af00\">182,849</span> (714.25 KB)\n",
       "</pre>\n"
      ]
     },
     "metadata": {},
     "output_type": "display_data"
    },
    {
     "data": {
      "text/plain": [
       "\u001B[1m Non-trainable params: \u001B[0m\u001B[38;5;34m0\u001B[0m (0.00 B)\n"
      ],
      "text/html": [
       "<pre style=\"white-space:pre;overflow-x:auto;line-height:normal;font-family:Menlo,'DejaVu Sans Mono',consolas,'Courier New',monospace\"><span style=\"font-weight: bold\"> Non-trainable params: </span><span style=\"color: #00af00; text-decoration-color: #00af00\">0</span> (0.00 B)\n",
       "</pre>\n"
      ]
     },
     "metadata": {},
     "output_type": "display_data"
    }
   ],
   "execution_count": 21
  },
  {
   "metadata": {
    "ExecuteTime": {
     "end_time": "2025-11-01T10:26:59.241297Z",
     "start_time": "2025-11-01T10:26:59.232406Z"
    }
   },
   "cell_type": "code",
   "source": [
    "# Calculer les poids basés sur le SET D'ENTRAÎNEMENT (y_train)\n",
    "# C'est la seule chose que le modèle doit voir\n",
    "weights = class_weight.compute_class_weight(\n",
    "    'balanced',\n",
    "    classes=np.unique(y_train),\n",
    "    y=y_train\n",
    ")\n",
    "\n",
    "# Keras attend un dictionnaire\n",
    "class_weights_dict = {0: weights[0], 1: weights[1]}\n",
    "\n",
    "print(f\"Poids de classe (Classe 0 'Pas Planète'): {weights[0]:.2f}\")\n",
    "print(f\"Poids de classe (Classe 1 'Planète'):   {weights[1]:.2f}\")"
   ],
   "id": "64c4c38c5343f602",
   "outputs": [
    {
     "name": "stdout",
     "output_type": "stream",
     "text": [
      "Poids de classe (Classe 0 'Pas Planète'): 0.50\n",
      "Poids de classe (Classe 1 'Planète'):   67.82\n"
     ]
    }
   ],
   "execution_count": 23
  },
  {
   "metadata": {
    "ExecuteTime": {
     "end_time": "2025-11-01T10:27:59.019791Z",
     "start_time": "2025-11-01T10:27:01.480518Z"
    }
   },
   "cell_type": "code",
   "source": [
    "# Noms de fichiers pour la v12\n",
    "LOG_DIR = './logs/v13_phase_folding_fastLR'\n",
    "MODEL_PATH = '../models/cnn_v13_phase_folding_best.h5'\n",
    "\n",
    "# 1. Nettoyer les anciens logs (version Windows)\n",
    "!rmdir /S /Q .\\\\logs\\\\v13_phase_folding_fastLR\n",
    "\n",
    "# 2. Définir les Callbacks (LE CODE QUI MANQUAIT)\n",
    "tensorboard_cb = tf.keras.callbacks.TensorBoard(log_dir=LOG_DIR, histogram_freq=1)\n",
    "\n",
    "checkpoint_cb = tf.keras.callbacks.ModelCheckpoint(\n",
    "    filepath=MODEL_PATH,\n",
    "    save_best_only=True,\n",
    "    monitor='val_pr_auc', # Toujours notre métrique clé\n",
    "    mode='max',\n",
    "    verbose=1\n",
    ")\n",
    "\n",
    "early_stopping_cb = tf.keras.callbacks.EarlyStopping(\n",
    "    monitor='val_pr_auc',\n",
    "    mode='max',\n",
    "    patience=10,\n",
    "    restore_best_weights=True,\n",
    "    verbose=1\n",
    ")\n",
    "\n",
    "# 3. Entraînement\n",
    "print(f\"Début de l'entraînement (v13 - LR augmented)...\")\n",
    "history = model.fit(\n",
    "    X_train_cnn,\n",
    "    y_train,\n",
    "    epochs=100,\n",
    "    batch_size=32,\n",
    "    validation_data=(X_test_cnn, y_test),\n",
    "\n",
    "    # On passe les callbacks qui sont maintenant définis\n",
    "    callbacks=[tensorboard_cb, checkpoint_cb, early_stopping_cb],\n",
    "\n",
    "    # Et on ajoute la nouvelle ligne magique\n",
    "    class_weight=class_weights_dict\n",
    ")"
   ],
   "id": "807cc97ce849feb",
   "outputs": [
    {
     "name": "stdout",
     "output_type": "stream",
     "text": [
      "Début de l'entraînement (v13 - LR augmented)...\n",
      "Epoch 1/100\n"
     ]
    },
    {
     "name": "stderr",
     "output_type": "stream",
     "text": [
      ".\\\\logs\\\\v13_phase_folding_fastLR\\train\\events.out.tfevents.1761992595.LAPTOP-4FMB7BF0.16308.2.v2 - AccŠs refus‚.\n"
     ]
    },
    {
     "name": "stdout",
     "output_type": "stream",
     "text": [
      "\u001B[1m127/128\u001B[0m \u001B[32m━━━━━━━━━━━━━━━━━━━\u001B[0m\u001B[37m━\u001B[0m \u001B[1m0s\u001B[0m 12ms/step - accuracy: 0.9667 - loss: 1.2197 - pr_auc: 0.0063\n",
      "Epoch 1: val_pr_auc improved from None to 0.01190, saving model to ../models/cnn_v13_phase_folding_best.h5\n"
     ]
    },
    {
     "name": "stderr",
     "output_type": "stream",
     "text": [
      "WARNING:absl:You are saving your model as an HDF5 file via `model.save()` or `keras.saving.save_model(model)`. This file format is considered legacy. We recommend using instead the native Keras format, e.g. `model.save('my_model.keras')` or `keras.saving.save_model(model, 'my_model.keras')`. \n"
     ]
    },
    {
     "name": "stdout",
     "output_type": "stream",
     "text": [
      "\u001B[1m128/128\u001B[0m \u001B[32m━━━━━━━━━━━━━━━━━━━━\u001B[0m\u001B[37m\u001B[0m \u001B[1m4s\u001B[0m 17ms/step - accuracy: 0.9843 - loss: 0.9498 - pr_auc: 0.0064 - val_accuracy: 0.7603 - val_loss: 0.6791 - val_pr_auc: 0.0119\n",
      "Epoch 2/100\n",
      "\u001B[1m127/128\u001B[0m \u001B[32m━━━━━━━━━━━━━━━━━━━\u001B[0m\u001B[37m━\u001B[0m \u001B[1m0s\u001B[0m 12ms/step - accuracy: 0.9619 - loss: 0.6508 - pr_auc: 0.0056\n",
      "Epoch 2: val_pr_auc did not improve from 0.01190\n",
      "\u001B[1m128/128\u001B[0m \u001B[32m━━━━━━━━━━━━━━━━━━━━\u001B[0m\u001B[37m\u001B[0m \u001B[1m2s\u001B[0m 14ms/step - accuracy: 0.9545 - loss: 0.7172 - pr_auc: 0.0074 - val_accuracy: 0.9538 - val_loss: 0.6263 - val_pr_auc: 0.0067\n",
      "Epoch 3/100\n",
      "\u001B[1m125/128\u001B[0m \u001B[32m━━━━━━━━━━━━━━━━━━━\u001B[0m\u001B[37m━\u001B[0m \u001B[1m0s\u001B[0m 13ms/step - accuracy: 0.8612 - loss: 0.7015 - pr_auc: 0.0131\n",
      "Epoch 3: val_pr_auc did not improve from 0.01190\n",
      "\u001B[1m128/128\u001B[0m \u001B[32m━━━━━━━━━━━━━━━━━━━━\u001B[0m\u001B[37m\u001B[0m \u001B[1m2s\u001B[0m 15ms/step - accuracy: 0.7786 - loss: 0.7445 - pr_auc: 0.0072 - val_accuracy: 0.1130 - val_loss: 0.6938 - val_pr_auc: 0.0070\n",
      "Epoch 4/100\n",
      "\u001B[1m127/128\u001B[0m \u001B[32m━━━━━━━━━━━━━━━━━━━\u001B[0m\u001B[37m━\u001B[0m \u001B[1m0s\u001B[0m 13ms/step - accuracy: 0.5058 - loss: 0.6538 - pr_auc: 0.0056\n",
      "Epoch 4: val_pr_auc did not improve from 0.01190\n",
      "\u001B[1m128/128\u001B[0m \u001B[32m━━━━━━━━━━━━━━━━━━━━\u001B[0m\u001B[37m\u001B[0m \u001B[1m2s\u001B[0m 15ms/step - accuracy: 0.5281 - loss: 0.6766 - pr_auc: 0.0071 - val_accuracy: 0.1306 - val_loss: 0.6715 - val_pr_auc: 0.0058\n",
      "Epoch 5/100\n",
      "\u001B[1m127/128\u001B[0m \u001B[32m━━━━━━━━━━━━━━━━━━━\u001B[0m\u001B[37m━\u001B[0m \u001B[1m0s\u001B[0m 13ms/step - accuracy: 0.5057 - loss: 0.7242 - pr_auc: 0.0077\n",
      "Epoch 5: val_pr_auc did not improve from 0.01190\n",
      "\u001B[1m128/128\u001B[0m \u001B[32m━━━━━━━━━━━━━━━━━━━━\u001B[0m\u001B[37m\u001B[0m \u001B[1m2s\u001B[0m 15ms/step - accuracy: 0.5050 - loss: 0.6761 - pr_auc: 0.0079 - val_accuracy: 0.4833 - val_loss: 0.6333 - val_pr_auc: 0.0105\n",
      "Epoch 6/100\n",
      "\u001B[1m125/128\u001B[0m \u001B[32m━━━━━━━━━━━━━━━━━━━\u001B[0m\u001B[37m━\u001B[0m \u001B[1m0s\u001B[0m 12ms/step - accuracy: 0.5594 - loss: 0.6467 - pr_auc: 0.0087\n",
      "Epoch 6: val_pr_auc improved from 0.01190 to 0.01199, saving model to ../models/cnn_v13_phase_folding_best.h5\n"
     ]
    },
    {
     "name": "stderr",
     "output_type": "stream",
     "text": [
      "WARNING:absl:You are saving your model as an HDF5 file via `model.save()` or `keras.saving.save_model(model)`. This file format is considered legacy. We recommend using instead the native Keras format, e.g. `model.save('my_model.keras')` or `keras.saving.save_model(model, 'my_model.keras')`. \n"
     ]
    },
    {
     "name": "stdout",
     "output_type": "stream",
     "text": [
      "\u001B[1m128/128\u001B[0m \u001B[32m━━━━━━━━━━━━━━━━━━━━\u001B[0m\u001B[37m\u001B[0m \u001B[1m2s\u001B[0m 14ms/step - accuracy: 0.5739 - loss: 0.6514 - pr_auc: 0.0091 - val_accuracy: 0.5766 - val_loss: 0.6163 - val_pr_auc: 0.0120\n",
      "Epoch 7/100\n",
      "\u001B[1m127/128\u001B[0m \u001B[32m━━━━━━━━━━━━━━━━━━━\u001B[0m\u001B[37m━\u001B[0m \u001B[1m0s\u001B[0m 13ms/step - accuracy: 0.5953 - loss: 0.6567 - pr_auc: 0.0078\n",
      "Epoch 7: val_pr_auc did not improve from 0.01199\n",
      "\u001B[1m128/128\u001B[0m \u001B[32m━━━━━━━━━━━━━━━━━━━━\u001B[0m\u001B[37m\u001B[0m \u001B[1m2s\u001B[0m 15ms/step - accuracy: 0.5849 - loss: 0.6549 - pr_auc: 0.0091 - val_accuracy: 0.7122 - val_loss: 0.4820 - val_pr_auc: 0.0078\n",
      "Epoch 8/100\n",
      "\u001B[1m127/128\u001B[0m \u001B[32m━━━━━━━━━━━━━━━━━━━\u001B[0m\u001B[37m━\u001B[0m \u001B[1m0s\u001B[0m 12ms/step - accuracy: 0.6198 - loss: 0.8374 - pr_auc: 0.0416\n",
      "Epoch 8: val_pr_auc improved from 0.01199 to 0.03385, saving model to ../models/cnn_v13_phase_folding_best.h5\n"
     ]
    },
    {
     "name": "stderr",
     "output_type": "stream",
     "text": [
      "WARNING:absl:You are saving your model as an HDF5 file via `model.save()` or `keras.saving.save_model(model)`. This file format is considered legacy. We recommend using instead the native Keras format, e.g. `model.save('my_model.keras')` or `keras.saving.save_model(model, 'my_model.keras')`. \n"
     ]
    },
    {
     "name": "stdout",
     "output_type": "stream",
     "text": [
      "\u001B[1m128/128\u001B[0m \u001B[32m━━━━━━━━━━━━━━━━━━━━\u001B[0m\u001B[37m\u001B[0m \u001B[1m2s\u001B[0m 15ms/step - accuracy: 0.6505 - loss: 0.6978 - pr_auc: 0.0163 - val_accuracy: 0.6198 - val_loss: 0.6056 - val_pr_auc: 0.0338\n",
      "Epoch 9/100\n",
      "\u001B[1m127/128\u001B[0m \u001B[32m━━━━━━━━━━━━━━━━━━━\u001B[0m\u001B[37m━\u001B[0m \u001B[1m0s\u001B[0m 13ms/step - accuracy: 0.7137 - loss: 0.6650 - pr_auc: 0.0402\n",
      "Epoch 9: val_pr_auc did not improve from 0.03385\n",
      "\u001B[1m128/128\u001B[0m \u001B[32m━━━━━━━━━━━━━━━━━━━━\u001B[0m\u001B[37m\u001B[0m \u001B[1m2s\u001B[0m 15ms/step - accuracy: 0.7056 - loss: 0.6634 - pr_auc: 0.0129 - val_accuracy: 0.5049 - val_loss: 0.6250 - val_pr_auc: 0.0070\n",
      "Epoch 10/100\n",
      "\u001B[1m128/128\u001B[0m \u001B[32m━━━━━━━━━━━━━━━━━━━━\u001B[0m\u001B[37m\u001B[0m \u001B[1m0s\u001B[0m 13ms/step - accuracy: 0.6238 - loss: 0.6283 - pr_auc: 0.0541\n",
      "Epoch 10: val_pr_auc did not improve from 0.03385\n",
      "\u001B[1m128/128\u001B[0m \u001B[32m━━━━━━━━━━━━━━━━━━━━\u001B[0m\u001B[37m\u001B[0m \u001B[1m2s\u001B[0m 15ms/step - accuracy: 0.5820 - loss: 0.6442 - pr_auc: 0.0152 - val_accuracy: 0.3399 - val_loss: 0.6487 - val_pr_auc: 0.0069\n",
      "Epoch 11/100\n",
      "\u001B[1m125/128\u001B[0m \u001B[32m━━━━━━━━━━━━━━━━━━━\u001B[0m\u001B[37m━\u001B[0m \u001B[1m0s\u001B[0m 12ms/step - accuracy: 0.5387 - loss: 0.7467 - pr_auc: 0.0164\n",
      "Epoch 11: val_pr_auc did not improve from 0.03385\n",
      "\u001B[1m128/128\u001B[0m \u001B[32m━━━━━━━━━━━━━━━━━━━━\u001B[0m\u001B[37m\u001B[0m \u001B[1m2s\u001B[0m 14ms/step - accuracy: 0.6090 - loss: 0.6240 - pr_auc: 0.0128 - val_accuracy: 0.9931 - val_loss: 0.3796 - val_pr_auc: 0.0134\n",
      "Epoch 12/100\n",
      "\u001B[1m127/128\u001B[0m \u001B[32m━━━━━━━━━━━━━━━━━━━\u001B[0m\u001B[37m━\u001B[0m \u001B[1m0s\u001B[0m 13ms/step - accuracy: 0.7178 - loss: 0.8802 - pr_auc: 0.0809\n",
      "Epoch 12: val_pr_auc did not improve from 0.03385\n",
      "\u001B[1m128/128\u001B[0m \u001B[32m━━━━━━━━━━━━━━━━━━━━\u001B[0m\u001B[37m\u001B[0m \u001B[1m2s\u001B[0m 15ms/step - accuracy: 0.6441 - loss: 0.6770 - pr_auc: 0.0451 - val_accuracy: 0.9548 - val_loss: 0.4826 - val_pr_auc: 0.0109\n",
      "Epoch 13/100\n",
      "\u001B[1m126/128\u001B[0m \u001B[32m━━━━━━━━━━━━━━━━━━━\u001B[0m\u001B[37m━\u001B[0m \u001B[1m0s\u001B[0m 12ms/step - accuracy: 0.7617 - loss: 0.6270 - pr_auc: 0.0303\n",
      "Epoch 13: val_pr_auc did not improve from 0.03385\n",
      "\u001B[1m128/128\u001B[0m \u001B[32m━━━━━━━━━━━━━━━━━━━━\u001B[0m\u001B[37m\u001B[0m \u001B[1m2s\u001B[0m 14ms/step - accuracy: 0.5751 - loss: 0.6538 - pr_auc: 0.0158 - val_accuracy: 0.2564 - val_loss: 0.6898 - val_pr_auc: 0.0057\n",
      "Epoch 14/100\n",
      "\u001B[1m124/128\u001B[0m \u001B[32m━━━━━━━━━━━━━━━━━━━\u001B[0m\u001B[37m━\u001B[0m \u001B[1m0s\u001B[0m 13ms/step - accuracy: 0.3958 - loss: 0.7658 - pr_auc: 0.0245\n",
      "Epoch 14: val_pr_auc did not improve from 0.03385\n",
      "\u001B[1m128/128\u001B[0m \u001B[32m━━━━━━━━━━━━━━━━━━━━\u001B[0m\u001B[37m\u001B[0m \u001B[1m2s\u001B[0m 15ms/step - accuracy: 0.5014 - loss: 2.1665 - pr_auc: 0.0230 - val_accuracy: 0.1532 - val_loss: 0.8616 - val_pr_auc: 0.0073\n",
      "Epoch 15/100\n",
      "\u001B[1m125/128\u001B[0m \u001B[32m━━━━━━━━━━━━━━━━━━━\u001B[0m\u001B[37m━\u001B[0m \u001B[1m0s\u001B[0m 13ms/step - accuracy: 0.3712 - loss: 0.6885 - pr_auc: 0.0257\n",
      "Epoch 15: val_pr_auc did not improve from 0.03385\n",
      "\u001B[1m128/128\u001B[0m \u001B[32m━━━━━━━━━━━━━━━━━━━━\u001B[0m\u001B[37m\u001B[0m \u001B[1m2s\u001B[0m 15ms/step - accuracy: 0.5409 - loss: 0.6986 - pr_auc: 0.0232 - val_accuracy: 0.9548 - val_loss: 0.4125 - val_pr_auc: 0.0074\n",
      "Epoch 16/100\n",
      "\u001B[1m127/128\u001B[0m \u001B[32m━━━━━━━━━━━━━━━━━━━\u001B[0m\u001B[37m━\u001B[0m \u001B[1m0s\u001B[0m 12ms/step - accuracy: 0.4654 - loss: 0.6953 - pr_auc: 0.0358\n",
      "Epoch 16: val_pr_auc did not improve from 0.03385\n",
      "\u001B[1m128/128\u001B[0m \u001B[32m━━━━━━━━━━━━━━━━━━━━\u001B[0m\u001B[37m\u001B[0m \u001B[1m2s\u001B[0m 14ms/step - accuracy: 0.4372 - loss: 0.6351 - pr_auc: 0.0479 - val_accuracy: 0.5255 - val_loss: 0.6062 - val_pr_auc: 0.0114\n",
      "Epoch 17/100\n",
      "\u001B[1m127/128\u001B[0m \u001B[32m━━━━━━━━━━━━━━━━━━━\u001B[0m\u001B[37m━\u001B[0m \u001B[1m0s\u001B[0m 13ms/step - accuracy: 0.5330 - loss: 0.5699 - pr_auc: 0.0551\n",
      "Epoch 17: val_pr_auc improved from 0.03385 to 0.03418, saving model to ../models/cnn_v13_phase_folding_best.h5\n"
     ]
    },
    {
     "name": "stderr",
     "output_type": "stream",
     "text": [
      "WARNING:absl:You are saving your model as an HDF5 file via `model.save()` or `keras.saving.save_model(model)`. This file format is considered legacy. We recommend using instead the native Keras format, e.g. `model.save('my_model.keras')` or `keras.saving.save_model(model, 'my_model.keras')`. \n"
     ]
    },
    {
     "name": "stdout",
     "output_type": "stream",
     "text": [
      "\u001B[1m128/128\u001B[0m \u001B[32m━━━━━━━━━━━━━━━━━━━━\u001B[0m\u001B[37m\u001B[0m \u001B[1m2s\u001B[0m 15ms/step - accuracy: 0.5023 - loss: 0.6934 - pr_auc: 0.0186 - val_accuracy: 0.2583 - val_loss: 0.6956 - val_pr_auc: 0.0342\n",
      "Epoch 18/100\n",
      "\u001B[1m128/128\u001B[0m \u001B[32m━━━━━━━━━━━━━━━━━━━━\u001B[0m\u001B[37m\u001B[0m \u001B[1m0s\u001B[0m 13ms/step - accuracy: 0.4782 - loss: 0.6074 - pr_auc: 0.0189\n",
      "Epoch 18: val_pr_auc did not improve from 0.03418\n",
      "\u001B[1m128/128\u001B[0m \u001B[32m━━━━━━━━━━━━━━━━━━━━\u001B[0m\u001B[37m\u001B[0m \u001B[1m3s\u001B[0m 15ms/step - accuracy: 0.4896 - loss: 0.6239 - pr_auc: 0.0301 - val_accuracy: 0.3389 - val_loss: 0.6989 - val_pr_auc: 0.0163\n",
      "Epoch 19/100\n",
      "\u001B[1m127/128\u001B[0m \u001B[32m━━━━━━━━━━━━━━━━━━━\u001B[0m\u001B[37m━\u001B[0m \u001B[1m0s\u001B[0m 13ms/step - accuracy: 0.4348 - loss: 0.6460 - pr_auc: 0.0855\n",
      "Epoch 19: val_pr_auc did not improve from 0.03418\n",
      "\u001B[1m128/128\u001B[0m \u001B[32m━━━━━━━━━━━━━━━━━━━━\u001B[0m\u001B[37m\u001B[0m \u001B[1m2s\u001B[0m 15ms/step - accuracy: 0.5075 - loss: 0.6088 - pr_auc: 0.0264 - val_accuracy: 0.6847 - val_loss: 0.5373 - val_pr_auc: 0.0071\n",
      "Epoch 20/100\n",
      "\u001B[1m124/128\u001B[0m \u001B[32m━━━━━━━━━━━━━━━━━━━\u001B[0m\u001B[37m━\u001B[0m \u001B[1m0s\u001B[0m 13ms/step - accuracy: 0.4870 - loss: 0.7099 - pr_auc: 0.1135\n",
      "Epoch 20: val_pr_auc did not improve from 0.03418\n",
      "\u001B[1m128/128\u001B[0m \u001B[32m━━━━━━━━━━━━━━━━━━━━\u001B[0m\u001B[37m\u001B[0m \u001B[1m2s\u001B[0m 15ms/step - accuracy: 0.5127 - loss: 0.6480 - pr_auc: 0.0671 - val_accuracy: 0.4499 - val_loss: 0.6295 - val_pr_auc: 0.0084\n",
      "Epoch 21/100\n",
      "\u001B[1m126/128\u001B[0m \u001B[32m━━━━━━━━━━━━━━━━━━━\u001B[0m\u001B[37m━\u001B[0m \u001B[1m0s\u001B[0m 11ms/step - accuracy: 0.3983 - loss: 0.6552 - pr_auc: 0.0983\n",
      "Epoch 21: val_pr_auc did not improve from 0.03418\n",
      "\u001B[1m128/128\u001B[0m \u001B[32m━━━━━━━━━━━━━━━━━━━━\u001B[0m\u001B[37m\u001B[0m \u001B[1m2s\u001B[0m 13ms/step - accuracy: 0.4551 - loss: 0.6096 - pr_auc: 0.0564 - val_accuracy: 0.7220 - val_loss: 0.5629 - val_pr_auc: 0.0059\n",
      "Epoch 22/100\n",
      "\u001B[1m125/128\u001B[0m \u001B[32m━━━━━━━━━━━━━━━━━━━\u001B[0m\u001B[37m━\u001B[0m \u001B[1m0s\u001B[0m 13ms/step - accuracy: 0.5121 - loss: 0.7006 - pr_auc: 0.0444\n",
      "Epoch 22: val_pr_auc did not improve from 0.03418\n",
      "\u001B[1m128/128\u001B[0m \u001B[32m━━━━━━━━━━━━━━━━━━━━\u001B[0m\u001B[37m\u001B[0m \u001B[1m2s\u001B[0m 14ms/step - accuracy: 0.4669 - loss: 0.6255 - pr_auc: 0.0317 - val_accuracy: 0.6640 - val_loss: 0.5701 - val_pr_auc: 0.0099\n",
      "Epoch 23/100\n",
      "\u001B[1m128/128\u001B[0m \u001B[32m━━━━━━━━━━━━━━━━━━━━\u001B[0m\u001B[37m\u001B[0m \u001B[1m0s\u001B[0m 13ms/step - accuracy: 0.6321 - loss: 0.5896 - pr_auc: 0.1110\n",
      "Epoch 23: val_pr_auc did not improve from 0.03418\n",
      "\u001B[1m128/128\u001B[0m \u001B[32m━━━━━━━━━━━━━━━━━━━━\u001B[0m\u001B[37m\u001B[0m \u001B[1m2s\u001B[0m 16ms/step - accuracy: 0.5923 - loss: 0.6102 - pr_auc: 0.0668 - val_accuracy: 0.4862 - val_loss: 0.6189 - val_pr_auc: 0.0101\n",
      "Epoch 24/100\n",
      "\u001B[1m127/128\u001B[0m \u001B[32m━━━━━━━━━━━━━━━━━━━\u001B[0m\u001B[37m━\u001B[0m \u001B[1m0s\u001B[0m 16ms/step - accuracy: 0.4585 - loss: 0.6301 - pr_auc: 0.0086\n",
      "Epoch 24: val_pr_auc did not improve from 0.03418\n",
      "\u001B[1m128/128\u001B[0m \u001B[32m━━━━━━━━━━━━━━━━━━━━\u001B[0m\u001B[37m\u001B[0m \u001B[1m3s\u001B[0m 20ms/step - accuracy: 0.4045 - loss: 0.6364 - pr_auc: 0.0183 - val_accuracy: 0.3821 - val_loss: 0.6544 - val_pr_auc: 0.0080\n",
      "Epoch 25/100\n",
      "\u001B[1m126/128\u001B[0m \u001B[32m━━━━━━━━━━━━━━━━━━━\u001B[0m\u001B[37m━\u001B[0m \u001B[1m0s\u001B[0m 19ms/step - accuracy: 0.5544 - loss: 0.6002 - pr_auc: 0.0158\n",
      "Epoch 25: val_pr_auc did not improve from 0.03418\n",
      "\u001B[1m128/128\u001B[0m \u001B[32m━━━━━━━━━━━━━━━━━━━━\u001B[0m\u001B[37m\u001B[0m \u001B[1m3s\u001B[0m 23ms/step - accuracy: 0.5699 - loss: 0.6158 - pr_auc: 0.0182 - val_accuracy: 0.4411 - val_loss: 0.6198 - val_pr_auc: 0.0065\n",
      "Epoch 26/100\n",
      "\u001B[1m125/128\u001B[0m \u001B[32m━━━━━━━━━━━━━━━━━━━\u001B[0m\u001B[37m━\u001B[0m \u001B[1m0s\u001B[0m 19ms/step - accuracy: 0.6422 - loss: 0.5585 - pr_auc: 0.1094\n",
      "Epoch 26: val_pr_auc did not improve from 0.03418\n",
      "\u001B[1m128/128\u001B[0m \u001B[32m━━━━━━━━━━━━━━━━━━━━\u001B[0m\u001B[37m\u001B[0m \u001B[1m3s\u001B[0m 22ms/step - accuracy: 0.6031 - loss: 0.5884 - pr_auc: 0.0862 - val_accuracy: 0.4833 - val_loss: 0.6371 - val_pr_auc: 0.0055\n",
      "Epoch 27/100\n",
      "\u001B[1m128/128\u001B[0m \u001B[32m━━━━━━━━━━━━━━━━━━━━\u001B[0m\u001B[37m\u001B[0m \u001B[1m0s\u001B[0m 17ms/step - accuracy: 0.5686 - loss: 0.5932 - pr_auc: 0.0297\n",
      "Epoch 27: val_pr_auc did not improve from 0.03418\n",
      "\u001B[1m128/128\u001B[0m \u001B[32m━━━━━━━━━━━━━━━━━━━━\u001B[0m\u001B[37m\u001B[0m \u001B[1m3s\u001B[0m 19ms/step - accuracy: 0.5328 - loss: 0.6000 - pr_auc: 0.0496 - val_accuracy: 0.4204 - val_loss: 0.6352 - val_pr_auc: 0.0051\n",
      "Epoch 27: early stopping\n",
      "Restoring model weights from the end of the best epoch: 17.\n"
     ]
    }
   ],
   "execution_count": 24
  },
  {
   "metadata": {
    "ExecuteTime": {
     "end_time": "2025-11-01T10:28:52.307077Z",
     "start_time": "2025-11-01T10:28:51.562609Z"
    }
   },
   "cell_type": "code",
   "source": [
    "print(\"Évaluation du meilleur modèle v13 (restauré)...\")\n",
    "\n",
    "# Prédictions\n",
    "y_pred_proba = model.predict(X_test_cnn).ravel()\n",
    "y_pred_class = (y_pred_proba > 0.5).astype(int)\n",
    "\n",
    "# Rapports\n",
    "print(\"\\n--- Rapport de Classification (v13) ---\")\n",
    "print(classification_report(y_test, y_pred_class, target_names=['Pas de Planète', 'Planète']))\n",
    "\n",
    "print(\"\\n--- Matrice de Confusion (v13) ---\")\n",
    "print(confusion_matrix(y_test, y_pred_class))\n",
    "\n",
    "# LE VRAI SCORE PR-AUC (Average Precision)\n",
    "# (Assurez-vous d'importer average_precision_score depuis sklearn.metrics)\n",
    "try:\n",
    "    pr_auc_score = average_precision_score(y_test, y_pred_proba)\n",
    "    print(f\"\\nScore PR-AUC (Average Precision) : {pr_auc_score:.4f}\")\n",
    "except NameError:\n",
    "    print(\"\\nN'oubliez pas d'importer 'average_precision_score' pour voir le score PR-AUC.\")"
   ],
   "id": "eefb5dd47e73e7c9",
   "outputs": [
    {
     "name": "stdout",
     "output_type": "stream",
     "text": [
      "Évaluation du meilleur modèle v13 (restauré)...\n",
      "\u001B[1m32/32\u001B[0m \u001B[32m━━━━━━━━━━━━━━━━━━━━\u001B[0m\u001B[37m\u001B[0m \u001B[1m0s\u001B[0m 10ms/step\n",
      "\n",
      "--- Rapport de Classification (v13) ---\n",
      "                precision    recall  f1-score   support\n",
      "\n",
      "Pas de Planète       1.00      0.25      0.41      1011\n",
      "       Planète       0.01      0.86      0.02         7\n",
      "\n",
      "      accuracy                           0.26      1018\n",
      "     macro avg       0.50      0.56      0.21      1018\n",
      "  weighted avg       0.99      0.26      0.40      1018\n",
      "\n",
      "\n",
      "--- Matrice de Confusion (v13) ---\n",
      "[[257 754]\n",
      " [  1   6]]\n",
      "\n",
      "Score PR-AUC (Average Precision) : 0.0576\n"
     ]
    }
   ],
   "execution_count": 25
  },
  {
   "metadata": {
    "ExecuteTime": {
     "end_time": "2025-11-01T10:28:56.457421Z",
     "start_time": "2025-11-01T10:28:56.110643Z"
    }
   },
   "cell_type": "code",
   "source": [
    "print(\"Affichage des graphiques d'entraînement (v13)...\")\n",
    "history_dict = history.history\n",
    "\n",
    "# Récupérer les métriques\n",
    "loss = history_dict['loss']\n",
    "val_loss = history_dict['val_loss']\n",
    "pr_auc = history_dict['pr_auc']\n",
    "val_pr_auc = history_dict['val_pr_auc']\n",
    "\n",
    "# Créer la plage d'époques (nombre d'époques réellement exécutées)\n",
    "actual_epochs = len(loss)\n",
    "epochs_range = range(1, actual_epochs + 1)\n",
    "\n",
    "# Créer la figure\n",
    "plt.figure(figsize=(16, 6))\n",
    "\n",
    "# Graphique 1 : Loss\n",
    "plt.subplot(1, 2, 1)\n",
    "plt.plot(epochs_range, loss, 'bo-', label='Training Loss')\n",
    "plt.plot(epochs_range, val_loss, 'ro-', label='Validation Loss')\n",
    "plt.title('Loss (v13 - Phase Folding)')\n",
    "plt.xlabel('Epochs')\n",
    "plt.ylabel('Loss')\n",
    "plt.legend()\n",
    "plt.grid(True)\n",
    "\n",
    "# Graphique 2 : PR-AUC\n",
    "plt.subplot(1, 2, 2)\n",
    "plt.plot(epochs_range, pr_auc, 'bo-', label='Training PR-AUC')\n",
    "plt.plot(epochs_range, val_pr_auc, 'ro-', label='Validation PR-AUC')\n",
    "plt.title('PR-AUC (v13 - Phase Folding)')\n",
    "plt.xlabel('Epochs')\n",
    "plt.ylabel('PR-AUC Score')\n",
    "plt.legend()\n",
    "plt.grid(True)\n",
    "\n",
    "plt.suptitle(\"Résultats de l'entraînement v13\", fontsize=16)\n",
    "plt.tight_layout(rect=[0, 0.03, 1, 0.95])\n",
    "plt.show()"
   ],
   "id": "f0085e951bdcd440",
   "outputs": [
    {
     "name": "stdout",
     "output_type": "stream",
     "text": [
      "Affichage des graphiques d'entraînement (v13)...\n"
     ]
    },
    {
     "data": {
      "text/plain": [
       "<Figure size 1600x600 with 2 Axes>"
      ],
      "image/png": "[encoded data removed]"
     },
     "metadata": {},
     "output_type": "display_data"
    }
   ],
   "execution_count": 26
  }
 ],
 "metadata": {
  "kernelspec": {
   "display_name": "Python 3",
   "language": "python",
   "name": "python3"
  },
  "language_info": {
   "codemirror_mode": {
    "name": "ipython",
    "version": 2
   },
   "file_extension": ".py",
   "mimetype": "text/x-python",
   "name": "python",
   "nbconvert_exporter": "python",
   "pygments_lexer": "ipython2",
   "version": "2.7.6"
  }
 },
 "nbformat": 4,
 "nbformat_minor": 5
}
