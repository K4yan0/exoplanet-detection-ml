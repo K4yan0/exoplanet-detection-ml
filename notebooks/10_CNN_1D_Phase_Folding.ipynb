{
 "cells": [
  {
   "cell_type": "code",
   "id": "initial_id",
   "metadata": {
    "collapsed": true,
    "ExecuteTime": {
     "end_time": "2025-10-29T20:13:17.075231Z",
     "start_time": "2025-10-29T20:13:17.061521Z"
    }
   },
   "source": [
    "\n",
    "import numpy as np\n",
    "import pandas as pd\n",
    "import matplotlib.pyplot as plt\n",
    "import tensorflow as tf\n",
    "from sklearn.model_selection import train_test_split\n",
    "from sklearn.metrics import classification_report, confusion_matrix, roc_auc_score\n",
    "\n",
    "# On importe la fonction de notre nouveau fichier src/phase_folding.py\n",
    "from src.phase_folding import create_folded_lightcurve\n",
    "\n",
    "#Randomise the position of the planet inside the csv\n",
    "from sklearn.utils import shuffle\n",
    "\n",
    "# Configuration de TensorFlow (pour la métrique PR-AUC)\n",
    "pr_auc = tf.keras.metrics.AUC(curve='PR', name='pr_auc')\n",
    "\n",
    "print(\"Bibliothèques importées.\")"
   ],
   "outputs": [
    {
     "name": "stdout",
     "output_type": "stream",
     "text": [
      "Bibliothèques importées.\n"
     ]
    }
   ],
   "execution_count": 8
  },
  {
   "metadata": {
    "ExecuteTime": {
     "end_time": "2025-10-29T20:13:27.464324Z",
     "start_time": "2025-10-29T20:13:19.720188Z"
    }
   },
   "cell_type": "code",
   "source": [
    "print(\"Chargement des données brutes...\")\n",
    "train_df = pd.read_csv('../data/raw/train.csv')\n",
    "\n",
    "X_raw = train_df.drop('LABEL', axis=1).values\n",
    "y = train_df['LABEL'].values - 1  # (0, 1)\n",
    "\n",
    "print(\"Mélange des données...\")\n",
    "# On mélange X et y ensemble pour garder l'alignement\n",
    "X_raw_shuffled, y_shuffled = shuffle(X_raw, y, random_state=42)\n",
    "\n",
    "print(f\"Forme de X_raw_shuffled : {X_raw_shuffled.shape}\")\n",
    "print(f\"Forme de y_shuffled : {y_shuffled.shape}\")"
   ],
   "id": "3ff8746c3fec9e3d",
   "outputs": [
    {
     "name": "stdout",
     "output_type": "stream",
     "text": [
      "Chargement des données brutes...\n",
      "Mélange des données...\n",
      "Forme de X_raw_shuffled : (5087, 3197)\n",
      "Forme de y_shuffled : (5087,)\n"
     ]
    }
   ],
   "execution_count": 9
  },
  {
   "metadata": {
    "ExecuteTime": {
     "end_time": "2025-10-29T20:15:01.400362Z",
     "start_time": "2025-10-29T20:13:40.643047Z"
    }
   },
   "cell_type": "code",
   "source": [
    "N_BINS = 500\n",
    "N_SAMPLE = 200  # On garde un petit échantillon pour tester\n",
    "\n",
    "print(f\"Démarrage du pré-traitement 'Phase Folding' (sur un ÉCHANTILLON mélangé de {N_SAMPLE} étoiles)...\")\n",
    "\n",
    "# On prend l'échantillon sur les données mélangées\n",
    "X_sample = X_raw_shuffled[:N_SAMPLE]\n",
    "y_sample = y_shuffled[:N_SAMPLE]\n",
    "\n",
    "# Appliquer notre pipeline...\n",
    "X_folded_sample = np.array([create_folded_lightcurve(row, n_bins=N_BINS) for row in X_sample])\n",
    "\n",
    "print(\"Pré-traitement 'Phase Folding' sur échantillon terminé !\")\n",
    "print(f\"Forme de X_folded_sample : {X_folded_sample.shape}\")\n",
    "\n",
    "# Vérifions la balance des classes (devrait être proche de 0.7%)\n",
    "planets_in_sample = np.sum(y_sample)\n",
    "print(f\"Planètes dans l'échantillon : {planets_in_sample} sur {N_SAMPLE}\")"
   ],
   "id": "49a22f8ebde03db5",
   "outputs": [
    {
     "name": "stdout",
     "output_type": "stream",
     "text": [
      "Démarrage du pré-traitement 'Phase Folding' (sur un ÉCHANTILLON mélangé de 200 étoiles)...\n",
      "Pré-traitement 'Phase Folding' sur échantillon terminé !\n",
      "Forme de X_folded_sample : (200, 500)\n",
      "Planètes dans l'échantillon : 4 sur 200\n"
     ]
    }
   ],
   "execution_count": 10
  },
  {
   "metadata": {
    "ExecuteTime": {
     "end_time": "2025-10-29T20:17:24.787091Z",
     "start_time": "2025-10-29T20:17:24.778410Z"
    }
   },
   "cell_type": "code",
   "source": [
    "# On divise nos NOUVELLES données (X_folded)\n",
    "\n",
    "print(\"Division des données (Train/Test) de l'ÉCHANTILLON...\")\n",
    "X_train, X_test, y_train, y_test = train_test_split(\n",
    "    X_folded_sample,  # <-- Utiliser l'échantillon\n",
    "    y_sample,         # <-- Utiliser l'échantillon\n",
    "    test_size=0.2,\n",
    "    random_state=42,\n",
    "    stratify=y_sample # Stratifier sur l'échantillon\n",
    ")\n",
    "\n",
    "# Redimensionner pour le CNN (ajout du canal)\n",
    "# La forme doit être (batch_size, steps, channels)\n",
    "# (N, 500) -> (N, 500, 1)\n",
    "X_train_cnn = np.expand_dims(X_train, axis=-1)\n",
    "X_test_cnn = np.expand_dims(X_test, axis=-1)\n",
    "\n",
    "# Notre nouvelle forme d'entrée pour le modèle\n",
    "INPUT_SHAPE = (N_BINS, 1) # (500, 1)\n",
    "\n",
    "print(f\"Forme X_train_cnn : {X_train_cnn.shape}\")\n",
    "print(f\"Forme X_test_cnn : {X_test_cnn.shape}\")"
   ],
   "id": "f29984da41c25430",
   "outputs": [
    {
     "name": "stdout",
     "output_type": "stream",
     "text": [
      "Division des données (Train/Test) de l'ÉCHANTILLON...\n",
      "Forme X_train_cnn : (160, 500, 1)\n",
      "Forme X_test_cnn : (40, 500, 1)\n"
     ]
    }
   ],
   "execution_count": 12
  },
  {
   "metadata": {
    "ExecuteTime": {
     "end_time": "2025-10-29T20:17:28.558469Z",
     "start_time": "2025-10-29T20:17:28.443830Z"
    }
   },
   "cell_type": "code",
   "source": [
    "# Nous pouvons réutiliser une architecture simple (comme la v5)\n",
    "# mais l'input_shape doit être mise à jour.\n",
    "\n",
    "def build_phase_model(input_shape):\n",
    "    model = tf.keras.models.Sequential(name=\"CNN_v10_PhaseFolding\")\n",
    "\n",
    "    # Couche d'entrée\n",
    "    model.add(tf.keras.layers.Input(shape=input_shape))\n",
    "\n",
    "    # Blocs Convolutionnels\n",
    "    model.add(tf.keras.layers.Conv1D(filters=16, kernel_size=5, activation='relu', padding='same'))\n",
    "    model.add(tf.keras.layers.MaxPooling1D(pool_size=3))\n",
    "    model.add(tf.keras.layers.Dropout(0.3))\n",
    "\n",
    "    model.add(tf.keras.layers.Conv1D(filters=32, kernel_size=5, activation='relu', padding='same'))\n",
    "    model.add(tf.keras.layers.MaxPooling1D(pool_size=3))\n",
    "    model.add(tf.keras.layers.Dropout(0.3))\n",
    "\n",
    "    # Tête de classification\n",
    "    model.add(tf.keras.layers.Flatten())\n",
    "    model.add(tf.keras.layers.Dense(32, activation='relu'))\n",
    "    model.add(tf.keras.layers.Dropout(0.5))\n",
    "    model.add(tf.keras.layers.Dense(1, activation='sigmoid')) # Sortie binaire\n",
    "\n",
    "    return model\n",
    "\n",
    "model = build_phase_model(INPUT_SHAPE)\n",
    "\n",
    "# Compiler le modèle\n",
    "model.compile(\n",
    "    optimizer=tf.keras.optimizers.Adam(learning_rate=1e-4),\n",
    "    loss='binary_crossentropy',\n",
    "    metrics=['accuracy', pr_auc] # On suit notre métrique la plus importante\n",
    ")\n",
    "\n",
    "model.summary()"
   ],
   "id": "ad20d0ddc7d64185",
   "outputs": [
    {
     "data": {
      "text/plain": [
       "\u001B[1mModel: \"CNN_v10_PhaseFolding\"\u001B[0m\n"
      ],
      "text/html": [
       "<pre style=\"white-space:pre;overflow-x:auto;line-height:normal;font-family:Menlo,'DejaVu Sans Mono',consolas,'Courier New',monospace\"><span style=\"font-weight: bold\">Model: \"CNN_v10_PhaseFolding\"</span>\n",
       "</pre>\n"
      ]
     },
     "metadata": {},
     "output_type": "display_data"
    },
    {
     "data": {
      "text/plain": [
       "┏━━━━━━━━━━━━━━━━━━━━━━━━━━━━━━━━━┳━━━━━━━━━━━━━━━━━━━━━━━━┳━━━━━━━━━━━━━━━┓\n",
       "┃\u001B[1m \u001B[0m\u001B[1mLayer (type)                   \u001B[0m\u001B[1m \u001B[0m┃\u001B[1m \u001B[0m\u001B[1mOutput Shape          \u001B[0m\u001B[1m \u001B[0m┃\u001B[1m \u001B[0m\u001B[1m      Param #\u001B[0m\u001B[1m \u001B[0m┃\n",
       "┡━━━━━━━━━━━━━━━━━━━━━━━━━━━━━━━━━╇━━━━━━━━━━━━━━━━━━━━━━━━╇━━━━━━━━━━━━━━━┩\n",
       "│ conv1d_2 (\u001B[38;5;33mConv1D\u001B[0m)               │ (\u001B[38;5;45mNone\u001B[0m, \u001B[38;5;34m500\u001B[0m, \u001B[38;5;34m16\u001B[0m)        │            \u001B[38;5;34m96\u001B[0m │\n",
       "├─────────────────────────────────┼────────────────────────┼───────────────┤\n",
       "│ max_pooling1d_2 (\u001B[38;5;33mMaxPooling1D\u001B[0m)  │ (\u001B[38;5;45mNone\u001B[0m, \u001B[38;5;34m166\u001B[0m, \u001B[38;5;34m16\u001B[0m)        │             \u001B[38;5;34m0\u001B[0m │\n",
       "├─────────────────────────────────┼────────────────────────┼───────────────┤\n",
       "│ dropout_3 (\u001B[38;5;33mDropout\u001B[0m)             │ (\u001B[38;5;45mNone\u001B[0m, \u001B[38;5;34m166\u001B[0m, \u001B[38;5;34m16\u001B[0m)        │             \u001B[38;5;34m0\u001B[0m │\n",
       "├─────────────────────────────────┼────────────────────────┼───────────────┤\n",
       "│ conv1d_3 (\u001B[38;5;33mConv1D\u001B[0m)               │ (\u001B[38;5;45mNone\u001B[0m, \u001B[38;5;34m166\u001B[0m, \u001B[38;5;34m32\u001B[0m)        │         \u001B[38;5;34m2,592\u001B[0m │\n",
       "├─────────────────────────────────┼────────────────────────┼───────────────┤\n",
       "│ max_pooling1d_3 (\u001B[38;5;33mMaxPooling1D\u001B[0m)  │ (\u001B[38;5;45mNone\u001B[0m, \u001B[38;5;34m55\u001B[0m, \u001B[38;5;34m32\u001B[0m)         │             \u001B[38;5;34m0\u001B[0m │\n",
       "├─────────────────────────────────┼────────────────────────┼───────────────┤\n",
       "│ dropout_4 (\u001B[38;5;33mDropout\u001B[0m)             │ (\u001B[38;5;45mNone\u001B[0m, \u001B[38;5;34m55\u001B[0m, \u001B[38;5;34m32\u001B[0m)         │             \u001B[38;5;34m0\u001B[0m │\n",
       "├─────────────────────────────────┼────────────────────────┼───────────────┤\n",
       "│ flatten_1 (\u001B[38;5;33mFlatten\u001B[0m)             │ (\u001B[38;5;45mNone\u001B[0m, \u001B[38;5;34m1760\u001B[0m)           │             \u001B[38;5;34m0\u001B[0m │\n",
       "├─────────────────────────────────┼────────────────────────┼───────────────┤\n",
       "│ dense_2 (\u001B[38;5;33mDense\u001B[0m)                 │ (\u001B[38;5;45mNone\u001B[0m, \u001B[38;5;34m32\u001B[0m)             │        \u001B[38;5;34m56,352\u001B[0m │\n",
       "├─────────────────────────────────┼────────────────────────┼───────────────┤\n",
       "│ dropout_5 (\u001B[38;5;33mDropout\u001B[0m)             │ (\u001B[38;5;45mNone\u001B[0m, \u001B[38;5;34m32\u001B[0m)             │             \u001B[38;5;34m0\u001B[0m │\n",
       "├─────────────────────────────────┼────────────────────────┼───────────────┤\n",
       "│ dense_3 (\u001B[38;5;33mDense\u001B[0m)                 │ (\u001B[38;5;45mNone\u001B[0m, \u001B[38;5;34m1\u001B[0m)              │            \u001B[38;5;34m33\u001B[0m │\n",
       "└─────────────────────────────────┴────────────────────────┴───────────────┘\n"
      ],
      "text/html": [
       "<pre style=\"white-space:pre;overflow-x:auto;line-height:normal;font-family:Menlo,'DejaVu Sans Mono',consolas,'Courier New',monospace\">┏━━━━━━━━━━━━━━━━━━━━━━━━━━━━━━━━━┳━━━━━━━━━━━━━━━━━━━━━━━━┳━━━━━━━━━━━━━━━┓\n",
       "┃<span style=\"font-weight: bold\"> Layer (type)                    </span>┃<span style=\"font-weight: bold\"> Output Shape           </span>┃<span style=\"font-weight: bold\">       Param # </span>┃\n",
       "┡━━━━━━━━━━━━━━━━━━━━━━━━━━━━━━━━━╇━━━━━━━━━━━━━━━━━━━━━━━━╇━━━━━━━━━━━━━━━┩\n",
       "│ conv1d_2 (<span style=\"color: #0087ff; text-decoration-color: #0087ff\">Conv1D</span>)               │ (<span style=\"color: #00d7ff; text-decoration-color: #00d7ff\">None</span>, <span style=\"color: #00af00; text-decoration-color: #00af00\">500</span>, <span style=\"color: #00af00; text-decoration-color: #00af00\">16</span>)        │            <span style=\"color: #00af00; text-decoration-color: #00af00\">96</span> │\n",
       "├─────────────────────────────────┼────────────────────────┼───────────────┤\n",
       "│ max_pooling1d_2 (<span style=\"color: #0087ff; text-decoration-color: #0087ff\">MaxPooling1D</span>)  │ (<span style=\"color: #00d7ff; text-decoration-color: #00d7ff\">None</span>, <span style=\"color: #00af00; text-decoration-color: #00af00\">166</span>, <span style=\"color: #00af00; text-decoration-color: #00af00\">16</span>)        │             <span style=\"color: #00af00; text-decoration-color: #00af00\">0</span> │\n",
       "├─────────────────────────────────┼────────────────────────┼───────────────┤\n",
       "│ dropout_3 (<span style=\"color: #0087ff; text-decoration-color: #0087ff\">Dropout</span>)             │ (<span style=\"color: #00d7ff; text-decoration-color: #00d7ff\">None</span>, <span style=\"color: #00af00; text-decoration-color: #00af00\">166</span>, <span style=\"color: #00af00; text-decoration-color: #00af00\">16</span>)        │             <span style=\"color: #00af00; text-decoration-color: #00af00\">0</span> │\n",
       "├─────────────────────────────────┼────────────────────────┼───────────────┤\n",
       "│ conv1d_3 (<span style=\"color: #0087ff; text-decoration-color: #0087ff\">Conv1D</span>)               │ (<span style=\"color: #00d7ff; text-decoration-color: #00d7ff\">None</span>, <span style=\"color: #00af00; text-decoration-color: #00af00\">166</span>, <span style=\"color: #00af00; text-decoration-color: #00af00\">32</span>)        │         <span style=\"color: #00af00; text-decoration-color: #00af00\">2,592</span> │\n",
       "├─────────────────────────────────┼────────────────────────┼───────────────┤\n",
       "│ max_pooling1d_3 (<span style=\"color: #0087ff; text-decoration-color: #0087ff\">MaxPooling1D</span>)  │ (<span style=\"color: #00d7ff; text-decoration-color: #00d7ff\">None</span>, <span style=\"color: #00af00; text-decoration-color: #00af00\">55</span>, <span style=\"color: #00af00; text-decoration-color: #00af00\">32</span>)         │             <span style=\"color: #00af00; text-decoration-color: #00af00\">0</span> │\n",
       "├─────────────────────────────────┼────────────────────────┼───────────────┤\n",
       "│ dropout_4 (<span style=\"color: #0087ff; text-decoration-color: #0087ff\">Dropout</span>)             │ (<span style=\"color: #00d7ff; text-decoration-color: #00d7ff\">None</span>, <span style=\"color: #00af00; text-decoration-color: #00af00\">55</span>, <span style=\"color: #00af00; text-decoration-color: #00af00\">32</span>)         │             <span style=\"color: #00af00; text-decoration-color: #00af00\">0</span> │\n",
       "├─────────────────────────────────┼────────────────────────┼───────────────┤\n",
       "│ flatten_1 (<span style=\"color: #0087ff; text-decoration-color: #0087ff\">Flatten</span>)             │ (<span style=\"color: #00d7ff; text-decoration-color: #00d7ff\">None</span>, <span style=\"color: #00af00; text-decoration-color: #00af00\">1760</span>)           │             <span style=\"color: #00af00; text-decoration-color: #00af00\">0</span> │\n",
       "├─────────────────────────────────┼────────────────────────┼───────────────┤\n",
       "│ dense_2 (<span style=\"color: #0087ff; text-decoration-color: #0087ff\">Dense</span>)                 │ (<span style=\"color: #00d7ff; text-decoration-color: #00d7ff\">None</span>, <span style=\"color: #00af00; text-decoration-color: #00af00\">32</span>)             │        <span style=\"color: #00af00; text-decoration-color: #00af00\">56,352</span> │\n",
       "├─────────────────────────────────┼────────────────────────┼───────────────┤\n",
       "│ dropout_5 (<span style=\"color: #0087ff; text-decoration-color: #0087ff\">Dropout</span>)             │ (<span style=\"color: #00d7ff; text-decoration-color: #00d7ff\">None</span>, <span style=\"color: #00af00; text-decoration-color: #00af00\">32</span>)             │             <span style=\"color: #00af00; text-decoration-color: #00af00\">0</span> │\n",
       "├─────────────────────────────────┼────────────────────────┼───────────────┤\n",
       "│ dense_3 (<span style=\"color: #0087ff; text-decoration-color: #0087ff\">Dense</span>)                 │ (<span style=\"color: #00d7ff; text-decoration-color: #00d7ff\">None</span>, <span style=\"color: #00af00; text-decoration-color: #00af00\">1</span>)              │            <span style=\"color: #00af00; text-decoration-color: #00af00\">33</span> │\n",
       "└─────────────────────────────────┴────────────────────────┴───────────────┘\n",
       "</pre>\n"
      ]
     },
     "metadata": {},
     "output_type": "display_data"
    },
    {
     "data": {
      "text/plain": [
       "\u001B[1m Total params: \u001B[0m\u001B[38;5;34m59,073\u001B[0m (230.75 KB)\n"
      ],
      "text/html": [
       "<pre style=\"white-space:pre;overflow-x:auto;line-height:normal;font-family:Menlo,'DejaVu Sans Mono',consolas,'Courier New',monospace\"><span style=\"font-weight: bold\"> Total params: </span><span style=\"color: #00af00; text-decoration-color: #00af00\">59,073</span> (230.75 KB)\n",
       "</pre>\n"
      ]
     },
     "metadata": {},
     "output_type": "display_data"
    },
    {
     "data": {
      "text/plain": [
       "\u001B[1m Trainable params: \u001B[0m\u001B[38;5;34m59,073\u001B[0m (230.75 KB)\n"
      ],
      "text/html": [
       "<pre style=\"white-space:pre;overflow-x:auto;line-height:normal;font-family:Menlo,'DejaVu Sans Mono',consolas,'Courier New',monospace\"><span style=\"font-weight: bold\"> Trainable params: </span><span style=\"color: #00af00; text-decoration-color: #00af00\">59,073</span> (230.75 KB)\n",
       "</pre>\n"
      ]
     },
     "metadata": {},
     "output_type": "display_data"
    },
    {
     "data": {
      "text/plain": [
       "\u001B[1m Non-trainable params: \u001B[0m\u001B[38;5;34m0\u001B[0m (0.00 B)\n"
      ],
      "text/html": [
       "<pre style=\"white-space:pre;overflow-x:auto;line-height:normal;font-family:Menlo,'DejaVu Sans Mono',consolas,'Courier New',monospace\"><span style=\"font-weight: bold\"> Non-trainable params: </span><span style=\"color: #00af00; text-decoration-color: #00af00\">0</span> (0.00 B)\n",
       "</pre>\n"
      ]
     },
     "metadata": {},
     "output_type": "display_data"
    }
   ],
   "execution_count": 13
  },
  {
   "metadata": {
    "ExecuteTime": {
     "end_time": "2025-10-29T20:18:04.046160Z",
     "start_time": "2025-10-29T20:17:59.351496Z"
    }
   },
   "cell_type": "code",
   "source": [
    "# On veut sauvegarder le meilleur modèle basé sur la validation PR-AUC\n",
    "\n",
    "# Nettoyer les anciens logs\n",
    "!rmdir /S /Q .\\\\logs\\\\v10_phase_folding\n",
    "\n",
    "# Callbacks\n",
    "tensorboard_cb = tf.keras.callbacks.TensorBoard(log_dir='./logs/v10_phase_folding', histogram_freq=1)\n",
    "\n",
    "# On monitore 'val_pr_auc' en mode 'max'\n",
    "checkpoint_cb = tf.keras.callbacks.ModelCheckpoint(\n",
    "    filepath='../models/cnn_v10_phase_folding_best.h5',\n",
    "    save_best_only=True,\n",
    "    monitor='val_pr_auc', # NOTRE MÉTRIQUE CLÉ\n",
    "    mode='max',\n",
    "    verbose=1\n",
    ")\n",
    "\n",
    "early_stopping_cb = tf.keras.callbacks.EarlyStopping(\n",
    "    monitor='val_pr_auc',\n",
    "    mode='max',\n",
    "    patience=10, # Arrêter après 10 époques sans amélioration\n",
    "    restore_best_weights=True,\n",
    "    verbose=1\n",
    ")\n",
    "\n",
    "# Entraînement\n",
    "print(\"Début de l'entraînement...\")\n",
    "history = model.fit(\n",
    "    X_train_cnn,\n",
    "    y_train,\n",
    "    epochs=100,\n",
    "    batch_size=32,\n",
    "    validation_data=(X_test_cnn, y_test),\n",
    "    callbacks=[tensorboard_cb, checkpoint_cb, early_stopping_cb],\n",
    "    verbose=1\n",
    ")"
   ],
   "id": "16b4c0a4931fe454",
   "outputs": [
    {
     "name": "stdout",
     "output_type": "stream",
     "text": [
      "Début de l'entraînement...\n",
      "Epoch 1/100\n",
      "\u001B[1m1/5\u001B[0m \u001B[32m━━━━\u001B[0m\u001B[37m━━━━━━━━━━━━━━━━\u001B[0m \u001B[1m6s\u001B[0m 2s/step - accuracy: 0.7500 - loss: 0.5467 - pr_auc: 0.1511\n",
      "Epoch 1: val_pr_auc improved from None to 0.03131, saving model to ../models/cnn_v10_phase_folding_best.h5\n"
     ]
    },
    {
     "name": "stderr",
     "output_type": "stream",
     "text": [
      "WARNING:absl:You are saving your model as an HDF5 file via `model.save()` or `keras.saving.save_model(model)`. This file format is considered legacy. We recommend using instead the native Keras format, e.g. `model.save('my_model.keras')` or `keras.saving.save_model(model, 'my_model.keras')`. \n"
     ]
    },
    {
     "name": "stdout",
     "output_type": "stream",
     "text": [
      "\u001B[1m5/5\u001B[0m \u001B[32m━━━━━━━━━━━━━━━━━━━━\u001B[0m\u001B[37m\u001B[0m \u001B[1m2s\u001B[0m 147ms/step - accuracy: 0.8562 - loss: 0.4799 - pr_auc: 0.0488 - val_accuracy: 0.9750 - val_loss: 0.4839 - val_pr_auc: 0.0313\n",
      "Epoch 2/100\n",
      "\u001B[1m1/5\u001B[0m \u001B[32m━━━━\u001B[0m\u001B[37m━━━━━━━━━━━━━━━━\u001B[0m \u001B[1m0s\u001B[0m 35ms/step - accuracy: 0.9375 - loss: 0.4246 - pr_auc: 0.0211\n",
      "Epoch 2: val_pr_auc did not improve from 0.03131\n",
      "\u001B[1m5/5\u001B[0m \u001B[32m━━━━━━━━━━━━━━━━━━━━\u001B[0m\u001B[37m\u001B[0m \u001B[1m0s\u001B[0m 41ms/step - accuracy: 0.8875 - loss: 0.4131 - pr_auc: 0.0132 - val_accuracy: 0.9750 - val_loss: 0.4266 - val_pr_auc: 0.0289\n",
      "Epoch 3/100\n",
      "\u001B[1m1/5\u001B[0m \u001B[32m━━━━\u001B[0m\u001B[37m━━━━━━━━━━━━━━━━\u001B[0m \u001B[1m0s\u001B[0m 35ms/step - accuracy: 0.9062 - loss: 0.4515 - pr_auc: 0.0551\n",
      "Epoch 3: val_pr_auc did not improve from 0.03131\n",
      "\u001B[1m5/5\u001B[0m \u001B[32m━━━━━━━━━━━━━━━━━━━━\u001B[0m\u001B[37m\u001B[0m \u001B[1m0s\u001B[0m 42ms/step - accuracy: 0.9312 - loss: 0.3681 - pr_auc: 0.0181 - val_accuracy: 0.9750 - val_loss: 0.3770 - val_pr_auc: 0.0250\n",
      "Epoch 4/100\n",
      "\u001B[1m1/5\u001B[0m \u001B[32m━━━━\u001B[0m\u001B[37m━━━━━━━━━━━━━━━━\u001B[0m \u001B[1m0s\u001B[0m 32ms/step - accuracy: 0.9375 - loss: 0.3859 - pr_auc: 0.0165\n",
      "Epoch 4: val_pr_auc did not improve from 0.03131\n",
      "\u001B[1m5/5\u001B[0m \u001B[32m━━━━━━━━━━━━━━━━━━━━\u001B[0m\u001B[37m\u001B[0m \u001B[1m0s\u001B[0m 46ms/step - accuracy: 0.9625 - loss: 0.3024 - pr_auc: 0.0137 - val_accuracy: 0.9750 - val_loss: 0.3351 - val_pr_auc: 0.0224\n",
      "Epoch 5/100\n",
      "\u001B[1m1/5\u001B[0m \u001B[32m━━━━\u001B[0m\u001B[37m━━━━━━━━━━━━━━━━\u001B[0m \u001B[1m0s\u001B[0m 135ms/step - accuracy: 0.9375 - loss: 0.3293 - pr_auc: 0.0880\n",
      "Epoch 5: val_pr_auc did not improve from 0.03131\n",
      "\u001B[1m5/5\u001B[0m \u001B[32m━━━━━━━━━━━━━━━━━━━━\u001B[0m\u001B[37m\u001B[0m \u001B[1m0s\u001B[0m 53ms/step - accuracy: 0.9812 - loss: 0.2303 - pr_auc: 0.0275 - val_accuracy: 0.9750 - val_loss: 0.2996 - val_pr_auc: 0.0228\n",
      "Epoch 6/100\n",
      "\u001B[1m1/5\u001B[0m \u001B[32m━━━━\u001B[0m\u001B[37m━━━━━━━━━━━━━━━━\u001B[0m \u001B[1m0s\u001B[0m 40ms/step - accuracy: 0.9688 - loss: 0.3033 - pr_auc: 0.0174\n",
      "Epoch 6: val_pr_auc did not improve from 0.03131\n",
      "\u001B[1m5/5\u001B[0m \u001B[32m━━━━━━━━━━━━━━━━━━━━\u001B[0m\u001B[37m\u001B[0m \u001B[1m0s\u001B[0m 44ms/step - accuracy: 0.9750 - loss: 0.2472 - pr_auc: 0.0103 - val_accuracy: 0.9750 - val_loss: 0.2695 - val_pr_auc: 0.0250\n",
      "Epoch 7/100\n",
      "\u001B[1m1/5\u001B[0m \u001B[32m━━━━\u001B[0m\u001B[37m━━━━━━━━━━━━━━━━\u001B[0m \u001B[1m0s\u001B[0m 36ms/step - accuracy: 1.0000 - loss: 0.1302 - pr_auc: 0.0000e+00\n",
      "Epoch 7: val_pr_auc did not improve from 0.03131\n",
      "\u001B[1m5/5\u001B[0m \u001B[32m━━━━━━━━━━━━━━━━━━━━\u001B[0m\u001B[37m\u001B[0m \u001B[1m0s\u001B[0m 42ms/step - accuracy: 0.9812 - loss: 0.1732 - pr_auc: 0.0331 - val_accuracy: 0.9750 - val_loss: 0.2431 - val_pr_auc: 0.0273\n",
      "Epoch 8/100\n",
      "\u001B[1m1/5\u001B[0m \u001B[32m━━━━\u001B[0m\u001B[37m━━━━━━━━━━━━━━━━\u001B[0m \u001B[1m0s\u001B[0m 37ms/step - accuracy: 1.0000 - loss: 0.1243 - pr_auc: 0.0000e+00\n",
      "Epoch 8: val_pr_auc did not improve from 0.03131\n",
      "\u001B[1m5/5\u001B[0m \u001B[32m━━━━━━━━━━━━━━━━━━━━\u001B[0m\u001B[37m\u001B[0m \u001B[1m0s\u001B[0m 45ms/step - accuracy: 0.9750 - loss: 0.1727 - pr_auc: 0.0207 - val_accuracy: 0.9750 - val_loss: 0.2211 - val_pr_auc: 0.0278\n",
      "Epoch 9/100\n",
      "\u001B[1m1/5\u001B[0m \u001B[32m━━━━\u001B[0m\u001B[37m━━━━━━━━━━━━━━━━\u001B[0m \u001B[1m0s\u001B[0m 37ms/step - accuracy: 0.9688 - loss: 0.1546 - pr_auc: 0.0685\n",
      "Epoch 9: val_pr_auc did not improve from 0.03131\n",
      "\u001B[1m5/5\u001B[0m \u001B[32m━━━━━━━━━━━━━━━━━━━━\u001B[0m\u001B[37m\u001B[0m \u001B[1m0s\u001B[0m 42ms/step - accuracy: 0.9812 - loss: 0.1653 - pr_auc: 0.0144 - val_accuracy: 0.9750 - val_loss: 0.2029 - val_pr_auc: 0.0300\n",
      "Epoch 10/100\n",
      "\u001B[1m1/5\u001B[0m \u001B[32m━━━━\u001B[0m\u001B[37m━━━━━━━━━━━━━━━━\u001B[0m \u001B[1m0s\u001B[0m 29ms/step - accuracy: 0.9375 - loss: 0.2351 - pr_auc: 0.0840\n",
      "Epoch 10: val_pr_auc did not improve from 0.03131\n",
      "\u001B[1m5/5\u001B[0m \u001B[32m━━━━━━━━━━━━━━━━━━━━\u001B[0m\u001B[37m\u001B[0m \u001B[1m0s\u001B[0m 42ms/step - accuracy: 0.9812 - loss: 0.1505 - pr_auc: 0.0187 - val_accuracy: 0.9750 - val_loss: 0.1884 - val_pr_auc: 0.0300\n",
      "Epoch 11/100\n",
      "\u001B[1m1/5\u001B[0m \u001B[32m━━━━\u001B[0m\u001B[37m━━━━━━━━━━━━━━━━\u001B[0m \u001B[1m0s\u001B[0m 33ms/step - accuracy: 1.0000 - loss: 0.1277 - pr_auc: 0.0000e+00\n",
      "Epoch 11: val_pr_auc did not improve from 0.03131\n",
      "\u001B[1m5/5\u001B[0m \u001B[32m━━━━━━━━━━━━━━━━━━━━\u001B[0m\u001B[37m\u001B[0m \u001B[1m0s\u001B[0m 46ms/step - accuracy: 0.9750 - loss: 0.1718 - pr_auc: 0.0138 - val_accuracy: 0.9750 - val_loss: 0.1758 - val_pr_auc: 0.0313\n",
      "Epoch 11: early stopping\n",
      "Restoring model weights from the end of the best epoch: 1.\n"
     ]
    }
   ],
   "execution_count": 14
  }
 ],
 "metadata": {
  "kernelspec": {
   "display_name": "Python 3",
   "language": "python",
   "name": "python3"
  },
  "language_info": {
   "codemirror_mode": {
    "name": "ipython",
    "version": 2
   },
   "file_extension": ".py",
   "mimetype": "text/x-python",
   "name": "python",
   "nbconvert_exporter": "python",
   "pygments_lexer": "ipython2",
   "version": "2.7.6"
  }
 },
 "nbformat": 4,
 "nbformat_minor": 5
}
