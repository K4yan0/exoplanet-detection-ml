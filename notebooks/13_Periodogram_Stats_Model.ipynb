{
 "cells": [
  {
   "cell_type": "code",
   "id": "initial_id",
   "metadata": {
    "collapsed": true,
    "ExecuteTime": {
     "end_time": "2025-11-01T21:11:11.025600Z",
     "start_time": "2025-11-01T21:11:09.380111Z"
    }
   },
   "source": [
    "import numpy as np\n",
    "import pandas as pd\n",
    "import matplotlib.pyplot as plt\n",
    "import seaborn as sns  # Pour la visualisation\n",
    "from sklearn.model_selection import train_test_split\n",
    "from sklearn.ensemble import RandomForestClassifier\n",
    "from sklearn.metrics import (\n",
    "    classification_report, confusion_matrix,\n",
    "    average_precision_score, precision_recall_curve, f1_score\n",
    ")\n",
    "from sklearn.utils import shuffle\n",
    "\n",
    "# Imports pour le multiprocessing\n",
    "import multiprocessing\n",
    "from tqdm import tqdm\n",
    "\n",
    "# --- NOTRE NOUVEL IMPORT DE FEATURES ---\n",
    "from src.features_periodogram import generate_periodogram_features\n",
    "\n",
    "print(\"Bibliothèques importées.\")\n",
    "# Si seaborn n'est pas installé : !pip install seaborn"
   ],
   "outputs": [
    {
     "name": "stdout",
     "output_type": "stream",
     "text": [
      "Bibliothèques importées.\n"
     ]
    }
   ],
   "execution_count": 2
  },
  {
   "metadata": {
    "ExecuteTime": {
     "end_time": "2025-11-01T21:11:17.931882Z",
     "start_time": "2025-11-01T21:11:13.337565Z"
    }
   },
   "cell_type": "code",
   "source": [
    "print(\"Chargement et mélange des données brutes...\")\n",
    "train_df = pd.read_csv('../data/raw/train.csv')\n",
    "\n",
    "X_raw = train_df.drop('LABEL', axis=1).values\n",
    "y = train_df['LABEL'].values - 1  # (0, 1)\n",
    "\n",
    "X_raw_shuffled, y_shuffled = shuffle(X_raw, y, random_state=42)\n",
    "\n",
    "print(f\"Forme de X_raw_shuffled : {X_raw_shuffled.shape}\")\n",
    "print(f\"Forme de y_shuffled : {y_shuffled.shape}\")"
   ],
   "id": "283883b41ab8f28",
   "outputs": [
    {
     "name": "stdout",
     "output_type": "stream",
     "text": [
      "Chargement et mélange des données brutes...\n",
      "Forme de X_raw_shuffled : (5087, 3197)\n",
      "Forme de y_shuffled : (5087,)\n"
     ]
    }
   ],
   "execution_count": 3
  },
  {
   "metadata": {
    "ExecuteTime": {
     "end_time": "2025-11-01T21:44:04.095226Z",
     "start_time": "2025-11-01T21:11:21.680526Z"
    }
   },
   "cell_type": "code",
   "source": [
    "# Cellule 3 : Génération des Features Statistiques\n",
    "# ------------------------------------------------\n",
    "X_data_to_process = X_raw_shuffled\n",
    "\n",
    "print(f\"Démarrage de la génération des features (4 par étoile)...\")\n",
    "\n",
    "N_CORES = multiprocessing.cpu_count() - 1\n",
    "if N_CORES < 1: N_CORES = 1\n",
    "print(f\"Utilisation de {N_CORES} cœurs CPU...\")\n",
    "\n",
    "with multiprocessing.Pool(processes=N_CORES) as pool:\n",
    "    # pool.map fonctionne car notre fonction n'a qu'un seul argument requis\n",
    "    X_features_list = list(tqdm(pool.map(generate_periodogram_features, X_data_to_process), total=len(X_data_to_process)))\n",
    "\n",
    "# Convertir la liste de résultats en array numpy\n",
    "X_features = np.array(X_features_list)\n",
    "y = y_shuffled\n",
    "\n",
    "print(\"Génération des features terminée !\")\n",
    "print(f\"Forme de X_features : {X_features.shape}\")"
   ],
   "id": "384edc13ea951299",
   "outputs": [
    {
     "name": "stdout",
     "output_type": "stream",
     "text": [
      "Démarrage de la génération des features (4 par étoile)...\n",
      "Utilisation de 7 cœurs CPU...\n"
     ]
    },
    {
     "name": "stderr",
     "output_type": "stream",
     "text": [
      "100%|██████████| 5087/5087 [00:00<00:00, 1976326.83it/s]"
     ]
    },
    {
     "name": "stdout",
     "output_type": "stream",
     "text": [
      "Génération des features terminée !\n",
      "Forme de X_features : (5087, 4)\n"
     ]
    },
    {
     "name": "stderr",
     "output_type": "stream",
     "text": [
      "\n"
     ]
    }
   ],
   "execution_count": 4
  },
  {
   "metadata": {
    "ExecuteTime": {
     "end_time": "2025-11-01T21:44:27.194447Z",
     "start_time": "2025-11-01T21:44:27.125950Z"
    }
   },
   "cell_type": "code",
   "source": [
    "# Cellule 4 : Création du DataFrame\n",
    "# -----------------------------------\n",
    "# Créons un DataFrame pour analyser nos nouvelles features\n",
    "\n",
    "feature_names = ['max_power', 'mean_power', 'std_power', 'peak_significance']\n",
    "df = pd.DataFrame(X_features, columns=feature_names)\n",
    "df['label'] = y\n",
    "\n",
    "print(\"Aperçu du DataFrame de features :\")\n",
    "print(df.head())\n",
    "\n",
    "print(\"\\nDescription statistique (Toutes les étoiles) :\")\n",
    "print(df.describe())\n",
    "\n",
    "print(\"\\nDescription statistique (Seulement les Planètes) :\")\n",
    "print(df[df['label'] == 1].describe())"
   ],
   "id": "cd7ab27bdca462fb",
   "outputs": [
    {
     "name": "stdout",
     "output_type": "stream",
     "text": [
      "Aperçu du DataFrame de features :\n",
      "   max_power  mean_power  std_power  peak_significance  label\n",
      "0   0.039448    0.000625   0.001624          23.912480      0\n",
      "1   0.068616    0.000619   0.003335          20.386495      0\n",
      "2   0.483231    0.000612   0.010441          46.222237      1\n",
      "3   0.018069    0.000628   0.000744          23.448714      0\n",
      "4   0.525066    0.000629   0.002945         178.059955      0\n",
      "\n",
      "Description statistique (Toutes les étoiles) :\n",
      "         max_power   mean_power    std_power  peak_significance        label\n",
      "count  5087.000000  5087.000000  5087.000000        5087.000000  5087.000000\n",
      "mean      0.837425     0.000633     0.004533         137.694956     0.007273\n",
      "std       1.943180     0.000027     0.005105         136.497548     0.084982\n",
      "min       0.001608     0.000600     0.000093           3.181751     0.000000\n",
      "25%       0.080177     0.000623     0.001517          35.709637     0.000000\n",
      "50%       0.223961     0.000628     0.002686          64.117129     0.000000\n",
      "75%       0.663259     0.000633     0.005549         216.416065     0.000000\n",
      "max      40.545127     0.001061     0.081641         496.616505     1.000000\n",
      "\n",
      "Description statistique (Seulement les Planètes) :\n",
      "       max_power  mean_power  std_power  peak_significance  label\n",
      "count  37.000000   37.000000  37.000000          37.000000   37.0\n",
      "mean    1.000701    0.000634   0.008011         117.077381    1.0\n",
      "std     1.525846    0.000040   0.006713          90.832909    0.0\n",
      "min     0.032070    0.000604   0.001036          13.171117    1.0\n",
      "25%     0.267115    0.000619   0.002871          43.477982    1.0\n",
      "50%     0.499009    0.000628   0.006455          73.284645    1.0\n",
      "75%     0.941284    0.000631   0.012071         204.080910    1.0\n",
      "max     6.423759    0.000798   0.028495         337.637344    1.0\n"
     ]
    }
   ],
   "execution_count": 5
  },
  {
   "metadata": {
    "ExecuteTime": {
     "end_time": "2025-11-01T21:44:47.650260Z",
     "start_time": "2025-11-01T21:44:46.016084Z"
    }
   },
   "cell_type": "code",
   "source": [
    "# Cellule 5 : Visualisation des Features\n",
    "# --------------------------------------\n",
    "# C'est le test de vérité.\n",
    "# La feature 'peak_significance' est-elle différente pour\n",
    "# les planètes (1) et les non-planètes (0) ?\n",
    "\n",
    "plt.figure(figsize=(12, 8))\n",
    "sns.boxplot(x='label', y='peak_significance', data=df)\n",
    "plt.title('Signifiance du Pic : Planètes (1) vs Non-Planètes (0)', fontsize=16)\n",
    "plt.xlabel(\"Label (0 = Pas Planète, 1 = Planète)\")\n",
    "plt.ylabel(\"Signifiance du Pic (Z-score)\")\n",
    "plt.show()\n",
    "\n",
    "# (Hypothèse : La boîte \"1\" devrait être BEAUCOUP plus haute que la \"0\")"
   ],
   "id": "dd74787eafa35cbb",
   "outputs": [
    {
     "data": {
      "text/plain": [
       "<Figure size 1200x800 with 1 Axes>"
      ],
      "image/png": "[encoded data removed]"
     },
     "metadata": {},
     "output_type": "display_data"
    }
   ],
   "execution_count": 6
  },
  {
   "metadata": {
    "ExecuteTime": {
     "end_time": "2025-11-01T21:45:19.127678Z",
     "start_time": "2025-11-01T21:45:19.101630Z"
    }
   },
   "cell_type": "code",
   "source": [
    "# Cellule 6 : Train/Test Split\n",
    "# -----------------------------\n",
    "print(\"Division des données (features)...\")\n",
    "\n",
    "X_train, X_test, y_train, y_test = train_test_split(\n",
    "    X_features, # <-- Nos 4 features\n",
    "    y,          # <-- Nos labels\n",
    "    test_size=0.2,\n",
    "    random_state=42,\n",
    "    stratify=y  # Indispensable\n",
    ")\n",
    "\n",
    "print(f\"Forme X_train : {X_train.shape}\")\n",
    "print(f\"Forme X_test : {X_test.shape}\")"
   ],
   "id": "4ded7091f5760ab8",
   "outputs": [
    {
     "name": "stdout",
     "output_type": "stream",
     "text": [
      "Division des données (features)...\n",
      "Forme X_train : (4069, 4)\n",
      "Forme X_test : (1018, 4)\n"
     ]
    }
   ],
   "execution_count": 7
  },
  {
   "metadata": {
    "ExecuteTime": {
     "end_time": "2025-11-01T21:45:29.334815Z",
     "start_time": "2025-11-01T21:45:28.517286Z"
    }
   },
   "cell_type": "code",
   "source": [
    "# Cellule 7 : Entraînement du Modèle Statistique (v23)\n",
    "# ----------------------------------------------------\n",
    "print(\"Entraînement du Random Forest Classifier...\")\n",
    "\n",
    "# On utilise class_weight='balanced' car Random Forest\n",
    "# le gère très bien.\n",
    "rf_model = RandomForestClassifier(\n",
    "    n_estimators=100,     # 100 arbres\n",
    "    class_weight='balanced',\n",
    "    random_state=42,\n",
    "    n_jobs=-1             # Utiliser tous les coeurs\n",
    ")\n",
    "\n",
    "rf_model.fit(X_train, y_train)\n",
    "\n",
    "print(\"Entraînement terminé.\")"
   ],
   "id": "db7a7209f7b6fce9",
   "outputs": [
    {
     "name": "stdout",
     "output_type": "stream",
     "text": [
      "Entraînement du Random Forest Classifier...\n",
      "Entraînement terminé.\n"
     ]
    }
   ],
   "execution_count": 8
  },
  {
   "metadata": {
    "ExecuteTime": {
     "end_time": "2025-11-01T21:45:40.168706Z",
     "start_time": "2025-11-01T21:45:40.030242Z"
    }
   },
   "cell_type": "code",
   "source": [
    "# Cellule 8 : Évaluation Finale (v23)\n",
    "# -----------------------------------\n",
    "print(\"Évaluation du modèle Random Forest...\")\n",
    "\n",
    "y_pred_class = rf_model.predict(X_test)\n",
    "y_pred_proba = rf_model.predict_proba(X_test)[:, 1] # Probabilité de la classe \"1\"\n",
    "\n",
    "print(\"\\n\" + \"=\"*40)\n",
    "print(\"ÉVALUATION FINALE (Random Forest)\")\n",
    "print(\"=\"*40)\n",
    "\n",
    "print(\"\\n--- Rapport de Classification ---\")\n",
    "print(classification_report(y_test, y_pred_class, target_names=['Pas Planète', 'Planète']))\n",
    "\n",
    "print(\"\\n--- Matrice de Confusion ---\")\n",
    "print(confusion_matrix(y_test, y_pred_class))\n",
    "\n",
    "# Le score PR-AUC (notre métrique clé)\n",
    "pr_auc_score = average_precision_score(y_test, y_pred_proba)\n",
    "print(f\"\\nScore PR-AUC global (Average Precision) : {pr_auc_score:.4f}\")"
   ],
   "id": "520b2d3a4e0d892a",
   "outputs": [
    {
     "name": "stdout",
     "output_type": "stream",
     "text": [
      "Évaluation du modèle Random Forest...\n",
      "\n",
      "========================================\n",
      "ÉVALUATION FINALE (Random Forest)\n",
      "========================================\n",
      "\n",
      "--- Rapport de Classification ---\n",
      "              precision    recall  f1-score   support\n",
      "\n",
      " Pas Planète       0.99      1.00      1.00      1011\n",
      "     Planète       0.00      0.00      0.00         7\n",
      "\n",
      "    accuracy                           0.99      1018\n",
      "   macro avg       0.50      0.50      0.50      1018\n",
      "weighted avg       0.99      0.99      0.99      1018\n",
      "\n",
      "\n",
      "--- Matrice de Confusion ---\n",
      "[[1011    0]\n",
      " [   7    0]]\n",
      "\n",
      "Score PR-AUC global (Average Precision) : 0.0098\n"
     ]
    },
    {
     "name": "stderr",
     "output_type": "stream",
     "text": [
      "C:\\Users\\libra\\IdeaProjects\\exoplanet-detection-ml\\venv\\Lib\\site-packages\\sklearn\\metrics\\_classification.py:1731: UndefinedMetricWarning: Precision is ill-defined and being set to 0.0 in labels with no predicted samples. Use `zero_division` parameter to control this behavior.\n",
      "  _warn_prf(average, modifier, f\"{metric.capitalize()} is\", result.shape[0])\n",
      "C:\\Users\\libra\\IdeaProjects\\exoplanet-detection-ml\\venv\\Lib\\site-packages\\sklearn\\metrics\\_classification.py:1731: UndefinedMetricWarning: Precision is ill-defined and being set to 0.0 in labels with no predicted samples. Use `zero_division` parameter to control this behavior.\n",
      "  _warn_prf(average, modifier, f\"{metric.capitalize()} is\", result.shape[0])\n",
      "C:\\Users\\libra\\IdeaProjects\\exoplanet-detection-ml\\venv\\Lib\\site-packages\\sklearn\\metrics\\_classification.py:1731: UndefinedMetricWarning: Precision is ill-defined and being set to 0.0 in labels with no predicted samples. Use `zero_division` parameter to control this behavior.\n",
      "  _warn_prf(average, modifier, f\"{metric.capitalize()} is\", result.shape[0])\n"
     ]
    }
   ],
   "execution_count": 9
  }
 ],
 "metadata": {
  "kernelspec": {
   "display_name": "Python 3",
   "language": "python",
   "name": "python3"
  },
  "language_info": {
   "codemirror_mode": {
    "name": "ipython",
    "version": 2
   },
   "file_extension": ".py",
   "mimetype": "text/x-python",
   "name": "python",
   "nbconvert_exporter": "python",
   "pygments_lexer": "ipython2",
   "version": "2.7.6"
  }
 },
 "nbformat": 4,
 "nbformat_minor": 5
}
