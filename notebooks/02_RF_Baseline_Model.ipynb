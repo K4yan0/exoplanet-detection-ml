{
 "cells": [
  {
   "cell_type": "code",
   "id": "initial_id",
   "metadata": {
    "collapsed": true,
    "ExecuteTime": {
     "end_time": "2025-10-25T21:32:22.922941Z",
     "start_time": "2025-10-25T21:32:22.917296Z"
    }
   },
   "source": [
    "# Imports\n",
    "import pandas as pd\n",
    "import matplotlib.pyplot as plt\n",
    "import sys\n",
    "from sklearn.ensemble import RandomForestClassifier\n",
    "from sklearn.preprocessing import StandardScaler\n",
    "from sklearn.pipeline import Pipeline\n",
    "from sklearn.metrics import classification_report, confusion_matrix, PrecisionRecallDisplay, auc, precision_recall_curve\n",
    "\n",
    "# --- Configuration des chemins ---\n",
    "# Ajoute le dossier parent au 'path' pour trouver 'src'\n",
    "sys.path.append('../src')\n",
    "from src.preprocess import normalize_flux\n",
    "from src.features import create_baseline_features # <- On importe notre nouvelle fonction !\n",
    "\n",
    "TRAIN_PATH = '../data/raw/train.csv'\n",
    "TEST_PATH = '../data/raw/test.csv'"
   ],
   "outputs": [],
   "execution_count": 3
  },
  {
   "metadata": {
    "ExecuteTime": {
     "end_time": "2025-10-25T21:32:33.305622Z",
     "start_time": "2025-10-25T21:32:25.791607Z"
    }
   },
   "cell_type": "code",
   "source": [
    "print(\"Chargement des données...\")\n",
    "df_train = pd.read_csv(TRAIN_PATH)\n",
    "df_test = pd.read_csv(TEST_PATH)\n",
    "\n",
    "# Correction des labels\n",
    "df_train['LABEL'] = df_train['LABEL'].map({1: 0, 2: 1})\n",
    "df_test['LABEL'] = df_test['LABEL'].map({1: 0, 2: 1})\n",
    "\n",
    "# Séparation X/y\n",
    "X_train_raw = df_train.drop('LABEL', axis=1)\n",
    "y_train = df_train['LABEL']\n",
    "X_test_raw = df_test.drop('LABEL', axis=1)\n",
    "y_test = df_test['LABEL']\n",
    "\n",
    "# Remplir NaN\n",
    "X_train_filled = X_train_raw.fillna(0)\n",
    "X_test_filled = X_test_raw.fillna(0)\n",
    "\n",
    "# Normalisation (Detrending)\n",
    "print(\"Normalisation (detrending) des données...\")\n",
    "X_train_normalized = X_train_filled.apply(normalize_flux, axis=1)\n",
    "X_test_normalized = X_test_filled.apply(normalize_flux, axis=1)\n",
    "print(\"Normalisation terminée.\")"
   ],
   "id": "ee99ee11d608612e",
   "outputs": [
    {
     "name": "stdout",
     "output_type": "stream",
     "text": [
      "Chargement des données...\n",
      "Normalisation (detrending) des données...\n",
      "Normalisation terminée.\n"
     ]
    }
   ],
   "execution_count": 4
  },
  {
   "metadata": {
    "ExecuteTime": {
     "end_time": "2025-10-25T21:32:47.360530Z",
     "start_time": "2025-10-25T21:32:37.657545Z"
    }
   },
   "cell_type": "code",
   "source": [
    "# On utilise notre nouvelle fonction !\n",
    "X_train_features = create_baseline_features(X_train_normalized)\n",
    "X_test_features = create_baseline_features(X_test_normalized)\n",
    "\n",
    "print(\"\\nAperçu des caractéristiques (features) créées pour X_train:\")\n",
    "print(X_train_features.head())"
   ],
   "id": "e65ceb81d20d6f3e",
   "outputs": [
    {
     "name": "stdout",
     "output_type": "stream",
     "text": [
      "Début du feature engineering...\n",
      "Création de 10 features terminée.\n",
      "Début du feature engineering...\n",
      "Création de 10 features terminée.\n",
      "\n",
      "Aperçu des caractéristiques (features) créées pour X_train:\n",
      "        mean         std           min          max    median       skew  \\\n",
      "0   0.363582   84.732829  -4151.912420  1717.115133 -0.006462 -32.862018   \n",
      "1   0.542530   40.896057  -1083.294672  1131.532926 -0.218176   5.943711   \n",
      "2 -13.362601  760.561335 -42987.151927   549.752938 -0.049805 -56.477304   \n",
      "3  -1.203260   60.320645  -3395.242191    94.628028 -0.009838 -55.783097   \n",
      "4  -0.446604   36.891255  -1247.697244   985.525142  0.032868 -16.890700   \n",
      "\n",
      "          kurt  mean_of_10_lowest  mean_of_10_highest         range  \n",
      "0  1876.787893        -506.102772          496.053887   5869.027553  \n",
      "1   447.555545        -312.796478          500.131540   2214.827598  \n",
      "2  3192.110222       -4485.952931          180.623652  43536.904864  \n",
      "3  3139.076968        -404.897877           47.151488   3489.870219  \n",
      "4   948.212848        -308.041294          189.806446   2233.222387  \n"
     ]
    }
   ],
   "execution_count": 5
  },
  {
   "metadata": {
    "ExecuteTime": {
     "end_time": "2025-10-25T21:32:52.249967Z",
     "start_time": "2025-10-25T21:32:51.828849Z"
    }
   },
   "cell_type": "code",
   "source": [
    "print(\"\\nEntraînement du Random Forest Baseline...\")\n",
    "\n",
    "# On crée un Pipeline :\n",
    "# 1. StandardScaler : Met les features (mean, std, min...) à la même échelle (très important)\n",
    "# 2. RandomForestClassifier : Le modèle\n",
    "#    - class_weight='balanced' : Gère le déséquilibre de 99% / 1%\n",
    "pipeline_rf = Pipeline([\n",
    "    ('scaler', StandardScaler()),\n",
    "    ('rf', RandomForestClassifier(n_estimators=100,\n",
    "                                  class_weight='balanced',\n",
    "                                  random_state=42,\n",
    "                                  n_jobs=-1))\n",
    "])\n",
    "\n",
    "# Entraînement sur les features\n",
    "pipeline_rf.fit(X_train_features, y_train)\n",
    "print(\"Entraînement terminé.\")"
   ],
   "id": "8842a2d21defca66",
   "outputs": [
    {
     "name": "stdout",
     "output_type": "stream",
     "text": [
      "\n",
      "Entraînement du Random Forest Baseline...\n",
      "Entraînement terminé.\n"
     ]
    }
   ],
   "execution_count": 6
  },
  {
   "metadata": {
    "ExecuteTime": {
     "end_time": "2025-10-25T21:32:56.183065Z",
     "start_time": "2025-10-25T21:32:55.784919Z"
    }
   },
   "cell_type": "code",
   "source": [
    "print(\"\\n--- Évaluation du Modèle Random Forest ---\")\n",
    "\n",
    "# Prédictions sur le set de test\n",
    "y_pred_rf = pipeline_rf.predict(X_test_features)\n",
    "y_pred_proba_rf = pipeline_rf.predict_proba(X_test_features)[:, 1] # Probas pour la classe 1 (Planète)\n",
    "\n",
    "# 1. Matrice de Confusion\n",
    "print(\"\\nMatrice de Confusion :\")\n",
    "#      Prédit 0 | Prédit 1\n",
    "# Vrai 0\n",
    "# Vrai 1\n",
    "cm = confusion_matrix(y_test, y_pred_rf)\n",
    "print(cm)\n",
    "\n",
    "# 2. Rapport de Classification\n",
    "# C'est la métrique la plus importante !\n",
    "# Regardez le F1-Score pour la classe 'Planète (1)'\n",
    "print(\"\\nRapport de Classification :\")\n",
    "print(classification_report(y_test, y_pred_rf, target_names=['Pas de Planète (0)', 'Planète (1)']))\n",
    "\n",
    "# 3. Courbe Precision-Recall (LA meilleure métrique pour ce problème)\n",
    "precision, recall, _ = precision_recall_curve(y_test, y_pred_proba_rf)\n",
    "pr_auc = auc(recall, precision)\n",
    "print(f\"\\nAire sous la courbe Precision-Recall (PR-AUC): {pr_auc:.4f}\")\n",
    "\n",
    "# Afficher la courbe\n",
    "print(\"Affichage de la courbe PR-AUC...\")\n",
    "display = PrecisionRecallDisplay(precision=precision, recall=recall)\n",
    "display.plot()\n",
    "plt.title(f\"Courbe Precision-Recall (PR-AUC = {pr_auc:.4f})\")\n",
    "plt.show()"
   ],
   "id": "bda2c717954926bc",
   "outputs": [
    {
     "name": "stdout",
     "output_type": "stream",
     "text": [
      "\n",
      "--- Évaluation du Modèle Random Forest ---\n",
      "\n",
      "Matrice de Confusion :\n",
      "[[565   0]\n",
      " [  5   0]]\n",
      "\n",
      "Rapport de Classification :\n",
      "                    precision    recall  f1-score   support\n",
      "\n",
      "Pas de Planète (0)       0.99      1.00      1.00       565\n",
      "       Planète (1)       0.00      0.00      0.00         5\n",
      "\n",
      "          accuracy                           0.99       570\n",
      "         macro avg       0.50      0.50      0.50       570\n",
      "      weighted avg       0.98      0.99      0.99       570\n",
      "\n",
      "\n",
      "Aire sous la courbe Precision-Recall (PR-AUC): 0.0122\n",
      "Affichage de la courbe PR-AUC...\n"
     ]
    },
    {
     "name": "stderr",
     "output_type": "stream",
     "text": [
      "C:\\Users\\libra\\IdeaProjects\\projet-mars-clouds-rf\\.venv\\Lib\\site-packages\\sklearn\\metrics\\_classification.py:1731: UndefinedMetricWarning: Precision is ill-defined and being set to 0.0 in labels with no predicted samples. Use `zero_division` parameter to control this behavior.\n",
      "  _warn_prf(average, modifier, f\"{metric.capitalize()} is\", result.shape[0])\n",
      "C:\\Users\\libra\\IdeaProjects\\projet-mars-clouds-rf\\.venv\\Lib\\site-packages\\sklearn\\metrics\\_classification.py:1731: UndefinedMetricWarning: Precision is ill-defined and being set to 0.0 in labels with no predicted samples. Use `zero_division` parameter to control this behavior.\n",
      "  _warn_prf(average, modifier, f\"{metric.capitalize()} is\", result.shape[0])\n",
      "C:\\Users\\libra\\IdeaProjects\\projet-mars-clouds-rf\\.venv\\Lib\\site-packages\\sklearn\\metrics\\_classification.py:1731: UndefinedMetricWarning: Precision is ill-defined and being set to 0.0 in labels with no predicted samples. Use `zero_division` parameter to control this behavior.\n",
      "  _warn_prf(average, modifier, f\"{metric.capitalize()} is\", result.shape[0])\n"
     ]
    },
    {
     "data": {
      "text/plain": [
       "<Figure size 640x480 with 1 Axes>"
      ],
      "image/png": "[encoded data removed]"
     },
     "metadata": {},
     "output_type": "display_data"
    }
   ],
   "execution_count": 7
  },
  {
   "metadata": {
    "ExecuteTime": {
     "end_time": "2025-10-25T21:33:10.160985Z",
     "start_time": "2025-10-25T21:33:09.987950Z"
    }
   },
   "cell_type": "code",
   "source": [
    "print(\"\\nImportance des caractéristiques (features) :\")\n",
    "# Récupérer les features importances depuis le pipeline\n",
    "feature_names = X_train_features.columns\n",
    "importances = pipeline_rf.named_steps['rf'].feature_importances_\n",
    "\n",
    "# Créer un DataFrame pour mieux visualiser\n",
    "feature_importance_df = pd.DataFrame({\n",
    "    'feature': feature_names,\n",
    "    'importance': importances\n",
    "}).sort_values(by='importance', ascending=False)\n",
    "\n",
    "print(feature_importance_df)\n",
    "\n",
    "# Visualiser\n",
    "plt.figure(figsize=(10, 6))\n",
    "plt.barh(feature_importance_df['feature'], feature_importance_df['importance'])\n",
    "plt.title('Importance des Caractéristiques (Random Forest)')\n",
    "plt.gca().invert_yaxis()\n",
    "plt.show()"
   ],
   "id": "e8b6f41597c54482",
   "outputs": [
    {
     "name": "stdout",
     "output_type": "stream",
     "text": [
      "\n",
      "Importance des caractéristiques (features) :\n",
      "              feature  importance\n",
      "5                skew    0.140349\n",
      "6                kurt    0.125887\n",
      "4              median    0.120063\n",
      "8  mean_of_10_highest    0.111340\n",
      "3                 max    0.106606\n",
      "0                mean    0.101065\n",
      "7   mean_of_10_lowest    0.098906\n",
      "1                 std    0.068667\n",
      "9               range    0.063901\n",
      "2                 min    0.063217\n"
     ]
    },
    {
     "data": {
      "text/plain": [
       "<Figure size 1000x600 with 1 Axes>"
      ],
      "image/png": "[encoded data removed]"
     },
     "metadata": {},
     "output_type": "display_data"
    }
   ],
   "execution_count": 8
  }
 ],
 "metadata": {
  "kernelspec": {
   "display_name": "Python 3",
   "language": "python",
   "name": "python3"
  },
  "language_info": {
   "codemirror_mode": {
    "name": "ipython",
    "version": 2
   },
   "file_extension": ".py",
   "mimetype": "text/x-python",
   "name": "python",
   "nbconvert_exporter": "python",
   "pygments_lexer": "ipython2",
   "version": "2.7.6"
  }
 },
 "nbformat": 4,
 "nbformat_minor": 5
}
